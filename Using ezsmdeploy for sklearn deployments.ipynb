{
 "cells": [
  {
   "cell_type": "code",
   "execution_count": 1,
   "metadata": {},
   "outputs": [
    {
     "name": "stdout",
     "output_type": "stream",
     "text": [
      "Found existing installation: ezsmdeploy 0.1.5\n",
      "Uninstalling ezsmdeploy-0.1.5:\n",
      "  Successfully uninstalled ezsmdeploy-0.1.5\n"
     ]
    }
   ],
   "source": [
    "!pip uninstall -y ezsmdeploy"
   ]
  },
  {
   "cell_type": "markdown",
   "metadata": {},
   "source": [
    "## Train a model locally or remote"
   ]
  },
  {
   "cell_type": "code",
   "execution_count": 2,
   "metadata": {},
   "outputs": [
    {
     "data": {
      "text/plain": [
       "array([8])"
      ]
     },
     "execution_count": 2,
     "metadata": {},
     "output_type": "execute_result"
    }
   ],
   "source": [
    "from sklearn import datasets, svm\n",
    "digits = datasets.load_digits()\n",
    "clf = svm.SVC(gamma=0.001, C=100.,probability=True)\n",
    "clf.fit(digits.data[:-1], digits.target[:-1])\n",
    "clf.predict(digits.data[-1:])"
   ]
  },
  {
   "cell_type": "markdown",
   "metadata": {},
   "source": [
    "### Save model file"
   ]
  },
  {
   "cell_type": "code",
   "execution_count": 3,
   "metadata": {},
   "outputs": [
    {
     "data": {
      "text/plain": [
       "['model.joblib']"
      ]
     },
     "execution_count": 3,
     "metadata": {},
     "output_type": "execute_result"
    }
   ],
   "source": [
    "from joblib import dump\n",
    "dump(clf, 'model.joblib')"
   ]
  },
  {
   "cell_type": "markdown",
   "metadata": {},
   "source": [
    "## Step 1 : Write a model transform script\n",
    "\n",
    "#### Make sure you have a ...\n",
    "\n",
    "- \"load_model\" function\n",
    "    - input args are model path\n",
    "    - returns loaded model object\n",
    "    - model name is the same as what you saved the model file as (see above step)\n",
    "<br><br>\n",
    "- \"predict\" function\n",
    "    - input args are the loaded model object and a payload\n",
    "    - returns the result of model.predict\n",
    "    - make sure you format it as a single (or multiple) string return inside a list for real time (for mini batch)\n",
    "    - from a client, a list  or string or np.array that is sent for prediction is interpreted as bytes. Do what you have to for converting back to list or string or np.array\n",
    "    - return the error for debugging\n"
   ]
  },
  {
   "cell_type": "code",
   "execution_count": 4,
   "metadata": {},
   "outputs": [
    {
     "name": "stdout",
     "output_type": "stream",
     "text": [
      "Overwriting modelscript_sklearn.py\n"
     ]
    }
   ],
   "source": [
    "%%writefile modelscript_sklearn.py\n",
    "import sklearn\n",
    "from joblib import load\n",
    "import numpy as np\n",
    "import os\n",
    "\n",
    "#Return loaded model\n",
    "def load_model(modelpath):\n",
    "    print(modelpath)\n",
    "    clf = load(os.path.join(modelpath,'model.joblib'))\n",
    "    print(\"loaded\")\n",
    "    return clf\n",
    "\n",
    "# return prediction based on loaded model (from the step above) and an input payload\n",
    "def predict(model, payload):\n",
    "    try:\n",
    "        # locally, payload may come in as an np.ndarray\n",
    "        if type(payload)==np.ndarray:\n",
    "            out = [str(model.predict(np.frombuffer(payload).reshape((1,64))))]\n",
    "        # in remote / container based deployment, payload comes in as a stream of bytes\n",
    "        else:\n",
    "            out = [str(model.predict(np.frombuffer(payload[0]['body']).reshape((1,64))))]\n",
    "    except Exception as e:\n",
    "        out = [type(payload),str(e)] #useful for debugging!\n",
    "    \n",
    "    return out"
   ]
  },
  {
   "cell_type": "markdown",
   "metadata": {},
   "source": [
    "## Does this work locally? (not \"_in a container locally_\", but _actually_ in local)"
   ]
  },
  {
   "cell_type": "code",
   "execution_count": 5,
   "metadata": {},
   "outputs": [
    {
     "name": "stdout",
     "output_type": "stream",
     "text": [
      ".\n",
      "loaded\n"
     ]
    }
   ],
   "source": [
    "from modelscript_sklearn import *\n",
    "model = load_model('.')"
   ]
  },
  {
   "cell_type": "code",
   "execution_count": 6,
   "metadata": {},
   "outputs": [
    {
     "data": {
      "text/plain": [
       "'[8]'"
      ]
     },
     "execution_count": 6,
     "metadata": {},
     "output_type": "execute_result"
    }
   ],
   "source": [
    "predict(model,digits.data[-1:])[0]"
   ]
  },
  {
   "cell_type": "markdown",
   "metadata": {},
   "source": [
    "### ok great! Now let's install ezsmdeploy"
   ]
  },
  {
   "cell_type": "markdown",
   "metadata": {},
   "source": [
    "_[To Do]_: currently local; replace with pip version!"
   ]
  },
  {
   "cell_type": "code",
   "execution_count": 7,
   "metadata": {},
   "outputs": [],
   "source": [
    "!pip install -e ./ --quiet "
   ]
  },
  {
   "cell_type": "code",
   "execution_count": 8,
   "metadata": {},
   "outputs": [],
   "source": [
    "import ezsmdeploy"
   ]
  },
  {
   "cell_type": "markdown",
   "metadata": {},
   "source": [
    "#### If you have been running other inference containers in local mode, stop existing containers to avoid conflict"
   ]
  },
  {
   "cell_type": "code",
   "execution_count": 9,
   "metadata": {},
   "outputs": [],
   "source": [
    "!docker container stop $(docker container ls -aq) >/dev/null"
   ]
  },
  {
   "cell_type": "markdown",
   "metadata": {},
   "source": [
    "## Deploy locally"
   ]
  },
  {
   "cell_type": "code",
   "execution_count": 10,
   "metadata": {},
   "outputs": [
    {
     "name": "stdout",
     "output_type": "stream",
     "text": [
      "\u001b[K0:00:00.174121 | compressed model(s)\n",
      "\u001b[K0:00:00.282179 | uploaded model tarball(s) ; check returned modelpath\n",
      "\u001b[K0:00:00.283092 | added requirements file\n",
      "\u001b[K0:00:00.284914 | added source file\n",
      "\u001b[K0:00:00.286439 | added Dockerfile\n",
      "\u001b[K0:00:00.288082 | added model_handler and docker utils\n",
      "\u001b[K0:00:00.288149 | building docker container\n",
      "\u001b[K0:00:56.402638 | built docker container\n",
      "\u001b[K0:00:56.801667 | created model(s). Now deploying on local\n",
      "\u001b[32m∙●∙\u001b[0m \u001b[KAttaching to tmpbyk16cci_algo-1-v1kld_1\n",
      "\u001b[36malgo-1-v1kld_1  |\u001b[0m Warning: Calling MMS with mxnet-model-server. Please move to multi-model-server.\n",
      "\u001b[32m●∙∙\u001b[0m \u001b[K\u001b[36malgo-1-v1kld_1  |\u001b[0m 2020-04-22 23:47:43,488 [INFO ] main com.amazonaws.ml.mms.ModelServer - \n",
      "\u001b[36malgo-1-v1kld_1  |\u001b[0m MMS Home: /usr/local/lib/python3.5/dist-packages\n",
      "\u001b[36malgo-1-v1kld_1  |\u001b[0m Current directory: /\n",
      "\u001b[36malgo-1-v1kld_1  |\u001b[0m Temp directory: /tmp\n",
      "\u001b[36malgo-1-v1kld_1  |\u001b[0m Number of GPUs: 0\n",
      "\u001b[36malgo-1-v1kld_1  |\u001b[0m Number of CPUs: 32\n",
      "\u001b[36malgo-1-v1kld_1  |\u001b[0m Max heap size: 27305 M\n",
      "\u001b[36malgo-1-v1kld_1  |\u001b[0m Python executable: /usr/bin/python3\n",
      "\u001b[36malgo-1-v1kld_1  |\u001b[0m Config file: /etc/sagemaker-mms.properties\n",
      "\u001b[36malgo-1-v1kld_1  |\u001b[0m Inference address: http://0.0.0.0:8080\n",
      "\u001b[36malgo-1-v1kld_1  |\u001b[0m Management address: http://0.0.0.0:8080\n",
      "\u001b[36malgo-1-v1kld_1  |\u001b[0m Model Store: /.sagemaker/mms/models\n",
      "\u001b[36malgo-1-v1kld_1  |\u001b[0m Initial Models: ALL\n",
      "\u001b[36malgo-1-v1kld_1  |\u001b[0m Log dir: /logs\n",
      "\u001b[36malgo-1-v1kld_1  |\u001b[0m Metrics dir: /logs\n",
      "\u001b[36malgo-1-v1kld_1  |\u001b[0m Netty threads: 0\n",
      "\u001b[36malgo-1-v1kld_1  |\u001b[0m Netty client threads: 0\n",
      "\u001b[36malgo-1-v1kld_1  |\u001b[0m Default workers per model: 32\n",
      "\u001b[36malgo-1-v1kld_1  |\u001b[0m Blacklist Regex: N/A\n",
      "\u001b[36malgo-1-v1kld_1  |\u001b[0m Maximum Response Size: 6553500\n",
      "\u001b[36malgo-1-v1kld_1  |\u001b[0m Maximum Request Size: 6553500\n",
      "\u001b[36malgo-1-v1kld_1  |\u001b[0m Preload model: false\n",
      "\u001b[36malgo-1-v1kld_1  |\u001b[0m Prefer direct buffer: false\n",
      "\u001b[36malgo-1-v1kld_1  |\u001b[0m 2020-04-22 23:47:43,563 [WARN ] W-9000-model com.amazonaws.ml.mms.wlm.WorkerLifeCycle - attachIOStreams() threadName=W-9000-model\n",
      "\u001b[32m∙●∙\u001b[0m \u001b[K\u001b[36malgo-1-v1kld_1  |\u001b[0m 2020-04-22 23:47:43,660 [INFO ] W-9000-model-stdout com.amazonaws.ml.mms.wlm.WorkerLifeCycle - model_service_worker started with args: --sock-type unix --sock-name /tmp/.mms.sock.9000 --handler /home/model-server/model_handler.py:handle --model-path /.sagemaker/mms/models/model --model-name model --preload-model false --tmp-dir /tmp\n",
      "\u001b[36malgo-1-v1kld_1  |\u001b[0m 2020-04-22 23:47:43,661 [INFO ] W-9000-model-stdout com.amazonaws.ml.mms.wlm.WorkerLifeCycle - Listening on port: /tmp/.mms.sock.9000\n",
      "\u001b[36malgo-1-v1kld_1  |\u001b[0m 2020-04-22 23:47:43,661 [INFO ] W-9000-model-stdout com.amazonaws.ml.mms.wlm.WorkerLifeCycle - [PID] 87\n",
      "\u001b[36malgo-1-v1kld_1  |\u001b[0m 2020-04-22 23:47:43,661 [INFO ] W-9000-model-stdout com.amazonaws.ml.mms.wlm.WorkerLifeCycle - MXNet worker started.\n",
      "\u001b[36malgo-1-v1kld_1  |\u001b[0m 2020-04-22 23:47:43,662 [INFO ] W-9000-model-stdout com.amazonaws.ml.mms.wlm.WorkerLifeCycle - Python runtime: 3.5.2\n",
      "\u001b[36malgo-1-v1kld_1  |\u001b[0m 2020-04-22 23:47:43,662 [INFO ] main com.amazonaws.ml.mms.wlm.ModelManager - Model model loaded.\n",
      "\u001b[36malgo-1-v1kld_1  |\u001b[0m 2020-04-22 23:47:43,672 [INFO ] W-9000-model com.amazonaws.ml.mms.wlm.WorkerThread - Connecting to: /tmp/.mms.sock.9000\n",
      "\u001b[36malgo-1-v1kld_1  |\u001b[0m 2020-04-22 23:47:43,672 [INFO ] W-9000-model com.amazonaws.ml.mms.wlm.WorkerThread - Connecting to: /tmp/.mms.sock.9000\n",
      "\u001b[36malgo-1-v1kld_1  |\u001b[0m 2020-04-22 23:47:43,672 [INFO ] W-9000-model com.amazonaws.ml.mms.wlm.WorkerThread - Connecting to: /tmp/.mms.sock.9000\n",
      "\u001b[36malgo-1-v1kld_1  |\u001b[0m 2020-04-22 23:47:43,672 [INFO ] W-9000-model com.amazonaws.ml.mms.wlm.WorkerThread - Connecting to: /tmp/.mms.sock.9000\n",
      "\u001b[36malgo-1-v1kld_1  |\u001b[0m 2020-04-22 23:47:43,672 [INFO ] W-9000-model com.amazonaws.ml.mms.wlm.WorkerThread - Connecting to: /tmp/.mms.sock.9000\n",
      "\u001b[36malgo-1-v1kld_1  |\u001b[0m 2020-04-22 23:47:43,672 [INFO ] W-9000-model com.amazonaws.ml.mms.wlm.WorkerThread - Connecting to: /tmp/.mms.sock.9000\n",
      "\u001b[36malgo-1-v1kld_1  |\u001b[0m 2020-04-22 23:47:43,672 [INFO ] W-9000-model com.amazonaws.ml.mms.wlm.WorkerThread - Connecting to: /tmp/.mms.sock.9000\n",
      "\u001b[36malgo-1-v1kld_1  |\u001b[0m 2020-04-22 23:47:43,672 [INFO ] W-9000-model com.amazonaws.ml.mms.wlm.WorkerThread - Connecting to: /tmp/.mms.sock.9000\n",
      "\u001b[36malgo-1-v1kld_1  |\u001b[0m 2020-04-22 23:47:43,672 [INFO ] W-9000-model com.amazonaws.ml.mms.wlm.WorkerThread - Connecting to: /tmp/.mms.sock.9000\n",
      "\u001b[36malgo-1-v1kld_1  |\u001b[0m 2020-04-22 23:47:43,672 [INFO ] W-9000-model com.amazonaws.ml.mms.wlm.WorkerThread - Connecting to: /tmp/.mms.sock.9000\n",
      "\u001b[36malgo-1-v1kld_1  |\u001b[0m 2020-04-22 23:47:43,672 [INFO ] W-9000-model com.amazonaws.ml.mms.wlm.WorkerThread - Connecting to: /tmp/.mms.sock.9000\n",
      "\u001b[36malgo-1-v1kld_1  |\u001b[0m 2020-04-22 23:47:43,672 [INFO ] W-9000-model com.amazonaws.ml.mms.wlm.WorkerThread - Connecting to: /tmp/.mms.sock.9000\n",
      "\u001b[36malgo-1-v1kld_1  |\u001b[0m 2020-04-22 23:47:43,672 [INFO ] W-9000-model com.amazonaws.ml.mms.wlm.WorkerThread - Connecting to: /tmp/.mms.sock.9000\n",
      "\u001b[36malgo-1-v1kld_1  |\u001b[0m 2020-04-22 23:47:43,672 [INFO ] W-9000-model com.amazonaws.ml.mms.wlm.WorkerThread - Connecting to: /tmp/.mms.sock.9000\n",
      "\u001b[36malgo-1-v1kld_1  |\u001b[0m 2020-04-22 23:47:43,672 [INFO ] W-9000-model com.amazonaws.ml.mms.wlm.WorkerThread - Connecting to: /tmp/.mms.sock.9000\n",
      "\u001b[36malgo-1-v1kld_1  |\u001b[0m 2020-04-22 23:47:43,672 [INFO ] W-9000-model com.amazonaws.ml.mms.wlm.WorkerThread - Connecting to: /tmp/.mms.sock.9000\n",
      "\u001b[36malgo-1-v1kld_1  |\u001b[0m 2020-04-22 23:47:43,672 [INFO ] W-9000-model com.amazonaws.ml.mms.wlm.WorkerThread - Connecting to: /tmp/.mms.sock.9000\n",
      "\u001b[36malgo-1-v1kld_1  |\u001b[0m 2020-04-22 23:47:43,672 [INFO ] W-9000-model com.amazonaws.ml.mms.wlm.WorkerThread - Connecting to: /tmp/.mms.sock.9000\n",
      "\u001b[36malgo-1-v1kld_1  |\u001b[0m 2020-04-22 23:47:43,672 [INFO ] W-9000-model com.amazonaws.ml.mms.wlm.WorkerThread - Connecting to: /tmp/.mms.sock.9000\n",
      "\u001b[36malgo-1-v1kld_1  |\u001b[0m 2020-04-22 23:47:43,672 [INFO ] W-9000-model com.amazonaws.ml.mms.wlm.WorkerThread - Connecting to: /tmp/.mms.sock.9000\n",
      "\u001b[36malgo-1-v1kld_1  |\u001b[0m 2020-04-22 23:47:43,672 [INFO ] W-9000-model com.amazonaws.ml.mms.wlm.WorkerThread - Connecting to: /tmp/.mms.sock.9000\n",
      "\u001b[36malgo-1-v1kld_1  |\u001b[0m 2020-04-22 23:47:43,672 [INFO ] W-9000-model com.amazonaws.ml.mms.wlm.WorkerThread - Connecting to: /tmp/.mms.sock.9000\n",
      "\u001b[36malgo-1-v1kld_1  |\u001b[0m 2020-04-22 23:47:43,672 [INFO ] W-9000-model com.amazonaws.ml.mms.wlm.WorkerThread - Connecting to: /tmp/.mms.sock.9000\n",
      "\u001b[36malgo-1-v1kld_1  |\u001b[0m 2020-04-22 23:47:43,672 [INFO ] W-9000-model com.amazonaws.ml.mms.wlm.WorkerThread - Connecting to: /tmp/.mms.sock.9000\n",
      "\u001b[36malgo-1-v1kld_1  |\u001b[0m 2020-04-22 23:47:43,672 [INFO ] W-9000-model com.amazonaws.ml.mms.wlm.WorkerThread - Connecting to: /tmp/.mms.sock.9000\n",
      "\u001b[36malgo-1-v1kld_1  |\u001b[0m 2020-04-22 23:47:43,672 [INFO ] W-9000-model com.amazonaws.ml.mms.wlm.WorkerThread - Connecting to: /tmp/.mms.sock.9000\n",
      "\u001b[36malgo-1-v1kld_1  |\u001b[0m 2020-04-22 23:47:43,672 [INFO ] W-9000-model com.amazonaws.ml.mms.wlm.WorkerThread - Connecting to: /tmp/.mms.sock.9000\n",
      "\u001b[36malgo-1-v1kld_1  |\u001b[0m 2020-04-22 23:47:43,672 [INFO ] W-9000-model com.amazonaws.ml.mms.wlm.WorkerThread - Connecting to: /tmp/.mms.sock.9000\n",
      "\u001b[36malgo-1-v1kld_1  |\u001b[0m 2020-04-22 23:47:43,672 [INFO ] W-9000-model com.amazonaws.ml.mms.wlm.WorkerThread - Connecting to: /tmp/.mms.sock.9000\n",
      "\u001b[36malgo-1-v1kld_1  |\u001b[0m 2020-04-22 23:47:43,672 [INFO ] main com.amazonaws.ml.mms.ModelServer - Initialize Inference server with: EpollServerSocketChannel.\n",
      "\u001b[36malgo-1-v1kld_1  |\u001b[0m 2020-04-22 23:47:43,672 [INFO ] W-9000-model com.amazonaws.ml.mms.wlm.WorkerThread - Connecting to: /tmp/.mms.sock.9000\n",
      "\u001b[36malgo-1-v1kld_1  |\u001b[0m 2020-04-22 23:47:43,672 [INFO ] W-9000-model com.amazonaws.ml.mms.wlm.WorkerThread - Connecting to: /tmp/.mms.sock.9000\n",
      "\u001b[36malgo-1-v1kld_1  |\u001b[0m 2020-04-22 23:47:43,672 [INFO ] W-9000-model com.amazonaws.ml.mms.wlm.WorkerThread - Connecting to: /tmp/.mms.sock.9000\n",
      "\u001b[32m∙∙●\u001b[0m \u001b[K\u001b[36malgo-1-v1kld_1  |\u001b[0m 2020-04-22 23:47:43,754 [INFO ] main com.amazonaws.ml.mms.ModelServer - Inference API bind to: http://0.0.0.0:8080\n",
      "\u001b[36malgo-1-v1kld_1  |\u001b[0m 2020-04-22 23:47:43,756 [INFO ] W-9000-model-stdout com.amazonaws.ml.mms.wlm.WorkerLifeCycle - Connection accepted: /tmp/.mms.sock.9000.\n",
      "\u001b[36malgo-1-v1kld_1  |\u001b[0m Model server started.\n",
      "\u001b[36malgo-1-v1kld_1  |\u001b[0m 2020-04-22 23:47:43,759 [INFO ] W-9000-model-stdout com.amazonaws.ml.mms.wlm.WorkerLifeCycle - Connection accepted: /tmp/.mms.sock.9000.\n",
      "\u001b[36malgo-1-v1kld_1  |\u001b[0m 2020-04-22 23:47:43,760 [INFO ] W-9000-model-stdout com.amazonaws.ml.mms.wlm.WorkerLifeCycle - Connection accepted: /tmp/.mms.sock.9000.\n",
      "\u001b[36malgo-1-v1kld_1  |\u001b[0m 2020-04-22 23:47:43,762 [INFO ] W-9000-model-stdout com.amazonaws.ml.mms.wlm.WorkerLifeCycle - Connection accepted: /tmp/.mms.sock.9000.\n"
     ]
    },
    {
     "name": "stdout",
     "output_type": "stream",
     "text": [
      "\u001b[36malgo-1-v1kld_1  |\u001b[0m 2020-04-22 23:47:43,763 [INFO ] W-9000-model-stdout com.amazonaws.ml.mms.wlm.WorkerLifeCycle - Connection accepted: /tmp/.mms.sock.9000.\n",
      "\u001b[36malgo-1-v1kld_1  |\u001b[0m 2020-04-22 23:47:43,764 [WARN ] pool-2-thread-1 com.amazonaws.ml.mms.metrics.MetricCollector - worker pid is not available yet.\n",
      "\u001b[36malgo-1-v1kld_1  |\u001b[0m 2020-04-22 23:47:43,765 [INFO ] W-9000-model-stdout com.amazonaws.ml.mms.wlm.WorkerLifeCycle - Connection accepted: /tmp/.mms.sock.9000.\n",
      "\u001b[36malgo-1-v1kld_1  |\u001b[0m 2020-04-22 23:47:43,766 [INFO ] W-9000-model-stdout com.amazonaws.ml.mms.wlm.WorkerLifeCycle - Connection accepted: /tmp/.mms.sock.9000.\n",
      "\u001b[36malgo-1-v1kld_1  |\u001b[0m 2020-04-22 23:47:43,768 [INFO ] W-9000-model-stdout com.amazonaws.ml.mms.wlm.WorkerLifeCycle - Connection accepted: /tmp/.mms.sock.9000.\n",
      "\u001b[36malgo-1-v1kld_1  |\u001b[0m 2020-04-22 23:47:43,770 [INFO ] W-9000-model-stdout com.amazonaws.ml.mms.wlm.WorkerLifeCycle - Connection accepted: /tmp/.mms.sock.9000.\n",
      "\u001b[36malgo-1-v1kld_1  |\u001b[0m 2020-04-22 23:47:43,771 [INFO ] W-9000-model-stdout com.amazonaws.ml.mms.wlm.WorkerLifeCycle - Connection accepted: /tmp/.mms.sock.9000.\n",
      "\u001b[36malgo-1-v1kld_1  |\u001b[0m 2020-04-22 23:47:43,773 [INFO ] W-9000-model-stdout com.amazonaws.ml.mms.wlm.WorkerLifeCycle - Connection accepted: /tmp/.mms.sock.9000.\n",
      "\u001b[36malgo-1-v1kld_1  |\u001b[0m 2020-04-22 23:47:43,775 [INFO ] W-9000-model-stdout com.amazonaws.ml.mms.wlm.WorkerLifeCycle - Connection accepted: /tmp/.mms.sock.9000.\n",
      "\u001b[36malgo-1-v1kld_1  |\u001b[0m 2020-04-22 23:47:43,777 [INFO ] W-9000-model-stdout com.amazonaws.ml.mms.wlm.WorkerLifeCycle - Connection accepted: /tmp/.mms.sock.9000.\n",
      "\u001b[36malgo-1-v1kld_1  |\u001b[0m 2020-04-22 23:47:43,778 [INFO ] W-9000-model-stdout com.amazonaws.ml.mms.wlm.WorkerLifeCycle - Connection accepted: /tmp/.mms.sock.9000.\n",
      "\u001b[36malgo-1-v1kld_1  |\u001b[0m 2020-04-22 23:47:43,780 [INFO ] W-9000-model-stdout com.amazonaws.ml.mms.wlm.WorkerLifeCycle - Connection accepted: /tmp/.mms.sock.9000.\n",
      "\u001b[36malgo-1-v1kld_1  |\u001b[0m 2020-04-22 23:47:43,781 [INFO ] W-9000-model-stdout com.amazonaws.ml.mms.wlm.WorkerLifeCycle - Connection accepted: /tmp/.mms.sock.9000.\n",
      "\u001b[36malgo-1-v1kld_1  |\u001b[0m 2020-04-22 23:47:43,783 [INFO ] W-9000-model-stdout com.amazonaws.ml.mms.wlm.WorkerLifeCycle - Connection accepted: /tmp/.mms.sock.9000.\n",
      "\u001b[36malgo-1-v1kld_1  |\u001b[0m 2020-04-22 23:47:43,784 [INFO ] W-9000-model-stdout com.amazonaws.ml.mms.wlm.WorkerLifeCycle - Connection accepted: /tmp/.mms.sock.9000.\n",
      "\u001b[36malgo-1-v1kld_1  |\u001b[0m 2020-04-22 23:47:43,786 [INFO ] W-9000-model-stdout com.amazonaws.ml.mms.wlm.WorkerLifeCycle - Connection accepted: /tmp/.mms.sock.9000.\n",
      "\u001b[36malgo-1-v1kld_1  |\u001b[0m 2020-04-22 23:47:43,788 [INFO ] W-9000-model-stdout com.amazonaws.ml.mms.wlm.WorkerLifeCycle - Connection accepted: /tmp/.mms.sock.9000.\n",
      "\u001b[36malgo-1-v1kld_1  |\u001b[0m 2020-04-22 23:47:43,827 [INFO ] W-9000-model-stdout com.amazonaws.ml.mms.wlm.WorkerLifeCycle - Connection accepted: /tmp/.mms.sock.9000.\n",
      "\u001b[36malgo-1-v1kld_1  |\u001b[0m 2020-04-22 23:47:43,827 [INFO ] W-9000-model-stdout com.amazonaws.ml.mms.wlm.WorkerLifeCycle - Connection accepted: /tmp/.mms.sock.9000.\n",
      "\u001b[36malgo-1-v1kld_1  |\u001b[0m 2020-04-22 23:47:43,827 [INFO ] W-9000-model-stdout com.amazonaws.ml.mms.wlm.WorkerLifeCycle - Connection accepted: /tmp/.mms.sock.9000.\n",
      "\u001b[36malgo-1-v1kld_1  |\u001b[0m 2020-04-22 23:47:43,827 [INFO ] W-9000-model-stdout com.amazonaws.ml.mms.wlm.WorkerLifeCycle - Connection accepted: /tmp/.mms.sock.9000.\n",
      "\u001b[36malgo-1-v1kld_1  |\u001b[0m 2020-04-22 23:47:43,827 [INFO ] W-9000-model-stdout com.amazonaws.ml.mms.wlm.WorkerLifeCycle - Connection accepted: /tmp/.mms.sock.9000.\n",
      "\u001b[36malgo-1-v1kld_1  |\u001b[0m 2020-04-22 23:47:43,828 [INFO ] W-9000-model-stdout com.amazonaws.ml.mms.wlm.WorkerLifeCycle - Connection accepted: /tmp/.mms.sock.9000.\n",
      "\u001b[36malgo-1-v1kld_1  |\u001b[0m 2020-04-22 23:47:43,828 [INFO ] W-9000-model-stdout com.amazonaws.ml.mms.wlm.WorkerLifeCycle - Connection accepted: /tmp/.mms.sock.9000.\n",
      "\u001b[36malgo-1-v1kld_1  |\u001b[0m 2020-04-22 23:47:43,828 [INFO ] W-9000-model-stdout com.amazonaws.ml.mms.wlm.WorkerLifeCycle - Connection accepted: /tmp/.mms.sock.9000.\n",
      "\u001b[36malgo-1-v1kld_1  |\u001b[0m 2020-04-22 23:47:43,828 [INFO ] W-9000-model-stdout com.amazonaws.ml.mms.wlm.WorkerLifeCycle - Connection accepted: /tmp/.mms.sock.9000.\n",
      "\u001b[36malgo-1-v1kld_1  |\u001b[0m 2020-04-22 23:47:43,828 [INFO ] W-9000-model-stdout com.amazonaws.ml.mms.wlm.WorkerLifeCycle - Connection accepted: /tmp/.mms.sock.9000.\n",
      "\u001b[36malgo-1-v1kld_1  |\u001b[0m 2020-04-22 23:47:43,828 [INFO ] W-9000-model-stdout com.amazonaws.ml.mms.wlm.WorkerLifeCycle - Connection accepted: /tmp/.mms.sock.9000.\n",
      "\u001b[36malgo-1-v1kld_1  |\u001b[0m 2020-04-22 23:47:43,828 [INFO ] W-9000-model-stdout com.amazonaws.ml.mms.wlm.WorkerLifeCycle - Connection accepted: /tmp/.mms.sock.9000.\n",
      "\u001b[32m∙∙∙\u001b[0m \u001b[K\u001b[36malgo-1-v1kld_1  |\u001b[0m 2020-04-22 23:47:44,696 [INFO ] W-9000-model-stdout com.amazonaws.ml.mms.wlm.WorkerLifeCycle - /.sagemaker/mms/models/model\n",
      "\u001b[36malgo-1-v1kld_1  |\u001b[0m 2020-04-22 23:47:44,696 [INFO ] W-9000-model-stdout com.amazonaws.ml.mms.wlm.WorkerLifeCycle - loaded\n",
      "\u001b[36malgo-1-v1kld_1  |\u001b[0m 2020-04-22 23:47:44,696 [INFO ] W-9000-model-stdout com.amazonaws.ml.mms.wlm.WorkerLifeCycle - loaded model!\n",
      "\u001b[36malgo-1-v1kld_1  |\u001b[0m 2020-04-22 23:47:44,696 [INFO ] W-9000-model-stdout com.amazonaws.ml.mms.wlm.WorkerLifeCycle - Model model loaded io_fd=0242acfffe1b0002-00000027-00000010-f6629a68e28787c6-2d839942\n",
      "\u001b[36malgo-1-v1kld_1  |\u001b[0m 2020-04-22 23:47:44,696 [INFO ] W-9000-model-stdout com.amazonaws.ml.mms.wlm.WorkerLifeCycle - /.sagemaker/mms/models/model\n",
      "\u001b[36malgo-1-v1kld_1  |\u001b[0m 2020-04-22 23:47:44,698 [INFO ] W-9000-model-stdout com.amazonaws.ml.mms.wlm.WorkerLifeCycle - loaded\n",
      "\u001b[36malgo-1-v1kld_1  |\u001b[0m 2020-04-22 23:47:44,698 [INFO ] W-9000-model-stdout com.amazonaws.ml.mms.wlm.WorkerLifeCycle - loaded model!\n",
      "\u001b[36malgo-1-v1kld_1  |\u001b[0m 2020-04-22 23:47:44,698 [INFO ] W-9000-model-stdout com.amazonaws.ml.mms.wlm.WorkerLifeCycle - Model model loaded io_fd=0242acfffe1b0002-00000027-0000000f-2fff1a68e28787c6-b843165f\n",
      "\u001b[36malgo-1-v1kld_1  |\u001b[0m 2020-04-22 23:47:44,698 [INFO ] W-9000-model-stdout com.amazonaws.ml.mms.wlm.WorkerLifeCycle - /.sagemaker/mms/models/model\n",
      "\u001b[36malgo-1-v1kld_1  |\u001b[0m 2020-04-22 23:47:44,698 [INFO ] W-9000-model-stdout com.amazonaws.ml.mms.wlm.WorkerLifeCycle - loaded\n",
      "\u001b[36malgo-1-v1kld_1  |\u001b[0m 2020-04-22 23:47:44,699 [INFO ] W-9000-model-stdout com.amazonaws.ml.mms.wlm.WorkerLifeCycle - loaded model!\n",
      "\u001b[36malgo-1-v1kld_1  |\u001b[0m 2020-04-22 23:47:44,700 [INFO ] W-9000-model-stdout com.amazonaws.ml.mms.wlm.WorkerLifeCycle - Model model loaded io_fd=0242acfffe1b0002-00000027-00000014-b7975a68e28787c7-5e2645ff\n",
      "\u001b[36malgo-1-v1kld_1  |\u001b[0m 2020-04-22 23:47:44,700 [INFO ] W-9000-model-stdout com.amazonaws.ml.mms.wlm.WorkerLifeCycle - /.sagemaker/mms/models/model\n",
      "\u001b[36malgo-1-v1kld_1  |\u001b[0m 2020-04-22 23:47:44,700 [INFO ] W-9000-model-stdout com.amazonaws.ml.mms.wlm.WorkerLifeCycle - loaded\n",
      "\u001b[36malgo-1-v1kld_1  |\u001b[0m 2020-04-22 23:47:44,700 [INFO ] W-9000-model-stdout com.amazonaws.ml.mms.wlm.WorkerLifeCycle - loaded model!\n",
      "\u001b[36malgo-1-v1kld_1  |\u001b[0m 2020-04-22 23:47:44,700 [INFO ] W-9000-model com.amazonaws.ml.mms.wlm.WorkerThread - Backend response time: 864\n",
      "\u001b[36malgo-1-v1kld_1  |\u001b[0m 2020-04-22 23:47:44,700 [INFO ] W-9000-model com.amazonaws.ml.mms.wlm.WorkerThread - Backend response time: 854\n",
      "\u001b[36malgo-1-v1kld_1  |\u001b[0m 2020-04-22 23:47:44,700 [INFO ] W-9000-model com.amazonaws.ml.mms.wlm.WorkerThread - Backend response time: 856\n",
      "\u001b[36malgo-1-v1kld_1  |\u001b[0m 2020-04-22 23:47:44,700 [INFO ] W-9000-model com.amazonaws.ml.mms.wlm.WorkerThread - Backend response time: 864\n",
      "\u001b[36malgo-1-v1kld_1  |\u001b[0m 2020-04-22 23:47:44,700 [INFO ] W-9000-model com.amazonaws.ml.mms.wlm.WorkerThread - Backend response time: 855\n",
      "\u001b[36malgo-1-v1kld_1  |\u001b[0m 2020-04-22 23:47:44,700 [INFO ] W-9000-model com.amazonaws.ml.mms.wlm.WorkerThread - Backend response time: 859\n",
      "\u001b[36malgo-1-v1kld_1  |\u001b[0m 2020-04-22 23:47:44,700 [INFO ] W-9000-model com.amazonaws.ml.mms.wlm.WorkerThread - Backend response time: 854\n",
      "\u001b[36malgo-1-v1kld_1  |\u001b[0m 2020-04-22 23:47:44,701 [INFO ] W-9000-model com.amazonaws.ml.mms.wlm.WorkerThread - Backend response time: 826\n",
      "\u001b[36malgo-1-v1kld_1  |\u001b[0m 2020-04-22 23:47:44,700 [INFO ] W-9000-model-stdout com.amazonaws.ml.mms.wlm.WorkerLifeCycle - Model model loaded io_fd=0242acfffe1b0002-00000027-0000001b-14e93a68e28787c7-58da7f4b\n",
      "\u001b[36malgo-1-v1kld_1  |\u001b[0m 2020-04-22 23:47:44,701 [INFO ] W-9000-model-stdout com.amazonaws.ml.mms.wlm.WorkerLifeCycle - /.sagemaker/mms/models/model\n",
      "\u001b[36malgo-1-v1kld_1  |\u001b[0m 2020-04-22 23:47:44,701 [INFO ] W-9000-model com.amazonaws.ml.mms.wlm.WorkerThread - Backend response time: 862\n",
      "\u001b[36malgo-1-v1kld_1  |\u001b[0m 2020-04-22 23:47:44,700 [INFO ] W-9000-model com.amazonaws.ml.mms.wlm.WorkerThread - Backend response time: 861\n",
      "\u001b[36malgo-1-v1kld_1  |\u001b[0m 2020-04-22 23:47:44,702 [INFO ] W-9000-model com.amazonaws.ml.mms.wlm.WorkerThread - Backend response time: 865\n",
      "\u001b[36malgo-1-v1kld_1  |\u001b[0m 2020-04-22 23:47:44,702 [INFO ] W-9000-model com.amazonaws.ml.mms.wlm.WorkerThread - Backend response time: 863\n",
      "\u001b[36malgo-1-v1kld_1  |\u001b[0m 2020-04-22 23:47:44,702 [INFO ] W-9000-model com.amazonaws.ml.mms.wlm.WorkerThread - Backend response time: 856\n",
      "\u001b[36malgo-1-v1kld_1  |\u001b[0m 2020-04-22 23:47:44,702 [INFO ] W-9000-model com.amazonaws.ml.mms.wlm.WorkerThread - Backend response time: 866\n",
      "\u001b[36malgo-1-v1kld_1  |\u001b[0m 2020-04-22 23:47:44,703 [INFO ] W-9000-model com.amazonaws.ml.mms.wlm.WorkerThread - Backend response time: 857\n",
      "\u001b[36malgo-1-v1kld_1  |\u001b[0m 2020-04-22 23:47:44,702 [INFO ] W-9000-model com.amazonaws.ml.mms.wlm.WorkerThread - Backend response time: 862\n",
      "\u001b[36malgo-1-v1kld_1  |\u001b[0m 2020-04-22 23:47:44,702 [INFO ] W-9000-model com.amazonaws.ml.mms.wlm.WorkerThread - Backend response time: 859\n",
      "\u001b[36malgo-1-v1kld_1  |\u001b[0m 2020-04-22 23:47:44,702 [INFO ] W-9000-model-stdout com.amazonaws.ml.mms.wlm.WorkerLifeCycle - loaded\n",
      "\u001b[36malgo-1-v1kld_1  |\u001b[0m 2020-04-22 23:47:44,703 [INFO ] W-9000-model com.amazonaws.ml.mms.wlm.WorkerThread - Backend response time: 863\n",
      "\u001b[36malgo-1-v1kld_1  |\u001b[0m 2020-04-22 23:47:44,703 [WARN ] W-9000-model com.amazonaws.ml.mms.wlm.WorkerLifeCycle - attachIOStreams() threadName=W-model-15\n",
      "\u001b[36malgo-1-v1kld_1  |\u001b[0m 2020-04-22 23:47:44,703 [WARN ] W-9000-model com.amazonaws.ml.mms.wlm.WorkerLifeCycle - attachIOStreams() threadName=W-model-9\n",
      "\u001b[36malgo-1-v1kld_1  |\u001b[0m 2020-04-22 23:47:44,704 [WARN ] W-9000-model com.amazonaws.ml.mms.wlm.WorkerLifeCycle - attachIOStreams() threadName=W-model-5\n",
      "\u001b[36malgo-1-v1kld_1  |\u001b[0m 2020-04-22 23:47:44,702 [INFO ] W-9000-model com.amazonaws.ml.mms.wlm.WorkerThread - Backend response time: 863\n",
      "\u001b[36malgo-1-v1kld_1  |\u001b[0m 2020-04-22 23:47:44,704 [WARN ] W-9000-model com.amazonaws.ml.mms.wlm.WorkerLifeCycle - attachIOStreams() threadName=W-model-22\n",
      "\u001b[36malgo-1-v1kld_1  |\u001b[0m 2020-04-22 23:47:44,701 [INFO ] W-9000-model com.amazonaws.ml.mms.wlm.WorkerThread - Backend response time: 864\n",
      "\u001b[36malgo-1-v1kld_1  |\u001b[0m 2020-04-22 23:47:44,701 [INFO ] W-9000-model com.amazonaws.ml.mms.wlm.WorkerThread - Backend response time: 864\n",
      "\u001b[36malgo-1-v1kld_1  |\u001b[0m 2020-04-22 23:47:44,701 [INFO ] W-9000-model com.amazonaws.ml.mms.wlm.WorkerThread - Backend response time: 854\n",
      "\u001b[36malgo-1-v1kld_1  |\u001b[0m 2020-04-22 23:47:44,704 [WARN ] W-9000-model com.amazonaws.ml.mms.wlm.WorkerLifeCycle - attachIOStreams() threadName=W-model-25\n",
      "\u001b[36malgo-1-v1kld_1  |\u001b[0m 2020-04-22 23:47:44,701 [INFO ] W-9000-model com.amazonaws.ml.mms.wlm.WorkerThread - Backend response time: 846\n",
      "\u001b[36malgo-1-v1kld_1  |\u001b[0m 2020-04-22 23:47:44,704 [WARN ] W-9000-model com.amazonaws.ml.mms.wlm.WorkerLifeCycle - attachIOStreams() threadName=W-model-6\n",
      "\u001b[36malgo-1-v1kld_1  |\u001b[0m 2020-04-22 23:47:44,704 [WARN ] W-9000-model com.amazonaws.ml.mms.wlm.WorkerLifeCycle - attachIOStreams() threadName=W-model-20\n",
      "\u001b[36malgo-1-v1kld_1  |\u001b[0m 2020-04-22 23:47:44,704 [WARN ] W-9000-model com.amazonaws.ml.mms.wlm.WorkerLifeCycle - attachIOStreams() threadName=W-model-19\n",
      "\u001b[36malgo-1-v1kld_1  |\u001b[0m 2020-04-22 23:47:44,704 [WARN ] W-9000-model com.amazonaws.ml.mms.wlm.WorkerLifeCycle - attachIOStreams() threadName=W-model-18\n",
      "\u001b[36malgo-1-v1kld_1  |\u001b[0m 2020-04-22 23:47:44,704 [WARN ] W-9000-model com.amazonaws.ml.mms.wlm.WorkerLifeCycle - attachIOStreams() threadName=W-model-11\n",
      "\u001b[36malgo-1-v1kld_1  |\u001b[0m 2020-04-22 23:47:44,704 [WARN ] W-9000-model com.amazonaws.ml.mms.wlm.WorkerLifeCycle - attachIOStreams() threadName=W-model-30\n",
      "\u001b[36malgo-1-v1kld_1  |\u001b[0m 2020-04-22 23:47:44,704 [WARN ] W-9000-model com.amazonaws.ml.mms.wlm.WorkerLifeCycle - attachIOStreams() threadName=W-model-3\n",
      "\u001b[36malgo-1-v1kld_1  |\u001b[0m 2020-04-22 23:47:44,703 [INFO ] W-9000-model com.amazonaws.ml.mms.wlm.WorkerThread - Backend response time: 863\n",
      "\u001b[36malgo-1-v1kld_1  |\u001b[0m 2020-04-22 23:47:44,703 [WARN ] W-9000-model com.amazonaws.ml.mms.wlm.WorkerLifeCycle - attachIOStreams() threadName=W-model-1\n",
      "\u001b[36malgo-1-v1kld_1  |\u001b[0m 2020-04-22 23:47:44,703 [INFO ] W-9000-model-stdout com.amazonaws.ml.mms.wlm.WorkerLifeCycle - loaded model!\n",
      "\u001b[36malgo-1-v1kld_1  |\u001b[0m 2020-04-22 23:47:44,703 [WARN ] W-9000-model com.amazonaws.ml.mms.wlm.WorkerLifeCycle - attachIOStreams() threadName=W-model-2\n",
      "\u001b[36malgo-1-v1kld_1  |\u001b[0m 2020-04-22 23:47:44,703 [WARN ] W-9000-model com.amazonaws.ml.mms.wlm.WorkerLifeCycle - attachIOStreams() threadName=W-model-31\n",
      "\u001b[36malgo-1-v1kld_1  |\u001b[0m 2020-04-22 23:47:44,703 [WARN ] W-9000-model com.amazonaws.ml.mms.wlm.WorkerLifeCycle - attachIOStreams() threadName=W-model-32\n",
      "\u001b[36malgo-1-v1kld_1  |\u001b[0m 2020-04-22 23:47:44,703 [INFO ] W-9000-model com.amazonaws.ml.mms.wlm.WorkerThread - Backend response time: 866\n",
      "\u001b[36malgo-1-v1kld_1  |\u001b[0m 2020-04-22 23:47:44,703 [INFO ] W-9000-model com.amazonaws.ml.mms.wlm.WorkerThread - Backend response time: 866\n",
      "\u001b[36malgo-1-v1kld_1  |\u001b[0m 2020-04-22 23:47:44,703 [WARN ] W-9000-model com.amazonaws.ml.mms.wlm.WorkerLifeCycle - attachIOStreams() threadName=W-model-26\n",
      "\u001b[36malgo-1-v1kld_1  |\u001b[0m 2020-04-22 23:47:44,705 [WARN ] W-9000-model com.amazonaws.ml.mms.wlm.WorkerLifeCycle - attachIOStreams() threadName=W-model-21\n",
      "\u001b[36malgo-1-v1kld_1  |\u001b[0m 2020-04-22 23:47:44,703 [WARN ] W-9000-model com.amazonaws.ml.mms.wlm.WorkerLifeCycle - attachIOStreams() threadName=W-model-8\n",
      "\u001b[36malgo-1-v1kld_1  |\u001b[0m 2020-04-22 23:47:44,705 [WARN ] W-9000-model com.amazonaws.ml.mms.wlm.WorkerLifeCycle - attachIOStreams() threadName=W-model-24\n",
      "\u001b[36malgo-1-v1kld_1  |\u001b[0m 2020-04-22 23:47:44,705 [INFO ] W-9000-model com.amazonaws.ml.mms.wlm.WorkerThread - Backend response time: 868\n",
      "\u001b[36malgo-1-v1kld_1  |\u001b[0m 2020-04-22 23:47:44,703 [WARN ] W-9000-model com.amazonaws.ml.mms.wlm.WorkerLifeCycle - attachIOStreams() threadName=W-model-14\n",
      "\u001b[36malgo-1-v1kld_1  |\u001b[0m 2020-04-22 23:47:44,703 [WARN ] W-9000-model com.amazonaws.ml.mms.wlm.WorkerLifeCycle - attachIOStreams() threadName=W-model-28\n",
      "\u001b[36malgo-1-v1kld_1  |\u001b[0m 2020-04-22 23:47:44,703 [WARN ] W-9000-model com.amazonaws.ml.mms.wlm.WorkerLifeCycle - attachIOStreams() threadName=W-model-23\n",
      "\u001b[36malgo-1-v1kld_1  |\u001b[0m 2020-04-22 23:47:44,703 [INFO ] W-9000-model com.amazonaws.ml.mms.wlm.WorkerThread - Backend response time: 858\n",
      "\u001b[36malgo-1-v1kld_1  |\u001b[0m 2020-04-22 23:47:44,706 [WARN ] W-9000-model com.amazonaws.ml.mms.wlm.WorkerLifeCycle - attachIOStreams() threadName=W-model-10\n",
      "\u001b[36malgo-1-v1kld_1  |\u001b[0m 2020-04-22 23:47:44,705 [INFO ] W-9000-model com.amazonaws.ml.mms.wlm.WorkerThread - Backend response time: 858\n",
      "\u001b[36malgo-1-v1kld_1  |\u001b[0m 2020-04-22 23:47:44,705 [INFO ] W-9000-model-stdout com.amazonaws.ml.mms.wlm.WorkerLifeCycle - Model model loaded io_fd=0242acfffe1b0002-00000027-00000000-6ca22a68e28787c6-c1984b28\n",
      "\u001b[36malgo-1-v1kld_1  |\u001b[0m 2020-04-22 23:47:44,706 [WARN ] W-9000-model com.amazonaws.ml.mms.wlm.WorkerLifeCycle - attachIOStreams() threadName=W-model-4\n",
      "\u001b[36malgo-1-v1kld_1  |\u001b[0m 2020-04-22 23:47:44,705 [WARN ] W-9000-model com.amazonaws.ml.mms.wlm.WorkerLifeCycle - attachIOStreams() threadName=W-model-16\n",
      "\u001b[36malgo-1-v1kld_1  |\u001b[0m 2020-04-22 23:47:44,706 [INFO ] W-9000-model-stdout com.amazonaws.ml.mms.wlm.WorkerLifeCycle - /.sagemaker/mms/models/model\n",
      "\u001b[36malgo-1-v1kld_1  |\u001b[0m 2020-04-22 23:47:44,704 [WARN ] W-9000-model com.amazonaws.ml.mms.wlm.WorkerLifeCycle - attachIOStreams() threadName=W-model-27\n",
      "\u001b[36malgo-1-v1kld_1  |\u001b[0m 2020-04-22 23:47:44,704 [WARN ] W-9000-model com.amazonaws.ml.mms.wlm.WorkerLifeCycle - attachIOStreams() threadName=W-model-12\n",
      "\u001b[36malgo-1-v1kld_1  |\u001b[0m 2020-04-22 23:47:44,706 [WARN ] W-9000-model com.amazonaws.ml.mms.wlm.WorkerLifeCycle - attachIOStreams() threadName=W-model-7\n",
      "\u001b[36malgo-1-v1kld_1  |\u001b[0m 2020-04-22 23:47:44,706 [INFO ] W-9000-model-stdout com.amazonaws.ml.mms.wlm.WorkerLifeCycle - loaded\n",
      "\u001b[36malgo-1-v1kld_1  |\u001b[0m 2020-04-22 23:47:44,706 [INFO ] W-9000-model-stdout com.amazonaws.ml.mms.wlm.WorkerLifeCycle - loaded model!\n",
      "\u001b[36malgo-1-v1kld_1  |\u001b[0m 2020-04-22 23:47:44,707 [INFO ] W-9000-model-stdout com.amazonaws.ml.mms.wlm.WorkerLifeCycle - Model model loaded io_fd=0242acfffe1b0002-00000027-00000015-88d0da68e28787c7-2ee97d23\n",
      "\u001b[36malgo-1-v1kld_1  |\u001b[0m 2020-04-22 23:47:44,707 [INFO ] W-9000-model-stdout com.amazonaws.ml.mms.wlm.WorkerLifeCycle - /.sagemaker/mms/models/model\n",
      "\u001b[36malgo-1-v1kld_1  |\u001b[0m 2020-04-22 23:47:44,707 [INFO ] W-9000-model-stdout com.amazonaws.ml.mms.wlm.WorkerLifeCycle - loaded\n",
      "\u001b[36malgo-1-v1kld_1  |\u001b[0m 2020-04-22 23:47:44,707 [INFO ] W-9000-model-stdout com.amazonaws.ml.mms.wlm.WorkerLifeCycle - loaded model!\n",
      "\u001b[36malgo-1-v1kld_1  |\u001b[0m 2020-04-22 23:47:44,707 [INFO ] W-9000-model-stdout com.amazonaws.ml.mms.wlm.WorkerLifeCycle - Model model loaded io_fd=0242acfffe1b0002-00000027-0000001a-0c8a3a68e28787c7-31d8e665\n",
      "\u001b[36malgo-1-v1kld_1  |\u001b[0m 2020-04-22 23:47:44,707 [INFO ] W-9000-model-stdout com.amazonaws.ml.mms.wlm.WorkerLifeCycle - /.sagemaker/mms/models/model\n",
      "\u001b[36malgo-1-v1kld_1  |\u001b[0m 2020-04-22 23:47:44,708 [INFO ] W-9000-model-stdout com.amazonaws.ml.mms.wlm.WorkerLifeCycle - loaded\n",
      "\u001b[36malgo-1-v1kld_1  |\u001b[0m 2020-04-22 23:47:44,708 [INFO ] W-9000-model-stdout com.amazonaws.ml.mms.wlm.WorkerLifeCycle - loaded model!\n",
      "\u001b[36malgo-1-v1kld_1  |\u001b[0m 2020-04-22 23:47:44,708 [INFO ] W-9000-model-stdout com.amazonaws.ml.mms.wlm.WorkerLifeCycle - Model model loaded io_fd=0242acfffe1b0002-00000027-00000002-b06b2a68e28787c6-9b67eade\n",
      "\u001b[36malgo-1-v1kld_1  |\u001b[0m 2020-04-22 23:47:44,708 [INFO ] W-9000-model-stdout com.amazonaws.ml.mms.wlm.WorkerLifeCycle - /.sagemaker/mms/models/model\n",
      "\u001b[36malgo-1-v1kld_1  |\u001b[0m 2020-04-22 23:47:44,708 [INFO ] W-9000-model-stdout com.amazonaws.ml.mms.wlm.WorkerLifeCycle - loaded\n",
      "\u001b[36malgo-1-v1kld_1  |\u001b[0m 2020-04-22 23:47:44,708 [INFO ] W-9000-model-stdout com.amazonaws.ml.mms.wlm.WorkerLifeCycle - loaded model!\n",
      "\u001b[36malgo-1-v1kld_1  |\u001b[0m 2020-04-22 23:47:44,708 [INFO ] W-9000-model-stdout com.amazonaws.ml.mms.wlm.WorkerLifeCycle - Model model loaded io_fd=0242acfffe1b0002-00000027-00000001-1d622a68e28787c6-ed1d9707\n",
      "\u001b[36malgo-1-v1kld_1  |\u001b[0m 2020-04-22 23:47:44,708 [INFO ] W-9000-model-stdout com.amazonaws.ml.mms.wlm.WorkerLifeCycle - /.sagemaker/mms/models/model\n",
      "\u001b[36malgo-1-v1kld_1  |\u001b[0m 2020-04-22 23:47:44,708 [INFO ] W-9000-model-stdout com.amazonaws.ml.mms.wlm.WorkerLifeCycle - loaded\n",
      "\u001b[36malgo-1-v1kld_1  |\u001b[0m 2020-04-22 23:47:44,709 [INFO ] W-9000-model-stdout com.amazonaws.ml.mms.wlm.WorkerLifeCycle - loaded model!\n",
      "\u001b[36malgo-1-v1kld_1  |\u001b[0m 2020-04-22 23:47:44,709 [INFO ] W-9000-model-stdout com.amazonaws.ml.mms.wlm.WorkerLifeCycle - Model model loaded io_fd=0242acfffe1b0002-00000027-00000006-9a6faa68e28787c6-40d1d678\n",
      "\u001b[36malgo-1-v1kld_1  |\u001b[0m 2020-04-22 23:47:44,709 [INFO ] W-9000-model-stdout com.amazonaws.ml.mms.wlm.WorkerLifeCycle - /.sagemaker/mms/models/model\n",
      "\u001b[36malgo-1-v1kld_1  |\u001b[0m 2020-04-22 23:47:44,709 [INFO ] W-9000-model-stdout com.amazonaws.ml.mms.wlm.WorkerLifeCycle - loaded\n",
      "\u001b[36malgo-1-v1kld_1  |\u001b[0m 2020-04-22 23:47:44,709 [INFO ] W-9000-model-stdout com.amazonaws.ml.mms.wlm.WorkerLifeCycle - loaded model!\n",
      "\u001b[36malgo-1-v1kld_1  |\u001b[0m 2020-04-22 23:47:44,709 [INFO ] W-9000-model-stdout com.amazonaws.ml.mms.wlm.WorkerLifeCycle - Model model loaded io_fd=0242acfffe1b0002-00000027-0000001f-a4787a68e28787c7-97d88861\n",
      "\u001b[36malgo-1-v1kld_1  |\u001b[0m 2020-04-22 23:47:44,709 [INFO ] W-9000-model-stdout com.amazonaws.ml.mms.wlm.WorkerLifeCycle - /.sagemaker/mms/models/model\n",
      "\u001b[36malgo-1-v1kld_1  |\u001b[0m 2020-04-22 23:47:44,710 [INFO ] W-9000-model-stdout com.amazonaws.ml.mms.wlm.WorkerLifeCycle - loaded\n",
      "\u001b[36malgo-1-v1kld_1  |\u001b[0m 2020-04-22 23:47:44,710 [INFO ] W-9000-model-stdout com.amazonaws.ml.mms.wlm.WorkerLifeCycle - loaded model!\n",
      "\u001b[36malgo-1-v1kld_1  |\u001b[0m 2020-04-22 23:47:44,710 [INFO ] W-9000-model-stdout com.amazonaws.ml.mms.wlm.WorkerLifeCycle - Model model loaded io_fd=0242acfffe1b0002-00000027-0000000e-45991a68e28787c6-323fd375\n",
      "\u001b[36malgo-1-v1kld_1  |\u001b[0m 2020-04-22 23:47:44,710 [INFO ] W-9000-model-stdout com.amazonaws.ml.mms.wlm.WorkerLifeCycle - /.sagemaker/mms/models/model\n",
      "\u001b[36malgo-1-v1kld_1  |\u001b[0m 2020-04-22 23:47:44,710 [INFO ] W-9000-model-stdout com.amazonaws.ml.mms.wlm.WorkerLifeCycle - loaded\n",
      "\u001b[36malgo-1-v1kld_1  |\u001b[0m 2020-04-22 23:47:44,710 [INFO ] W-9000-model-stdout com.amazonaws.ml.mms.wlm.WorkerLifeCycle - loaded model!\n",
      "\u001b[36malgo-1-v1kld_1  |\u001b[0m 2020-04-22 23:47:44,710 [INFO ] W-9000-model-stdout com.amazonaws.ml.mms.wlm.WorkerLifeCycle - Model model loaded io_fd=0242acfffe1b0002-00000027-0000000d-0a5c1a68e28787c6-d1005945\n",
      "\u001b[36malgo-1-v1kld_1  |\u001b[0m 2020-04-22 23:47:44,710 [INFO ] W-9000-model-stdout com.amazonaws.ml.mms.wlm.WorkerLifeCycle - /.sagemaker/mms/models/model\n",
      "\u001b[36malgo-1-v1kld_1  |\u001b[0m 2020-04-22 23:47:44,710 [INFO ] W-9000-model-stdout com.amazonaws.ml.mms.wlm.WorkerLifeCycle - loaded\n",
      "\u001b[36malgo-1-v1kld_1  |\u001b[0m 2020-04-22 23:47:44,710 [INFO ] W-9000-model-stdout com.amazonaws.ml.mms.wlm.WorkerLifeCycle - loaded model!\n",
      "\u001b[36malgo-1-v1kld_1  |\u001b[0m 2020-04-22 23:47:44,710 [INFO ] W-9000-model-stdout com.amazonaws.ml.mms.wlm.WorkerLifeCycle - Model model loaded io_fd=0242acfffe1b0002-00000027-0000000c-902bea68e28787c6-c939a2c4\n",
      "\u001b[36malgo-1-v1kld_1  |\u001b[0m 2020-04-22 23:47:44,710 [INFO ] W-9000-model-stdout com.amazonaws.ml.mms.wlm.WorkerLifeCycle - /.sagemaker/mms/models/model\n",
      "\u001b[36malgo-1-v1kld_1  |\u001b[0m 2020-04-22 23:47:44,711 [INFO ] W-9000-model-stdout com.amazonaws.ml.mms.wlm.WorkerLifeCycle - loaded\n",
      "\u001b[36malgo-1-v1kld_1  |\u001b[0m 2020-04-22 23:47:44,711 [INFO ] W-9000-model-stdout com.amazonaws.ml.mms.wlm.WorkerLifeCycle - loaded model!\n",
      "\u001b[36malgo-1-v1kld_1  |\u001b[0m 2020-04-22 23:47:44,711 [INFO ] W-9000-model com.amazonaws.ml.mms.wlm.WorkerThread - Backend response time: 875\n",
      "\u001b[36malgo-1-v1kld_1  |\u001b[0m 2020-04-22 23:47:44,711 [INFO ] W-9000-model-stdout com.amazonaws.ml.mms.wlm.WorkerLifeCycle - Model model loaded io_fd=0242acfffe1b0002-00000027-00000005-29a5aa68e28787c6-f5c58e47\n",
      "\u001b[36malgo-1-v1kld_1  |\u001b[0m 2020-04-22 23:47:44,711 [INFO ] W-9000-model-stdout com.amazonaws.ml.mms.wlm.WorkerLifeCycle - /.sagemaker/mms/models/model\n",
      "\u001b[36malgo-1-v1kld_1  |\u001b[0m 2020-04-22 23:47:44,711 [INFO ] W-9000-model-stdout com.amazonaws.ml.mms.wlm.WorkerLifeCycle - loaded\n",
      "\u001b[36malgo-1-v1kld_1  |\u001b[0m 2020-04-22 23:47:44,711 [INFO ] W-9000-model-stdout com.amazonaws.ml.mms.wlm.WorkerLifeCycle - loaded model!\n",
      "\u001b[36malgo-1-v1kld_1  |\u001b[0m 2020-04-22 23:47:44,711 [INFO ] W-9000-model com.amazonaws.ml.mms.wlm.WorkerThread - Backend response time: 860\n",
      "\u001b[36malgo-1-v1kld_1  |\u001b[0m 2020-04-22 23:47:44,711 [INFO ] W-9000-model-stdout com.amazonaws.ml.mms.wlm.WorkerLifeCycle - Model model loaded io_fd=0242acfffe1b0002-00000027-00000004-2ebaaa68e28787c6-725328be\n",
      "\u001b[36malgo-1-v1kld_1  |\u001b[0m 2020-04-22 23:47:44,711 [INFO ] W-9000-model-stdout com.amazonaws.ml.mms.wlm.WorkerLifeCycle - /.sagemaker/mms/models/model\n",
      "\u001b[36malgo-1-v1kld_1  |\u001b[0m 2020-04-22 23:47:44,711 [INFO ] W-9000-model-stdout com.amazonaws.ml.mms.wlm.WorkerLifeCycle - loaded\n",
      "\u001b[36malgo-1-v1kld_1  |\u001b[0m 2020-04-22 23:47:44,712 [INFO ] W-9000-model-stdout com.amazonaws.ml.mms.wlm.WorkerLifeCycle - loaded model!\n",
      "\u001b[36malgo-1-v1kld_1  |\u001b[0m 2020-04-22 23:47:44,712 [INFO ] W-9000-model-stdout com.amazonaws.ml.mms.wlm.WorkerLifeCycle - Model model loaded io_fd=0242acfffe1b0002-00000027-00000018-40a7da68e28787c7-d23475bc\n",
      "\u001b[36malgo-1-v1kld_1  |\u001b[0m 2020-04-22 23:47:44,712 [INFO ] W-9000-model-stdout com.amazonaws.ml.mms.wlm.WorkerLifeCycle - /.sagemaker/mms/models/model\n",
      "\u001b[36malgo-1-v1kld_1  |\u001b[0m 2020-04-22 23:47:44,712 [INFO ] W-9000-model-stdout com.amazonaws.ml.mms.wlm.WorkerLifeCycle - loaded\n",
      "\u001b[36malgo-1-v1kld_1  |\u001b[0m 2020-04-22 23:47:44,712 [INFO ] W-9000-model-stdout com.amazonaws.ml.mms.wlm.WorkerLifeCycle - loaded model!\n",
      "\u001b[36malgo-1-v1kld_1  |\u001b[0m 2020-04-22 23:47:44,712 [INFO ] W-9000-model-stdout com.amazonaws.ml.mms.wlm.WorkerLifeCycle - Model model loaded io_fd=0242acfffe1b0002-00000027-0000000a-5fd4ea68e28787c6-68164dcc\n",
      "\u001b[36malgo-1-v1kld_1  |\u001b[0m 2020-04-22 23:47:44,712 [INFO ] W-9000-model-stdout com.amazonaws.ml.mms.wlm.WorkerLifeCycle - /.sagemaker/mms/models/model\n",
      "\u001b[36malgo-1-v1kld_1  |\u001b[0m 2020-04-22 23:47:44,712 [INFO ] W-9000-model-stdout com.amazonaws.ml.mms.wlm.WorkerLifeCycle - loaded\n",
      "\u001b[36malgo-1-v1kld_1  |\u001b[0m 2020-04-22 23:47:44,713 [INFO ] W-9000-model-stdout com.amazonaws.ml.mms.wlm.WorkerLifeCycle - loaded model!\n",
      "\u001b[36malgo-1-v1kld_1  |\u001b[0m 2020-04-22 23:47:44,713 [INFO ] W-9000-model-stdout com.amazonaws.ml.mms.wlm.WorkerLifeCycle - Model model loaded io_fd=0242acfffe1b0002-00000027-00000016-c6a6da68e28787c7-5b6d2c63\n",
      "\u001b[36malgo-1-v1kld_1  |\u001b[0m 2020-04-22 23:47:44,713 [INFO ] W-9000-model-stdout com.amazonaws.ml.mms.wlm.WorkerLifeCycle - /.sagemaker/mms/models/model\n",
      "\u001b[36malgo-1-v1kld_1  |\u001b[0m 2020-04-22 23:47:44,713 [INFO ] W-9000-model-stdout com.amazonaws.ml.mms.wlm.WorkerLifeCycle - loaded\n",
      "\u001b[36malgo-1-v1kld_1  |\u001b[0m 2020-04-22 23:47:44,713 [INFO ] W-9000-model-stdout com.amazonaws.ml.mms.wlm.WorkerLifeCycle - loaded model!\n",
      "\u001b[36malgo-1-v1kld_1  |\u001b[0m 2020-04-22 23:47:44,713 [INFO ] W-9000-model-stdout com.amazonaws.ml.mms.wlm.WorkerLifeCycle - Model model loaded io_fd=0242acfffe1b0002-00000027-00000019-d2683a68e28787c7-5a09d922\n",
      "\u001b[36malgo-1-v1kld_1  |\u001b[0m 2020-04-22 23:47:44,713 [INFO ] W-9000-model-stdout com.amazonaws.ml.mms.wlm.WorkerLifeCycle - /.sagemaker/mms/models/model\n",
      "\u001b[36malgo-1-v1kld_1  |\u001b[0m 2020-04-22 23:47:44,713 [INFO ] W-9000-model-stdout com.amazonaws.ml.mms.wlm.WorkerLifeCycle - loaded\n",
      "\u001b[36malgo-1-v1kld_1  |\u001b[0m 2020-04-22 23:47:44,714 [INFO ] W-9000-model-stdout com.amazonaws.ml.mms.wlm.WorkerLifeCycle - loaded model!\n",
      "\u001b[36malgo-1-v1kld_1  |\u001b[0m 2020-04-22 23:47:44,714 [INFO ] W-9000-model-stdout com.amazonaws.ml.mms.wlm.WorkerLifeCycle - Model model loaded io_fd=0242acfffe1b0002-00000027-00000007-3aea6a68e28787c6-7030e679\n",
      "\u001b[36malgo-1-v1kld_1  |\u001b[0m 2020-04-22 23:47:44,714 [INFO ] W-9000-model-stdout com.amazonaws.ml.mms.wlm.WorkerLifeCycle - /.sagemaker/mms/models/model\n",
      "\u001b[36malgo-1-v1kld_1  |\u001b[0m 2020-04-22 23:47:44,714 [INFO ] W-9000-model-stdout com.amazonaws.ml.mms.wlm.WorkerLifeCycle - loaded\n",
      "\u001b[36malgo-1-v1kld_1  |\u001b[0m 2020-04-22 23:47:44,714 [INFO ] W-9000-model-stdout com.amazonaws.ml.mms.wlm.WorkerLifeCycle - loaded model!\n",
      "\u001b[36malgo-1-v1kld_1  |\u001b[0m 2020-04-22 23:47:44,714 [INFO ] W-9000-model-stdout com.amazonaws.ml.mms.wlm.WorkerLifeCycle - Model model loaded io_fd=0242acfffe1b0002-00000027-00000003-eb28aa68e28787c6-1a8fddca\n",
      "\u001b[36malgo-1-v1kld_1  |\u001b[0m 2020-04-22 23:47:44,714 [INFO ] W-9000-model-stdout com.amazonaws.ml.mms.wlm.WorkerLifeCycle - /.sagemaker/mms/models/model\n",
      "\u001b[36malgo-1-v1kld_1  |\u001b[0m 2020-04-22 23:47:44,714 [INFO ] W-9000-model-stdout com.amazonaws.ml.mms.wlm.WorkerLifeCycle - loaded\n",
      "\u001b[36malgo-1-v1kld_1  |\u001b[0m 2020-04-22 23:47:44,715 [INFO ] W-9000-model-stdout com.amazonaws.ml.mms.wlm.WorkerLifeCycle - loaded model!\n",
      "\u001b[36malgo-1-v1kld_1  |\u001b[0m 2020-04-22 23:47:44,715 [INFO ] W-9000-model-stdout com.amazonaws.ml.mms.wlm.WorkerLifeCycle - Model model loaded io_fd=0242acfffe1b0002-00000027-00000009-07bb6a68e28787c6-f3560740\n",
      "\u001b[36malgo-1-v1kld_1  |\u001b[0m 2020-04-22 23:47:44,715 [INFO ] W-9000-model-stdout com.amazonaws.ml.mms.wlm.WorkerLifeCycle - /.sagemaker/mms/models/model\n",
      "\u001b[36malgo-1-v1kld_1  |\u001b[0m 2020-04-22 23:47:44,715 [INFO ] W-9000-model-stdout com.amazonaws.ml.mms.wlm.WorkerLifeCycle - loaded\n",
      "\u001b[36malgo-1-v1kld_1  |\u001b[0m 2020-04-22 23:47:44,715 [INFO ] W-9000-model-stdout com.amazonaws.ml.mms.wlm.WorkerLifeCycle - loaded model!\n",
      "\u001b[36malgo-1-v1kld_1  |\u001b[0m 2020-04-22 23:47:44,715 [INFO ] W-9000-model-stdout com.amazonaws.ml.mms.wlm.WorkerLifeCycle - Model model loaded io_fd=0242acfffe1b0002-00000027-0000001d-9779ba68e28787c7-5b5fad8c\n",
      "\u001b[36malgo-1-v1kld_1  |\u001b[0m 2020-04-22 23:47:44,715 [INFO ] W-9000-model-stdout com.amazonaws.ml.mms.wlm.WorkerLifeCycle - /.sagemaker/mms/models/model\n",
      "\u001b[36malgo-1-v1kld_1  |\u001b[0m 2020-04-22 23:47:44,715 [INFO ] W-9000-model-stdout com.amazonaws.ml.mms.wlm.WorkerLifeCycle - loaded\n",
      "\u001b[36malgo-1-v1kld_1  |\u001b[0m 2020-04-22 23:47:44,715 [INFO ] W-9000-model-stdout com.amazonaws.ml.mms.wlm.WorkerLifeCycle - loaded model!\n",
      "\u001b[36malgo-1-v1kld_1  |\u001b[0m 2020-04-22 23:47:44,715 [INFO ] W-9000-model-stdout com.amazonaws.ml.mms.wlm.WorkerLifeCycle - Model model loaded io_fd=0242acfffe1b0002-00000027-00000011-4c999a68e28787c6-2d9234a0\n",
      "\u001b[36malgo-1-v1kld_1  |\u001b[0m 2020-04-22 23:47:44,715 [INFO ] W-9000-model-stdout com.amazonaws.ml.mms.wlm.WorkerLifeCycle - /.sagemaker/mms/models/model\n",
      "\u001b[36malgo-1-v1kld_1  |\u001b[0m 2020-04-22 23:47:44,716 [INFO ] W-9000-model-stdout com.amazonaws.ml.mms.wlm.WorkerLifeCycle - loaded\n",
      "\u001b[36malgo-1-v1kld_1  |\u001b[0m 2020-04-22 23:47:44,716 [INFO ] W-9000-model-stdout com.amazonaws.ml.mms.wlm.WorkerLifeCycle - loaded model!\n",
      "\u001b[36malgo-1-v1kld_1  |\u001b[0m 2020-04-22 23:47:44,716 [INFO ] W-9000-model-stdout com.amazonaws.ml.mms.wlm.WorkerLifeCycle - Model model loaded io_fd=0242acfffe1b0002-00000027-0000000b-d0c1ea68e28787c6-6c89ff83\n",
      "\u001b[36malgo-1-v1kld_1  |\u001b[0m 2020-04-22 23:47:44,716 [INFO ] W-9000-model-stdout com.amazonaws.ml.mms.wlm.WorkerLifeCycle - /.sagemaker/mms/models/model\n",
      "\u001b[36malgo-1-v1kld_1  |\u001b[0m 2020-04-22 23:47:44,716 [INFO ] W-9000-model-stdout com.amazonaws.ml.mms.wlm.WorkerLifeCycle - loaded\n",
      "\u001b[36malgo-1-v1kld_1  |\u001b[0m 2020-04-22 23:47:44,716 [INFO ] W-9000-model-stdout com.amazonaws.ml.mms.wlm.WorkerLifeCycle - loaded model!\n",
      "\u001b[36malgo-1-v1kld_1  |\u001b[0m 2020-04-22 23:47:44,716 [INFO ] W-9000-model-stdout com.amazonaws.ml.mms.wlm.WorkerLifeCycle - Model model loaded io_fd=0242acfffe1b0002-00000027-0000001e-c48bba68e28787c7-603d1262\n",
      "\u001b[36malgo-1-v1kld_1  |\u001b[0m 2020-04-22 23:47:44,716 [INFO ] W-9000-model-stdout com.amazonaws.ml.mms.wlm.WorkerLifeCycle - /.sagemaker/mms/models/model\n",
      "\u001b[36malgo-1-v1kld_1  |\u001b[0m 2020-04-22 23:47:44,716 [INFO ] W-9000-model-stdout com.amazonaws.ml.mms.wlm.WorkerLifeCycle - loaded\n",
      "\u001b[36malgo-1-v1kld_1  |\u001b[0m 2020-04-22 23:47:44,716 [INFO ] W-9000-model-stdout com.amazonaws.ml.mms.wlm.WorkerLifeCycle - loaded model!\n",
      "\u001b[36malgo-1-v1kld_1  |\u001b[0m 2020-04-22 23:47:44,717 [INFO ] W-9000-model-stdout com.amazonaws.ml.mms.wlm.WorkerLifeCycle - Model model loaded io_fd=0242acfffe1b0002-00000027-00000017-c5b5da68e28787c7-f182a0d4\n",
      "\u001b[36malgo-1-v1kld_1  |\u001b[0m 2020-04-22 23:47:44,717 [INFO ] W-9000-model-stdout com.amazonaws.ml.mms.wlm.WorkerLifeCycle - /.sagemaker/mms/models/model\n",
      "\u001b[36malgo-1-v1kld_1  |\u001b[0m 2020-04-22 23:47:44,717 [INFO ] W-9000-model-stdout com.amazonaws.ml.mms.wlm.WorkerLifeCycle - loaded\n",
      "\u001b[36malgo-1-v1kld_1  |\u001b[0m 2020-04-22 23:47:44,717 [INFO ] W-9000-model-stdout com.amazonaws.ml.mms.wlm.WorkerLifeCycle - loaded model!\n",
      "\u001b[36malgo-1-v1kld_1  |\u001b[0m 2020-04-22 23:47:44,717 [INFO ] W-9000-model-stdout com.amazonaws.ml.mms.wlm.WorkerLifeCycle - Model model loaded io_fd=0242acfffe1b0002-00000027-00000020-adf97a68e28787c7-10b2dd5a\n",
      "\u001b[36malgo-1-v1kld_1  |\u001b[0m 2020-04-22 23:47:44,717 [INFO ] W-9000-model-stdout com.amazonaws.ml.mms.wlm.WorkerLifeCycle - /.sagemaker/mms/models/model\n",
      "\u001b[36malgo-1-v1kld_1  |\u001b[0m 2020-04-22 23:47:44,717 [INFO ] W-9000-model-stdout com.amazonaws.ml.mms.wlm.WorkerLifeCycle - loaded\n",
      "\u001b[36malgo-1-v1kld_1  |\u001b[0m 2020-04-22 23:47:44,717 [INFO ] W-9000-model-stdout com.amazonaws.ml.mms.wlm.WorkerLifeCycle - loaded model!\n",
      "\u001b[36malgo-1-v1kld_1  |\u001b[0m 2020-04-22 23:47:44,717 [INFO ] W-9000-model-stdout com.amazonaws.ml.mms.wlm.WorkerLifeCycle - Model model loaded io_fd=0242acfffe1b0002-00000027-00000013-b2925a68e28787c6-b6041801\n",
      "\u001b[36malgo-1-v1kld_1  |\u001b[0m 2020-04-22 23:47:44,717 [INFO ] W-9000-model-stdout com.amazonaws.ml.mms.wlm.WorkerLifeCycle - /.sagemaker/mms/models/model\n",
      "\u001b[36malgo-1-v1kld_1  |\u001b[0m 2020-04-22 23:47:44,718 [INFO ] W-9000-model-stdout com.amazonaws.ml.mms.wlm.WorkerLifeCycle - loaded\n"
     ]
    },
    {
     "name": "stdout",
     "output_type": "stream",
     "text": [
      "\u001b[32m●∙∙\u001b[0m \u001b[K\u001b[36malgo-1-v1kld_1  |\u001b[0m 2020-04-22 23:47:44,718 [INFO ] W-9000-model-stdout com.amazonaws.ml.mms.wlm.WorkerLifeCycle - loaded model!\n",
      "\u001b[36malgo-1-v1kld_1  |\u001b[0m 2020-04-22 23:47:44,751 [WARN ] W-9000-model com.amazonaws.ml.mms.wlm.WorkerLifeCycle - attachIOStreams() threadName=W-model-13\n",
      "\u001b[36malgo-1-v1kld_1  |\u001b[0m 2020-04-22 23:47:44,751 [WARN ] W-9000-model com.amazonaws.ml.mms.wlm.WorkerLifeCycle - attachIOStreams() threadName=W-model-29\n",
      "\u001b[36malgo-1-v1kld_1  |\u001b[0m 2020-04-22 23:47:44,752 [INFO ] W-9000-model com.amazonaws.ml.mms.wlm.WorkerThread - Backend response time: 913\n",
      "\u001b[36malgo-1-v1kld_1  |\u001b[0m 2020-04-22 23:47:44,752 [INFO ] W-9000-model-stdout com.amazonaws.ml.mms.wlm.WorkerLifeCycle - Model model loaded io_fd=0242acfffe1b0002-00000027-00000008-14e16a68e28787c6-36ef5e4e\n",
      "\u001b[36malgo-1-v1kld_1  |\u001b[0m 2020-04-22 23:47:44,752 [INFO ] W-9000-model-stdout com.amazonaws.ml.mms.wlm.WorkerLifeCycle - /.sagemaker/mms/models/model\n",
      "\u001b[36malgo-1-v1kld_1  |\u001b[0m 2020-04-22 23:47:44,752 [WARN ] W-9000-model com.amazonaws.ml.mms.wlm.WorkerLifeCycle - attachIOStreams() threadName=W-model-17\n",
      "\u001b[36malgo-1-v1kld_1  |\u001b[0m 2020-04-22 23:47:44,752 [INFO ] W-9000-model-stdout com.amazonaws.ml.mms.wlm.WorkerLifeCycle - loaded\n",
      "\u001b[36malgo-1-v1kld_1  |\u001b[0m 2020-04-22 23:47:44,752 [INFO ] W-9000-model-stdout com.amazonaws.ml.mms.wlm.WorkerLifeCycle - loaded model!\n",
      "\u001b[36malgo-1-v1kld_1  |\u001b[0m 2020-04-22 23:47:44,752 [INFO ] W-9000-model-stdout com.amazonaws.ml.mms.wlm.WorkerLifeCycle - Model model loaded io_fd=0242acfffe1b0002-00000027-00000012-65179a68e28787c6-10556657\n",
      "\u001b[32m∙∙∙\u001b[0m \u001b[K\u001b[36malgo-1-v1kld_1  |\u001b[0m 2020-04-22 23:47:46,413 [INFO ] pool-1-thread-34 ACCESS_LOG - /172.27.0.1:54180 \"GET /ping HTTP/1.1\" 200 8\n",
      "\u001b[K0:01:02.290624 | deployed model\n",
      "\u001b[K0:01:02.291165 | not setting up autoscaling; deploying locally\n",
      "\u001b[K\u001b[32m0:01:02.291295 | Done! ✔\u001b[0m \n"
     ]
    }
   ],
   "source": [
    "ez = ezsmdeploy.Deploy(model = ['model.joblib'], # if you intend to add models later, pass model as list, otherwise str\n",
    "                  script = 'modelscript_sklearn.py',\n",
    "                  requirements = ['pyarrow','scikit-learn==0.20.3','numpy','joblib'], #or pass in the path to requirements.txt\n",
    "                  instance_type = 'local',\n",
    "                  autoscale = True,\n",
    "                  #framework = 'sklearn', # not required if you provide requirements\n",
    "                  wait = True)"
   ]
  },
  {
   "cell_type": "markdown",
   "metadata": {},
   "source": [
    "## Test containerized version locally"
   ]
  },
  {
   "cell_type": "code",
   "execution_count": 11,
   "metadata": {},
   "outputs": [
    {
     "name": "stdout",
     "output_type": "stream",
     "text": [
      "\u001b[36malgo-1-v1kld_1  |\u001b[0m 2020-04-22 23:48:16,175 [INFO ] W-9000-model com.amazonaws.ml.mms.wlm.WorkerThread - Backend response time: 1\r\n",
      "\u001b[36malgo-1-v1kld_1  |\u001b[0m 2020-04-22 23:48:16,176 [INFO ] W-9000-model ACCESS_LOG - /172.27.0.1:54188 \"POST /invocations HTTP/1.1\" 200 5\r\n"
     ]
    },
    {
     "data": {
      "text/plain": [
       "'[8]'"
      ]
     },
     "execution_count": 11,
     "metadata": {},
     "output_type": "execute_result"
    }
   ],
   "source": [
    "out = ez.predictor.predict(digits.data[-1:].tobytes()).decode()\n",
    "out"
   ]
  },
  {
   "cell_type": "code",
   "execution_count": 15,
   "metadata": {},
   "outputs": [
    {
     "name": "stdout",
     "output_type": "stream",
     "text": [
      "\u001b[36mtmpbyk16cci_algo-1-v1kld_1 exited with code 137\n",
      "\u001b[0mAborting on container exit...\n"
     ]
    },
    {
     "name": "stderr",
     "output_type": "stream",
     "text": [
      "Exception in thread Thread-5:\n",
      "Traceback (most recent call last):\n",
      "  File \"/home/ec2-user/anaconda3/envs/python3/lib/python3.6/site-packages/sagemaker/local/image.py\", line 618, in run\n",
      "    _stream_output(self.process)\n",
      "  File \"/home/ec2-user/anaconda3/envs/python3/lib/python3.6/site-packages/sagemaker/local/image.py\", line 677, in _stream_output\n",
      "    raise RuntimeError(\"Process exited with code: %s\" % exit_code)\n",
      "RuntimeError: Process exited with code: 137\n",
      "\n",
      "During handling of the above exception, another exception occurred:\n",
      "\n",
      "Traceback (most recent call last):\n",
      "  File \"/home/ec2-user/anaconda3/envs/python3/lib/python3.6/threading.py\", line 916, in _bootstrap_inner\n",
      "    self.run()\n",
      "  File \"/home/ec2-user/anaconda3/envs/python3/lib/python3.6/site-packages/sagemaker/local/image.py\", line 623, in run\n",
      "    raise RuntimeError(msg)\n",
      "RuntimeError: Failed to run: ['docker-compose', '-f', '/tmp/tmpbyk16cci/docker-compose.yaml', 'up', '--build', '--abort-on-container-exit'], Process exited with code: 137\n",
      "\n"
     ]
    }
   ],
   "source": [
    "!docker container stop $(docker container ls -aq) >/dev/null"
   ]
  },
  {
   "cell_type": "markdown",
   "metadata": {},
   "source": [
    "## Deploy on SageMaker"
   ]
  },
  {
   "cell_type": "code",
   "execution_count": 13,
   "metadata": {},
   "outputs": [
    {
     "name": "stdout",
     "output_type": "stream",
     "text": [
      "\u001b[K0:00:00.343681 | compressed model(s)\n",
      "\u001b[K0:00:00.774223 | uploaded model tarball(s) ; check returned modelpath\n",
      "\u001b[K0:00:00.775314 | added requirements file\n",
      "\u001b[K0:00:00.777319 | added source file\n",
      "\u001b[K0:00:00.778630 | added Dockerfile\n",
      "\u001b[K0:00:00.780260 | added model_handler and docker utils\n",
      "\u001b[K0:00:00.780350 | building docker container\n",
      "\u001b[K0:00:32.592506 | built docker container\n",
      "\u001b[K0:00:32.925355 | created model(s). Now deploying on ml.m5.xlarge\n",
      "\u001b[K0:07:05.373108 | deployed model\n",
      "\u001b[K0:07:05.373703 | estimated cost is $0.3 per hour\n",
      "\u001b[K\u001b[32m0:07:05.374069 | Done! ✔\u001b[0m \n"
     ]
    }
   ],
   "source": [
    "ezonsm = ezsmdeploy.Deploy(model = ['model.joblib','model.joblib'], # example of multimodel endpoint. \n",
    "                  script = 'modelscript_sklearn.py',\n",
    "                  requirements = ['pyarrow','scikit-learn==0.20.3','numpy','joblib'])"
   ]
  },
  {
   "cell_type": "code",
   "execution_count": 14,
   "metadata": {},
   "outputs": [
    {
     "data": {
      "text/plain": [
       "'[8]'"
      ]
     },
     "execution_count": 14,
     "metadata": {},
     "output_type": "execute_result"
    }
   ],
   "source": [
    "out = ezonsm.predictor.predict(digits.data[-1:].tobytes(),target_model='model1.tar.gz').decode() \n",
    "out"
   ]
  },
  {
   "cell_type": "code",
   "execution_count": 16,
   "metadata": {},
   "outputs": [
    {
     "name": "stdout",
     "output_type": "stream",
     "text": [
      "\u001b[K0:00:00.001576 | Starting test with Locust\n",
      "\u001b[K0:00:12.509494 | Done! Please see the src folder for locuststats* files\n",
      "\u001b[K"
     ]
    }
   ],
   "source": [
    "ezonsm.test(input_data=digits.data[-1:].tobytes(), target_model='model1.tar.gz',usercount=20,hatchrate=10,timeoutsecs=10)"
   ]
  },
  {
   "cell_type": "code",
   "execution_count": 20,
   "metadata": {},
   "outputs": [
    {
     "data": {
      "text/html": [
       "<div>\n",
       "<style scoped>\n",
       "    .dataframe tbody tr th:only-of-type {\n",
       "        vertical-align: middle;\n",
       "    }\n",
       "\n",
       "    .dataframe tbody tr th {\n",
       "        vertical-align: top;\n",
       "    }\n",
       "\n",
       "    .dataframe thead th {\n",
       "        text-align: right;\n",
       "    }\n",
       "</style>\n",
       "<table border=\"1\" class=\"dataframe\">\n",
       "  <thead>\n",
       "    <tr style=\"text-align: right;\">\n",
       "      <th></th>\n",
       "      <th>Type</th>\n",
       "      <th>Name</th>\n",
       "      <th># requests</th>\n",
       "      <th># failures</th>\n",
       "      <th>Median response time</th>\n",
       "      <th>Average response time</th>\n",
       "      <th>Min response time</th>\n",
       "      <th>Max response time</th>\n",
       "      <th>Average Content Size</th>\n",
       "      <th>Requests/s</th>\n",
       "      <th>...</th>\n",
       "      <th>75%</th>\n",
       "      <th>80%</th>\n",
       "      <th>90%</th>\n",
       "      <th>95%</th>\n",
       "      <th>98%</th>\n",
       "      <th>99%</th>\n",
       "      <th>99.9%</th>\n",
       "      <th>99.99%</th>\n",
       "      <th>99.999</th>\n",
       "      <th>100%</th>\n",
       "    </tr>\n",
       "  </thead>\n",
       "  <tbody>\n",
       "    <tr>\n",
       "      <th>0</th>\n",
       "      <td>sagemaker</td>\n",
       "      <td>predict</td>\n",
       "      <td>1731</td>\n",
       "      <td>1</td>\n",
       "      <td>13</td>\n",
       "      <td>27</td>\n",
       "      <td>10</td>\n",
       "      <td>7515</td>\n",
       "      <td>0</td>\n",
       "      <td>13.54</td>\n",
       "      <td>...</td>\n",
       "      <td>15</td>\n",
       "      <td>15</td>\n",
       "      <td>16</td>\n",
       "      <td>19</td>\n",
       "      <td>23</td>\n",
       "      <td>72</td>\n",
       "      <td>7500</td>\n",
       "      <td>7500</td>\n",
       "      <td>7500</td>\n",
       "      <td>7500</td>\n",
       "    </tr>\n",
       "    <tr>\n",
       "      <th>1</th>\n",
       "      <td>None</td>\n",
       "      <td>Aggregated</td>\n",
       "      <td>1731</td>\n",
       "      <td>1</td>\n",
       "      <td>13</td>\n",
       "      <td>27</td>\n",
       "      <td>10</td>\n",
       "      <td>7515</td>\n",
       "      <td>0</td>\n",
       "      <td>13.54</td>\n",
       "      <td>...</td>\n",
       "      <td>15</td>\n",
       "      <td>15</td>\n",
       "      <td>16</td>\n",
       "      <td>19</td>\n",
       "      <td>23</td>\n",
       "      <td>72</td>\n",
       "      <td>7500</td>\n",
       "      <td>7500</td>\n",
       "      <td>7500</td>\n",
       "      <td>7500</td>\n",
       "    </tr>\n",
       "  </tbody>\n",
       "</table>\n",
       "<p>2 rows × 23 columns</p>\n",
       "</div>"
      ],
      "text/plain": [
       "        Type        Name  # requests  # failures  Median response time  \\\n",
       "0  sagemaker     predict        1731           1                    13   \n",
       "1       None  Aggregated        1731           1                    13   \n",
       "\n",
       "   Average response time  Min response time  Max response time  \\\n",
       "0                     27                 10               7515   \n",
       "1                     27                 10               7515   \n",
       "\n",
       "   Average Content Size  Requests/s  ...  75%  80%  90%  95%  98%  99%  99.9%  \\\n",
       "0                     0       13.54  ...   15   15   16   19   23   72   7500   \n",
       "1                     0       13.54  ...   15   15   16   19   23   72   7500   \n",
       "\n",
       "   99.99%  99.999  100%  \n",
       "0    7500    7500  7500  \n",
       "1    7500    7500  7500  \n",
       "\n",
       "[2 rows x 23 columns]"
      ]
     },
     "execution_count": 20,
     "metadata": {},
     "output_type": "execute_result"
    }
   ],
   "source": [
    "import pandas as pd\n",
    "\n",
    "pd.read_csv('src/locuststats_stats.csv')"
   ]
  },
  {
   "cell_type": "code",
   "execution_count": null,
   "metadata": {},
   "outputs": [],
   "source": [
    "ezonsm.predictor.delete_endpoint()"
   ]
  },
  {
   "cell_type": "code",
   "execution_count": null,
   "metadata": {},
   "outputs": [],
   "source": []
  }
 ],
 "metadata": {
  "kernelspec": {
   "display_name": "conda_python3",
   "language": "python",
   "name": "conda_python3"
  },
  "language_info": {
   "codemirror_mode": {
    "name": "ipython",
    "version": 3
   },
   "file_extension": ".py",
   "mimetype": "text/x-python",
   "name": "python",
   "nbconvert_exporter": "python",
   "pygments_lexer": "ipython3",
   "version": "3.6.5"
  }
 },
 "nbformat": 4,
 "nbformat_minor": 4
}
