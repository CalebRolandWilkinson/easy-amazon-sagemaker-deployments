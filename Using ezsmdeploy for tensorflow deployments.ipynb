{
 "cells": [
  {
   "cell_type": "markdown",
   "metadata": {},
   "source": [
    "# Serve a TensorFlow hub model"
   ]
  },
  {
   "cell_type": "markdown",
   "metadata": {},
   "source": [
    "The model for this example was trained using this sample notebook on sagemaker - https://github.com/awslabs/amazon-sagemaker-examples/blob/master/sagemaker-python-sdk/pytorch_mnist/pytorch_mnist.ipynb\n",
    "\n",
    "It is certainly easiler to do estimator.deploy() using the standard Sagemaker SDK if you are following that example, but cinsider this one if you have a pytorch model (or two) on S3 and you are looking for an easy way to test and deploy this model. Using tensorflow-gpu==2.0.0 instead of normal tf because of a live issue regarding libinfer.so"
   ]
  },
  {
   "cell_type": "code",
   "execution_count": 1,
   "metadata": {},
   "outputs": [
    {
     "name": "stdout",
     "output_type": "stream",
     "text": [
      "Requirement already up-to-date: pip in /home/ec2-user/anaconda3/envs/python3/lib/python3.6/site-packages (20.0.2)\n",
      "Processing /home/ec2-user/.cache/pip/wheels/32/42/7f/23cae9ff6ef66798d00dc5d659088e57dbba01566f6c60db63/wrapt-1.12.1-cp36-cp36m-linux_x86_64.whl\n",
      "\u001b[31mERROR: tensorflow 2.1.0 has requirement tensorboard<2.2.0,>=2.1.0, but you'll have tensorboard 2.0.2 which is incompatible.\u001b[0m\n",
      "\u001b[31mERROR: tensorflow 2.1.0 has requirement tensorflow-estimator<2.2.0,>=2.1.0rc0, but you'll have tensorflow-estimator 2.0.1 which is incompatible.\u001b[0m\n",
      "Installing collected packages: wrapt\n",
      "Successfully installed wrapt-1.12.1\n",
      "Requirement already up-to-date: tensorflow-gpu==2.0.0 in /home/ec2-user/anaconda3/envs/python3/lib/python3.6/site-packages (2.0.0)\n",
      "Requirement already up-to-date: tensorflow-hub in /home/ec2-user/anaconda3/envs/python3/lib/python3.6/site-packages (0.8.0)\n",
      "Requirement already satisfied, skipping upgrade: gast==0.2.2 in /home/ec2-user/anaconda3/envs/python3/lib/python3.6/site-packages (from tensorflow-gpu==2.0.0) (0.2.2)\n",
      "Requirement already satisfied, skipping upgrade: grpcio>=1.8.6 in /home/ec2-user/anaconda3/envs/python3/lib/python3.6/site-packages (from tensorflow-gpu==2.0.0) (1.28.1)\n",
      "Requirement already satisfied, skipping upgrade: numpy<2.0,>=1.16.0 in /home/ec2-user/anaconda3/envs/python3/lib/python3.6/site-packages (from tensorflow-gpu==2.0.0) (1.18.2)\n",
      "Requirement already satisfied, skipping upgrade: tensorboard<2.1.0,>=2.0.0 in /home/ec2-user/anaconda3/envs/python3/lib/python3.6/site-packages (from tensorflow-gpu==2.0.0) (2.0.2)\n",
      "Requirement already satisfied, skipping upgrade: keras-preprocessing>=1.0.5 in /home/ec2-user/anaconda3/envs/python3/lib/python3.6/site-packages (from tensorflow-gpu==2.0.0) (1.1.0)\n",
      "Requirement already satisfied, skipping upgrade: opt-einsum>=2.3.2 in /home/ec2-user/anaconda3/envs/python3/lib/python3.6/site-packages (from tensorflow-gpu==2.0.0) (3.2.1)\n",
      "Requirement already satisfied, skipping upgrade: tensorflow-estimator<2.1.0,>=2.0.0 in /home/ec2-user/anaconda3/envs/python3/lib/python3.6/site-packages (from tensorflow-gpu==2.0.0) (2.0.1)\n",
      "Requirement already satisfied, skipping upgrade: wheel>=0.26 in /home/ec2-user/anaconda3/envs/python3/lib/python3.6/site-packages (from tensorflow-gpu==2.0.0) (0.31.1)\n",
      "Requirement already satisfied, skipping upgrade: astor>=0.6.0 in /home/ec2-user/anaconda3/envs/python3/lib/python3.6/site-packages (from tensorflow-gpu==2.0.0) (0.8.1)\n",
      "Requirement already satisfied, skipping upgrade: absl-py>=0.7.0 in /home/ec2-user/anaconda3/envs/python3/lib/python3.6/site-packages (from tensorflow-gpu==2.0.0) (0.9.0)\n",
      "Requirement already satisfied, skipping upgrade: keras-applications>=1.0.8 in /home/ec2-user/anaconda3/envs/python3/lib/python3.6/site-packages (from tensorflow-gpu==2.0.0) (1.0.8)\n",
      "Requirement already satisfied, skipping upgrade: six>=1.10.0 in /home/ec2-user/anaconda3/envs/python3/lib/python3.6/site-packages (from tensorflow-gpu==2.0.0) (1.14.0)\n",
      "Requirement already satisfied, skipping upgrade: protobuf>=3.6.1 in /home/ec2-user/anaconda3/envs/python3/lib/python3.6/site-packages (from tensorflow-gpu==2.0.0) (3.11.3)\n",
      "Requirement already satisfied, skipping upgrade: termcolor>=1.1.0 in /home/ec2-user/anaconda3/envs/python3/lib/python3.6/site-packages (from tensorflow-gpu==2.0.0) (1.1.0)\n",
      "Requirement already satisfied, skipping upgrade: google-pasta>=0.1.6 in /home/ec2-user/anaconda3/envs/python3/lib/python3.6/site-packages (from tensorflow-gpu==2.0.0) (0.2.0)\n",
      "Requirement already satisfied, skipping upgrade: wrapt>=1.11.1 in /home/ec2-user/anaconda3/envs/python3/lib/python3.6/site-packages (from tensorflow-gpu==2.0.0) (1.12.1)\n",
      "Requirement already satisfied, skipping upgrade: setuptools>=41.0.0 in /home/ec2-user/anaconda3/envs/python3/lib/python3.6/site-packages (from tensorboard<2.1.0,>=2.0.0->tensorflow-gpu==2.0.0) (46.1.3)\n",
      "Requirement already satisfied, skipping upgrade: werkzeug>=0.11.15 in /home/ec2-user/anaconda3/envs/python3/lib/python3.6/site-packages (from tensorboard<2.1.0,>=2.0.0->tensorflow-gpu==2.0.0) (0.14.1)\n",
      "Requirement already satisfied, skipping upgrade: requests<3,>=2.21.0 in /home/ec2-user/anaconda3/envs/python3/lib/python3.6/site-packages (from tensorboard<2.1.0,>=2.0.0->tensorflow-gpu==2.0.0) (2.23.0)\n",
      "Requirement already satisfied, skipping upgrade: markdown>=2.6.8 in /home/ec2-user/anaconda3/envs/python3/lib/python3.6/site-packages (from tensorboard<2.1.0,>=2.0.0->tensorflow-gpu==2.0.0) (3.2.1)\n",
      "Requirement already satisfied, skipping upgrade: google-auth<2,>=1.6.3 in /home/ec2-user/anaconda3/envs/python3/lib/python3.6/site-packages (from tensorboard<2.1.0,>=2.0.0->tensorflow-gpu==2.0.0) (1.14.0)\n",
      "Requirement already satisfied, skipping upgrade: google-auth-oauthlib<0.5,>=0.4.1 in /home/ec2-user/anaconda3/envs/python3/lib/python3.6/site-packages (from tensorboard<2.1.0,>=2.0.0->tensorflow-gpu==2.0.0) (0.4.1)\n",
      "Requirement already satisfied, skipping upgrade: h5py in /home/ec2-user/anaconda3/envs/python3/lib/python3.6/site-packages (from keras-applications>=1.0.8->tensorflow-gpu==2.0.0) (2.8.0)\n",
      "Requirement already satisfied, skipping upgrade: chardet<4,>=3.0.2 in /home/ec2-user/anaconda3/envs/python3/lib/python3.6/site-packages (from requests<3,>=2.21.0->tensorboard<2.1.0,>=2.0.0->tensorflow-gpu==2.0.0) (3.0.4)\n",
      "Requirement already satisfied, skipping upgrade: idna<3,>=2.5 in /home/ec2-user/anaconda3/envs/python3/lib/python3.6/site-packages (from requests<3,>=2.21.0->tensorboard<2.1.0,>=2.0.0->tensorflow-gpu==2.0.0) (2.6)\n",
      "Requirement already satisfied, skipping upgrade: urllib3!=1.25.0,!=1.25.1,<1.26,>=1.21.1 in /home/ec2-user/anaconda3/envs/python3/lib/python3.6/site-packages (from requests<3,>=2.21.0->tensorboard<2.1.0,>=2.0.0->tensorflow-gpu==2.0.0) (1.23)\n",
      "Requirement already satisfied, skipping upgrade: certifi>=2017.4.17 in /home/ec2-user/anaconda3/envs/python3/lib/python3.6/site-packages (from requests<3,>=2.21.0->tensorboard<2.1.0,>=2.0.0->tensorflow-gpu==2.0.0) (2019.11.28)\n",
      "Requirement already satisfied, skipping upgrade: cachetools<5.0,>=2.0.0 in /home/ec2-user/anaconda3/envs/python3/lib/python3.6/site-packages (from google-auth<2,>=1.6.3->tensorboard<2.1.0,>=2.0.0->tensorflow-gpu==2.0.0) (4.1.0)\n",
      "Requirement already satisfied, skipping upgrade: pyasn1-modules>=0.2.1 in /home/ec2-user/anaconda3/envs/python3/lib/python3.6/site-packages (from google-auth<2,>=1.6.3->tensorboard<2.1.0,>=2.0.0->tensorflow-gpu==2.0.0) (0.2.8)\n",
      "Requirement already satisfied, skipping upgrade: rsa<4.1,>=3.1.4 in /home/ec2-user/anaconda3/envs/python3/lib/python3.6/site-packages (from google-auth<2,>=1.6.3->tensorboard<2.1.0,>=2.0.0->tensorflow-gpu==2.0.0) (3.4.2)\n",
      "Requirement already satisfied, skipping upgrade: requests-oauthlib>=0.7.0 in /home/ec2-user/anaconda3/envs/python3/lib/python3.6/site-packages (from google-auth-oauthlib<0.5,>=0.4.1->tensorboard<2.1.0,>=2.0.0->tensorflow-gpu==2.0.0) (1.3.0)\n",
      "Requirement already satisfied, skipping upgrade: pyasn1<0.5.0,>=0.4.6 in /home/ec2-user/anaconda3/envs/python3/lib/python3.6/site-packages (from pyasn1-modules>=0.2.1->google-auth<2,>=1.6.3->tensorboard<2.1.0,>=2.0.0->tensorflow-gpu==2.0.0) (0.4.8)\n",
      "Requirement already satisfied, skipping upgrade: oauthlib>=3.0.0 in /home/ec2-user/anaconda3/envs/python3/lib/python3.6/site-packages (from requests-oauthlib>=0.7.0->google-auth-oauthlib<0.5,>=0.4.1->tensorboard<2.1.0,>=2.0.0->tensorflow-gpu==2.0.0) (3.1.0)\n"
     ]
    }
   ],
   "source": [
    "!pip install --upgrade pip\n",
    "!pip install wrapt --upgrade --ignore-installed\n",
    "!pip install --upgrade tensorflow-gpu==2.0.0 tensorflow-hub"
   ]
  },
  {
   "cell_type": "code",
   "execution_count": 2,
   "metadata": {},
   "outputs": [],
   "source": [
    "inputs = \"The quick brown fox jumps over the lazy dog.\""
   ]
  },
  {
   "cell_type": "code",
   "execution_count": 3,
   "metadata": {},
   "outputs": [],
   "source": [
    "import tensorflow\n",
    "import tensorflow_hub as hub\n",
    "\n",
    "embed = hub.load(\"https://tfhub.dev/google/universal-sentence-encoder/4\")"
   ]
  },
  {
   "cell_type": "code",
   "execution_count": 4,
   "metadata": {},
   "outputs": [
    {
     "name": "stdout",
     "output_type": "stream",
     "text": [
      "tf.Tensor(\n",
      "[[-3.1330165e-02 -6.3386336e-02 -1.6074993e-02 -1.0348948e-02\n",
      "  -4.6500999e-02  3.7231565e-02  5.9158495e-03  7.1743988e-02\n",
      "   1.6664483e-02  6.0907636e-02  6.6552587e-02  2.3705095e-02\n",
      "   5.7648710e-04  5.6843214e-02  2.4161682e-02 -5.3362818e-03\n",
      "   4.7047716e-02  1.9215716e-02  7.6825544e-02  5.6695994e-03\n",
      "  -7.5282216e-02 -1.7137235e-02 -7.5027108e-02  7.6373480e-02\n",
      "  -5.4379605e-02 -1.3890995e-03 -1.8301852e-02 -4.6720393e-02\n",
      "  -4.7241386e-02  2.7067808e-02  3.2333400e-02  5.5370621e-02\n",
      "   3.3709548e-02 -1.3706626e-02  5.5270717e-03 -8.2269259e-02\n",
      "   1.4195107e-02  6.8279132e-02  1.8320523e-02 -2.1478746e-02\n",
      "   4.1496687e-02 -2.0274002e-02 -6.0105533e-03  2.4482453e-02\n",
      "  -8.8400900e-02 -2.5665395e-02 -3.8326152e-02 -5.6106262e-02\n",
      "   4.6812806e-02  3.2031260e-02  7.7272758e-02 -8.2500719e-02\n",
      "   5.4506003e-03  5.7930080e-03 -3.8694207e-02  2.9092268e-04\n",
      "   6.1349593e-02  7.3503375e-02  5.4634228e-02 -8.0549665e-02\n",
      "   5.3542893e-02  3.4478372e-03 -7.8572817e-02  5.3452183e-02\n",
      "   8.7303735e-02  1.2311260e-03 -8.2009351e-03  1.4453532e-02\n",
      "   6.1418828e-02 -4.2833470e-02  2.9208029e-02 -4.6855289e-02\n",
      "  -2.7075887e-02  7.4026681e-02  6.7076549e-02  1.8766109e-02\n",
      "  -3.8682539e-02 -2.3487573e-02 -4.3826751e-02  6.2752359e-02\n",
      "  -1.7312655e-02  4.9891941e-02  1.0957982e-02 -8.1596389e-02\n",
      "   2.3898995e-02 -6.5408237e-02 -2.5847990e-02 -5.2225865e-02\n",
      "  -4.8486382e-02  4.3156970e-02  6.7289896e-02  2.3130573e-02\n",
      "   5.2054182e-02 -5.2125644e-02  6.3677877e-03  7.4413575e-02\n",
      "  -7.9541653e-02 -2.0017970e-02  2.4718132e-02 -4.3712161e-02\n",
      "   2.0896947e-02  1.1979938e-02 -3.4577653e-02 -6.1322926e-03\n",
      "   4.6595622e-02 -4.3443859e-02  6.1747290e-02 -5.2182260e-03\n",
      "  -4.7934957e-02  5.0672203e-02 -9.2050033e-03  4.7105838e-02\n",
      "  -5.6614812e-02  4.5118842e-02 -5.5795744e-02 -9.0890368e-03\n",
      "  -6.7987867e-02 -1.8862015e-02  5.8884036e-02 -8.3678342e-02\n",
      "   1.9517377e-02  6.6716082e-02  7.8275003e-02 -3.6958899e-02\n",
      "  -1.9600423e-02 -6.9525041e-02 -3.4998167e-02  1.1369218e-02\n",
      "  -4.1913655e-02 -6.9295943e-02 -5.1144283e-02  4.7572725e-02\n",
      "   1.3809413e-02 -3.5893738e-02 -4.5333985e-02  4.9099930e-02\n",
      "   7.6521421e-03  4.4253908e-02 -3.1713281e-02  5.7876904e-02\n",
      "  -1.6377360e-02 -3.3725597e-02  6.4477585e-02  6.6112585e-02\n",
      "  -3.7015248e-02 -5.4232609e-02  4.2483397e-02  8.8442555e-03\n",
      "  -2.0803649e-02  1.6499612e-02 -2.5547244e-02 -3.8437113e-02\n",
      "  -3.2067228e-02  8.2425393e-02  4.6294715e-02 -5.7062004e-02\n",
      "  -3.8405210e-02 -7.2932951e-02 -7.1906090e-02 -1.0248912e-02\n",
      "  -7.3153622e-02 -6.1659753e-02 -2.7650967e-02  4.8867401e-02\n",
      "  -1.5222016e-02  7.0674919e-02 -2.9524054e-02 -5.2660578e-03\n",
      "  -4.1128686e-03  7.2038516e-02  1.2093526e-02  5.2878931e-02\n",
      "  -1.2248189e-02  2.5423193e-02 -5.4301616e-02  3.5019584e-02\n",
      "   2.4856726e-02 -1.9358799e-02 -2.1063924e-02 -5.8641750e-02\n",
      "   3.6597122e-02  1.7275263e-02 -3.7989534e-02  6.6837072e-02\n",
      "   8.4668651e-02 -6.3907526e-02  3.1760812e-02 -2.7733775e-02\n",
      "   1.0581547e-02  1.4289493e-02  1.8591439e-02  6.6975117e-02\n",
      "  -8.1383470e-05 -6.6290021e-02  3.9636595e-03  2.0803962e-02\n",
      "  -6.3473694e-03  2.1438669e-02  4.1496512e-02 -2.8641168e-02\n",
      "  -6.6588596e-02  4.1303750e-02 -3.8443308e-03  2.0536160e-02\n",
      "  -3.1252842e-02  4.5037985e-02 -5.1790431e-02  8.3649717e-02\n",
      "  -3.8000643e-02  5.3368777e-02 -1.6496889e-02  3.8055521e-02\n",
      "  -4.7243819e-02 -1.3493298e-02 -1.4117937e-02  3.1952872e-03\n",
      "   3.6384273e-02 -6.7782728e-04 -4.2121060e-02  4.3849986e-02\n",
      "   9.3038091e-03  1.1592382e-02  2.5404828e-02  2.7816981e-02\n",
      "  -7.7712633e-02 -3.6863998e-02  3.3577213e-03 -5.7894990e-02\n",
      "   5.5008460e-02 -3.2817870e-02  5.1751975e-02 -7.8821018e-02\n",
      "   3.5790738e-02 -3.4756274e-03  3.0184556e-03 -1.4469853e-02\n",
      "  -9.5836716e-03 -2.5967594e-02  4.6393750e-03 -4.8749722e-03\n",
      "   1.9312223e-02 -3.5889056e-02  1.7798986e-02 -4.8591632e-02\n",
      "   8.7191068e-02 -2.1516172e-02  5.9039583e-03  7.9255901e-02\n",
      "   1.4131512e-02  3.8771290e-02  7.6548131e-03 -3.6045335e-02\n",
      "   4.3738689e-03  1.5160407e-02  5.6245029e-03 -8.5285127e-02\n",
      "  -2.6131127e-02 -5.8158271e-02 -5.5445731e-03  6.1994926e-03\n",
      "  -3.1198129e-02  1.0851639e-02  3.7427660e-02  6.7483164e-02\n",
      "  -1.5722623e-02  5.1039562e-02  4.3473653e-02  4.2993218e-02\n",
      "  -5.3309672e-02  3.0914437e-02 -8.0233477e-02  5.1546644e-02\n",
      "   4.6174690e-02 -2.4372500e-03  2.6519815e-02 -5.2263834e-02\n",
      "   6.0424101e-02 -4.4786129e-02 -1.2627603e-02  1.1432727e-02\n",
      "   1.7342849e-02  3.3971258e-02 -5.3494289e-03 -4.8674822e-02\n",
      "  -6.1727245e-03 -4.1853350e-02  5.3648809e-03  8.4203750e-02\n",
      "  -2.7170639e-02 -3.3589665e-02 -5.7881664e-02 -4.8750561e-02\n",
      "   7.2649539e-02  3.5027664e-02 -2.5665199e-02 -6.7065261e-02\n",
      "  -2.0764450e-02 -6.7007035e-02 -8.6607412e-02  3.2511123e-02\n",
      "   3.1420363e-03 -2.8772147e-02 -2.1510888e-02  2.7447892e-02\n",
      "  -6.8716466e-02 -7.6493405e-02  2.3485502e-02 -6.3655868e-02\n",
      "   1.8731093e-02  4.0421519e-02 -1.1959212e-02  1.7753579e-02\n",
      "   1.3197433e-02 -9.1659361e-03  6.0436286e-02 -1.4406444e-02\n",
      "   3.4785353e-02  3.3857152e-02 -3.9861560e-02  8.9726504e-03\n",
      "  -6.4577642e-03 -2.5691163e-02  6.5970823e-02 -1.3756892e-02\n",
      "   4.0243119e-02 -6.1379842e-02  5.7064850e-02  5.4909650e-02\n",
      "   8.0577172e-03  2.2971019e-02 -1.0802582e-02 -2.8922727e-02\n",
      "  -1.0549404e-02 -4.0930782e-02  7.0290841e-02  1.6437758e-02\n",
      "  -3.8902726e-02  6.8067081e-02  1.4628718e-02  6.3363381e-02\n",
      "  -3.2763939e-02  1.9725148e-02 -2.2933541e-02 -2.1750426e-02\n",
      "  -1.8101854e-02  5.3671241e-02  3.2082826e-02  3.5735227e-02\n",
      "   3.8518559e-02  1.2287383e-02 -5.0209582e-02  1.2321752e-02\n",
      "   7.4470580e-02 -3.6907125e-02  3.2554910e-02  3.7680738e-02\n",
      "  -8.4352069e-02  3.2960842e-03  4.3967437e-02 -1.2907747e-02\n",
      "   4.0008914e-02 -1.4150005e-02  1.7953621e-02 -2.6808519e-02\n",
      "  -1.8471599e-02  4.1608762e-02  2.0105915e-02  4.8618585e-02\n",
      "  -1.3706899e-02 -5.2655876e-02 -8.3357818e-02  3.3008989e-02\n",
      "   1.4646244e-02  3.6058158e-02  2.4250241e-02 -2.3555918e-02\n",
      "  -3.5607986e-02 -1.2554275e-03 -6.9623090e-02 -5.2946977e-02\n",
      "   8.0240689e-02 -5.2565154e-02  4.1113935e-02  4.4137411e-02\n",
      "   2.8885232e-02  7.0210947e-03 -5.9321579e-02  2.4897602e-04\n",
      "   3.9713785e-02  4.6366200e-02  4.3860320e-03 -5.8802620e-02\n",
      "  -6.3461997e-02  2.1246180e-03  3.0953858e-02 -6.5216705e-02\n",
      "  -3.4377962e-02 -8.3304331e-02 -5.3039387e-02 -1.9852405e-02\n",
      "   5.1201120e-02  2.0083684e-02  1.3754968e-02  3.2865517e-02\n",
      "  -1.3420521e-03 -2.2502979e-02 -2.9767176e-02 -2.6352357e-02\n",
      "   1.7108381e-02  1.6045682e-02 -2.5379995e-03  6.8925649e-02\n",
      "   5.6169577e-02 -1.9212384e-02  4.1079972e-02 -6.3026927e-02\n",
      "  -4.0966868e-02 -1.6702258e-03  1.6859008e-02 -4.8091900e-02\n",
      "  -3.5523769e-02  4.0654436e-02 -6.6562660e-02 -6.4055964e-02\n",
      "   9.2295036e-03  8.0448888e-02  3.7155664e-03 -2.3230957e-02\n",
      "  -2.0856565e-02  4.0457502e-02  1.6084978e-02 -6.1460584e-02\n",
      "  -3.1346235e-02  5.9051540e-02 -9.2603723e-03  3.8013175e-02\n",
      "   3.0044472e-02  6.7233324e-02 -4.1481338e-02 -6.9256231e-02\n",
      "  -1.3092561e-03 -5.0881412e-02 -2.4717296e-02 -1.9404070e-02\n",
      "   5.9784014e-02 -5.0464354e-02  6.3473605e-02 -5.5059057e-02\n",
      "  -4.6754755e-02  3.2352090e-02 -4.6807326e-02  1.5929814e-02\n",
      "  -2.6972502e-02 -8.6976625e-02  6.3259914e-03 -5.5412099e-02\n",
      "   4.1245591e-02  4.8380259e-02  2.6581531e-02  3.6291562e-02\n",
      "  -2.1624524e-02 -3.5482126e-03 -3.2741129e-02 -2.3092947e-03\n",
      "  -3.9601441e-02 -1.3896616e-02  2.9864708e-02  2.2833593e-02\n",
      "   7.5805008e-02  5.1165011e-02  1.5973529e-02 -3.3008386e-03\n",
      "   8.8685729e-02 -4.2957447e-02 -6.2570028e-02  7.0759334e-02\n",
      "  -1.1005171e-02 -8.5027721e-03  7.5235091e-02 -5.3475924e-02\n",
      "  -7.4497223e-02  4.9032826e-02 -5.8068089e-02  5.8084838e-02\n",
      "  -5.0613329e-02  1.9476866e-02 -6.6844366e-02 -3.7025511e-02\n",
      "  -3.6939140e-02 -3.4659270e-02 -6.9474228e-02  4.0412350e-03\n",
      "  -8.3185043e-03 -1.7082255e-02 -4.6976630e-02  4.0809058e-02\n",
      "   4.4646338e-03 -4.8048839e-02 -7.9682931e-02  7.7766575e-02\n",
      "   1.0003838e-02 -3.9685700e-02 -1.9595858e-02  5.7343032e-02\n",
      "   5.5932228e-02  1.7126733e-02  7.3472202e-02 -7.8552358e-02\n",
      "   6.4888895e-02 -3.2427792e-02 -4.5757368e-02  5.3704549e-02]], shape=(1, 512), dtype=float32)\n"
     ]
    }
   ],
   "source": [
    "embeddings = embed([inputs])\n",
    "print(embeddings)"
   ]
  },
  {
   "cell_type": "markdown",
   "metadata": {},
   "source": [
    "## Step 1 : Write a model transform script\n",
    "\n",
    "#### Make sure you have a ...\n",
    "\n",
    "- \"load_model\" function\n",
    "    - input args are model path\n",
    "    - returns loaded model object\n",
    "    - model name is the same as what you saved the model file as (see above step)\n",
    "<br><br>\n",
    "- \"predict\" function\n",
    "    - input args are the loaded model object and a payload\n",
    "    - returns the result of model.predict\n",
    "    - make sure you format it as a single (or multiple) string return inside a list for real time (for mini batch)\n",
    "    - from a client, a list  or string or np.array that is sent for prediction is interpreted as bytes. Do what you have to for converting back to list or string or np.array\n",
    "    - return the error for debugging\n"
   ]
  },
  {
   "cell_type": "code",
   "execution_count": 5,
   "metadata": {},
   "outputs": [
    {
     "name": "stdout",
     "output_type": "stream",
     "text": [
      "Writing modelscript_tensorflow.py\n"
     ]
    }
   ],
   "source": [
    "%%writefile modelscript_tensorflow.py\n",
    "import tensorflow as tf\n",
    "import numpy as np\n",
    "import tensorflow_hub as hub\n",
    "import json\n",
    "\n",
    "#Return loaded model\n",
    "def load_model(modelpath):\n",
    "    model = hub.load(\"https://tfhub.dev/google/universal-sentence-encoder/4\") \n",
    "    return model\n",
    "\n",
    "# return prediction based on loaded model (from the step above) and an input payload\n",
    "def predict(model, payload):\n",
    "    try:\n",
    "        if(type(payload) == str):\n",
    "            data = [payload]\n",
    "        else:\n",
    "            data = [payload.decode()]# Multi model endpoints -> [payload[0]['body'].decode()]\n",
    "            \n",
    "        out = np.asarray(model(data)).tolist()\n",
    "    except Exception as e:\n",
    "        out = str(e)\n",
    "    return [json.dumps({'output':[out],'tfeager': tf.executing_eagerly()})]"
   ]
  },
  {
   "cell_type": "markdown",
   "metadata": {},
   "source": [
    "## Does this work locally? (not \"_in a container locally_\", but _actually_ in local)"
   ]
  },
  {
   "cell_type": "code",
   "execution_count": 6,
   "metadata": {},
   "outputs": [],
   "source": [
    "from modelscript_tensorflow import *\n",
    "model = load_model('./') # path doesn't matter here since we're loading the model directly in the script"
   ]
  },
  {
   "cell_type": "code",
   "execution_count": 7,
   "metadata": {},
   "outputs": [
    {
     "data": {
      "text/plain": [
       "['{\"output\": [[[-0.0313301645219326, -0.06338634341955185, -0.01607498712837696, -0.01034895982593298, -0.046500999480485916, 0.037231557071208954, 0.005915854591876268, 0.07174398750066757, 0.016664469614624977, 0.06090763583779335, 0.06655257195234299, 0.023705102503299713, 0.0005764771485701203, 0.056843213737010956, 0.024161679670214653, -0.005336281843483448, 0.04704771563410759, 0.01921573467552662, 0.07682554423809052, 0.005669597070664167, -0.07528220862150192, -0.01713724061846733, -0.07502710819244385, 0.07637347280979156, -0.05437960475683212, -0.0013890961417928338, -0.01830185018479824, -0.04672038182616234, -0.047241393476724625, 0.027067823335528374, 0.03233340382575989, 0.055370621383190155, 0.03370952978730202, -0.01370661985129118, 0.00552706653252244, -0.08226925879716873, 0.014195101335644722, 0.06827913224697113, 0.018320508301258087, -0.02147873491048813, 0.041496675461530685, -0.020273998379707336, -0.006010550539940596, 0.024482449516654015, -0.08840089291334152, -0.025665415450930595, -0.03832614794373512, -0.056106261909008026, 0.04681280627846718, 0.03203125298023224, 0.07727275788784027, -0.08250071853399277, 0.005450600292533636, 0.005792992189526558, -0.03869420662522316, 0.00029092267504893243, 0.061349593102931976, 0.07350337505340576, 0.054634228348731995, -0.08054966479539871, 0.05354288965463638, 0.003447834635153413, -0.0785728171467781, 0.053452182561159134, 0.08730373531579971, 0.0012311280006542802, -0.008200932294130325, 0.014453524723649025, 0.061418816447257996, -0.04283347353339195, 0.029208028689026833, -0.04685530066490173, -0.027075886726379395, 0.0740266814827919, 0.06707655638456345, 0.018766093999147415, -0.03868253529071808, -0.023487558588385582, -0.04382675141096115, 0.06275235861539841, -0.017312658950686455, 0.04989193379878998, 0.010957980528473854, -0.08159638941287994, 0.02389899455010891, -0.06540823727846146, -0.025847986340522766, -0.05222586542367935, -0.0484863743185997, 0.04315696656703949, 0.06728989630937576, 0.023130564019083977, 0.052054181694984436, -0.052125636488199234, 0.0063678002916276455, 0.07441357523202896, -0.0795416533946991, -0.020017951726913452, 0.024718137457966805, -0.04371216893196106, 0.02089693769812584, 0.011979945935308933, -0.03457765281200409, -0.006132312119007111, 0.04659562185406685, -0.043443839997053146, 0.061747290194034576, -0.00521821528673172, -0.04793495684862137, 0.05067219212651253, -0.009205006994307041, 0.04710583761334419, -0.05661481246352196, 0.04511884227395058, -0.05579574406147003, -0.009089050814509392, -0.0679878517985344, -0.018862010911107063, 0.05888404697179794, -0.08367834240198135, 0.019517382606863976, 0.06671608239412308, 0.07827500253915787, -0.03695889934897423, -0.01960042305290699, -0.06952504068613052, -0.03499816358089447, 0.011369215324521065, -0.041913654655218124, -0.06929594278335571, -0.05114426836371422, 0.04757270961999893, 0.013809424825012684, -0.03589374199509621, -0.04533398523926735, 0.049099940806627274, 0.00765214441344142, 0.044253893196582794, -0.03171328455209732, 0.05787690356373787, -0.016377365216612816, -0.03372559696435928, 0.0644775778055191, 0.06611258536577225, -0.03701526299118996, -0.05423259362578392, 0.04248339682817459, 0.00884424988180399, -0.020803632214665413, 0.01649961993098259, -0.02554725483059883, -0.038437120616436005, -0.03206724300980568, 0.08242539316415787, 0.04629472643136978, -0.05706200376152992, -0.03840520977973938, -0.07293295115232468, -0.07190608978271484, -0.010248906910419464, -0.07315362244844437, -0.06165974959731102, -0.027650967240333557, 0.048867400735616684, -0.015222006477415562, 0.07067491859197617, -0.0295240618288517, -0.005266058258712292, -0.004112875554710627, 0.07203851640224457, 0.012093537487089634, 0.052878931164741516, -0.012248179875314236, 0.0254232045263052, -0.05430161580443382, 0.035019587725400925, 0.024856727570295334, -0.01935878023505211, -0.0210639126598835, -0.058641739189624786, 0.036597106605768204, 0.017275262624025345, -0.0379895381629467, 0.06683707237243652, 0.08466865122318268, -0.06390752643346786, 0.031760815531015396, -0.027733782306313515, 0.010581552982330322, 0.014289484359323978, 0.01859143376350403, 0.06697513163089752, -8.139008423313498e-05, -0.0662900060415268, 0.003963666036725044, 0.020803961902856827, -0.006347369868308306, 0.02143866941332817, 0.04149651154875755, -0.028641171753406525, -0.06658859550952911, 0.041303761303424835, -0.003844320075586438, 0.020536165684461594, -0.03125284984707832, 0.04503798484802246, -0.05179043114185333, 0.08364971727132797, -0.038000643253326416, 0.05336877703666687, -0.016496889293193817, 0.03805551677942276, -0.04724382981657982, -0.013493302278220654, -0.014117937535047531, 0.003195270197466016, 0.03638428449630737, -0.0006778246606700122, -0.04212105646729469, 0.04384998977184296, 0.009303813800215721, 0.011592361144721508, 0.025404835119843483, 0.027816975489258766, -0.07771263271570206, -0.03686399385333061, 0.0033577263820916414, -0.0578949861228466, 0.05500845983624458, -0.03281787037849426, 0.05175197497010231, -0.07882101833820343, 0.03579074144363403, -0.0034756273962557316, 0.003018464893102646, -0.014469856396317482, -0.009583664126694202, -0.02596757933497429, 0.004639378283172846, -0.004874967038631439, 0.01931222341954708, -0.03588906675577164, 0.01779899001121521, -0.04859163239598274, 0.08719106763601303, -0.021516168490052223, 0.005903956945985556, 0.07925590127706528, 0.014131514355540276, 0.038771290332078934, 0.007654823828488588, -0.03604532778263092, 0.004373876843601465, 0.01516041625291109, 0.005624494981020689, -0.08528513461351395, -0.02613113261759281, -0.0581582710146904, -0.005544562824070454, 0.006199495401233435, -0.03119812346994877, 0.01085163839161396, 0.03742766007781029, 0.06748315691947937, -0.015722613781690598, 0.05103956162929535, 0.04347363859415054, 0.04299323260784149, -0.05330967530608177, 0.0309144277125597, -0.08023348450660706, 0.05154665559530258, 0.04617469012737274, -0.002437247196212411, 0.026519808918237686, -0.05226382985711098, 0.06042409688234329, -0.04478614032268524, -0.012627607211470604, 0.011432738043367863, 0.01734286919236183, 0.03397126868367195, -0.00534944050014019, -0.0486748106777668, -0.0061727347783744335, -0.041853342205286026, 0.005364895332604647, 0.08420374989509583, -0.02717062644660473, -0.033589668571949005, -0.0578816682100296, -0.048750560730695724, 0.0726495310664177, 0.035027649253606796, -0.02566518448293209, -0.06706526130437851, -0.02076444961130619, -0.06700703501701355, -0.08660741150379181, 0.03251112252473831, 0.0031420232262462378, -0.02877214178442955, -0.02151087485253811, 0.027447892352938652, -0.06871646642684937, -0.07649340480566025, 0.02348550222814083, -0.06365586072206497, 0.01873110793530941, 0.04042153060436249, -0.011959213763475418, 0.01775357872247696, 0.013197427615523338, -0.009165944531559944, 0.06043628230690956, -0.014406445436179638, 0.03478534519672394, 0.03385715186595917, -0.03986155986785889, 0.00897264201194048, -0.006457778625190258, -0.025691164657473564, 0.06597080081701279, -0.013756894506514072, 0.04024311527609825, -0.06137984246015549, 0.05706484988331795, 0.05490965396165848, 0.008057706989347935, 0.02297102101147175, -0.010802584700286388, -0.028922729194164276, -0.010549393482506275, -0.04093078896403313, 0.07029083371162415, 0.01643776148557663, -0.03890272229909897, 0.06806708872318268, 0.014628710225224495, 0.06336336582899094, -0.032763946801424026, 0.01972516067326069, -0.022933540865778923, -0.02175043895840645, -0.018101848661899567, 0.05367124080657959, 0.03208281472325325, 0.035735223442316055, 0.038518551737070084, 0.012287376448512077, -0.050209593027830124, 0.012321761809289455, 0.07447057962417603, -0.0369071401655674, 0.03255491703748703, 0.0376807376742363, -0.08435206860303879, 0.003296071197837591, 0.043967440724372864, -0.01290776114910841, 0.04000892490148544, -0.014150004833936691, 0.017953621223568916, -0.02680850960314274, -0.01847158931195736, 0.04160876199603081, 0.020105915144085884, 0.048618584871292114, -0.013706902042031288, -0.05265587568283081, -0.08335781842470169, 0.03300898149609566, 0.0146462582051754, 0.036058150231838226, 0.024250246584415436, -0.023555908352136612, -0.03560798987746239, -0.0012554116547107697, -0.06962309032678604, -0.05294698849320412, 0.08024068921804428, -0.05256515368819237, 0.04111393541097641, 0.04413741081953049, 0.028885241597890854, 0.007021095138043165, -0.059321578592061996, 0.00024898527772165835, 0.039713792502880096, 0.04636621102690697, 0.004386033397167921, -0.05880263075232506, -0.06346199661493301, 0.0021246287506073713, 0.030953850597143173, -0.06521670520305634, -0.03437795490026474, -0.08330433070659637, -0.05303938686847687, -0.01985238678753376, 0.05120110884308815, 0.02008369192481041, 0.013754968531429768, 0.032865505665540695, -0.0013420587638393044, -0.022502988576889038, -0.029767166823148727, -0.026352349668741226, 0.017108384519815445, 0.01604568213224411, -0.0025379923172295094, 0.0689256489276886, 0.056169576942920685, -0.0192123893648386, 0.041079968214035034, -0.06302692741155624, -0.040966879576444626, -0.0016702363500371575, 0.016859019175171852, -0.04809190705418587, -0.03552377223968506, 0.040654439479112625, -0.06656266003847122, -0.06405596435070038, 0.009229505434632301, 0.08044888824224472, 0.00371556100435555, -0.023230966180562973, -0.020856572315096855, 0.04045750945806503, 0.016084980219602585, -0.061460576951503754, -0.031346239149570465, 0.05905154347419739, -0.00926037598401308, 0.03801317885518074, 0.03004447929561138, 0.06723332405090332, -0.04148133844137192, -0.06925623118877411, -0.0013092586304992437, -0.050881411880254745, -0.024717293679714203, -0.019404063001275063, 0.05978402495384216, -0.05046435445547104, 0.06347358971834183, -0.05505905672907829, -0.04675475135445595, 0.03235207870602608, -0.04680732637643814, 0.01592981442809105, -0.026972491294145584, -0.08697662502527237, 0.0063259899616241455, -0.05541209876537323, 0.041245583444833755, 0.048380255699157715, 0.02658153884112835, 0.036291565746068954, -0.02162451483309269, -0.0035482251551002264, -0.032741133123636246, -0.002309302566573024, -0.039601441472768784, -0.013896613381803036, 0.029864713549613953, 0.022833600640296936, 0.07580500096082687, 0.05116499960422516, 0.015973543748259544, -0.003300843760371208, 0.08868572860956192, -0.042957451194524765, -0.06257002800703049, 0.07075933367013931, -0.011005171574652195, -0.008502785116434097, 0.07523509114980698, -0.05347590520977974, -0.07449723035097122, 0.049032825976610184, -0.05806808918714523, 0.05808483809232712, -0.050613339990377426, 0.019476864486932755, -0.06684436649084091, -0.03702551871538162, -0.03693914785981178, -0.03465926647186279, -0.0694742277264595, 0.004041240084916353, -0.008318504318594933, -0.01708226092159748, -0.04697662219405174, 0.04080905765295029, 0.004464626312255859, -0.04804883897304535, -0.07968293130397797, 0.07776656746864319, 0.010003854520618916, -0.0396856963634491, -0.019595852121710777, 0.05734303593635559, 0.05593222752213478, 0.017126725986599922, 0.07347219437360764, -0.07855235785245895, 0.06488889455795288, -0.032427795231342316, -0.04575737565755844, 0.05370454862713814]]], \"tfeager\": true}']"
      ]
     },
     "execution_count": 7,
     "metadata": {},
     "output_type": "execute_result"
    }
   ],
   "source": [
    "predict(model,inputs)"
   ]
  },
  {
   "cell_type": "markdown",
   "metadata": {},
   "source": [
    "### ok great! Now let's install ezsmdeploy"
   ]
  },
  {
   "cell_type": "markdown",
   "metadata": {},
   "source": [
    "_[To Do]_: currently local; replace with pip version!"
   ]
  },
  {
   "cell_type": "code",
   "execution_count": 8,
   "metadata": {},
   "outputs": [
    {
     "name": "stdout",
     "output_type": "stream",
     "text": [
      "Found existing installation: ezsmdeploy 0.1.1\n",
      "Uninstalling ezsmdeploy-0.1.1:\n",
      "  Successfully uninstalled ezsmdeploy-0.1.1\n"
     ]
    }
   ],
   "source": [
    "!pip uninstall -y ezsmdeploy"
   ]
  },
  {
   "cell_type": "code",
   "execution_count": 9,
   "metadata": {},
   "outputs": [],
   "source": [
    "!pip install -e ./ --quiet "
   ]
  },
  {
   "cell_type": "code",
   "execution_count": 10,
   "metadata": {},
   "outputs": [],
   "source": [
    "import ezsmdeploy"
   ]
  },
  {
   "cell_type": "markdown",
   "metadata": {},
   "source": [
    "#### If you have been running other inference containers in local mode, stop existing containers to avoid conflict"
   ]
  },
  {
   "cell_type": "code",
   "execution_count": 11,
   "metadata": {},
   "outputs": [],
   "source": [
    "!docker container stop $(docker container ls -aq) >/dev/null"
   ]
  },
  {
   "cell_type": "markdown",
   "metadata": {},
   "source": [
    "## Deploy locally"
   ]
  },
  {
   "cell_type": "markdown",
   "metadata": {},
   "source": [
    "Large models take longer to download and deploy (check TF hub source code to check. Also, keep in mind that hub models are downloaded in each worker; TF hub will recognize that all workers are set to download the same model and will not repeat the download; it will instead give you a _already being downloaded by \"worker id\"_ "
   ]
  },
  {
   "cell_type": "code",
   "execution_count": 12,
   "metadata": {},
   "outputs": [
    {
     "name": "stdout",
     "output_type": "stream",
     "text": [
      "\u001b[K0:00:00.003130 | No model was passed. Assuming you are downloading a model in the script or in the container\n",
      "\u001b[K0:00:00.082888 | uploaded model tarball(s) ; check returned modelpath\n",
      "\u001b[K0:00:00.083751 | added requirements file\n",
      "\u001b[K0:00:00.085395 | added source file\n",
      "\u001b[K0:00:00.087077 | added Dockerfile\n",
      "\u001b[K0:00:00.089009 | added model_handler and docker utils\n",
      "\u001b[K0:00:00.089481 | building docker container\n",
      "\u001b[K0:02:40.586534 | built docker container\n",
      "\u001b[K0:02:40.696798 | created model(s). Now deploying on local_gpu\n",
      "\u001b[32m∙●∙\u001b[0m \u001b[K"
     ]
    },
    {
     "name": "stderr",
     "output_type": "stream",
     "text": [
      "WARNING:urllib3.connectionpool:Retrying (Retry(total=2, connect=None, read=None, redirect=None, status=None)) after connection broken by 'NewConnectionError('<urllib3.connection.HTTPConnection object at 0x7f6ac83c1be0>: Failed to establish a new connection: [Errno 111] Connection refused',)': /ping\n"
     ]
    },
    {
     "name": "stdout",
     "output_type": "stream",
     "text": [
      "\r",
      "\u001b[32m∙∙●\u001b[0m \u001b[K"
     ]
    },
    {
     "name": "stderr",
     "output_type": "stream",
     "text": [
      "WARNING:urllib3.connectionpool:Retrying (Retry(total=1, connect=None, read=None, redirect=None, status=None)) after connection broken by 'NewConnectionError('<urllib3.connection.HTTPConnection object at 0x7f6ac83c1a58>: Failed to establish a new connection: [Errno 111] Connection refused',)': /ping\n",
      "WARNING:urllib3.connectionpool:Retrying (Retry(total=0, connect=None, read=None, redirect=None, status=None)) after connection broken by 'NewConnectionError('<urllib3.connection.HTTPConnection object at 0x7f6ac83c1c18>: Failed to establish a new connection: [Errno 111] Connection refused',)': /ping\n"
     ]
    },
    {
     "name": "stdout",
     "output_type": "stream",
     "text": [
      "\u001b[32m∙∙∙\u001b[0m \u001b[KAttaching to tmpvmq3uhki_algo-1-s8hwq_1\n",
      "\u001b[36malgo-1-s8hwq_1  |\u001b[0m Starting the inference server with 32 workers.\n",
      "\u001b[32m∙∙∙\u001b[0m \u001b[K\u001b[36malgo-1-s8hwq_1  |\u001b[0m [2020-04-22 18:41:42 +0000] [9] [INFO] Starting gunicorn 20.0.4\n",
      "\u001b[36malgo-1-s8hwq_1  |\u001b[0m [2020-04-22 18:41:42 +0000] [9] [INFO] Listening at: unix:/tmp/gunicorn.sock (9)\n",
      "\u001b[36malgo-1-s8hwq_1  |\u001b[0m [2020-04-22 18:41:42 +0000] [9] [INFO] Using worker: gevent\n",
      "\u001b[36malgo-1-s8hwq_1  |\u001b[0m [2020-04-22 18:41:42 +0000] [13] [INFO] Booting worker with pid: 13\n",
      "\u001b[32m●∙∙\u001b[0m \u001b[K\u001b[36malgo-1-s8hwq_1  |\u001b[0m [2020-04-22 18:41:42 +0000] [14] [INFO] Booting worker with pid: 14\n",
      "\u001b[36malgo-1-s8hwq_1  |\u001b[0m [2020-04-22 18:41:42 +0000] [15] [INFO] Booting worker with pid: 15\n",
      "\u001b[32m∙●∙\u001b[0m \u001b[K\u001b[36malgo-1-s8hwq_1  |\u001b[0m [2020-04-22 18:41:42 +0000] [17] [INFO] Booting worker with pid: 17\n",
      "\u001b[36malgo-1-s8hwq_1  |\u001b[0m [2020-04-22 18:41:42 +0000] [50] [INFO] Booting worker with pid: 50\n",
      "\u001b[36malgo-1-s8hwq_1  |\u001b[0m [2020-04-22 18:41:42 +0000] [82] [INFO] Booting worker with pid: 82\n",
      "\u001b[36malgo-1-s8hwq_1  |\u001b[0m [2020-04-22 18:41:42 +0000] [83] [INFO] Booting worker with pid: 83\n",
      "\u001b[32m∙∙●\u001b[0m \u001b[K\u001b[36malgo-1-s8hwq_1  |\u001b[0m [2020-04-22 18:41:42 +0000] [85] [INFO] Booting worker with pid: 85\n",
      "\u001b[36malgo-1-s8hwq_1  |\u001b[0m [2020-04-22 18:41:42 +0000] [117] [INFO] Booting worker with pid: 117\n",
      "\u001b[32m∙∙∙\u001b[0m \u001b[K\u001b[36malgo-1-s8hwq_1  |\u001b[0m [2020-04-22 18:41:42 +0000] [118] [INFO] Booting worker with pid: 118\n",
      "\u001b[36malgo-1-s8hwq_1  |\u001b[0m [2020-04-22 18:41:42 +0000] [120] [INFO] Booting worker with pid: 120\n",
      "\u001b[32m∙∙∙\u001b[0m \u001b[K\u001b[36malgo-1-s8hwq_1  |\u001b[0m [2020-04-22 18:41:42 +0000] [152] [INFO] Booting worker with pid: 152\n",
      "\u001b[36malgo-1-s8hwq_1  |\u001b[0m [2020-04-22 18:41:42 +0000] [154] [INFO] Booting worker with pid: 154\n",
      "\u001b[36malgo-1-s8hwq_1  |\u001b[0m [2020-04-22 18:41:42 +0000] [155] [INFO] Booting worker with pid: 155\n",
      "\u001b[32m●∙∙\u001b[0m \u001b[K\u001b[36malgo-1-s8hwq_1  |\u001b[0m [2020-04-22 18:41:43 +0000] [222] [INFO] Booting worker with pid: 222\n",
      "\u001b[36malgo-1-s8hwq_1  |\u001b[0m [2020-04-22 18:41:43 +0000] [223] [INFO] Booting worker with pid: 223\n",
      "\u001b[32m∙●∙\u001b[0m \u001b[K\u001b[36malgo-1-s8hwq_1  |\u001b[0m [2020-04-22 18:41:43 +0000] [287] [INFO] Booting worker with pid: 287\n",
      "\u001b[36malgo-1-s8hwq_1  |\u001b[0m [2020-04-22 18:41:43 +0000] [351] [INFO] Booting worker with pid: 351\n",
      "\u001b[32m∙∙●\u001b[0m \u001b[K\u001b[36malgo-1-s8hwq_1  |\u001b[0m [2020-04-22 18:41:43 +0000] [352] [INFO] Booting worker with pid: 352\n",
      "\u001b[32m∙∙∙\u001b[0m \u001b[K\u001b[36malgo-1-s8hwq_1  |\u001b[0m [2020-04-22 18:41:43 +0000] [385] [INFO] Booting worker with pid: 385\n",
      "\u001b[36malgo-1-s8hwq_1  |\u001b[0m [2020-04-22 18:41:43 +0000] [388] [INFO] Booting worker with pid: 388\n",
      "\u001b[32m∙∙∙\u001b[0m \u001b[K\u001b[36malgo-1-s8hwq_1  |\u001b[0m [2020-04-22 18:41:43 +0000] [482] [INFO] Booting worker with pid: 482\n",
      "\u001b[36malgo-1-s8hwq_1  |\u001b[0m [2020-04-22 18:41:43 +0000] [484] [INFO] Booting worker with pid: 484\n",
      "\u001b[36malgo-1-s8hwq_1  |\u001b[0m [2020-04-22 18:41:43 +0000] [485] [INFO] Booting worker with pid: 485\n",
      "\u001b[32m●∙∙\u001b[0m \u001b[K\u001b[36malgo-1-s8hwq_1  |\u001b[0m [2020-04-22 18:41:43 +0000] [488] [INFO] Booting worker with pid: 488\n",
      "\u001b[36malgo-1-s8hwq_1  |\u001b[0m [2020-04-22 18:41:43 +0000] [521] [INFO] Booting worker with pid: 521\n",
      "\u001b[36malgo-1-s8hwq_1  |\u001b[0m [2020-04-22 18:41:43 +0000] [585] [INFO] Booting worker with pid: 585\n",
      "\u001b[36malgo-1-s8hwq_1  |\u001b[0m [2020-04-22 18:41:43 +0000] [586] [INFO] Booting worker with pid: 586\n",
      "\u001b[36malgo-1-s8hwq_1  |\u001b[0m [2020-04-22 18:41:43 +0000] [587] [INFO] Booting worker with pid: 587\n",
      "\u001b[32m∙●∙\u001b[0m \u001b[K\u001b[36malgo-1-s8hwq_1  |\u001b[0m [2020-04-22 18:41:43 +0000] [620] [INFO] Booting worker with pid: 620\n",
      "\u001b[32m∙∙●\u001b[0m \u001b[K\u001b[36malgo-1-s8hwq_1  |\u001b[0m [2020-04-22 18:41:43 +0000] [652] [INFO] Booting worker with pid: 652\n",
      "\u001b[36malgo-1-s8hwq_1  |\u001b[0m [2020-04-22 18:41:43 +0000] [684] [INFO] Booting worker with pid: 684\n",
      "\u001b[32m∙∙∙\u001b[0m \u001b[K\u001b[36malgo-1-s8hwq_1  |\u001b[0m [2020-04-22 18:43:04 +0000] [9] [CRITICAL] WORKER TIMEOUT (pid:14)\n",
      "\u001b[36malgo-1-s8hwq_1  |\u001b[0m 2020/04/22 18:43:04 [error] 10#10: *1 upstream prematurely closed connection while reading response header from upstream, client: 172.27.0.1, server: , request: \"GET /ping HTTP/1.1\", upstream: \"http://unix:/tmp/gunicorn.sock:/ping\", host: \"localhost:8080\"\n",
      "\u001b[36malgo-1-s8hwq_1  |\u001b[0m 172.27.0.1 - - [22/Apr/2020:18:43:04 +0000] \"GET /ping HTTP/1.1\" 502 182 \"-\" \"-\"\n",
      "\u001b[36malgo-1-s8hwq_1  |\u001b[0m [2020-04-22 18:43:04 +0000] [14] [INFO] Worker exiting (pid: 14)\n",
      "\u001b[32m∙∙●\u001b[0m \u001b[K\u001b[36malgo-1-s8hwq_1  |\u001b[0m [2020-04-22 18:43:04 +0000] [1070] [INFO] Booting worker with pid: 1070\n",
      "\u001b[32m∙∙∙\u001b[0m \u001b[K\u001b[36malgo-1-s8hwq_1  |\u001b[0m [2020-04-22 18:44:09 +0000] [9] [CRITICAL] WORKER TIMEOUT (pid:620)\n",
      "\u001b[36malgo-1-s8hwq_1  |\u001b[0m 2020/04/22 18:44:09 [error] 10#10: *3 upstream prematurely closed connection while reading response header from upstream, client: 172.27.0.1, server: , request: \"GET /ping HTTP/1.1\", upstream: \"http://unix:/tmp/gunicorn.sock:/ping\", host: \"localhost:8080\"\n",
      "\u001b[36malgo-1-s8hwq_1  |\u001b[0m 172.27.0.1 - - [22/Apr/2020:18:44:09 +0000] \"GET /ping HTTP/1.1\" 502 182 \"-\" \"-\"\n",
      "\u001b[36malgo-1-s8hwq_1  |\u001b[0m [2020-04-22 18:44:09 +0000] [620] [INFO] Worker exiting (pid: 620)\n",
      "\u001b[32m∙∙●\u001b[0m \u001b[K\u001b[36malgo-1-s8hwq_1  |\u001b[0m [2020-04-22 18:44:10 +0000] [1104] [INFO] Booting worker with pid: 1104\n",
      "\u001b[32m∙∙∙\u001b[0m \u001b[K\u001b[36malgo-1-s8hwq_1  |\u001b[0m [2020-04-22 18:45:15 +0000] [9] [CRITICAL] WORKER TIMEOUT (pid:1070)\n",
      "\u001b[36malgo-1-s8hwq_1  |\u001b[0m 2020/04/22 18:45:15 [error] 10#10: *5 upstream prematurely closed connection while reading response header from upstream, client: 172.27.0.1, server: , request: \"GET /ping HTTP/1.1\", upstream: \"http://unix:/tmp/gunicorn.sock:/ping\", host: \"localhost:8080\"\n",
      "\u001b[36malgo-1-s8hwq_1  |\u001b[0m 172.27.0.1 - - [22/Apr/2020:18:45:15 +0000] \"GET /ping HTTP/1.1\" 502 182 \"-\" \"-\"\n",
      "\u001b[36malgo-1-s8hwq_1  |\u001b[0m [2020-04-22 18:45:15 +0000] [1070] [INFO] Worker exiting (pid: 1070)\n",
      "\u001b[32m∙∙●\u001b[0m \u001b[K\u001b[36malgo-1-s8hwq_1  |\u001b[0m [2020-04-22 18:45:15 +0000] [1138] [INFO] Booting worker with pid: 1138\n",
      "\u001b[32m∙∙∙\u001b[0m \u001b[K\u001b[36malgo-1-s8hwq_1  |\u001b[0m [2020-04-22 18:46:23 +0000] [9] [CRITICAL] WORKER TIMEOUT (pid:1104)\n",
      "\u001b[36malgo-1-s8hwq_1  |\u001b[0m 2020/04/22 18:46:23 [error] 10#10: *7 upstream prematurely closed connection while reading response header from upstream, client: 172.27.0.1, server: , request: \"GET /ping HTTP/1.1\", upstream: \"http://unix:/tmp/gunicorn.sock:/ping\", host: \"localhost:8080\"\n",
      "\u001b[36malgo-1-s8hwq_1  |\u001b[0m 172.27.0.1 - - [22/Apr/2020:18:46:23 +0000] \"GET /ping HTTP/1.1\" 502 182 \"-\" \"-\"\n",
      "\u001b[36malgo-1-s8hwq_1  |\u001b[0m [2020-04-22 18:46:23 +0000] [1104] [INFO] Worker exiting (pid: 1104)\n",
      "\u001b[32m∙●∙\u001b[0m \u001b[K\u001b[36malgo-1-s8hwq_1  |\u001b[0m [2020-04-22 18:46:23 +0000] [1172] [INFO] Booting worker with pid: 1172\n",
      "\u001b[32m●∙∙\u001b[0m \u001b[K\u001b[36malgo-1-s8hwq_1  |\u001b[0m 2020-04-22 18:47:47.030666: W tensorflow/stream_executor/platform/default/dso_loader.cc:55] Could not load dynamic library 'libcuda.so.1'; dlerror: libcuda.so.1: cannot open shared object file: No such file or directory\n",
      "\u001b[36malgo-1-s8hwq_1  |\u001b[0m 2020-04-22 18:47:47.030706: E tensorflow/stream_executor/cuda/cuda_driver.cc:318] failed call to cuInit: UNKNOWN ERROR (303)\n",
      "\u001b[36malgo-1-s8hwq_1  |\u001b[0m 2020-04-22 18:47:47.030742: I tensorflow/stream_executor/cuda/cuda_diagnostics.cc:163] no NVIDIA GPU device is present: /dev/nvidia0 does not exist\n",
      "\u001b[36malgo-1-s8hwq_1  |\u001b[0m 2020-04-22 18:47:47.030945: I tensorflow/core/platform/cpu_feature_guard.cc:142] Your CPU supports instructions that this TensorFlow binary was not compiled to use: AVX2 FMA\n",
      "\u001b[32m∙●∙\u001b[0m \u001b[K\u001b[36malgo-1-s8hwq_1  |\u001b[0m 2020-04-22 18:47:47.056434: I tensorflow/core/platform/profile_utils/cpu_utils.cc:94] CPU Frequency: 2300055000 Hz\n",
      "\u001b[36malgo-1-s8hwq_1  |\u001b[0m 2020-04-22 18:47:47.058242: I tensorflow/compiler/xla/service/service.cc:168] XLA service 0xa5000f0 executing computations on platform Host. Devices:\n",
      "\u001b[36malgo-1-s8hwq_1  |\u001b[0m 2020-04-22 18:47:47.058270: I tensorflow/compiler/xla/service/service.cc:175]   StreamExecutor device (0): Host, Default Version\n",
      "\u001b[32m●∙∙\u001b[0m \u001b[K!\u001b[36malgo-1-s8hwq_1  |\u001b[0m 172.27.0.1 - - [22/Apr/2020:18:47:53 +0000] \"GET /ping HTTP/1.1\" 200 1 \"-\" \"-\"\n",
      "\u001b[K0:08:53.453381 | deployed model\n",
      "\u001b[K\u001b[32m0:08:53.456422 | Done! ✔\u001b[0m \n"
     ]
    }
   ],
   "source": [
    "ez = ezsmdeploy.Deploy(model = None, #Since we are loading a model from TF hub\n",
    "                  script = 'modelscript_tensorflow.py',\n",
    "                  requirements = ['numpy','tensorflow-gpu==2.0.0','tensorflow_hub'], #or pass in the path to requirements.txt\n",
    "                  instance_type = 'local_gpu',\n",
    "                  wait = True)"
   ]
  },
  {
   "cell_type": "markdown",
   "metadata": {},
   "source": [
    "## Test containerized version locally"
   ]
  },
  {
   "cell_type": "markdown",
   "metadata": {},
   "source": [
    "Since you are downloading this model from a hub, the first time you invoke it will be slow, so invoke again to get an inference without all of the container logs. Prediction will especially be slow if your model is still downloading!"
   ]
  },
  {
   "cell_type": "code",
   "execution_count": 14,
   "metadata": {},
   "outputs": [
    {
     "name": "stdout",
     "output_type": "stream",
     "text": [
      "\u001b[36malgo-1-s8hwq_1  |\u001b[0m received input data\n",
      "\u001b[36malgo-1-s8hwq_1  |\u001b[0m b'The quick brown fox jumps over the lazy dog.'\n",
      "\u001b[36malgo-1-s8hwq_1  |\u001b[0m predictions from model\n"
     ]
    },
    {
     "data": {
      "text/plain": [
       "'{\"output\": [[[-0.031330183148384094, -0.06338634341955185, -0.016074996441602707, -0.010348981246352196, -0.046500977128744125, 0.03723153844475746, 0.005915854126214981, 0.07174400240182877, 0.016664467751979828, 0.060907647013664246, 0.06655259430408478, 0.023705121129751205, 0.0005764692323282361, 0.05684323608875275, 0.024161657318472862, -0.00533629534766078, 0.04704771935939789, 0.019215712323784828, 0.07682554423809052, 0.005669617559760809, -0.07528220862150192, -0.017137235030531883, -0.07502710819244385, 0.07637348026037216, -0.054379601031541824, -0.0013890593545511365, -0.018301844596862793, -0.04672040790319443, -0.047241389751434326, 0.02706781215965748, 0.03233340010046959, 0.055370621383190155, 0.03370954468846321, -0.013706635683774948, 0.005527033936232328, -0.08226925879716873, 0.01419509295374155, 0.06827915459871292, 0.018320485949516296, -0.021478744223713875, 0.041496679186820984, -0.020274005830287933, -0.006010557524859905, 0.02448243275284767, -0.08840089291334152, -0.0256654042750597, -0.03832615166902542, -0.05610627308487892, 0.046812787652015686, 0.032031238079071045, 0.07727275788784027, -0.08250072598457336, 0.005450617987662554, 0.005793000105768442, -0.03869419917464256, 0.0002909306494984776, 0.06134960427880287, 0.07350336760282516, 0.05463423207402229, -0.08054965734481812, 0.05354289710521698, 0.003447831841185689, -0.0785728171467781, 0.05345219001173973, 0.08730373531579971, 0.001231119385920465, -0.008200918324291706, 0.014453515410423279, 0.06141883134841919, -0.04283349588513374, 0.02920800819993019, -0.046855274587869644, -0.027075883001089096, 0.0740266889333725, 0.06707657128572464, 0.018766090273857117, -0.038682546466588974, -0.023487549275159836, -0.04382677376270294, 0.0627523735165596, -0.01731267012655735, 0.04989194497466087, 0.010957980528473854, -0.08159638196229935, 0.023899002000689507, -0.06540824472904205, -0.025847991928458214, -0.05222587287425995, -0.048486385494470596, 0.043156981468200684, 0.06728990375995636, 0.023130573332309723, 0.05205420032143593, -0.05212564021348953, 0.006367790047079325, 0.07441359758377075, -0.0795416533946991, -0.02001795917749405, 0.024718133732676506, -0.04371218755841255, 0.02089691534638405, 0.011979945003986359, -0.03457764536142349, -0.006132300011813641, 0.04659564420580864, -0.04344385117292404, 0.06174729764461517, -0.005218201782554388, -0.047934964299201965, 0.05067220702767372, -0.009205029346048832, 0.04710583761334419, -0.056614797562360764, 0.04511883482336998, -0.05579575151205063, -0.009089075960218906, -0.06798787415027618, -0.01886197179555893, 0.058884043246507645, -0.08367834985256195, 0.019517384469509125, 0.06671608984470367, 0.07827500253915787, -0.03695891052484512, -0.019600417464971542, -0.06952506303787231, -0.03499816730618477, 0.011369210667908192, -0.04191366955637932, -0.06929595023393631, -0.05114427208900452, 0.04757271707057953, 0.013809421099722385, -0.035893745720386505, -0.04533398896455765, 0.04909994453191757, 0.007652154192328453, 0.044253893196582794, -0.03171328455209732, 0.057876914739608765, -0.01637735776603222, -0.03372560068964958, 0.0644775852560997, 0.06611259281635284, -0.037015244364738464, -0.05423258990049362, 0.04248342663049698, 0.008844238705933094, -0.020803630352020264, 0.016499601304531097, -0.025547238066792488, -0.038437116891145706, -0.032067250460386276, 0.08242538571357727, 0.04629473760724068, -0.05706200748682022, -0.038405194878578186, -0.07293297350406647, -0.07190611213445663, -0.010248933918774128, -0.07315361499786377, -0.061659760773181915, -0.02765096351504326, 0.048867423087358475, -0.015222039073705673, 0.07067492604255676, -0.02952404133975506, -0.005266036372631788, -0.00411289231851697, 0.07203853130340576, 0.012093514204025269, 0.05287892743945122, -0.012248169630765915, 0.02542322501540184, -0.054301608353853226, 0.03501955792307854, 0.024856742471456528, -0.019358817487955093, -0.02106393128633499, -0.05864177644252777, 0.0365971177816391, 0.017275260761380196, -0.03798952326178551, 0.06683705747127533, 0.08466865122318268, -0.06390753388404846, 0.03176082670688629, -0.02773377113044262, 0.010581550188362598, 0.014289459213614464, 0.018591416999697685, 0.06697511672973633, -8.135570533340797e-05, -0.06629001349210739, 0.00396365812048316, 0.02080395817756653, -0.0063473740592598915, 0.021438710391521454, 0.04149652644991875, -0.028641177341341972, -0.06658860296010971, 0.04130375757813454, -0.003844296094030142, 0.020536167547106743, -0.03125283122062683, 0.045037999749183655, -0.051790423691272736, 0.08364971727132797, -0.03800063952803612, 0.053368791937828064, -0.016496896743774414, 0.038055550307035446, -0.04724383354187012, -0.013493286445736885, -0.014117934741079807, 0.003195306984707713, 0.03638426959514618, -0.0006778377573937178, -0.0421210452914238, 0.04385000094771385, 0.009303811006247997, 0.011592378839850426, 0.025404850021004677, 0.027816958725452423, -0.07771264016628265, -0.036864023655653, 0.0033576868008822203, -0.0578950010240078, 0.05500846356153488, -0.03281790018081665, 0.05175198242068291, -0.07882102578878403, 0.035790733993053436, -0.0034756511449813843, 0.0030184390489012003, -0.014469866640865803, -0.009583667851984501, -0.025967570021748543, 0.0046393731608986855, -0.004874974489212036, 0.01931224763393402, -0.03588906675577164, 0.017798995599150658, -0.04859163612127304, 0.08719106763601303, -0.02151617221534252, 0.0059039699845016, 0.07925589382648468, 0.014131531119346619, 0.038771308958530426, 0.007654789835214615, -0.03604533150792122, 0.00437383446842432, 0.015160423703491688, 0.00562448613345623, -0.08528512716293335, -0.02613111212849617, -0.058158282190561295, -0.005544557236135006, 0.006199504714459181, -0.031198129057884216, 0.010851625353097916, 0.03742764890193939, 0.06748316437005997, -0.01572263054549694, 0.05103956535458565, 0.043473631143569946, 0.0429932177066803, -0.053309693932533264, 0.03091443143785, -0.08023348450660706, 0.05154663696885109, 0.04617471992969513, -0.002437247196212411, 0.02651979960501194, -0.05226387083530426, 0.06042409688234329, -0.04478614032268524, -0.01262760628014803, 0.011432714760303497, 0.017342867329716682, 0.03397129103541374, -0.005349427927285433, -0.0486748181283474, -0.006172748748213053, -0.041853342205286026, 0.0053648566827178, 0.08420374989509583, -0.027170618996024132, -0.03358965367078781, -0.0578816719353199, -0.04875055328011513, 0.0726495310664177, 0.03502766042947769, -0.02566519007086754, -0.06706526130437851, -0.0207644272595644, -0.06700704246759415, -0.08660740405321121, 0.03251113370060921, 0.003142010187730193, -0.02877213805913925, -0.021510861814022064, 0.027447886765003204, -0.06871646642684937, -0.07649340480566025, 0.023485517129302025, -0.06365587562322617, 0.018731098622083664, 0.04042151942849159, -0.011959227733314037, 0.017753582447767258, 0.013197426684200764, -0.009165935218334198, 0.060436274856328964, -0.014406451024115086, 0.034785330295562744, 0.03385714814066887, -0.03986155241727829, 0.008972647599875927, -0.006457790266722441, -0.025691131129860878, 0.06597081571817398, -0.013756905682384968, 0.04024309292435646, -0.061379846185445786, 0.05706486105918884, 0.05490966513752937, 0.008057709783315659, 0.022971007972955704, -0.01080258097499609, -0.028922738507390022, -0.010549401864409447, -0.04093077778816223, 0.07029084861278534, 0.016437748447060585, -0.038902707397937775, 0.06806709617376328, 0.01462871115654707, 0.06336338818073273, -0.03276393935084343, 0.01972515694797039, -0.02293352223932743, -0.021750446408987045, -0.018101854249835014, 0.053671251982450485, 0.03208281844854355, 0.035735223442316055, 0.03851852938532829, 0.01228740718215704, -0.05020959675312042, 0.012321753427386284, 0.07447058707475662, -0.036907125264406204, 0.032554902136325836, 0.0376807376742363, -0.08435206860303879, 0.003296049777418375, 0.04396742582321167, -0.012907750904560089, 0.04000893235206604, -0.014150022529065609, 0.017953624948859215, -0.02680850587785244, -0.018471600487828255, 0.041608765721321106, 0.020105941221117973, 0.04861859977245331, -0.013706918805837631, -0.05265587568283081, -0.0833578109741211, 0.03300900012254715, 0.014646248891949654, 0.03605816140770912, 0.024250240996479988, -0.02355591580271721, -0.035607971251010895, -0.001255422132089734, -0.06962309032678604, -0.05294698476791382, 0.08024067431688309, -0.05256514996290207, 0.04111393168568611, 0.044137392193078995, 0.02888524904847145, 0.007021070923656225, -0.0593215748667717, 0.00024898265837691724, 0.039713796228170395, 0.046366188675165176, 0.004386021289974451, -0.05880264192819595, -0.06346201151609421, 0.002124595455825329, 0.030953820794820786, -0.06521671265363693, -0.03437795862555504, -0.08330433815717697, -0.053039371967315674, -0.019852353259921074, 0.05120111629366875, 0.02008368819952011, 0.013754978775978088, 0.0328655019402504, -0.0013420546893030405, -0.022503014653921127, -0.029767191037535667, -0.02635234221816063, 0.017108380794525146, 0.01604567840695381, -0.002537995344027877, 0.0689256489276886, 0.05616958066821098, -0.019212404265999794, 0.04107998311519623, -0.06302692741155624, -0.04096689820289612, -0.001670209807343781, 0.016859019175171852, -0.048091910779476166, -0.03552378714084625, 0.040654443204402924, -0.06656268239021301, -0.06405597925186157, 0.009229498915374279, 0.08044889569282532, 0.0037155463360249996, -0.023230940103530884, -0.02085656113922596, 0.04045750945806503, 0.01608499512076378, -0.06146060302853584, -0.03134622797369957, 0.05905153602361679, -0.009260387159883976, 0.03801318258047104, 0.03004448302090168, 0.06723333895206451, -0.04148132726550102, -0.0692562535405159, -0.0013092769077047706, -0.050881437957286835, -0.024717291817069054, -0.019404079765081406, 0.059784043580293655, -0.05046435818076134, 0.06347361207008362, -0.055059053003787994, -0.04675474390387535, 0.03235206753015518, -0.04680732637643814, 0.01592983305454254, -0.02697250433266163, -0.08697662502527237, 0.006325982511043549, -0.05541209876537323, 0.04124559089541435, 0.04838025942444801, 0.026581544429063797, 0.036291562020778656, -0.021624520421028137, -0.0035482647363096476, -0.03274111822247505, -0.0023093270137906075, -0.03960143029689789, -0.01389663852751255, 0.029864737764000893, 0.02283358946442604, 0.07580499351024628, 0.05116503685712814, 0.01597355678677559, -0.003300838405266404, 0.08868572860956192, -0.04295743256807327, -0.06257003545761108, 0.07075933367013931, -0.011005166918039322, -0.008502762764692307, 0.07523509114980698, -0.053475912660360336, -0.07449723035097122, 0.04903283342719078, -0.058068107813596725, 0.05808483436703682, -0.05061332508921623, 0.01947685144841671, -0.0668443813920021, -0.03702550753951073, -0.03693912923336029, -0.034659285098314285, -0.0694742277264595, 0.004041218664497137, -0.008318519219756126, -0.01708226092159748, -0.04697662591934204, 0.040809039026498795, 0.004464625380933285, -0.04804883897304535, -0.07968294620513916, 0.07776656001806259, 0.01000385545194149, -0.03968571498990059, -0.019595839083194733, 0.05734303221106529, 0.05593224614858627, 0.01712670922279358, 0.07347219437360764, -0.07855235785245895, 0.06488888710737228, -0.03242780268192291, -0.04575740173459053, 0.053704556077718735]]], \"tfeager\": true}'"
      ]
     },
     "execution_count": 14,
     "metadata": {},
     "output_type": "execute_result"
    },
    {
     "name": "stdout",
     "output_type": "stream",
     "text": [
      "\u001b[36malgo-1-s8hwq_1  |\u001b[0m ['{\"output\": [[[-0.031330183148384094, -0.06338634341955185, -0.016074996441602707, -0.010348981246352196, -0.046500977128744125, 0.03723153844475746, 0.005915854126214981, 0.07174400240182877, 0.016664467751979828, 0.060907647013664246, 0.06655259430408478, 0.023705121129751205, 0.0005764692323282361, 0.05684323608875275, 0.024161657318472862, -0.00533629534766078, 0.04704771935939789, 0.019215712323784828, 0.07682554423809052, 0.005669617559760809, -0.07528220862150192, -0.017137235030531883, -0.07502710819244385, 0.07637348026037216, -0.054379601031541824, -0.0013890593545511365, -0.018301844596862793, -0.04672040790319443, -0.047241389751434326, 0.02706781215965748, 0.03233340010046959, 0.055370621383190155, 0.03370954468846321, -0.013706635683774948, 0.005527033936232328, -0.08226925879716873, 0.01419509295374155, 0.06827915459871292, 0.018320485949516296, -0.021478744223713875, 0.041496679186820984, -0.020274005830287933, -0.006010557524859905, 0.02448243275284767, -0.08840089291334152, -0.0256654042750597, -0.03832615166902542, -0.05610627308487892, 0.046812787652015686, 0.032031238079071045, 0.07727275788784027, -0.08250072598457336, 0.005450617987662554, 0.005793000105768442, -0.03869419917464256, 0.0002909306494984776, 0.06134960427880287, 0.07350336760282516, 0.05463423207402229, -0.08054965734481812, 0.05354289710521698, 0.003447831841185689, -0.0785728171467781, 0.05345219001173973, 0.08730373531579971, 0.001231119385920465, -0.008200918324291706, 0.014453515410423279, 0.06141883134841919, -0.04283349588513374, 0.02920800819993019, -0.046855274587869644, -0.027075883001089096, 0.0740266889333725, 0.06707657128572464, 0.018766090273857117, -0.038682546466588974, -0.023487549275159836, -0.04382677376270294, 0.0627523735165596, -0.01731267012655735, 0.04989194497466087, 0.010957980528473854, -0.08159638196229935, 0.023899002000689507, -0.06540824472904205, -0.025847991928458214, -0.05222587287425995, -0.048486385494470596, 0.043156981468200684, 0.06728990375995636, 0.023130573332309723, 0.05205420032143593, -0.05212564021348953, 0.006367790047079325, 0.07441359758377075, -0.0795416533946991, -0.02001795917749405, 0.024718133732676506, -0.04371218755841255, 0.02089691534638405, 0.011979945003986359, -0.03457764536142349, -0.006132300011813641, 0.04659564420580864, -0.04344385117292404, 0.06174729764461517, -0.005218201782554388, -0.047934964299201965, 0.05067220702767372, -0.009205029346048832, 0.04710583761334419, -0.056614797562360764, 0.04511883482336998, -0.05579575151205063, -0.009089075960218906, -0.06798787415027618, -0.01886197179555893, 0.058884043246507645, -0.08367834985256195, 0.019517384469509125, 0.06671608984470367, 0.07827500253915787, -0.03695891052484512, -0.019600417464971542, -0.06952506303787231, -0.03499816730618477, 0.011369210667908192, -0.04191366955637932, -0.06929595023393631, -0.05114427208900452, 0.04757271707057953, 0.013809421099722385, -0.035893745720386505, -0.04533398896455765, 0.04909994453191757, 0.007652154192328453, 0.044253893196582794, -0.03171328455209732, 0.057876914739608765, -0.01637735776603222, -0.03372560068964958, 0.0644775852560997, 0.06611259281635284, -0.037015244364738464, -0.05423258990049362, 0.04248342663049698, 0.008844238705933094, -0.020803630352020264, 0.016499601304531097, -0.025547238066792488, -0.038437116891145706, -0.032067250460386276, 0.08242538571357727, 0.04629473760724068, -0.05706200748682022, -0.038405194878578186, -0.07293297350406647, -0.07190611213445663, -0.010248933918774128, -0.07315361499786377, -0.061659760773181915, -0.02765096351504326, 0.048867423087358475, -0.015222039073705673, 0.07067492604255676, -0.02952404133975506, -0.005266036372631788, -0.00411289231851697, 0.07203853130340576, 0.012093514204025269, 0.05287892743945122, -0.012248169630765915, 0.02542322501540184, -0.054301608353853226, 0.03501955792307854, 0.024856742471456528, -0.019358817487955093, -0.02106393128633499, -0.05864177644252777, 0.0365971177816391, 0.017275260761380196, -0.03798952326178551, 0.06683705747127533, 0.08466865122318268, -0.06390753388404846, 0.03176082670688629, -0.02773377113044262, 0.010581550188362598, 0.014289459213614464, 0.018591416999697685, 0.06697511672973633, -8.135570533340797e-05, -0.06629001349210739, 0.00396365812048316, 0.02080395817756653, -0.0063473740592598915, 0.021438710391521454, 0.04149652644991875, -0.028641177341341972, -0.06658860296010971, 0.04130375757813454, -0.003844296094030142, 0.020536167547106743, -0.03125283122062683, 0.045037999749183655, -0.051790423691272736, 0.08364971727132797, -0.03800063952803612, 0.053368791937828064, -0.016496896743774414, 0.038055550307035446, -0.04724383354187012, -0.013493286445736885, -0.014117934741079807, 0.003195306984707713, 0.03638426959514618, -0.0006778377573937178, -0.0421210452914238, 0.04385000094771385, 0.009303811006247997, 0.011592378839850426, 0.025404850021004677, 0.027816958725452423, -0.07771264016628265, -0.036864023655653, 0.0033576868008822203, -0.0578950010240078, 0.05500846356153488, -0.03281790018081665, 0.05175198242068291, -0.07882102578878403, 0.035790733993053436, -0.0034756511449813843, 0.0030184390489012003, -0.014469866640865803, -0.009583667851984501, -0.025967570021748543, 0.0046393731608986855, -0.004874974489212036, 0.01931224763393402, -0.03588906675577164, 0.017798995599150658, -0.04859163612127304, 0.08719106763601303, -0.02151617221534252, 0.0059039699845016, 0.07925589382648468, 0.014131531119346619, 0.038771308958530426, 0.007654789835214615, -0.03604533150792122, 0.00437383446842432, 0.015160423703491688, 0.00562448613345623, -0.08528512716293335, -0.02613111212849617, -0.058158282190561295, -0.005544557236135006, 0.006199504714459181, -0.031198129057884216, 0.010851625353097916, 0.03742764890193939, 0.06748316437005997, -0.01572263054549694, 0.05103956535458565, 0.043473631143569946, 0.0429932177066803, -0.053309693932533264, 0.03091443143785, -0.08023348450660706, 0.05154663696885109, 0.04617471992969513, -0.002437247196212411, 0.02651979960501194, -0.05226387083530426, 0.06042409688234329, -0.04478614032268524, -0.01262760628014803, 0.011432714760303497, 0.017342867329716682, 0.03397129103541374, -0.005349427927285433, -0.0486748181283474, -0.006172748748213053, -0.041853342205286026, 0.0053648566827178, 0.08420374989509583, -0.027170618996024132, -0.03358965367078781, -0.0578816719353199, -0.04875055328011513, 0.0726495310664177, 0.03502766042947769, -0.02566519007086754, -0.06706526130437851, -0.0207644272595644, -0.06700704246759415, -0.08660740405321121, 0.03251113370060921, 0.003142010187730193, -0.02877213805913925, -0.021510861814022064, 0.027447886765003204, -0.06871646642684937, -0.07649340480566025, 0.023485517129302025, -0.06365587562322617, 0.018731098622083664, 0.04042151942849159, -0.011959227733314037, 0.017753582447767258, 0.013197426684200764, -0.009165935218334198, 0.060436274856328964, -0.014406451024115086, 0.034785330295562744, 0.03385714814066887, -0.03986155241727829, 0.008972647599875927, -0.006457790266722441, -0.025691131129860878, 0.06597081571817398, -0.013756905682384968, 0.04024309292435646, -0.061379846185445786, 0.05706486105918884, 0.05490966513752937, 0.008057709783315659, 0.022971007972955704, -0.01080258097499609, -0.028922738507390022, -0.010549401864409447, -0.04093077778816223, 0.07029084861278534, 0.016437748447060585, -0.038902707397937775, 0.06806709617376328, 0.01462871115654707, 0.06336338818073273, -0.03276393935084343, 0.01972515694797039, -0.02293352223932743, -0.021750446408987045, -0.018101854249835014, 0.053671251982450485, 0.03208281844854355, 0.035735223442316055, 0.03851852938532829, 0.01228740718215704, -0.05020959675312042, 0.012321753427386284, 0.07447058707475662, -0.036907125264406204, 0.032554902136325836, 0.0376807376742363, -0.08435206860303879, 0.003296049777418375, 0.04396742582321167, -0.012907750904560089, 0.04000893235206604, -0.014150022529065609, 0.017953624948859215, -0.02680850587785244, -0.018471600487828255, 0.041608765721321106, 0.020105941221117973, 0.04861859977245331, -0.013706918805837631, -0.05265587568283081, -0.0833578109741211, 0.03300900012254715, 0.014646248891949654, 0.03605816140770912, 0.024250240996479988, -0.02355591580271721, -0.035607971251010895, -0.001255422132089734, -0.06962309032678604, -0.05294698476791382, 0.08024067431688309, -0.05256514996290207, 0.04111393168568611, 0.044137392193078995, 0.02888524904847145, 0.007021070923656225, -0.0593215748667717, 0.00024898265837691724, 0.039713796228170395, 0.046366188675165176, 0.004386021289974451, -0.05880264192819595, -0.06346201151609421, 0.002124595455825329, 0.030953820794820786, -0.06521671265363693, -0.03437795862555504, -0.08330433815717697, -0.053039371967315674, -0.019852353259921074, 0.05120111629366875, 0.02008368819952011, 0.013754978775978088, 0.0328655019402504, -0.0013420546893030405, -0.022503014653921127, -0.029767191037535667, -0.02635234221816063, 0.017108380794525146, 0.01604567840695381, -0.002537995344027877, 0.0689256489276886, 0.05616958066821098, -0.019212404265999794, 0.04107998311519623, -0.06302692741155624, -0.04096689820289612, -0.001670209807343781, 0.016859019175171852, -0.048091910779476166, -0.03552378714084625, 0.040654443204402924, -0.06656268239021301, -0.06405597925186157, 0.009229498915374279, 0.08044889569282532, 0.0037155463360249996, -0.023230940103530884, -0.02085656113922596, 0.04045750945806503, 0.01608499512076378, -0.06146060302853584, -0.03134622797369957, 0.05905153602361679, -0.009260387159883976, 0.03801318258047104, 0.03004448302090168, 0.06723333895206451, -0.04148132726550102, -0.0692562535405159, -0.0013092769077047706, -0.050881437957286835, -0.024717291817069054, -0.019404079765081406, 0.059784043580293655, -0.05046435818076134, 0.06347361207008362, -0.055059053003787994, -0.04675474390387535, 0.03235206753015518, -0.04680732637643814, 0.01592983305454254, -0.02697250433266163, -0.08697662502527237, 0.006325982511043549, -0.05541209876537323, 0.04124559089541435, 0.04838025942444801, 0.026581544429063797, 0.036291562020778656, -0.021624520421028137, -0.0035482647363096476, -0.03274111822247505, -0.0023093270137906075, -0.03960143029689789, -0.01389663852751255, 0.029864737764000893, 0.02283358946442604, 0.07580499351024628, 0.05116503685712814, 0.01597355678677559, -0.003300838405266404, 0.08868572860956192, -0.04295743256807327, -0.06257003545761108, 0.07075933367013931, -0.011005166918039322, -0.008502762764692307, 0.07523509114980698, -0.053475912660360336, -0.07449723035097122, 0.04903283342719078, -0.058068107813596725, 0.05808483436703682, -0.05061332508921623, 0.01947685144841671, -0.0668443813920021, -0.03702550753951073, -0.03693912923336029, -0.034659285098314285, -0.0694742277264595, 0.004041218664497137, -0.008318519219756126, -0.01708226092159748, -0.04697662591934204, 0.040809039026498795, 0.004464625380933285, -0.04804883897304535, -0.07968294620513916, 0.07776656001806259, 0.01000385545194149, -0.03968571498990059, -0.019595839083194733, 0.05734303221106529, 0.05593224614858627, 0.01712670922279358, 0.07347219437360764, -0.07855235785245895, 0.06488888710737228, -0.03242780268192291, -0.04575740173459053, 0.053704556077718735]]], \"tfeager\": true}']\r\n",
      "\u001b[36malgo-1-s8hwq_1  |\u001b[0m 172.27.0.1 - - [22/Apr/2020:18:47:53 +0000] \"POST /invocations HTTP/1.1\" 200 11252 \"-\" \"-\"\r\n"
     ]
    }
   ],
   "source": [
    "out = ez.predictor.predict(inputs.encode()).decode()\n",
    "out"
   ]
  },
  {
   "cell_type": "code",
   "execution_count": 15,
   "metadata": {},
   "outputs": [
    {
     "name": "stdout",
     "output_type": "stream",
     "text": [
      "\u001b[36malgo-1-s8hwq_1  |\u001b[0m [2020-04-22 18:47:53 +0000] [9] [INFO] Handling signal: term\n",
      "\u001b[36mtmpvmq3uhki_algo-1-s8hwq_1 exited with code 0\n",
      "\u001b[0mAborting on container exit...\n"
     ]
    }
   ],
   "source": [
    "!docker container stop $(docker container ls -aq) >/dev/null"
   ]
  },
  {
   "cell_type": "markdown",
   "metadata": {},
   "source": [
    "## Deploy on SageMaker"
   ]
  },
  {
   "cell_type": "code",
   "execution_count": null,
   "metadata": {},
   "outputs": [
    {
     "name": "stdout",
     "output_type": "stream",
     "text": [
      "\u001b[K0:00:00.002851 | No model was passed. Assuming you are downloading a model in the script or in the container\n",
      "\u001b[K0:00:00.071766 | uploaded model tarball(s) ; check returned modelpath\n",
      "\u001b[K0:00:00.072584 | added requirements file\n",
      "\u001b[K0:00:00.074614 | added source file\n",
      "\u001b[K0:00:00.076087 | added Dockerfile\n",
      "\u001b[K0:00:00.078070 | added model_handler and docker utils\n",
      "\u001b[K0:00:00.078161 | building docker container\n",
      "\u001b[K0:01:20.686132 | built docker container\n",
      "\u001b[K0:01:20.777380 | created model(s). Now deploying on ml.p3.2xlarge\n",
      "\u001b[K0:08:53.235130 | deployed model\n",
      "\u001b[K0:08:53.235713 | estimated cost is $4.627 per hour\n",
      "\u001b[K0:08:53.236426 | model monitor data capture location is s3://sagemaker-us-east-1-497456752804/ezsmdeploy/model-uh3akneoq5mjwvq82bxhgk/datacapture\n",
      "\u001b[K\u001b[32m0:08:53.236583 | Done! ✔\u001b[0m \n"
     ]
    }
   ],
   "source": [
    "ezonsm = ezsmdeploy.Deploy(model = None, #Since we are loading a model from TF hub,\n",
    "                  script = 'modelscript_tensorflow.py',\n",
    "                  requirements = ['numpy','tensorflow-gpu==2.0.0','tensorflow_hub'],\n",
    "                  wait = True,\n",
    "                  instance_type = 'ml.p3.2xlarge',\n",
    "                  monitor = True) # turn on model monitoring "
   ]
  },
  {
   "cell_type": "code",
   "execution_count": null,
   "metadata": {},
   "outputs": [
    {
     "data": {
      "text/plain": [
       "'{\"output\": [[[-0.031330183148384094, -0.06338634341955185, -0.016074996441602707, -0.010348981246352196, -0.046500977128744125, 0.03723153844475746, 0.005915854126214981, 0.07174400240182877, 0.016664467751979828, 0.060907647013664246, 0.06655259430408478, 0.023705121129751205, 0.0005764692323282361, 0.05684323608875275, 0.024161657318472862, -0.00533629534766078, 0.04704771935939789, 0.019215712323784828, 0.07682554423809052, 0.005669617559760809, -0.07528220862150192, -0.017137235030531883, -0.07502710819244385, 0.07637348026037216, -0.054379601031541824, -0.0013890593545511365, -0.018301844596862793, -0.04672040790319443, -0.047241389751434326, 0.02706781215965748, 0.03233340010046959, 0.055370621383190155, 0.03370954468846321, -0.013706635683774948, 0.005527033936232328, -0.08226925879716873, 0.01419509295374155, 0.06827915459871292, 0.018320485949516296, -0.021478744223713875, 0.041496679186820984, -0.020274005830287933, -0.006010557524859905, 0.02448243275284767, -0.08840089291334152, -0.0256654042750597, -0.03832615166902542, -0.05610627308487892, 0.046812787652015686, 0.032031238079071045, 0.07727275788784027, -0.08250072598457336, 0.005450617987662554, 0.005793000105768442, -0.03869419917464256, 0.0002909306494984776, 0.06134960427880287, 0.07350336760282516, 0.05463423207402229, -0.08054965734481812, 0.05354289710521698, 0.003447831841185689, -0.0785728171467781, 0.05345219001173973, 0.08730373531579971, 0.001231119385920465, -0.008200918324291706, 0.014453515410423279, 0.06141883134841919, -0.04283349588513374, 0.02920800819993019, -0.046855274587869644, -0.027075883001089096, 0.0740266889333725, 0.06707657128572464, 0.018766090273857117, -0.038682546466588974, -0.023487549275159836, -0.04382677376270294, 0.0627523735165596, -0.01731267012655735, 0.04989194497466087, 0.010957980528473854, -0.08159638196229935, 0.023899002000689507, -0.06540824472904205, -0.025847991928458214, -0.05222587287425995, -0.048486385494470596, 0.043156981468200684, 0.06728990375995636, 0.023130573332309723, 0.05205420032143593, -0.05212564021348953, 0.006367790047079325, 0.07441359758377075, -0.0795416533946991, -0.02001795917749405, 0.024718133732676506, -0.04371218755841255, 0.02089691534638405, 0.011979945003986359, -0.03457764536142349, -0.006132300011813641, 0.04659564420580864, -0.04344385117292404, 0.06174729764461517, -0.005218201782554388, -0.047934964299201965, 0.05067220702767372, -0.009205029346048832, 0.04710583761334419, -0.056614797562360764, 0.04511883482336998, -0.05579575151205063, -0.009089075960218906, -0.06798787415027618, -0.01886197179555893, 0.058884043246507645, -0.08367834985256195, 0.019517384469509125, 0.06671608984470367, 0.07827500253915787, -0.03695891052484512, -0.019600417464971542, -0.06952506303787231, -0.03499816730618477, 0.011369210667908192, -0.04191366955637932, -0.06929595023393631, -0.05114427208900452, 0.04757271707057953, 0.013809421099722385, -0.035893745720386505, -0.04533398896455765, 0.04909994453191757, 0.007652154192328453, 0.044253893196582794, -0.03171328455209732, 0.057876914739608765, -0.01637735776603222, -0.03372560068964958, 0.0644775852560997, 0.06611259281635284, -0.037015244364738464, -0.05423258990049362, 0.04248342663049698, 0.008844238705933094, -0.020803630352020264, 0.016499601304531097, -0.025547238066792488, -0.038437116891145706, -0.032067250460386276, 0.08242538571357727, 0.04629473760724068, -0.05706200748682022, -0.038405194878578186, -0.07293297350406647, -0.07190611213445663, -0.010248933918774128, -0.07315361499786377, -0.061659760773181915, -0.02765096351504326, 0.048867423087358475, -0.015222039073705673, 0.07067492604255676, -0.02952404133975506, -0.005266036372631788, -0.00411289231851697, 0.07203853130340576, 0.012093514204025269, 0.05287892743945122, -0.012248169630765915, 0.02542322501540184, -0.054301608353853226, 0.03501955792307854, 0.024856742471456528, -0.019358817487955093, -0.02106393128633499, -0.05864177644252777, 0.0365971177816391, 0.017275260761380196, -0.03798952326178551, 0.06683705747127533, 0.08466865122318268, -0.06390753388404846, 0.03176082670688629, -0.02773377113044262, 0.010581550188362598, 0.014289459213614464, 0.018591416999697685, 0.06697511672973633, -8.135570533340797e-05, -0.06629001349210739, 0.00396365812048316, 0.02080395817756653, -0.0063473740592598915, 0.021438710391521454, 0.04149652644991875, -0.028641177341341972, -0.06658860296010971, 0.04130375757813454, -0.003844296094030142, 0.020536167547106743, -0.03125283122062683, 0.045037999749183655, -0.051790423691272736, 0.08364971727132797, -0.03800063952803612, 0.053368791937828064, -0.016496896743774414, 0.038055550307035446, -0.04724383354187012, -0.013493286445736885, -0.014117934741079807, 0.003195306984707713, 0.03638426959514618, -0.0006778377573937178, -0.0421210452914238, 0.04385000094771385, 0.009303811006247997, 0.011592378839850426, 0.025404850021004677, 0.027816958725452423, -0.07771264016628265, -0.036864023655653, 0.0033576868008822203, -0.0578950010240078, 0.05500846356153488, -0.03281790018081665, 0.05175198242068291, -0.07882102578878403, 0.035790733993053436, -0.0034756511449813843, 0.0030184390489012003, -0.014469866640865803, -0.009583667851984501, -0.025967570021748543, 0.0046393731608986855, -0.004874974489212036, 0.01931224763393402, -0.03588906675577164, 0.017798995599150658, -0.04859163612127304, 0.08719106763601303, -0.02151617221534252, 0.0059039699845016, 0.07925589382648468, 0.014131531119346619, 0.038771308958530426, 0.007654789835214615, -0.03604533150792122, 0.00437383446842432, 0.015160423703491688, 0.00562448613345623, -0.08528512716293335, -0.02613111212849617, -0.058158282190561295, -0.005544557236135006, 0.006199504714459181, -0.031198129057884216, 0.010851625353097916, 0.03742764890193939, 0.06748316437005997, -0.01572263054549694, 0.05103956535458565, 0.043473631143569946, 0.0429932177066803, -0.053309693932533264, 0.03091443143785, -0.08023348450660706, 0.05154663696885109, 0.04617471992969513, -0.002437247196212411, 0.02651979960501194, -0.05226387083530426, 0.06042409688234329, -0.04478614032268524, -0.01262760628014803, 0.011432714760303497, 0.017342867329716682, 0.03397129103541374, -0.005349427927285433, -0.0486748181283474, -0.006172748748213053, -0.041853342205286026, 0.0053648566827178, 0.08420374989509583, -0.027170618996024132, -0.03358965367078781, -0.0578816719353199, -0.04875055328011513, 0.0726495310664177, 0.03502766042947769, -0.02566519007086754, -0.06706526130437851, -0.0207644272595644, -0.06700704246759415, -0.08660740405321121, 0.03251113370060921, 0.003142010187730193, -0.02877213805913925, -0.021510861814022064, 0.027447886765003204, -0.06871646642684937, -0.07649340480566025, 0.023485517129302025, -0.06365587562322617, 0.018731098622083664, 0.04042151942849159, -0.011959227733314037, 0.017753582447767258, 0.013197426684200764, -0.009165935218334198, 0.060436274856328964, -0.014406451024115086, 0.034785330295562744, 0.03385714814066887, -0.03986155241727829, 0.008972647599875927, -0.006457790266722441, -0.025691131129860878, 0.06597081571817398, -0.013756905682384968, 0.04024309292435646, -0.061379846185445786, 0.05706486105918884, 0.05490966513752937, 0.008057709783315659, 0.022971007972955704, -0.01080258097499609, -0.028922738507390022, -0.010549401864409447, -0.04093077778816223, 0.07029084861278534, 0.016437748447060585, -0.038902707397937775, 0.06806709617376328, 0.01462871115654707, 0.06336338818073273, -0.03276393935084343, 0.01972515694797039, -0.02293352223932743, -0.021750446408987045, -0.018101854249835014, 0.053671251982450485, 0.03208281844854355, 0.035735223442316055, 0.03851852938532829, 0.01228740718215704, -0.05020959675312042, 0.012321753427386284, 0.07447058707475662, -0.036907125264406204, 0.032554902136325836, 0.0376807376742363, -0.08435206860303879, 0.003296049777418375, 0.04396742582321167, -0.012907750904560089, 0.04000893235206604, -0.014150022529065609, 0.017953624948859215, -0.02680850587785244, -0.018471600487828255, 0.041608765721321106, 0.020105941221117973, 0.04861859977245331, -0.013706918805837631, -0.05265587568283081, -0.0833578109741211, 0.03300900012254715, 0.014646248891949654, 0.03605816140770912, 0.024250240996479988, -0.02355591580271721, -0.035607971251010895, -0.001255422132089734, -0.06962309032678604, -0.05294698476791382, 0.08024067431688309, -0.05256514996290207, 0.04111393168568611, 0.044137392193078995, 0.02888524904847145, 0.007021070923656225, -0.0593215748667717, 0.00024898265837691724, 0.039713796228170395, 0.046366188675165176, 0.004386021289974451, -0.05880264192819595, -0.06346201151609421, 0.002124595455825329, 0.030953820794820786, -0.06521671265363693, -0.03437795862555504, -0.08330433815717697, -0.053039371967315674, -0.019852353259921074, 0.05120111629366875, 0.02008368819952011, 0.013754978775978088, 0.0328655019402504, -0.0013420546893030405, -0.022503014653921127, -0.029767191037535667, -0.02635234221816063, 0.017108380794525146, 0.01604567840695381, -0.002537995344027877, 0.0689256489276886, 0.05616958066821098, -0.019212404265999794, 0.04107998311519623, -0.06302692741155624, -0.04096689820289612, -0.001670209807343781, 0.016859019175171852, -0.048091910779476166, -0.03552378714084625, 0.040654443204402924, -0.06656268239021301, -0.06405597925186157, 0.009229498915374279, 0.08044889569282532, 0.0037155463360249996, -0.023230940103530884, -0.02085656113922596, 0.04045750945806503, 0.01608499512076378, -0.06146060302853584, -0.03134622797369957, 0.05905153602361679, -0.009260387159883976, 0.03801318258047104, 0.03004448302090168, 0.06723333895206451, -0.04148132726550102, -0.0692562535405159, -0.0013092769077047706, -0.050881437957286835, -0.024717291817069054, -0.019404079765081406, 0.059784043580293655, -0.05046435818076134, 0.06347361207008362, -0.055059053003787994, -0.04675474390387535, 0.03235206753015518, -0.04680732637643814, 0.01592983305454254, -0.02697250433266163, -0.08697662502527237, 0.006325982511043549, -0.05541209876537323, 0.04124559089541435, 0.04838025942444801, 0.026581544429063797, 0.036291562020778656, -0.021624520421028137, -0.0035482647363096476, -0.03274111822247505, -0.0023093270137906075, -0.03960143029689789, -0.01389663852751255, 0.029864737764000893, 0.02283358946442604, 0.07580499351024628, 0.05116503685712814, 0.01597355678677559, -0.003300838405266404, 0.08868572860956192, -0.04295743256807327, -0.06257003545761108, 0.07075933367013931, -0.011005166918039322, -0.008502762764692307, 0.07523509114980698, -0.053475912660360336, -0.07449723035097122, 0.04903283342719078, -0.058068107813596725, 0.05808483436703682, -0.05061332508921623, 0.01947685144841671, -0.0668443813920021, -0.03702550753951073, -0.03693912923336029, -0.034659285098314285, -0.0694742277264595, 0.004041218664497137, -0.008318519219756126, -0.01708226092159748, -0.04697662591934204, 0.040809039026498795, 0.004464625380933285, -0.04804883897304535, -0.07968294620513916, 0.07776656001806259, 0.01000385545194149, -0.03968571498990059, -0.019595839083194733, 0.05734303221106529, 0.05593224614858627, 0.01712670922279358, 0.07347219437360764, -0.07855235785245895, 0.06488888710737228, -0.03242780268192291, -0.04575740173459053, 0.053704556077718735]]], \"tfeager\": true}'"
      ]
     },
     "execution_count": 17,
     "metadata": {},
     "output_type": "execute_result"
    }
   ],
   "source": [
    "out = ezonsm.predictor.predict(inputs).decode()\n",
    "out"
   ]
  },
  {
   "cell_type": "code",
   "execution_count": 19,
   "metadata": {},
   "outputs": [],
   "source": [
    "ezonsm.predictor.delete_endpoint()"
   ]
  },
  {
   "cell_type": "code",
   "execution_count": null,
   "metadata": {},
   "outputs": [],
   "source": []
  }
 ],
 "metadata": {
  "kernelspec": {
   "display_name": "conda_python3",
   "language": "python",
   "name": "conda_python3"
  },
  "language_info": {
   "codemirror_mode": {
    "name": "ipython",
    "version": 3
   },
   "file_extension": ".py",
   "mimetype": "text/x-python",
   "name": "python",
   "nbconvert_exporter": "python",
   "pygments_lexer": "ipython3",
   "version": "3.6.5"
  }
 },
 "nbformat": 4,
 "nbformat_minor": 4
}
