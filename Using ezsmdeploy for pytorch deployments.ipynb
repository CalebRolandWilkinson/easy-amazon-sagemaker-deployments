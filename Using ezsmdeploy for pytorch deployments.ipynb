{
 "cells": [
  {
   "cell_type": "markdown",
   "metadata": {},
   "source": [
    "# Serve a Pytorch model trained on SageMaker"
   ]
  },
  {
   "cell_type": "markdown",
   "metadata": {},
   "source": [
    "The model for this example was trained using this sample notebook on sagemaker - https://github.com/awslabs/amazon-sagemaker-examples/blob/master/sagemaker-python-sdk/pytorch_mnist/pytorch_mnist.ipynb\n",
    "\n",
    "It is certainly easiler to do estimator.deploy() using the standard Sagemaker SDK if you are following that example, but cinsider this one if you have a pytorch model (or two) on S3 and you are looking for an easy way to test and deploy this model."
   ]
  },
  {
   "cell_type": "code",
   "execution_count": 1,
   "metadata": {},
   "outputs": [
    {
     "name": "stdout",
     "output_type": "stream",
     "text": [
      "Requirement already satisfied: torch in /home/ec2-user/anaconda3/envs/python3/lib/python3.6/site-packages (1.4.0)\r\n"
     ]
    }
   ],
   "source": [
    "!pip install torch"
   ]
  },
  {
   "cell_type": "markdown",
   "metadata": {},
   "source": [
    "## Step 1 : Write a model transform script\n",
    "\n",
    "#### Make sure you have a ...\n",
    "\n",
    "- \"load_model\" function\n",
    "    - input args are model path\n",
    "    - returns loaded model object\n",
    "    - model name is the same as what you saved the model file as (see above step)\n",
    "<br><br>\n",
    "- \"predict\" function\n",
    "    - input args are the loaded model object and a payload\n",
    "    - returns the result of model.predict\n",
    "    - make sure you format it as a single (or multiple) string return inside a list for real time (for mini batch)\n",
    "    - from a client, a list  or string or np.array that is sent for prediction is interpreted as bytes. Do what you have to for converting back to list or string or np.array\n",
    "    - return the error for debugging\n"
   ]
  },
  {
   "cell_type": "code",
   "execution_count": 2,
   "metadata": {},
   "outputs": [
    {
     "name": "stdout",
     "output_type": "stream",
     "text": [
      "Writing modelscript_pytorch.py\n"
     ]
    }
   ],
   "source": [
    "%%writefile modelscript_pytorch.py\n",
    "import torch\n",
    "import torch.distributed as dist\n",
    "import torch.nn as nn\n",
    "import torch.nn.functional as F\n",
    "import torch.optim as optim\n",
    "import torch.utils.data\n",
    "import torch.utils.data.distributed\n",
    "from joblib import load\n",
    "import numpy as np\n",
    "import os\n",
    "import json\n",
    "from six import BytesIO\n",
    "\n",
    "class Net(nn.Module):\n",
    "    def __init__(self):\n",
    "        super(Net, self).__init__()\n",
    "        self.conv1 = nn.Conv2d(1, 10, kernel_size=5)\n",
    "        self.conv2 = nn.Conv2d(10, 20, kernel_size=5)\n",
    "        self.conv2_drop = nn.Dropout2d()\n",
    "        self.fc1 = nn.Linear(320, 50)\n",
    "        self.fc2 = nn.Linear(50, 10)\n",
    "\n",
    "    def forward(self, x):\n",
    "        x = F.relu(F.max_pool2d(self.conv1(x), 2))\n",
    "        x = F.relu(F.max_pool2d(self.conv2_drop(self.conv2(x)), 2))\n",
    "        x = x.view(-1, 320)\n",
    "        x = F.relu(self.fc1(x))\n",
    "        x = F.dropout(x, training=self.training)\n",
    "        x = self.fc2(x)\n",
    "        return F.log_softmax(x, dim=1)\n",
    "    \n",
    "device = torch.device(\"cuda\" if torch.cuda.is_available() else \"cpu\")\n",
    "\n",
    "#Return loaded model\n",
    "def load_model(modelpath):\n",
    "    model = torch.nn.DataParallel(Net())\n",
    "    with open(os.path.join(modelpath, 'model.pth'), 'rb') as f:\n",
    "        model.load_state_dict(torch.load(f))\n",
    "    print(\"loaded\")\n",
    "    return model.to(device)\n",
    "\n",
    "# return prediction based on loaded model (from the step above) and an input payload\n",
    "def predict(model, payload):\n",
    "    \n",
    "    if type(payload) == list:\n",
    "        data = np.frombuffer(payload[0]['body'],dtype=np.float32).reshape(1,1,28,28)\n",
    "    elif type(payload) == np.ndarray:\n",
    "        data = payload  \n",
    "    try:\n",
    "        print(type(data))\n",
    "        input_data = torch.Tensor(data)\n",
    "        model.eval()\n",
    "        with torch.no_grad():\n",
    "            out =  model(input_data.to(device)).argmax(axis=1)[0].tolist()\n",
    "    except Exception as e:\n",
    "        out = str(e)\n",
    "    return [out]"
   ]
  },
  {
   "cell_type": "markdown",
   "metadata": {},
   "source": [
    "### Download model locally"
   ]
  },
  {
   "cell_type": "code",
   "execution_count": 3,
   "metadata": {},
   "outputs": [
    {
     "name": "stdout",
     "output_type": "stream",
     "text": [
      "download: s3://ezsmdeploy/pytorchmnist/input.html to ./input.html \n",
      "download: s3://ezsmdeploy/pytorchmnist/model.tar.gz to ./model.tar.gz\n",
      "model.pth\n",
      "model.pth\n"
     ]
    }
   ],
   "source": [
    "!aws s3 cp s3://ezsmdeploy/pytorchmnist/input.html ./\n",
    "!aws s3 cp s3://ezsmdeploy/pytorchmnist/model.tar.gz ./\n",
    "!tar xvf model.tar.gz"
   ]
  },
  {
   "cell_type": "markdown",
   "metadata": {},
   "source": [
    "### Input data for prediction\n",
    "\n",
    "Draw a number from 0 - 9 in the box that appears when you run the next cell"
   ]
  },
  {
   "cell_type": "code",
   "execution_count": 4,
   "metadata": {},
   "outputs": [
    {
     "data": {
      "text/html": [
       "<script type=\"text/Javascript\">\n",
       "    var pixels = [];\n",
       "    for (var i = 0; i < 28*28; i++) pixels[i] = 0;\n",
       "    var click = 0;\n",
       "    var canvas = document.querySelector(\"canvas\");\n",
       "    canvas.addEventListener(\"mousemove\", function(e){\n",
       "        if (e.buttons == 1) {\n",
       "            click = 1;\n",
       "            canvas.getContext(\"2d\").fillStyle = \"rgb(0,0,0)\";\n",
       "            canvas.getContext(\"2d\").fillRect(e.offsetX, e.offsetY, 8, 8);\n",
       "            x = Math.floor(e.offsetY * 0.2);\n",
       "            y = Math.floor(e.offsetX * 0.2) + 1;\n",
       "            for (var dy = 0; dy < 2; dy++){\n",
       "                for (var dx = 0; dx < 2; dx++){\n",
       "                    if ((x + dx < 28) && (y + dy < 28)){\n",
       "                        pixels[(y+dy)+(x+dx)*28] = 1;\n",
       "                    }\n",
       "                }\n",
       "            }\n",
       "        } else {\n",
       "            if (click == 1) set_value();\n",
       "            click = 0;\n",
       "        }\n",
       "    });\n",
       "    function clear_value(){\n",
       "        canvas.getContext(\"2d\").fillStyle = \"rgb(255,255,255)\";\n",
       "        canvas.getContext(\"2d\").fillRect(0, 0, 140, 140);\n",
       "        for (var i = 0; i < 28*28; i++) pixels[i] = 0;\n",
       "    }\n",
       "\n",
       "    function set_value(){\n",
       "        var result = \"[[\"\n",
       "        for (var i = 0; i < 28; i++) {\n",
       "            result += \"[\"\n",
       "            for (var j = 0; j < 28; j++) {\n",
       "                result += pixels [i * 28 + j]\n",
       "                if (j < 27) {\n",
       "                    result += \", \"\n",
       "                }\n",
       "            }\n",
       "            result += \"]\"\n",
       "            if (i < 27) {\n",
       "                result += \", \"\n",
       "            }\n",
       "        }\n",
       "        result += \"]]\"\n",
       "        var kernel = IPython.notebook.kernel;\n",
       "        kernel.execute(\"data = \" + result)\n",
       "    }\n",
       "</script>\n",
       "<table>\n",
       "<td style=\"border-style: none;\">\n",
       "<div style=\"border: solid 2px #666; width: 143px; height: 144px;\">\n",
       "<canvas width=\"140\" height=\"140\"></canvas>\n",
       "</div></td>\n",
       "<td style=\"border-style: none;\">\n",
       "<button onclick=\"clear_value()\">Clear</button>\n",
       "</td>\n",
       "</table>\n",
       "\n",
       "<!-- This work has been modified from the original and is licensed under the Apache 2.0 License. -->\n",
       "\n",
       "<!--\n",
       "                                     Apache License\n",
       "                           Version 2.0, January 2004\n",
       "                        http://www.apache.org/licenses/\n",
       "   TERMS AND CONDITIONS FOR USE, REPRODUCTION, AND DISTRIBUTION\n",
       "   1. Definitions.\n",
       "      \"License\" shall mean the terms and conditions for use, reproduction,\n",
       "      and distribution as defined by Sections 1 through 9 of this document.\n",
       "      \"Licensor\" shall mean the copyright owner or entity authorized by\n",
       "      the copyright owner that is granting the License.\n",
       "      \"Legal Entity\" shall mean the union of the acting entity and all\n",
       "      other entities that control, are controlled by, or are under common\n",
       "      control with that entity. For the purposes of this definition,\n",
       "      \"control\" means (i) the power, direct or indirect, to cause the\n",
       "      direction or management of such entity, whether by contract or\n",
       "      otherwise, or (ii) ownership of fifty percent (50%) or more of the\n",
       "      outstanding shares, or (iii) beneficial ownership of such entity.\n",
       "      \"You\" (or \"Your\") shall mean an individual or Legal Entity\n",
       "      exercising permissions granted by this License.\n",
       "      \"Source\" form shall mean the preferred form for making modifications,\n",
       "      including but not limited to software source code, documentation\n",
       "      source, and configuration files.\n",
       "      \"Object\" form shall mean any form resulting from mechanical\n",
       "      transformation or translation of a Source form, including but\n",
       "      not limited to compiled object code, generated documentation,\n",
       "      and conversions to other media types.\n",
       "      \"Work\" shall mean the work of authorship, whether in Source or\n",
       "      Object form, made available under the License, as indicated by a\n",
       "      copyright notice that is included in or attached to the work\n",
       "      (an example is provided in the Appendix below).\n",
       "      \"Derivative Works\" shall mean any work, whether in Source or Object\n",
       "      form, that is based on (or derived from) the Work and for which the\n",
       "      editorial revisions, annotations, elaborations, or other modifications\n",
       "      represent, as a whole, an original work of authorship. For the purposes\n",
       "      of this License, Derivative Works shall not include works that remain\n",
       "      separable from, or merely link (or bind by name) to the interfaces of,\n",
       "      the Work and Derivative Works thereof.\n",
       "      \"Contribution\" shall mean any work of authorship, including\n",
       "      the original version of the Work and any modifications or additions\n",
       "      to that Work or Derivative Works thereof, that is intentionally\n",
       "      submitted to Licensor for inclusion in the Work by the copyright owner\n",
       "      or by an individual or Legal Entity authorized to submit on behalf of\n",
       "      the copyright owner. For the purposes of this definition, \"submitted\"\n",
       "      means any form of electronic, verbal, or written communication sent\n",
       "      to the Licensor or its representatives, including but not limited to\n",
       "      communication on electronic mailing lists, source code control systems,\n",
       "      and issue tracking systems that are managed by, or on behalf of, the\n",
       "      Licensor for the purpose of discussing and improving the Work, but\n",
       "      excluding communication that is conspicuously marked or otherwise\n",
       "      designated in writing by the copyright owner as \"Not a Contribution.\"\n",
       "      \"Contributor\" shall mean Licensor and any individual or Legal Entity\n",
       "      on behalf of whom a Contribution has been received by Licensor and\n",
       "      subsequently incorporated within the Work.\n",
       "   2. Grant of Copyright License. Subject to the terms and conditions of\n",
       "      this License, each Contributor hereby grants to You a perpetual,\n",
       "      worldwide, non-exclusive, no-charge, royalty-free, irrevocable\n",
       "      copyright license to reproduce, prepare Derivative Works of,\n",
       "      publicly display, publicly perform, sublicense, and distribute the\n",
       "      Work and such Derivative Works in Source or Object form.\n",
       "   3. Grant of Patent License. Subject to the terms and conditions of\n",
       "      this License, each Contributor hereby grants to You a perpetual,\n",
       "      worldwide, non-exclusive, no-charge, royalty-free, irrevocable\n",
       "      (except as stated in this section) patent license to make, have made,\n",
       "      use, offer to sell, sell, import, and otherwise transfer the Work,\n",
       "      where such license applies only to those patent claims licensable\n",
       "      by such Contributor that are necessarily infringed by their\n",
       "      Contribution(s) alone or by combination of their Contribution(s)\n",
       "      with the Work to which such Contribution(s) was submitted. If You\n",
       "      institute patent litigation against any entity (including a\n",
       "      cross-claim or counterclaim in a lawsuit) alleging that the Work\n",
       "      or a Contribution incorporated within the Work constitutes direct\n",
       "      or contributory patent infringement, then any patent licenses\n",
       "      granted to You under this License for that Work shall terminate\n",
       "      as of the date such litigation is filed.\n",
       "   4. Redistribution. You may reproduce and distribute copies of the\n",
       "      Work or Derivative Works thereof in any medium, with or without\n",
       "      modifications, and in Source or Object form, provided that You\n",
       "      meet the following conditions:\n",
       "      (a) You must give any other recipients of the Work or\n",
       "          Derivative Works a copy of this License; and\n",
       "      (b) You must cause any modified files to carry prominent notices\n",
       "          stating that You changed the files; and\n",
       "      (c) You must retain, in the Source form of any Derivative Works\n",
       "          that You distribute, all copyright, patent, trademark, and\n",
       "          attribution notices from the Source form of the Work,\n",
       "          excluding those notices that do not pertain to any part of\n",
       "          the Derivative Works; and\n",
       "      (d) If the Work includes a \"NOTICE\" text file as part of its\n",
       "          distribution, then any Derivative Works that You distribute must\n",
       "          include a readable copy of the attribution notices contained\n",
       "          within such NOTICE file, excluding those notices that do not\n",
       "          pertain to any part of the Derivative Works, in at least one\n",
       "          of the following places: within a NOTICE text file distributed\n",
       "          as part of the Derivative Works; within the Source form or\n",
       "          documentation, if provided along with the Derivative Works; or,\n",
       "          within a display generated by the Derivative Works, if and\n",
       "          wherever such third-party notices normally appear. The contents\n",
       "          of the NOTICE file are for informational purposes only and\n",
       "          do not modify the License. You may add Your own attribution\n",
       "          notices within Derivative Works that You distribute, alongside\n",
       "          or as an addendum to the NOTICE text from the Work, provided\n",
       "          that such additional attribution notices cannot be construed\n",
       "          as modifying the License.\n",
       "      You may add Your own copyright statement to Your modifications and\n",
       "      may provide additional or different license terms and conditions\n",
       "      for use, reproduction, or distribution of Your modifications, or\n",
       "      for any such Derivative Works as a whole, provided Your use,\n",
       "      reproduction, and distribution of the Work otherwise complies with\n",
       "      the conditions stated in this License.\n",
       "   5. Submission of Contributions. Unless You explicitly state otherwise,\n",
       "      any Contribution intentionally submitted for inclusion in the Work\n",
       "      by You to the Licensor shall be under the terms and conditions of\n",
       "      this License, without any additional terms or conditions.\n",
       "      Notwithstanding the above, nothing herein shall supersede or modify\n",
       "      the terms of any separate license agreement you may have executed\n",
       "      with Licensor regarding such Contributions.\n",
       "   6. Trademarks. This License does not grant permission to use the trade\n",
       "      names, trademarks, service marks, or product names of the Licensor,\n",
       "      except as required for reasonable and customary use in describing the\n",
       "      origin of the Work and reproducing the content of the NOTICE file.\n",
       "   7. Disclaimer of Warranty. Unless required by applicable law or\n",
       "      agreed to in writing, Licensor provides the Work (and each\n",
       "      Contributor provides its Contributions) on an \"AS IS\" BASIS,\n",
       "      WITHOUT WARRANTIES OR CONDITIONS OF ANY KIND, either express or\n",
       "      implied, including, without limitation, any warranties or conditions\n",
       "      of TITLE, NON-INFRINGEMENT, MERCHANTABILITY, or FITNESS FOR A\n",
       "      PARTICULAR PURPOSE. You are solely responsible for determining the\n",
       "      appropriateness of using or redistributing the Work and assume any\n",
       "      risks associated with Your exercise of permissions under this License.\n",
       "   8. Limitation of Liability. In no event and under no legal theory,\n",
       "      whether in tort (including negligence), contract, or otherwise,\n",
       "      unless required by applicable law (such as deliberate and grossly\n",
       "      negligent acts) or agreed to in writing, shall any Contributor be\n",
       "      liable to You for damages, including any direct, indirect, special,\n",
       "      incidental, or consequential damages of any character arising as a\n",
       "      result of this License or out of the use or inability to use the\n",
       "      Work (including but not limited to damages for loss of goodwill,\n",
       "      work stoppage, computer failure or malfunction, or any and all\n",
       "      other commercial damages or losses), even if such Contributor\n",
       "      has been advised of the possibility of such damages.\n",
       "   9. Accepting Warranty or Additional Liability. While redistributing\n",
       "      the Work or Derivative Works thereof, You may choose to offer,\n",
       "      and charge a fee for, acceptance of support, warranty, indemnity,\n",
       "      or other liability obligations and/or rights consistent with this\n",
       "      License. However, in accepting such obligations, You may act only\n",
       "      on Your own behalf and on Your sole responsibility, not on behalf\n",
       "      of any other Contributor, and only if You agree to indemnify,\n",
       "      defend, and hold each Contributor harmless for any liability\n",
       "      incurred by, or claims asserted against, such Contributor by reason\n",
       "      of your accepting any such warranty or additional liability.\n",
       "   END OF TERMS AND CONDITIONS\n",
       "   APPENDIX: How to apply the Apache License to your work.\n",
       "      To apply the Apache License to your work, attach the following\n",
       "      boilerplate notice, with the fields enclosed by brackets \"{}\"\n",
       "      replaced with your own identifying information. (Don't include\n",
       "      the brackets!)  The text should be enclosed in the appropriate\n",
       "      comment syntax for the file format. We also recommend that a\n",
       "      file or class name and description of purpose be included on the\n",
       "      same \"printed page\" as the copyright notice for easier\n",
       "      identification within third-party archives.\n",
       "   Copyright {yyyy} {name of copyright owner}\n",
       "   Licensed under the Apache License, Version 2.0 (the \"License\");\n",
       "   you may not use this file except in compliance with the License.\n",
       "   You may obtain a copy of the License at\n",
       "       http://www.apache.org/licenses/LICENSE-2.0\n",
       "   Unless required by applicable law or agreed to in writing, software\n",
       "   distributed under the License is distributed on an \"AS IS\" BASIS,\n",
       "   WITHOUT WARRANTIES OR CONDITIONS OF ANY KIND, either express or implied.\n",
       "   See the License for the specific language governing permissions and\n",
       "   limitations under the License.\n",
       "-->"
      ],
      "text/plain": [
       "<IPython.core.display.HTML object>"
      ]
     },
     "execution_count": 4,
     "metadata": {},
     "output_type": "execute_result"
    }
   ],
   "source": [
    "from IPython.display import HTML\n",
    "import numpy as np\n",
    "HTML(open(\"input.html\").read())"
   ]
  },
  {
   "cell_type": "markdown",
   "metadata": {},
   "source": [
    "## Does this work locally? (not \"_in a container locally_\", but _actually_ in local)"
   ]
  },
  {
   "cell_type": "code",
   "execution_count": 5,
   "metadata": {},
   "outputs": [],
   "source": [
    "image = np.array([data], dtype=np.float32)"
   ]
  },
  {
   "cell_type": "code",
   "execution_count": 8,
   "metadata": {},
   "outputs": [
    {
     "name": "stdout",
     "output_type": "stream",
     "text": [
      "loaded\n"
     ]
    }
   ],
   "source": [
    "from modelscript_pytorch import *\n",
    "model = load_model('./') # "
   ]
  },
  {
   "cell_type": "code",
   "execution_count": 9,
   "metadata": {},
   "outputs": [
    {
     "name": "stdout",
     "output_type": "stream",
     "text": [
      "<class 'numpy.ndarray'>\n"
     ]
    },
    {
     "data": {
      "text/plain": [
       "[3]"
      ]
     },
     "execution_count": 9,
     "metadata": {},
     "output_type": "execute_result"
    }
   ],
   "source": [
    "predict(model,image)"
   ]
  },
  {
   "cell_type": "markdown",
   "metadata": {},
   "source": [
    "### ok great! Now let's install ezsmdeploy"
   ]
  },
  {
   "cell_type": "markdown",
   "metadata": {},
   "source": [
    "_[To Do]_: currently local; replace with pip version!"
   ]
  },
  {
   "cell_type": "code",
   "execution_count": 10,
   "metadata": {},
   "outputs": [
    {
     "name": "stdout",
     "output_type": "stream",
     "text": [
      "Found existing installation: ezsmdeploy 0.1.1\n",
      "Uninstalling ezsmdeploy-0.1.1:\n",
      "  Successfully uninstalled ezsmdeploy-0.1.1\n"
     ]
    }
   ],
   "source": [
    "!pip uninstall -y ezsmdeploy"
   ]
  },
  {
   "cell_type": "code",
   "execution_count": 11,
   "metadata": {},
   "outputs": [],
   "source": [
    "!pip install -e ./ --quiet "
   ]
  },
  {
   "cell_type": "code",
   "execution_count": 12,
   "metadata": {},
   "outputs": [],
   "source": [
    "import ezsmdeploy"
   ]
  },
  {
   "cell_type": "markdown",
   "metadata": {},
   "source": [
    "#### If you have been running other inference containers in local mode, stop existing containers to avoid conflict"
   ]
  },
  {
   "cell_type": "code",
   "execution_count": 13,
   "metadata": {},
   "outputs": [],
   "source": [
    "!docker container stop $(docker container ls -aq) >/dev/null"
   ]
  },
  {
   "cell_type": "markdown",
   "metadata": {},
   "source": [
    "## Deploy locally"
   ]
  },
  {
   "cell_type": "code",
   "execution_count": 14,
   "metadata": {},
   "outputs": [
    {
     "name": "stdout",
     "output_type": "stream",
     "text": [
      "\u001b[K0:00:00.161970 | compressed model(s)\n",
      "\u001b[K0:00:00.259371 | uploaded model tarball(s) ; check returned modelpath\n",
      "\u001b[K0:00:00.260278 | added requirements file\n",
      "\u001b[K0:00:00.262262 | added source file\n",
      "\u001b[K0:00:00.263702 | added Dockerfile\n",
      "\u001b[K0:00:00.265426 | added model_handler and docker utils\n",
      "\u001b[K0:00:00.265520 | building docker container\n",
      "\u001b[K0:04:28.720249 | built docker container\n",
      "\u001b[K0:04:29.112172 | created model(s). Now deploying on local\n",
      "\u001b[32m∙∙∙\u001b[0m \u001b[KAttaching to tmp5gtypimk_algo-1-hiu5v_1\n",
      "\u001b[36malgo-1-hiu5v_1  |\u001b[0m Warning: Calling MMS with mxnet-model-server. Please move to multi-model-server.\n",
      "\u001b[32m∙∙●\u001b[0m \u001b[K\u001b[36malgo-1-hiu5v_1  |\u001b[0m 2020-04-22 21:53:18,620 [INFO ] main com.amazonaws.ml.mms.ModelServer - \n",
      "\u001b[36malgo-1-hiu5v_1  |\u001b[0m MMS Home: /usr/local/lib/python3.5/dist-packages\n",
      "\u001b[36malgo-1-hiu5v_1  |\u001b[0m Current directory: /\n",
      "\u001b[36malgo-1-hiu5v_1  |\u001b[0m Temp directory: /tmp\n",
      "\u001b[36malgo-1-hiu5v_1  |\u001b[0m Number of GPUs: 0\n",
      "\u001b[36malgo-1-hiu5v_1  |\u001b[0m Number of CPUs: 32\n",
      "\u001b[36malgo-1-hiu5v_1  |\u001b[0m Max heap size: 27305 M\n",
      "\u001b[36malgo-1-hiu5v_1  |\u001b[0m Python executable: /usr/bin/python3\n",
      "\u001b[36malgo-1-hiu5v_1  |\u001b[0m Config file: /etc/sagemaker-mms.properties\n",
      "\u001b[36malgo-1-hiu5v_1  |\u001b[0m Inference address: http://0.0.0.0:8080\n",
      "\u001b[36malgo-1-hiu5v_1  |\u001b[0m Management address: http://0.0.0.0:8080\n",
      "\u001b[36malgo-1-hiu5v_1  |\u001b[0m Model Store: /.sagemaker/mms/models\n",
      "\u001b[36malgo-1-hiu5v_1  |\u001b[0m Initial Models: ALL\n",
      "\u001b[36malgo-1-hiu5v_1  |\u001b[0m Log dir: /logs\n",
      "\u001b[36malgo-1-hiu5v_1  |\u001b[0m Metrics dir: /logs\n",
      "\u001b[36malgo-1-hiu5v_1  |\u001b[0m Netty threads: 0\n",
      "\u001b[36malgo-1-hiu5v_1  |\u001b[0m Netty client threads: 0\n",
      "\u001b[36malgo-1-hiu5v_1  |\u001b[0m Default workers per model: 32\n",
      "\u001b[36malgo-1-hiu5v_1  |\u001b[0m Blacklist Regex: N/A\n",
      "\u001b[36malgo-1-hiu5v_1  |\u001b[0m Maximum Response Size: 6553500\n",
      "\u001b[36malgo-1-hiu5v_1  |\u001b[0m Maximum Request Size: 6553500\n",
      "\u001b[36malgo-1-hiu5v_1  |\u001b[0m Preload model: false\n",
      "\u001b[36malgo-1-hiu5v_1  |\u001b[0m Prefer direct buffer: false\n",
      "\u001b[32m∙∙∙\u001b[0m \u001b[K\u001b[36malgo-1-hiu5v_1  |\u001b[0m 2020-04-22 21:53:18,696 [WARN ] W-9000-model com.amazonaws.ml.mms.wlm.WorkerLifeCycle - attachIOStreams() threadName=W-9000-model\n",
      "\u001b[32m∙∙∙\u001b[0m \u001b[K\u001b[36malgo-1-hiu5v_1  |\u001b[0m 2020-04-22 21:53:18,796 [INFO ] W-9000-model-stdout com.amazonaws.ml.mms.wlm.WorkerLifeCycle - model_service_worker started with args: --sock-type unix --sock-name /tmp/.mms.sock.9000 --handler /home/model-server/model_handler.py:handle --model-path /.sagemaker/mms/models/model --model-name model --preload-model false --tmp-dir /tmp\n",
      "\u001b[36malgo-1-hiu5v_1  |\u001b[0m 2020-04-22 21:53:18,797 [INFO ] W-9000-model-stdout com.amazonaws.ml.mms.wlm.WorkerLifeCycle - Listening on port: /tmp/.mms.sock.9000\n",
      "\u001b[36malgo-1-hiu5v_1  |\u001b[0m 2020-04-22 21:53:18,797 [INFO ] W-9000-model-stdout com.amazonaws.ml.mms.wlm.WorkerLifeCycle - [PID] 87\n",
      "\u001b[36malgo-1-hiu5v_1  |\u001b[0m 2020-04-22 21:53:18,797 [INFO ] W-9000-model-stdout com.amazonaws.ml.mms.wlm.WorkerLifeCycle - MXNet worker started.\n",
      "\u001b[36malgo-1-hiu5v_1  |\u001b[0m 2020-04-22 21:53:18,798 [INFO ] W-9000-model-stdout com.amazonaws.ml.mms.wlm.WorkerLifeCycle - Python runtime: 3.5.2\n",
      "\u001b[36malgo-1-hiu5v_1  |\u001b[0m 2020-04-22 21:53:18,798 [INFO ] main com.amazonaws.ml.mms.wlm.ModelManager - Model model loaded.\n",
      "\u001b[36malgo-1-hiu5v_1  |\u001b[0m 2020-04-22 21:53:18,807 [INFO ] main com.amazonaws.ml.mms.ModelServer - Initialize Inference server with: EpollServerSocketChannel.\n",
      "\u001b[36malgo-1-hiu5v_1  |\u001b[0m 2020-04-22 21:53:18,809 [INFO ] W-9000-model com.amazonaws.ml.mms.wlm.WorkerThread - Connecting to: /tmp/.mms.sock.9000\n",
      "\u001b[36malgo-1-hiu5v_1  |\u001b[0m 2020-04-22 21:53:18,809 [INFO ] W-9000-model com.amazonaws.ml.mms.wlm.WorkerThread - Connecting to: /tmp/.mms.sock.9000\n",
      "\u001b[36malgo-1-hiu5v_1  |\u001b[0m 2020-04-22 21:53:18,809 [INFO ] W-9000-model com.amazonaws.ml.mms.wlm.WorkerThread - Connecting to: /tmp/.mms.sock.9000\n",
      "\u001b[36malgo-1-hiu5v_1  |\u001b[0m 2020-04-22 21:53:18,809 [INFO ] W-9000-model com.amazonaws.ml.mms.wlm.WorkerThread - Connecting to: /tmp/.mms.sock.9000\n",
      "\u001b[36malgo-1-hiu5v_1  |\u001b[0m 2020-04-22 21:53:18,809 [INFO ] W-9000-model com.amazonaws.ml.mms.wlm.WorkerThread - Connecting to: /tmp/.mms.sock.9000\n",
      "\u001b[36malgo-1-hiu5v_1  |\u001b[0m 2020-04-22 21:53:18,809 [INFO ] W-9000-model com.amazonaws.ml.mms.wlm.WorkerThread - Connecting to: /tmp/.mms.sock.9000\n",
      "\u001b[36malgo-1-hiu5v_1  |\u001b[0m 2020-04-22 21:53:18,809 [INFO ] W-9000-model com.amazonaws.ml.mms.wlm.WorkerThread - Connecting to: /tmp/.mms.sock.9000\n",
      "\u001b[36malgo-1-hiu5v_1  |\u001b[0m 2020-04-22 21:53:18,809 [INFO ] W-9000-model com.amazonaws.ml.mms.wlm.WorkerThread - Connecting to: /tmp/.mms.sock.9000\n",
      "\u001b[36malgo-1-hiu5v_1  |\u001b[0m 2020-04-22 21:53:18,809 [INFO ] W-9000-model com.amazonaws.ml.mms.wlm.WorkerThread - Connecting to: /tmp/.mms.sock.9000\n",
      "\u001b[36malgo-1-hiu5v_1  |\u001b[0m 2020-04-22 21:53:18,809 [INFO ] W-9000-model com.amazonaws.ml.mms.wlm.WorkerThread - Connecting to: /tmp/.mms.sock.9000\n",
      "\u001b[36malgo-1-hiu5v_1  |\u001b[0m 2020-04-22 21:53:18,809 [INFO ] W-9000-model com.amazonaws.ml.mms.wlm.WorkerThread - Connecting to: /tmp/.mms.sock.9000\n",
      "\u001b[36malgo-1-hiu5v_1  |\u001b[0m 2020-04-22 21:53:18,809 [INFO ] W-9000-model com.amazonaws.ml.mms.wlm.WorkerThread - Connecting to: /tmp/.mms.sock.9000\n",
      "\u001b[36malgo-1-hiu5v_1  |\u001b[0m 2020-04-22 21:53:18,809 [INFO ] W-9000-model com.amazonaws.ml.mms.wlm.WorkerThread - Connecting to: /tmp/.mms.sock.9000\n",
      "\u001b[36malgo-1-hiu5v_1  |\u001b[0m 2020-04-22 21:53:18,809 [INFO ] W-9000-model com.amazonaws.ml.mms.wlm.WorkerThread - Connecting to: /tmp/.mms.sock.9000\n",
      "\u001b[36malgo-1-hiu5v_1  |\u001b[0m 2020-04-22 21:53:18,809 [INFO ] W-9000-model com.amazonaws.ml.mms.wlm.WorkerThread - Connecting to: /tmp/.mms.sock.9000\n",
      "\u001b[36malgo-1-hiu5v_1  |\u001b[0m 2020-04-22 21:53:18,809 [INFO ] W-9000-model com.amazonaws.ml.mms.wlm.WorkerThread - Connecting to: /tmp/.mms.sock.9000\n",
      "\u001b[36malgo-1-hiu5v_1  |\u001b[0m 2020-04-22 21:53:18,809 [INFO ] W-9000-model com.amazonaws.ml.mms.wlm.WorkerThread - Connecting to: /tmp/.mms.sock.9000\n",
      "\u001b[36malgo-1-hiu5v_1  |\u001b[0m 2020-04-22 21:53:18,809 [INFO ] W-9000-model com.amazonaws.ml.mms.wlm.WorkerThread - Connecting to: /tmp/.mms.sock.9000\n",
      "\u001b[36malgo-1-hiu5v_1  |\u001b[0m 2020-04-22 21:53:18,809 [INFO ] W-9000-model com.amazonaws.ml.mms.wlm.WorkerThread - Connecting to: /tmp/.mms.sock.9000\n",
      "\u001b[36malgo-1-hiu5v_1  |\u001b[0m 2020-04-22 21:53:18,809 [INFO ] W-9000-model com.amazonaws.ml.mms.wlm.WorkerThread - Connecting to: /tmp/.mms.sock.9000\n",
      "\u001b[36malgo-1-hiu5v_1  |\u001b[0m 2020-04-22 21:53:18,809 [INFO ] W-9000-model com.amazonaws.ml.mms.wlm.WorkerThread - Connecting to: /tmp/.mms.sock.9000\n",
      "\u001b[36malgo-1-hiu5v_1  |\u001b[0m 2020-04-22 21:53:18,809 [INFO ] W-9000-model com.amazonaws.ml.mms.wlm.WorkerThread - Connecting to: /tmp/.mms.sock.9000\n",
      "\u001b[36malgo-1-hiu5v_1  |\u001b[0m 2020-04-22 21:53:18,809 [INFO ] W-9000-model com.amazonaws.ml.mms.wlm.WorkerThread - Connecting to: /tmp/.mms.sock.9000\n",
      "\u001b[36malgo-1-hiu5v_1  |\u001b[0m 2020-04-22 21:53:18,809 [INFO ] W-9000-model com.amazonaws.ml.mms.wlm.WorkerThread - Connecting to: /tmp/.mms.sock.9000\n",
      "\u001b[36malgo-1-hiu5v_1  |\u001b[0m 2020-04-22 21:53:18,809 [INFO ] W-9000-model com.amazonaws.ml.mms.wlm.WorkerThread - Connecting to: /tmp/.mms.sock.9000\n",
      "\u001b[36malgo-1-hiu5v_1  |\u001b[0m 2020-04-22 21:53:18,809 [INFO ] W-9000-model com.amazonaws.ml.mms.wlm.WorkerThread - Connecting to: /tmp/.mms.sock.9000\n",
      "\u001b[36malgo-1-hiu5v_1  |\u001b[0m 2020-04-22 21:53:18,809 [INFO ] W-9000-model com.amazonaws.ml.mms.wlm.WorkerThread - Connecting to: /tmp/.mms.sock.9000\n",
      "\u001b[36malgo-1-hiu5v_1  |\u001b[0m 2020-04-22 21:53:18,809 [INFO ] W-9000-model com.amazonaws.ml.mms.wlm.WorkerThread - Connecting to: /tmp/.mms.sock.9000\n",
      "\u001b[36malgo-1-hiu5v_1  |\u001b[0m 2020-04-22 21:53:18,809 [INFO ] W-9000-model com.amazonaws.ml.mms.wlm.WorkerThread - Connecting to: /tmp/.mms.sock.9000\n",
      "\u001b[36malgo-1-hiu5v_1  |\u001b[0m 2020-04-22 21:53:18,809 [INFO ] W-9000-model com.amazonaws.ml.mms.wlm.WorkerThread - Connecting to: /tmp/.mms.sock.9000\n",
      "\u001b[36malgo-1-hiu5v_1  |\u001b[0m 2020-04-22 21:53:18,809 [INFO ] W-9000-model com.amazonaws.ml.mms.wlm.WorkerThread - Connecting to: /tmp/.mms.sock.9000\n",
      "\u001b[36malgo-1-hiu5v_1  |\u001b[0m 2020-04-22 21:53:18,809 [INFO ] W-9000-model com.amazonaws.ml.mms.wlm.WorkerThread - Connecting to: /tmp/.mms.sock.9000\n",
      "\u001b[36malgo-1-hiu5v_1  |\u001b[0m 2020-04-22 21:53:18,886 [INFO ] main com.amazonaws.ml.mms.ModelServer - Inference API bind to: http://0.0.0.0:8080\n",
      "\u001b[36malgo-1-hiu5v_1  |\u001b[0m Model server started.\n",
      "\u001b[36malgo-1-hiu5v_1  |\u001b[0m 2020-04-22 21:53:18,888 [INFO ] W-9000-model-stdout com.amazonaws.ml.mms.wlm.WorkerLifeCycle - Connection accepted: /tmp/.mms.sock.9000.\n",
      "\u001b[36malgo-1-hiu5v_1  |\u001b[0m 2020-04-22 21:53:18,891 [INFO ] W-9000-model-stdout com.amazonaws.ml.mms.wlm.WorkerLifeCycle - Connection accepted: /tmp/.mms.sock.9000.\n",
      "\u001b[36malgo-1-hiu5v_1  |\u001b[0m 2020-04-22 21:53:18,893 [INFO ] W-9000-model-stdout com.amazonaws.ml.mms.wlm.WorkerLifeCycle - Connection accepted: /tmp/.mms.sock.9000.\n",
      "\u001b[36malgo-1-hiu5v_1  |\u001b[0m 2020-04-22 21:53:18,893 [WARN ] pool-2-thread-1 com.amazonaws.ml.mms.metrics.MetricCollector - worker pid is not available yet.\n",
      "\u001b[36malgo-1-hiu5v_1  |\u001b[0m 2020-04-22 21:53:18,894 [INFO ] W-9000-model-stdout com.amazonaws.ml.mms.wlm.WorkerLifeCycle - Connection accepted: /tmp/.mms.sock.9000.\n",
      "\u001b[36malgo-1-hiu5v_1  |\u001b[0m 2020-04-22 21:53:18,895 [INFO ] W-9000-model-stdout com.amazonaws.ml.mms.wlm.WorkerLifeCycle - Connection accepted: /tmp/.mms.sock.9000.\n"
     ]
    },
    {
     "name": "stdout",
     "output_type": "stream",
     "text": [
      "\u001b[36malgo-1-hiu5v_1  |\u001b[0m 2020-04-22 21:53:18,897 [INFO ] W-9000-model-stdout com.amazonaws.ml.mms.wlm.WorkerLifeCycle - Connection accepted: /tmp/.mms.sock.9000.\n",
      "\u001b[36malgo-1-hiu5v_1  |\u001b[0m 2020-04-22 21:53:18,898 [INFO ] W-9000-model-stdout com.amazonaws.ml.mms.wlm.WorkerLifeCycle - Connection accepted: /tmp/.mms.sock.9000.\n",
      "\u001b[36malgo-1-hiu5v_1  |\u001b[0m 2020-04-22 21:53:18,899 [INFO ] W-9000-model-stdout com.amazonaws.ml.mms.wlm.WorkerLifeCycle - Connection accepted: /tmp/.mms.sock.9000.\n",
      "\u001b[36malgo-1-hiu5v_1  |\u001b[0m 2020-04-22 21:53:18,900 [INFO ] W-9000-model-stdout com.amazonaws.ml.mms.wlm.WorkerLifeCycle - Connection accepted: /tmp/.mms.sock.9000.\n",
      "\u001b[36malgo-1-hiu5v_1  |\u001b[0m 2020-04-22 21:53:18,902 [INFO ] W-9000-model-stdout com.amazonaws.ml.mms.wlm.WorkerLifeCycle - Connection accepted: /tmp/.mms.sock.9000.\n",
      "\u001b[32m●∙∙\u001b[0m \u001b[K\u001b[36malgo-1-hiu5v_1  |\u001b[0m 2020-04-22 21:53:18,904 [INFO ] W-9000-model-stdout com.amazonaws.ml.mms.wlm.WorkerLifeCycle - Connection accepted: /tmp/.mms.sock.9000.\n",
      "\u001b[36malgo-1-hiu5v_1  |\u001b[0m 2020-04-22 21:53:18,905 [INFO ] W-9000-model-stdout com.amazonaws.ml.mms.wlm.WorkerLifeCycle - Connection accepted: /tmp/.mms.sock.9000.\n",
      "\u001b[36malgo-1-hiu5v_1  |\u001b[0m 2020-04-22 21:53:18,906 [INFO ] W-9000-model-stdout com.amazonaws.ml.mms.wlm.WorkerLifeCycle - Connection accepted: /tmp/.mms.sock.9000.\n",
      "\u001b[36malgo-1-hiu5v_1  |\u001b[0m 2020-04-22 21:53:18,908 [INFO ] W-9000-model-stdout com.amazonaws.ml.mms.wlm.WorkerLifeCycle - Connection accepted: /tmp/.mms.sock.9000.\n",
      "\u001b[36malgo-1-hiu5v_1  |\u001b[0m 2020-04-22 21:53:18,909 [INFO ] W-9000-model-stdout com.amazonaws.ml.mms.wlm.WorkerLifeCycle - Connection accepted: /tmp/.mms.sock.9000.\n",
      "\u001b[36malgo-1-hiu5v_1  |\u001b[0m 2020-04-22 21:53:18,910 [INFO ] W-9000-model-stdout com.amazonaws.ml.mms.wlm.WorkerLifeCycle - Connection accepted: /tmp/.mms.sock.9000.\n",
      "\u001b[36malgo-1-hiu5v_1  |\u001b[0m 2020-04-22 21:53:18,912 [INFO ] W-9000-model-stdout com.amazonaws.ml.mms.wlm.WorkerLifeCycle - Connection accepted: /tmp/.mms.sock.9000.\n",
      "\u001b[36malgo-1-hiu5v_1  |\u001b[0m 2020-04-22 21:53:18,913 [INFO ] W-9000-model-stdout com.amazonaws.ml.mms.wlm.WorkerLifeCycle - Connection accepted: /tmp/.mms.sock.9000.\n",
      "\u001b[36malgo-1-hiu5v_1  |\u001b[0m 2020-04-22 21:53:18,914 [INFO ] W-9000-model-stdout com.amazonaws.ml.mms.wlm.WorkerLifeCycle - Connection accepted: /tmp/.mms.sock.9000.\n",
      "\u001b[36malgo-1-hiu5v_1  |\u001b[0m 2020-04-22 21:53:18,915 [INFO ] W-9000-model-stdout com.amazonaws.ml.mms.wlm.WorkerLifeCycle - Connection accepted: /tmp/.mms.sock.9000.\n",
      "\u001b[36malgo-1-hiu5v_1  |\u001b[0m 2020-04-22 21:53:18,917 [INFO ] W-9000-model-stdout com.amazonaws.ml.mms.wlm.WorkerLifeCycle - Connection accepted: /tmp/.mms.sock.9000.\n",
      "\u001b[36malgo-1-hiu5v_1  |\u001b[0m 2020-04-22 21:53:18,918 [INFO ] W-9000-model-stdout com.amazonaws.ml.mms.wlm.WorkerLifeCycle - Connection accepted: /tmp/.mms.sock.9000.\n",
      "\u001b[36malgo-1-hiu5v_1  |\u001b[0m 2020-04-22 21:53:18,919 [INFO ] W-9000-model-stdout com.amazonaws.ml.mms.wlm.WorkerLifeCycle - Connection accepted: /tmp/.mms.sock.9000.\n",
      "\u001b[36malgo-1-hiu5v_1  |\u001b[0m 2020-04-22 21:53:18,921 [INFO ] W-9000-model-stdout com.amazonaws.ml.mms.wlm.WorkerLifeCycle - Connection accepted: /tmp/.mms.sock.9000.\n",
      "\u001b[36malgo-1-hiu5v_1  |\u001b[0m 2020-04-22 21:53:18,922 [INFO ] W-9000-model-stdout com.amazonaws.ml.mms.wlm.WorkerLifeCycle - Connection accepted: /tmp/.mms.sock.9000.\n",
      "\u001b[36malgo-1-hiu5v_1  |\u001b[0m 2020-04-22 21:53:18,950 [INFO ] W-9000-model-stdout com.amazonaws.ml.mms.wlm.WorkerLifeCycle - Connection accepted: /tmp/.mms.sock.9000.\n",
      "\u001b[36malgo-1-hiu5v_1  |\u001b[0m 2020-04-22 21:53:18,951 [INFO ] W-9000-model-stdout com.amazonaws.ml.mms.wlm.WorkerLifeCycle - Connection accepted: /tmp/.mms.sock.9000.\n",
      "\u001b[36malgo-1-hiu5v_1  |\u001b[0m 2020-04-22 21:53:18,951 [INFO ] W-9000-model-stdout com.amazonaws.ml.mms.wlm.WorkerLifeCycle - Connection accepted: /tmp/.mms.sock.9000.\n",
      "\u001b[36malgo-1-hiu5v_1  |\u001b[0m 2020-04-22 21:53:19,001 [INFO ] W-9000-model-stdout com.amazonaws.ml.mms.wlm.WorkerLifeCycle - Connection accepted: /tmp/.mms.sock.9000.\n",
      "\u001b[36malgo-1-hiu5v_1  |\u001b[0m 2020-04-22 21:53:19,001 [INFO ] W-9000-model-stdout com.amazonaws.ml.mms.wlm.WorkerLifeCycle - Connection accepted: /tmp/.mms.sock.9000.\n",
      "\u001b[36malgo-1-hiu5v_1  |\u001b[0m 2020-04-22 21:53:19,002 [INFO ] W-9000-model-stdout com.amazonaws.ml.mms.wlm.WorkerLifeCycle - Connection accepted: /tmp/.mms.sock.9000.\n",
      "\u001b[36malgo-1-hiu5v_1  |\u001b[0m 2020-04-22 21:53:19,002 [INFO ] W-9000-model-stdout com.amazonaws.ml.mms.wlm.WorkerLifeCycle - Connection accepted: /tmp/.mms.sock.9000.\n",
      "\u001b[32m∙∙●\u001b[0m \u001b[K\u001b[36malgo-1-hiu5v_1  |\u001b[0m 2020-04-22 21:53:19,790 [INFO ] W-9000-model-stdout com.amazonaws.ml.mms.wlm.WorkerLifeCycle - loaded\n",
      "\u001b[36malgo-1-hiu5v_1  |\u001b[0m 2020-04-22 21:53:19,790 [INFO ] W-9000-model-stdout com.amazonaws.ml.mms.wlm.WorkerLifeCycle - loaded model!\n",
      "\u001b[36malgo-1-hiu5v_1  |\u001b[0m 2020-04-22 21:53:19,790 [INFO ] W-9000-model-stdout com.amazonaws.ml.mms.wlm.WorkerLifeCycle - Model model loaded io_fd=0242acfffe1b0002-00000027-0000000c-0af4318d875447e6-b98d9747\n",
      "\u001b[36malgo-1-hiu5v_1  |\u001b[0m 2020-04-22 21:53:19,791 [INFO ] W-9000-model-stdout com.amazonaws.ml.mms.wlm.WorkerLifeCycle - loaded\n",
      "\u001b[36malgo-1-hiu5v_1  |\u001b[0m 2020-04-22 21:53:19,791 [INFO ] W-9000-model-stdout com.amazonaws.ml.mms.wlm.WorkerLifeCycle - loaded model!\n",
      "\u001b[36malgo-1-hiu5v_1  |\u001b[0m 2020-04-22 21:53:19,791 [INFO ] W-9000-model-stdout com.amazonaws.ml.mms.wlm.WorkerLifeCycle - Model model loaded io_fd=0242acfffe1b0002-00000027-00000001-c47f118d875447e6-28a041a4\n",
      "\u001b[36malgo-1-hiu5v_1  |\u001b[0m 2020-04-22 21:53:19,791 [INFO ] W-9000-model-stdout com.amazonaws.ml.mms.wlm.WorkerLifeCycle - loaded\n",
      "\u001b[36malgo-1-hiu5v_1  |\u001b[0m 2020-04-22 21:53:19,791 [INFO ] W-9000-model-stdout com.amazonaws.ml.mms.wlm.WorkerLifeCycle - loaded model!\n",
      "\u001b[36malgo-1-hiu5v_1  |\u001b[0m 2020-04-22 21:53:19,791 [INFO ] W-9000-model-stdout com.amazonaws.ml.mms.wlm.WorkerLifeCycle - Model model loaded io_fd=0242acfffe1b0002-00000027-0000001e-ee54498d875447e6-6e261637\n",
      "\u001b[36malgo-1-hiu5v_1  |\u001b[0m 2020-04-22 21:53:19,791 [INFO ] W-9000-model-stdout com.amazonaws.ml.mms.wlm.WorkerLifeCycle - loaded\n",
      "\u001b[36malgo-1-hiu5v_1  |\u001b[0m 2020-04-22 21:53:19,791 [INFO ] W-9000-model-stdout com.amazonaws.ml.mms.wlm.WorkerLifeCycle - loaded model!\n",
      "\u001b[36malgo-1-hiu5v_1  |\u001b[0m 2020-04-22 21:53:19,792 [INFO ] W-9000-model-stdout com.amazonaws.ml.mms.wlm.WorkerLifeCycle - Model model loaded io_fd=0242acfffe1b0002-00000027-00000016-5b23f18d875447e6-1580b55e\n",
      "\u001b[36malgo-1-hiu5v_1  |\u001b[0m 2020-04-22 21:53:19,793 [INFO ] W-9000-model-stdout com.amazonaws.ml.mms.wlm.WorkerLifeCycle - loaded\n",
      "\u001b[36malgo-1-hiu5v_1  |\u001b[0m 2020-04-22 21:53:19,793 [INFO ] W-9000-model-stdout com.amazonaws.ml.mms.wlm.WorkerLifeCycle - loaded model!\n",
      "\u001b[36malgo-1-hiu5v_1  |\u001b[0m 2020-04-22 21:53:19,793 [INFO ] W-9000-model-stdout com.amazonaws.ml.mms.wlm.WorkerLifeCycle - Model model loaded io_fd=0242acfffe1b0002-00000027-0000001b-e612898d875447e6-c6695367\n",
      "\u001b[36malgo-1-hiu5v_1  |\u001b[0m 2020-04-22 21:53:19,793 [INFO ] W-9000-model-stdout com.amazonaws.ml.mms.wlm.WorkerLifeCycle - loaded\n",
      "\u001b[36malgo-1-hiu5v_1  |\u001b[0m 2020-04-22 21:53:19,793 [INFO ] W-9000-model-stdout com.amazonaws.ml.mms.wlm.WorkerLifeCycle - loaded model!\n",
      "\u001b[36malgo-1-hiu5v_1  |\u001b[0m 2020-04-22 21:53:19,793 [INFO ] W-9000-model-stdout com.amazonaws.ml.mms.wlm.WorkerLifeCycle - Model model loaded io_fd=0242acfffe1b0002-00000027-00000011-7b77b18d875447e6-a19f49ab\n",
      "\u001b[36malgo-1-hiu5v_1  |\u001b[0m 2020-04-22 21:53:19,793 [INFO ] W-9000-model-stdout com.amazonaws.ml.mms.wlm.WorkerLifeCycle - loaded\n",
      "\u001b[36malgo-1-hiu5v_1  |\u001b[0m 2020-04-22 21:53:19,793 [INFO ] W-9000-model-stdout com.amazonaws.ml.mms.wlm.WorkerLifeCycle - loaded model!\n",
      "\u001b[36malgo-1-hiu5v_1  |\u001b[0m 2020-04-22 21:53:19,794 [INFO ] W-9000-model-stdout com.amazonaws.ml.mms.wlm.WorkerLifeCycle - Model model loaded io_fd=0242acfffe1b0002-00000027-0000001d-c3fd898d875447e6-dc528579\n",
      "\u001b[36malgo-1-hiu5v_1  |\u001b[0m 2020-04-22 21:53:19,794 [INFO ] W-9000-model-stdout com.amazonaws.ml.mms.wlm.WorkerLifeCycle - loaded\n",
      "\u001b[36malgo-1-hiu5v_1  |\u001b[0m 2020-04-22 21:53:19,794 [INFO ] W-9000-model-stdout com.amazonaws.ml.mms.wlm.WorkerLifeCycle - loaded model!\n",
      "\u001b[36malgo-1-hiu5v_1  |\u001b[0m 2020-04-22 21:53:19,794 [INFO ] W-9000-model-stdout com.amazonaws.ml.mms.wlm.WorkerLifeCycle - Model model loaded io_fd=0242acfffe1b0002-00000027-0000000a-4919d18d875447e6-c0cf61e6\n",
      "\u001b[36malgo-1-hiu5v_1  |\u001b[0m 2020-04-22 21:53:19,794 [INFO ] W-9000-model-stdout com.amazonaws.ml.mms.wlm.WorkerLifeCycle - loaded\n",
      "\u001b[36malgo-1-hiu5v_1  |\u001b[0m 2020-04-22 21:53:19,794 [INFO ] W-9000-model-stdout com.amazonaws.ml.mms.wlm.WorkerLifeCycle - loaded model!\n",
      "\u001b[36malgo-1-hiu5v_1  |\u001b[0m 2020-04-22 21:53:19,794 [INFO ] W-9000-model-stdout com.amazonaws.ml.mms.wlm.WorkerLifeCycle - Model model loaded io_fd=0242acfffe1b0002-00000027-00000020-46e0c98d875447e7-a0842bee\n",
      "\u001b[36malgo-1-hiu5v_1  |\u001b[0m 2020-04-22 21:53:19,795 [INFO ] W-9000-model-stdout com.amazonaws.ml.mms.wlm.WorkerLifeCycle - loaded\n",
      "\u001b[36malgo-1-hiu5v_1  |\u001b[0m 2020-04-22 21:53:19,795 [INFO ] W-9000-model-stdout com.amazonaws.ml.mms.wlm.WorkerLifeCycle - loaded model!\n",
      "\u001b[36malgo-1-hiu5v_1  |\u001b[0m 2020-04-22 21:53:19,795 [INFO ] W-9000-model-stdout com.amazonaws.ml.mms.wlm.WorkerLifeCycle - Model model loaded io_fd=0242acfffe1b0002-00000027-00000004-34cb918d875447e6-129ecbc4\n",
      "\u001b[36malgo-1-hiu5v_1  |\u001b[0m 2020-04-22 21:53:19,795 [INFO ] W-9000-model-stdout com.amazonaws.ml.mms.wlm.WorkerLifeCycle - loaded\n",
      "\u001b[36malgo-1-hiu5v_1  |\u001b[0m 2020-04-22 21:53:19,795 [INFO ] W-9000-model-stdout com.amazonaws.ml.mms.wlm.WorkerLifeCycle - loaded model!\n",
      "\u001b[36malgo-1-hiu5v_1  |\u001b[0m 2020-04-22 21:53:19,795 [INFO ] W-9000-model com.amazonaws.ml.mms.wlm.WorkerThread - Backend response time: 786\n",
      "\u001b[36malgo-1-hiu5v_1  |\u001b[0m 2020-04-22 21:53:19,795 [INFO ] W-9000-model com.amazonaws.ml.mms.wlm.WorkerThread - Backend response time: 786\n",
      "\u001b[36malgo-1-hiu5v_1  |\u001b[0m 2020-04-22 21:53:19,795 [INFO ] W-9000-model com.amazonaws.ml.mms.wlm.WorkerThread - Backend response time: 783\n",
      "\u001b[36malgo-1-hiu5v_1  |\u001b[0m 2020-04-22 21:53:19,795 [INFO ] W-9000-model com.amazonaws.ml.mms.wlm.WorkerThread - Backend response time: 787\n",
      "\u001b[36malgo-1-hiu5v_1  |\u001b[0m 2020-04-22 21:53:19,795 [INFO ] W-9000-model com.amazonaws.ml.mms.wlm.WorkerThread - Backend response time: 787\n",
      "\u001b[36malgo-1-hiu5v_1  |\u001b[0m 2020-04-22 21:53:19,796 [INFO ] W-9000-model com.amazonaws.ml.mms.wlm.WorkerThread - Backend response time: 785\n",
      "\u001b[36malgo-1-hiu5v_1  |\u001b[0m 2020-04-22 21:53:19,795 [INFO ] W-9000-model com.amazonaws.ml.mms.wlm.WorkerThread - Backend response time: 787\n",
      "\u001b[36malgo-1-hiu5v_1  |\u001b[0m 2020-04-22 21:53:19,795 [INFO ] W-9000-model com.amazonaws.ml.mms.wlm.WorkerThread - Backend response time: 786\n",
      "\u001b[36malgo-1-hiu5v_1  |\u001b[0m 2020-04-22 21:53:19,796 [INFO ] W-9000-model com.amazonaws.ml.mms.wlm.WorkerThread - Backend response time: 783\n",
      "\u001b[36malgo-1-hiu5v_1  |\u001b[0m 2020-04-22 21:53:19,795 [INFO ] W-9000-model com.amazonaws.ml.mms.wlm.WorkerThread - Backend response time: 785\n",
      "\u001b[36malgo-1-hiu5v_1  |\u001b[0m 2020-04-22 21:53:19,796 [INFO ] W-9000-model com.amazonaws.ml.mms.wlm.WorkerThread - Backend response time: 788\n",
      "\u001b[36malgo-1-hiu5v_1  |\u001b[0m 2020-04-22 21:53:19,796 [INFO ] W-9000-model com.amazonaws.ml.mms.wlm.WorkerThread - Backend response time: 783\n",
      "\u001b[36malgo-1-hiu5v_1  |\u001b[0m 2020-04-22 21:53:19,795 [INFO ] W-9000-model com.amazonaws.ml.mms.wlm.WorkerThread - Backend response time: 787\n",
      "\u001b[36malgo-1-hiu5v_1  |\u001b[0m 2020-04-22 21:53:19,796 [INFO ] W-9000-model com.amazonaws.ml.mms.wlm.WorkerThread - Backend response time: 784\n",
      "\u001b[36malgo-1-hiu5v_1  |\u001b[0m 2020-04-22 21:53:19,795 [INFO ] W-9000-model com.amazonaws.ml.mms.wlm.WorkerThread - Backend response time: 787\n",
      "\u001b[36malgo-1-hiu5v_1  |\u001b[0m 2020-04-22 21:53:19,796 [INFO ] W-9000-model com.amazonaws.ml.mms.wlm.WorkerThread - Backend response time: 788\n",
      "\u001b[36malgo-1-hiu5v_1  |\u001b[0m 2020-04-22 21:53:19,795 [INFO ] W-9000-model-stdout com.amazonaws.ml.mms.wlm.WorkerLifeCycle - Model model loaded io_fd=0242acfffe1b0002-00000027-0000000f-5ba4b18d875447e6-3b044ba0\n",
      "\u001b[36malgo-1-hiu5v_1  |\u001b[0m 2020-04-22 21:53:19,795 [INFO ] W-9000-model com.amazonaws.ml.mms.wlm.WorkerThread - Backend response time: 782\n",
      "\u001b[36malgo-1-hiu5v_1  |\u001b[0m 2020-04-22 21:53:19,798 [INFO ] W-9000-model com.amazonaws.ml.mms.wlm.WorkerThread - Backend response time: 788\n",
      "\u001b[36malgo-1-hiu5v_1  |\u001b[0m 2020-04-22 21:53:19,798 [INFO ] W-9000-model-stdout com.amazonaws.ml.mms.wlm.WorkerLifeCycle - loaded\n",
      "\u001b[36malgo-1-hiu5v_1  |\u001b[0m 2020-04-22 21:53:19,798 [INFO ] W-9000-model com.amazonaws.ml.mms.wlm.WorkerThread - Backend response time: 788\n",
      "\u001b[36malgo-1-hiu5v_1  |\u001b[0m 2020-04-22 21:53:19,799 [WARN ] W-9000-model com.amazonaws.ml.mms.wlm.WorkerLifeCycle - attachIOStreams() threadName=W-model-13\n",
      "\u001b[36malgo-1-hiu5v_1  |\u001b[0m 2020-04-22 21:53:19,799 [WARN ] W-9000-model com.amazonaws.ml.mms.wlm.WorkerLifeCycle - attachIOStreams() threadName=W-model-16\n",
      "\u001b[36malgo-1-hiu5v_1  |\u001b[0m 2020-04-22 21:53:19,798 [INFO ] W-9000-model com.amazonaws.ml.mms.wlm.WorkerThread - Backend response time: 789\n",
      "\u001b[36malgo-1-hiu5v_1  |\u001b[0m 2020-04-22 21:53:19,797 [INFO ] W-9000-model com.amazonaws.ml.mms.wlm.WorkerThread - Backend response time: 785\n",
      "\u001b[36malgo-1-hiu5v_1  |\u001b[0m 2020-04-22 21:53:19,796 [INFO ] W-9000-model com.amazonaws.ml.mms.wlm.WorkerThread - Backend response time: 788\n",
      "\u001b[36malgo-1-hiu5v_1  |\u001b[0m 2020-04-22 21:53:19,796 [INFO ] W-9000-model com.amazonaws.ml.mms.wlm.WorkerThread - Backend response time: 785\n",
      "\u001b[36malgo-1-hiu5v_1  |\u001b[0m 2020-04-22 21:53:19,799 [WARN ] W-9000-model com.amazonaws.ml.mms.wlm.WorkerLifeCycle - attachIOStreams() threadName=W-model-11\n",
      "\u001b[36malgo-1-hiu5v_1  |\u001b[0m 2020-04-22 21:53:19,796 [INFO ] W-9000-model com.amazonaws.ml.mms.wlm.WorkerThread - Backend response time: 783\n",
      "\u001b[36malgo-1-hiu5v_1  |\u001b[0m 2020-04-22 21:53:19,796 [INFO ] W-9000-model com.amazonaws.ml.mms.wlm.WorkerThread - Backend response time: 783\n",
      "\u001b[36malgo-1-hiu5v_1  |\u001b[0m 2020-04-22 21:53:19,799 [WARN ] W-9000-model com.amazonaws.ml.mms.wlm.WorkerLifeCycle - attachIOStreams() threadName=W-model-32\n",
      "\u001b[36malgo-1-hiu5v_1  |\u001b[0m 2020-04-22 21:53:19,796 [INFO ] W-9000-model com.amazonaws.ml.mms.wlm.WorkerThread - Backend response time: 784\n",
      "\u001b[36malgo-1-hiu5v_1  |\u001b[0m 2020-04-22 21:53:19,799 [WARN ] W-9000-model com.amazonaws.ml.mms.wlm.WorkerLifeCycle - attachIOStreams() threadName=W-model-4\n",
      "\u001b[36malgo-1-hiu5v_1  |\u001b[0m 2020-04-22 21:53:19,796 [INFO ] W-9000-model com.amazonaws.ml.mms.wlm.WorkerThread - Backend response time: 784\n",
      "\u001b[36malgo-1-hiu5v_1  |\u001b[0m 2020-04-22 21:53:19,799 [WARN ] W-9000-model com.amazonaws.ml.mms.wlm.WorkerLifeCycle - attachIOStreams() threadName=W-model-29\n",
      "\u001b[36malgo-1-hiu5v_1  |\u001b[0m 2020-04-22 21:53:19,796 [INFO ] W-9000-model com.amazonaws.ml.mms.wlm.WorkerThread - Backend response time: 783\n",
      "\u001b[36malgo-1-hiu5v_1  |\u001b[0m 2020-04-22 21:53:19,799 [WARN ] W-9000-model com.amazonaws.ml.mms.wlm.WorkerLifeCycle - attachIOStreams() threadName=W-model-27\n",
      "\u001b[36malgo-1-hiu5v_1  |\u001b[0m 2020-04-22 21:53:19,799 [WARN ] W-9000-model com.amazonaws.ml.mms.wlm.WorkerLifeCycle - attachIOStreams() threadName=W-model-14\n",
      "\u001b[36malgo-1-hiu5v_1  |\u001b[0m 2020-04-22 21:53:19,799 [WARN ] W-9000-model com.amazonaws.ml.mms.wlm.WorkerLifeCycle - attachIOStreams() threadName=W-model-10\n",
      "\u001b[36malgo-1-hiu5v_1  |\u001b[0m 2020-04-22 21:53:19,800 [WARN ] W-9000-model com.amazonaws.ml.mms.wlm.WorkerLifeCycle - attachIOStreams() threadName=W-model-18\n",
      "\u001b[36malgo-1-hiu5v_1  |\u001b[0m 2020-04-22 21:53:19,799 [WARN ] W-9000-model com.amazonaws.ml.mms.wlm.WorkerLifeCycle - attachIOStreams() threadName=W-model-17\n",
      "\u001b[36malgo-1-hiu5v_1  |\u001b[0m 2020-04-22 21:53:19,799 [WARN ] W-9000-model com.amazonaws.ml.mms.wlm.WorkerLifeCycle - attachIOStreams() threadName=W-model-3\n",
      "\u001b[36malgo-1-hiu5v_1  |\u001b[0m 2020-04-22 21:53:19,799 [WARN ] W-9000-model com.amazonaws.ml.mms.wlm.WorkerLifeCycle - attachIOStreams() threadName=W-model-24\n",
      "\u001b[36malgo-1-hiu5v_1  |\u001b[0m 2020-04-22 21:53:19,799 [WARN ] W-9000-model com.amazonaws.ml.mms.wlm.WorkerLifeCycle - attachIOStreams() threadName=W-model-5\n",
      "\u001b[36malgo-1-hiu5v_1  |\u001b[0m 2020-04-22 21:53:19,799 [WARN ] W-9000-model com.amazonaws.ml.mms.wlm.WorkerLifeCycle - attachIOStreams() threadName=W-model-19\n",
      "\u001b[36malgo-1-hiu5v_1  |\u001b[0m 2020-04-22 21:53:19,799 [WARN ] W-9000-model com.amazonaws.ml.mms.wlm.WorkerLifeCycle - attachIOStreams() threadName=W-model-31\n",
      "\u001b[36malgo-1-hiu5v_1  |\u001b[0m 2020-04-22 21:53:19,799 [WARN ] W-9000-model com.amazonaws.ml.mms.wlm.WorkerLifeCycle - attachIOStreams() threadName=W-model-12\n",
      "\u001b[36malgo-1-hiu5v_1  |\u001b[0m 2020-04-22 21:53:19,799 [WARN ] W-9000-model com.amazonaws.ml.mms.wlm.WorkerLifeCycle - attachIOStreams() threadName=W-model-20\n",
      "\u001b[36malgo-1-hiu5v_1  |\u001b[0m 2020-04-22 21:53:19,799 [WARN ] W-9000-model com.amazonaws.ml.mms.wlm.WorkerLifeCycle - attachIOStreams() threadName=W-model-1\n",
      "\u001b[36malgo-1-hiu5v_1  |\u001b[0m 2020-04-22 21:53:19,799 [WARN ] W-9000-model com.amazonaws.ml.mms.wlm.WorkerLifeCycle - attachIOStreams() threadName=W-model-30\n",
      "\u001b[36malgo-1-hiu5v_1  |\u001b[0m 2020-04-22 21:53:19,799 [WARN ] W-9000-model com.amazonaws.ml.mms.wlm.WorkerLifeCycle - attachIOStreams() threadName=W-model-26\n",
      "\u001b[36malgo-1-hiu5v_1  |\u001b[0m 2020-04-22 21:53:19,799 [WARN ] W-9000-model com.amazonaws.ml.mms.wlm.WorkerLifeCycle - attachIOStreams() threadName=W-model-15\n",
      "\u001b[36malgo-1-hiu5v_1  |\u001b[0m 2020-04-22 21:53:19,799 [WARN ] W-9000-model com.amazonaws.ml.mms.wlm.WorkerLifeCycle - attachIOStreams() threadName=W-model-23\n",
      "\u001b[36malgo-1-hiu5v_1  |\u001b[0m 2020-04-22 21:53:19,799 [WARN ] W-9000-model com.amazonaws.ml.mms.wlm.WorkerLifeCycle - attachIOStreams() threadName=W-model-9\n",
      "\u001b[36malgo-1-hiu5v_1  |\u001b[0m 2020-04-22 21:53:19,799 [WARN ] W-9000-model com.amazonaws.ml.mms.wlm.WorkerLifeCycle - attachIOStreams() threadName=W-model-2\n",
      "\u001b[36malgo-1-hiu5v_1  |\u001b[0m 2020-04-22 21:53:19,799 [WARN ] W-9000-model com.amazonaws.ml.mms.wlm.WorkerLifeCycle - attachIOStreams() threadName=W-model-22\n",
      "\u001b[36malgo-1-hiu5v_1  |\u001b[0m 2020-04-22 21:53:19,799 [WARN ] W-9000-model com.amazonaws.ml.mms.wlm.WorkerLifeCycle - attachIOStreams() threadName=W-model-8\n",
      "\u001b[36malgo-1-hiu5v_1  |\u001b[0m 2020-04-22 21:53:19,799 [INFO ] W-9000-model com.amazonaws.ml.mms.wlm.WorkerThread - Backend response time: 788\n",
      "\u001b[36malgo-1-hiu5v_1  |\u001b[0m 2020-04-22 21:53:19,798 [INFO ] W-9000-model-stdout com.amazonaws.ml.mms.wlm.WorkerLifeCycle - loaded model!\n",
      "\u001b[36malgo-1-hiu5v_1  |\u001b[0m 2020-04-22 21:53:19,798 [INFO ] W-9000-model com.amazonaws.ml.mms.wlm.WorkerThread - Backend response time: 790\n",
      "\u001b[36malgo-1-hiu5v_1  |\u001b[0m 2020-04-22 21:53:19,800 [WARN ] W-9000-model com.amazonaws.ml.mms.wlm.WorkerLifeCycle - attachIOStreams() threadName=W-model-28\n",
      "\u001b[36malgo-1-hiu5v_1  |\u001b[0m 2020-04-22 21:53:19,801 [WARN ] W-9000-model com.amazonaws.ml.mms.wlm.WorkerLifeCycle - attachIOStreams() threadName=W-model-7\n",
      "\u001b[36malgo-1-hiu5v_1  |\u001b[0m 2020-04-22 21:53:19,801 [INFO ] W-9000-model-stdout com.amazonaws.ml.mms.wlm.WorkerLifeCycle - Model model loaded io_fd=0242acfffe1b0002-00000027-0000001c-d33e898d875447e7-a5df42fd\n",
      "\u001b[36malgo-1-hiu5v_1  |\u001b[0m 2020-04-22 21:53:19,801 [INFO ] W-9000-model-stdout com.amazonaws.ml.mms.wlm.WorkerLifeCycle - loaded\n",
      "\u001b[36malgo-1-hiu5v_1  |\u001b[0m 2020-04-22 21:53:19,801 [INFO ] W-9000-model-stdout com.amazonaws.ml.mms.wlm.WorkerLifeCycle - loaded model!\n",
      "\u001b[36malgo-1-hiu5v_1  |\u001b[0m 2020-04-22 21:53:19,802 [INFO ] W-9000-model com.amazonaws.ml.mms.wlm.WorkerThread - Backend response time: 794\n",
      "\u001b[36malgo-1-hiu5v_1  |\u001b[0m 2020-04-22 21:53:19,802 [INFO ] W-9000-model-stdout com.amazonaws.ml.mms.wlm.WorkerLifeCycle - Model model loaded io_fd=0242acfffe1b0002-00000027-00000008-775f518d875447e6-43412efd\n",
      "\u001b[36malgo-1-hiu5v_1  |\u001b[0m 2020-04-22 21:53:19,802 [INFO ] W-9000-model-stdout com.amazonaws.ml.mms.wlm.WorkerLifeCycle - loaded\n",
      "\u001b[36malgo-1-hiu5v_1  |\u001b[0m 2020-04-22 21:53:19,802 [INFO ] W-9000-model-stdout com.amazonaws.ml.mms.wlm.WorkerLifeCycle - loaded model!\n",
      "\u001b[36malgo-1-hiu5v_1  |\u001b[0m 2020-04-22 21:53:19,802 [INFO ] W-9000-model-stdout com.amazonaws.ml.mms.wlm.WorkerLifeCycle - Model model loaded io_fd=0242acfffe1b0002-00000027-00000019-63f5098d875447e6-af4e6174\n",
      "\u001b[36malgo-1-hiu5v_1  |\u001b[0m 2020-04-22 21:53:19,802 [INFO ] W-9000-model-stdout com.amazonaws.ml.mms.wlm.WorkerLifeCycle - loaded\n",
      "\u001b[36malgo-1-hiu5v_1  |\u001b[0m 2020-04-22 21:53:19,802 [INFO ] W-9000-model-stdout com.amazonaws.ml.mms.wlm.WorkerLifeCycle - loaded model!\n",
      "\u001b[36malgo-1-hiu5v_1  |\u001b[0m 2020-04-22 21:53:19,803 [INFO ] W-9000-model-stdout com.amazonaws.ml.mms.wlm.WorkerLifeCycle - Model model loaded io_fd=0242acfffe1b0002-00000027-00000014-5600f18d875447e6-67bc150e\n",
      "\u001b[36malgo-1-hiu5v_1  |\u001b[0m 2020-04-22 21:53:19,803 [INFO ] W-9000-model-stdout com.amazonaws.ml.mms.wlm.WorkerLifeCycle - loaded\n",
      "\u001b[36malgo-1-hiu5v_1  |\u001b[0m 2020-04-22 21:53:19,803 [INFO ] W-9000-model-stdout com.amazonaws.ml.mms.wlm.WorkerLifeCycle - loaded model!\n",
      "\u001b[36malgo-1-hiu5v_1  |\u001b[0m 2020-04-22 21:53:19,803 [INFO ] W-9000-model-stdout com.amazonaws.ml.mms.wlm.WorkerLifeCycle - Model model loaded io_fd=0242acfffe1b0002-00000027-0000001a-a9c7098d875447e6-d78b4240\n",
      "\u001b[36malgo-1-hiu5v_1  |\u001b[0m 2020-04-22 21:53:19,803 [INFO ] W-9000-model-stdout com.amazonaws.ml.mms.wlm.WorkerLifeCycle - loaded\n",
      "\u001b[36malgo-1-hiu5v_1  |\u001b[0m 2020-04-22 21:53:19,803 [INFO ] W-9000-model-stdout com.amazonaws.ml.mms.wlm.WorkerLifeCycle - loaded model!\n",
      "\u001b[36malgo-1-hiu5v_1  |\u001b[0m 2020-04-22 21:53:19,803 [INFO ] W-9000-model-stdout com.amazonaws.ml.mms.wlm.WorkerLifeCycle - Model model loaded io_fd=0242acfffe1b0002-00000027-00000009-9392d18d875447e6-cfca1e08\n",
      "\u001b[36malgo-1-hiu5v_1  |\u001b[0m 2020-04-22 21:53:19,803 [INFO ] W-9000-model-stdout com.amazonaws.ml.mms.wlm.WorkerLifeCycle - loaded\n",
      "\u001b[36malgo-1-hiu5v_1  |\u001b[0m 2020-04-22 21:53:19,803 [INFO ] W-9000-model-stdout com.amazonaws.ml.mms.wlm.WorkerLifeCycle - loaded model!\n",
      "\u001b[36malgo-1-hiu5v_1  |\u001b[0m 2020-04-22 21:53:19,803 [INFO ] W-9000-model-stdout com.amazonaws.ml.mms.wlm.WorkerLifeCycle - Model model loaded io_fd=0242acfffe1b0002-00000027-00000006-cdd6518d875447e6-03722ecd\n",
      "\u001b[36malgo-1-hiu5v_1  |\u001b[0m 2020-04-22 21:53:19,803 [INFO ] W-9000-model-stdout com.amazonaws.ml.mms.wlm.WorkerLifeCycle - loaded\n",
      "\u001b[36malgo-1-hiu5v_1  |\u001b[0m 2020-04-22 21:53:19,803 [INFO ] W-9000-model-stdout com.amazonaws.ml.mms.wlm.WorkerLifeCycle - loaded model!\n",
      "\u001b[36malgo-1-hiu5v_1  |\u001b[0m 2020-04-22 21:53:19,803 [INFO ] W-9000-model-stdout com.amazonaws.ml.mms.wlm.WorkerLifeCycle - Model model loaded io_fd=0242acfffe1b0002-00000027-00000002-52e2918d875447e6-37a7f7f5\n",
      "\u001b[36malgo-1-hiu5v_1  |\u001b[0m 2020-04-22 21:53:19,804 [INFO ] W-9000-model-stdout com.amazonaws.ml.mms.wlm.WorkerLifeCycle - loaded\n",
      "\u001b[36malgo-1-hiu5v_1  |\u001b[0m 2020-04-22 21:53:19,804 [INFO ] W-9000-model-stdout com.amazonaws.ml.mms.wlm.WorkerLifeCycle - loaded model!\n",
      "\u001b[36malgo-1-hiu5v_1  |\u001b[0m 2020-04-22 21:53:19,805 [INFO ] W-9000-model-stdout com.amazonaws.ml.mms.wlm.WorkerLifeCycle - Model model loaded io_fd=0242acfffe1b0002-00000027-00000003-4ab1918d875447e6-1b719f87\n",
      "\u001b[36malgo-1-hiu5v_1  |\u001b[0m 2020-04-22 21:53:19,805 [INFO ] W-9000-model-stdout com.amazonaws.ml.mms.wlm.WorkerLifeCycle - loaded\n",
      "\u001b[36malgo-1-hiu5v_1  |\u001b[0m 2020-04-22 21:53:19,805 [INFO ] W-9000-model-stdout com.amazonaws.ml.mms.wlm.WorkerLifeCycle - loaded model!\n",
      "\u001b[36malgo-1-hiu5v_1  |\u001b[0m 2020-04-22 21:53:19,805 [INFO ] W-9000-model-stdout com.amazonaws.ml.mms.wlm.WorkerLifeCycle - Model model loaded io_fd=0242acfffe1b0002-00000027-00000015-ea61f18d875447e6-abf4a21e\n",
      "\u001b[36malgo-1-hiu5v_1  |\u001b[0m 2020-04-22 21:53:19,805 [INFO ] W-9000-model-stdout com.amazonaws.ml.mms.wlm.WorkerLifeCycle - loaded\n",
      "\u001b[36malgo-1-hiu5v_1  |\u001b[0m 2020-04-22 21:53:19,805 [INFO ] W-9000-model-stdout com.amazonaws.ml.mms.wlm.WorkerLifeCycle - loaded model!\n",
      "\u001b[36malgo-1-hiu5v_1  |\u001b[0m 2020-04-22 21:53:19,806 [INFO ] W-9000-model-stdout com.amazonaws.ml.mms.wlm.WorkerLifeCycle - Model model loaded io_fd=0242acfffe1b0002-00000027-00000010-f0b6b18d875447e6-22286cc4\n",
      "\u001b[36malgo-1-hiu5v_1  |\u001b[0m 2020-04-22 21:53:19,806 [INFO ] W-9000-model-stdout com.amazonaws.ml.mms.wlm.WorkerLifeCycle - loaded\n",
      "\u001b[36malgo-1-hiu5v_1  |\u001b[0m 2020-04-22 21:53:19,806 [INFO ] W-9000-model-stdout com.amazonaws.ml.mms.wlm.WorkerLifeCycle - loaded model!\n",
      "\u001b[36malgo-1-hiu5v_1  |\u001b[0m 2020-04-22 21:53:19,806 [INFO ] W-9000-model-stdout com.amazonaws.ml.mms.wlm.WorkerLifeCycle - Model model loaded io_fd=0242acfffe1b0002-00000027-0000001f-8553498d875447e6-7468ce1c\n",
      "\u001b[36malgo-1-hiu5v_1  |\u001b[0m 2020-04-22 21:53:19,806 [INFO ] W-9000-model-stdout com.amazonaws.ml.mms.wlm.WorkerLifeCycle - loaded\n",
      "\u001b[36malgo-1-hiu5v_1  |\u001b[0m 2020-04-22 21:53:19,806 [INFO ] W-9000-model-stdout com.amazonaws.ml.mms.wlm.WorkerLifeCycle - loaded model!\n",
      "\u001b[36malgo-1-hiu5v_1  |\u001b[0m 2020-04-22 21:53:19,806 [INFO ] W-9000-model-stdout com.amazonaws.ml.mms.wlm.WorkerLifeCycle - Model model loaded io_fd=0242acfffe1b0002-00000027-00000005-c2d8518d875447e6-615a62e8\n",
      "\u001b[36malgo-1-hiu5v_1  |\u001b[0m 2020-04-22 21:53:19,806 [INFO ] W-9000-model-stdout com.amazonaws.ml.mms.wlm.WorkerLifeCycle - loaded\n",
      "\u001b[36malgo-1-hiu5v_1  |\u001b[0m 2020-04-22 21:53:19,807 [INFO ] W-9000-model-stdout com.amazonaws.ml.mms.wlm.WorkerLifeCycle - loaded model!\n",
      "\u001b[36malgo-1-hiu5v_1  |\u001b[0m 2020-04-22 21:53:19,807 [INFO ] W-9000-model-stdout com.amazonaws.ml.mms.wlm.WorkerLifeCycle - Model model loaded io_fd=0242acfffe1b0002-00000027-0000000e-be2b318d875447e6-b02a518e\n",
      "\u001b[36malgo-1-hiu5v_1  |\u001b[0m 2020-04-22 21:53:19,807 [INFO ] W-9000-model-stdout com.amazonaws.ml.mms.wlm.WorkerLifeCycle - loaded\n",
      "\u001b[36malgo-1-hiu5v_1  |\u001b[0m 2020-04-22 21:53:19,807 [INFO ] W-9000-model-stdout com.amazonaws.ml.mms.wlm.WorkerLifeCycle - loaded model!\n",
      "\u001b[36malgo-1-hiu5v_1  |\u001b[0m 2020-04-22 21:53:19,807 [INFO ] W-9000-model-stdout com.amazonaws.ml.mms.wlm.WorkerLifeCycle - Model model loaded io_fd=0242acfffe1b0002-00000027-00000007-aced518d875447e6-fd1b0fef\n",
      "\u001b[36malgo-1-hiu5v_1  |\u001b[0m 2020-04-22 21:53:19,807 [INFO ] W-9000-model-stdout com.amazonaws.ml.mms.wlm.WorkerLifeCycle - loaded\n",
      "\u001b[36malgo-1-hiu5v_1  |\u001b[0m 2020-04-22 21:53:19,807 [INFO ] W-9000-model-stdout com.amazonaws.ml.mms.wlm.WorkerLifeCycle - loaded model!\n",
      "\u001b[36malgo-1-hiu5v_1  |\u001b[0m 2020-04-22 21:53:19,808 [INFO ] W-9000-model-stdout com.amazonaws.ml.mms.wlm.WorkerLifeCycle - Model model loaded io_fd=0242acfffe1b0002-00000027-0000000d-38de318d875447e6-b9841d95\n",
      "\u001b[36malgo-1-hiu5v_1  |\u001b[0m 2020-04-22 21:53:19,808 [INFO ] W-9000-model-stdout com.amazonaws.ml.mms.wlm.WorkerLifeCycle - loaded\n",
      "\u001b[36malgo-1-hiu5v_1  |\u001b[0m 2020-04-22 21:53:19,808 [INFO ] W-9000-model-stdout com.amazonaws.ml.mms.wlm.WorkerLifeCycle - loaded model!\n",
      "\u001b[36malgo-1-hiu5v_1  |\u001b[0m 2020-04-22 21:53:19,808 [INFO ] W-9000-model-stdout com.amazonaws.ml.mms.wlm.WorkerLifeCycle - Model model loaded io_fd=0242acfffe1b0002-00000027-00000012-1962718d875447e6-0f00a2d9\n",
      "\u001b[36malgo-1-hiu5v_1  |\u001b[0m 2020-04-22 21:53:19,808 [INFO ] W-9000-model-stdout com.amazonaws.ml.mms.wlm.WorkerLifeCycle - loaded\n",
      "\u001b[36malgo-1-hiu5v_1  |\u001b[0m 2020-04-22 21:53:19,808 [INFO ] W-9000-model-stdout com.amazonaws.ml.mms.wlm.WorkerLifeCycle - loaded model!\n",
      "\u001b[36malgo-1-hiu5v_1  |\u001b[0m 2020-04-22 21:53:19,808 [INFO ] W-9000-model-stdout com.amazonaws.ml.mms.wlm.WorkerLifeCycle - Model model loaded io_fd=0242acfffe1b0002-00000027-0000000b-d027d18d875447e6-a7a2e7f8\n",
      "\u001b[36malgo-1-hiu5v_1  |\u001b[0m 2020-04-22 21:53:19,809 [INFO ] W-9000-model-stdout com.amazonaws.ml.mms.wlm.WorkerLifeCycle - loaded\n",
      "\u001b[36malgo-1-hiu5v_1  |\u001b[0m 2020-04-22 21:53:19,809 [INFO ] W-9000-model-stdout com.amazonaws.ml.mms.wlm.WorkerLifeCycle - loaded model!\n",
      "\u001b[36malgo-1-hiu5v_1  |\u001b[0m 2020-04-22 21:53:19,809 [INFO ] W-9000-model-stdout com.amazonaws.ml.mms.wlm.WorkerLifeCycle - Model model loaded io_fd=0242acfffe1b0002-00000027-00000018-3c8a098d875447e6-2b0edfba\n",
      "\u001b[36malgo-1-hiu5v_1  |\u001b[0m 2020-04-22 21:53:19,809 [INFO ] W-9000-model-stdout com.amazonaws.ml.mms.wlm.WorkerLifeCycle - loaded\n",
      "\u001b[36malgo-1-hiu5v_1  |\u001b[0m 2020-04-22 21:53:19,809 [INFO ] W-9000-model-stdout com.amazonaws.ml.mms.wlm.WorkerLifeCycle - loaded model!\n",
      "\u001b[36malgo-1-hiu5v_1  |\u001b[0m 2020-04-22 21:53:19,809 [INFO ] W-9000-model-stdout com.amazonaws.ml.mms.wlm.WorkerLifeCycle - Model model loaded io_fd=0242acfffe1b0002-00000027-00000000-4f8f118d875447e6-c91807d6\n",
      "\u001b[36malgo-1-hiu5v_1  |\u001b[0m 2020-04-22 21:53:19,812 [INFO ] W-9000-model-stdout com.amazonaws.ml.mms.wlm.WorkerLifeCycle - loaded\n",
      "\u001b[36malgo-1-hiu5v_1  |\u001b[0m 2020-04-22 21:53:19,812 [INFO ] W-9000-model-stdout com.amazonaws.ml.mms.wlm.WorkerLifeCycle - loaded model!\n",
      "\u001b[36malgo-1-hiu5v_1  |\u001b[0m 2020-04-22 21:53:19,812 [INFO ] W-9000-model-stdout com.amazonaws.ml.mms.wlm.WorkerLifeCycle - Model model loaded io_fd=0242acfffe1b0002-00000027-00000017-4550098d875447e6-3938bc30\n",
      "\u001b[36malgo-1-hiu5v_1  |\u001b[0m 2020-04-22 21:53:19,812 [INFO ] W-9000-model com.amazonaws.ml.mms.wlm.WorkerThread - Backend response time: 799\n",
      "\u001b[36malgo-1-hiu5v_1  |\u001b[0m 2020-04-22 21:53:19,824 [WARN ] W-9000-model com.amazonaws.ml.mms.wlm.WorkerLifeCycle - attachIOStreams() threadName=W-model-25\n",
      "\u001b[36malgo-1-hiu5v_1  |\u001b[0m 2020-04-22 21:53:19,824 [WARN ] W-9000-model com.amazonaws.ml.mms.wlm.WorkerLifeCycle - attachIOStreams() threadName=W-model-6\n",
      "\u001b[36malgo-1-hiu5v_1  |\u001b[0m 2020-04-22 21:53:19,824 [WARN ] W-9000-model com.amazonaws.ml.mms.wlm.WorkerLifeCycle - attachIOStreams() threadName=W-model-21\n"
     ]
    },
    {
     "name": "stdout",
     "output_type": "stream",
     "text": [
      "\u001b[32m●∙∙\u001b[0m \u001b[K\u001b[36malgo-1-hiu5v_1  |\u001b[0m 2020-04-22 21:53:21,446 [INFO ] pool-1-thread-34 ACCESS_LOG - /172.27.0.1:53460 \"GET /ping HTTP/1.1\" 200 9\n",
      "\u001b[K0:04:34.486602 | deployed model\n",
      "\u001b[K\u001b[32m0:04:34.486770 | Done! ✔\u001b[0m \n"
     ]
    }
   ],
   "source": [
    "ez = ezsmdeploy.Deploy(model = ['s3://ezsmdeploy/pytorchmnist/model.tar.gz'], #loading pretrained MNIST model from S3\n",
    "                  script = 'modelscript_pytorch.py',\n",
    "                  requirements = ['numpy','torch','joblib'], #or pass in the path to requirements.txt\n",
    "                  instance_type = 'local',\n",
    "                  wait = True)"
   ]
  },
  {
   "cell_type": "markdown",
   "metadata": {},
   "source": [
    "## Test containerized version locally"
   ]
  },
  {
   "cell_type": "markdown",
   "metadata": {},
   "source": [
    "Since you are downloading this model from a hub, the first time you invoke it will be slow, so invoke again to get an inference without all of the container logs"
   ]
  },
  {
   "cell_type": "code",
   "execution_count": 15,
   "metadata": {},
   "outputs": [
    {
     "name": "stdout",
     "output_type": "stream",
     "text": [
      "\u001b[36malgo-1-hiu5v_1  |\u001b[0m 2020-04-22 21:53:27,141 [INFO ] W-9000-model com.amazonaws.ml.mms.wlm.WorkerThread - Backend response time: 4\r\n",
      "\u001b[36malgo-1-hiu5v_1  |\u001b[0m 2020-04-22 21:53:27,141 [INFO ] W-model-4-stdout com.amazonaws.ml.mms.wlm.WorkerLifeCycle - <class 'numpy.ndarray'>\r\n",
      "\u001b[36malgo-1-hiu5v_1  |\u001b[0m 2020-04-22 21:53:27,141 [INFO ] W-9000-model ACCESS_LOG - /172.27.0.1:53464 \"POST /invocations HTTP/1.1\" 200 6\r\n"
     ]
    },
    {
     "data": {
      "text/plain": [
       "'3'"
      ]
     },
     "execution_count": 15,
     "metadata": {},
     "output_type": "execute_result"
    }
   ],
   "source": [
    "out = ez.predictor.predict(image.tobytes()).decode()\n",
    "out"
   ]
  },
  {
   "cell_type": "markdown",
   "metadata": {},
   "source": [
    "## Deploy on SageMaker"
   ]
  },
  {
   "cell_type": "code",
   "execution_count": 16,
   "metadata": {},
   "outputs": [
    {
     "name": "stdout",
     "output_type": "stream",
     "text": [
      "\u001b[K0:00:00.143132 | compressed model(s)\n",
      "\u001b[K0:00:00.403894 | uploaded model tarball(s) ; check returned modelpath\n",
      "\u001b[K0:00:00.404948 | added requirements file\n",
      "\u001b[K0:00:00.406745 | added source file\n",
      "\u001b[K0:00:00.408180 | added Dockerfile\n",
      "\u001b[K0:00:00.409959 | added model_handler and docker utils\n",
      "\u001b[K0:00:00.410072 | building docker container\n",
      "\u001b[K0:01:59.298091 | built docker container\n",
      "\u001b[K0:01:59.647986 | created model(s). Now deploying on ml.m5.xlarge\n",
      "\u001b[K0:09:31.904897 | deployed model\n",
      "\u001b[K0:09:31.905450 | estimated cost is $0.3 per hour\n",
      "\u001b[K\u001b[32m0:09:31.905805 | Done! ✔\u001b[0m \n"
     ]
    }
   ],
   "source": [
    "ezonsm = ezsmdeploy.Deploy(model = ['s3://ezsmdeploy/pytorchmnist/model.tar.gz'],\n",
    "                  script = 'modelscript_pytorch.py',\n",
    "                  requirements = ['numpy','torch','joblib'], #or pass in the path to requirements.txt\n",
    "                  wait = True,\n",
    "                  ei = 'ml.eia2.medium') # Add a GPU accelerator"
   ]
  },
  {
   "cell_type": "code",
   "execution_count": 18,
   "metadata": {},
   "outputs": [
    {
     "data": {
      "text/plain": [
       "'3'"
      ]
     },
     "execution_count": 18,
     "metadata": {},
     "output_type": "execute_result"
    }
   ],
   "source": [
    "out = ezonsm.predictor.predict(image.tobytes(), target_model='model1.tar.gz').decode() \n",
    "out"
   ]
  },
  {
   "cell_type": "code",
   "execution_count": 19,
   "metadata": {},
   "outputs": [],
   "source": [
    "ezonsm.predictor.delete_endpoint()"
   ]
  }
 ],
 "metadata": {
  "kernelspec": {
   "display_name": "conda_python3",
   "language": "python",
   "name": "conda_python3"
  },
  "language_info": {
   "codemirror_mode": {
    "name": "ipython",
    "version": 3
   },
   "file_extension": ".py",
   "mimetype": "text/x-python",
   "name": "python",
   "nbconvert_exporter": "python",
   "pygments_lexer": "ipython3",
   "version": "3.6.5"
  }
 },
 "nbformat": 4,
 "nbformat_minor": 4
}
