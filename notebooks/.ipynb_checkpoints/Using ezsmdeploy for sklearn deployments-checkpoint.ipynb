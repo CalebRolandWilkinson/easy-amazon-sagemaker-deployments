{
 "cells": [
  {
   "cell_type": "markdown",
   "metadata": {},
   "source": [
    "## Train a model locally or remote"
   ]
  },
  {
   "cell_type": "code",
   "execution_count": 2,
   "metadata": {},
   "outputs": [
    {
     "data": {
      "text/plain": [
       "array([8])"
      ]
     },
     "execution_count": 2,
     "metadata": {},
     "output_type": "execute_result"
    }
   ],
   "source": [
    "from sklearn import datasets, svm\n",
    "digits = datasets.load_digits()\n",
    "clf = svm.SVC(gamma=0.001, C=100.,probability=True)\n",
    "clf.fit(digits.data[:-1], digits.target[:-1])\n",
    "clf.predict(digits.data[-1:])"
   ]
  },
  {
   "cell_type": "markdown",
   "metadata": {},
   "source": [
    "### Save model file"
   ]
  },
  {
   "cell_type": "code",
   "execution_count": 3,
   "metadata": {},
   "outputs": [
    {
     "data": {
      "text/plain": [
       "['model.joblib']"
      ]
     },
     "execution_count": 3,
     "metadata": {},
     "output_type": "execute_result"
    }
   ],
   "source": [
    "from joblib import dump\n",
    "dump(clf, 'model.joblib')"
   ]
  },
  {
   "cell_type": "markdown",
   "metadata": {},
   "source": [
    "## Step 1 : Write a model transform script\n",
    "\n",
    "#### Make sure you have a ...\n",
    "\n",
    "- \"load_model\" function\n",
    "    - input args are model path\n",
    "    - returns loaded model object\n",
    "    - model name is the same as what you saved the model file as (see above step)\n",
    "<br><br>\n",
    "- \"predict\" function\n",
    "    - input args are the loaded model object and a payload\n",
    "    - returns the result of model.predict\n",
    "    - make sure you format it as a single (or multiple) string return inside a list for real time (for mini batch)\n",
    "    - from a client, a list  or string or np.array that is sent for prediction is interpreted as bytes. Do what you have to for converting back to list or string or np.array\n",
    "    - return the error for debugging\n"
   ]
  },
  {
   "cell_type": "code",
   "execution_count": 4,
   "metadata": {},
   "outputs": [
    {
     "name": "stdout",
     "output_type": "stream",
     "text": [
      "Writing modelscript_sklearn.py\n"
     ]
    }
   ],
   "source": [
    "%%writefile modelscript_sklearn.py\n",
    "import sklearn\n",
    "from joblib import load\n",
    "import numpy as np\n",
    "import os\n",
    "\n",
    "#Return loaded model\n",
    "def load_model(modelpath):\n",
    "    print(modelpath)\n",
    "    clf = load(os.path.join(modelpath,'model.joblib'))\n",
    "    print(\"loaded\")\n",
    "    return clf\n",
    "\n",
    "# return prediction based on loaded model (from the step above) and an input payload\n",
    "def predict(model, payload):\n",
    "    try:\n",
    "        # locally, payload may come in as an np.ndarray\n",
    "        if type(payload)==np.ndarray:\n",
    "            out = [str(model.predict(np.frombuffer(payload).reshape((1,64))))]\n",
    "        # in remote / container based deployment, payload comes in as a stream of bytes\n",
    "        else:\n",
    "            out = [str(model.predict(np.frombuffer(payload[0]['body']).reshape((1,64))))]\n",
    "    except Exception as e:\n",
    "        out = [type(payload),str(e)] #useful for debugging!\n",
    "    \n",
    "    return out"
   ]
  },
  {
   "cell_type": "markdown",
   "metadata": {},
   "source": [
    "## Does this work locally? (not \"_in a container locally_\", but _actually_ in local)"
   ]
  },
  {
   "cell_type": "code",
   "execution_count": 5,
   "metadata": {},
   "outputs": [
    {
     "name": "stdout",
     "output_type": "stream",
     "text": [
      ".\n",
      "loaded\n"
     ]
    }
   ],
   "source": [
    "from modelscript_sklearn import *\n",
    "model = load_model('.')"
   ]
  },
  {
   "cell_type": "code",
   "execution_count": 6,
   "metadata": {},
   "outputs": [
    {
     "data": {
      "text/plain": [
       "'[8]'"
      ]
     },
     "execution_count": 6,
     "metadata": {},
     "output_type": "execute_result"
    }
   ],
   "source": [
    "predict(model,digits.data[-1:])[0]"
   ]
  },
  {
   "cell_type": "markdown",
   "metadata": {},
   "source": [
    "### ok great! Now let's install ezsmdeploy"
   ]
  },
  {
   "cell_type": "markdown",
   "metadata": {},
   "source": [
    "_[To Do]_: currently local; replace with pip version!"
   ]
  },
  {
   "cell_type": "code",
   "execution_count": 7,
   "metadata": {},
   "outputs": [
    {
     "name": "stdout",
     "output_type": "stream",
     "text": [
      "Collecting ezsmdeploy\n",
      "  Downloading ezsmdeploy-0.1.5-py3-none-any.whl (22 kB)\n",
      "Requirement already satisfied: locustio==0.14.5 in /home/ec2-user/anaconda3/envs/python3/lib/python3.6/site-packages (from ezsmdeploy) (0.14.5)\n",
      "Requirement already satisfied: sagemaker>=1.55.3 in /home/ec2-user/anaconda3/envs/python3/lib/python3.6/site-packages (from ezsmdeploy) (1.55.4)\n",
      "Requirement already satisfied: yaspin==0.16.0 in /home/ec2-user/anaconda3/envs/python3/lib/python3.6/site-packages (from ezsmdeploy) (0.16.0)\n",
      "Requirement already satisfied: shortuuid==1.0.1 in /home/ec2-user/anaconda3/envs/python3/lib/python3.6/site-packages (from ezsmdeploy) (1.0.1)\n",
      "Requirement already satisfied: ConfigArgParse>=1.0 in /home/ec2-user/anaconda3/envs/python3/lib/python3.6/site-packages (from locustio==0.14.5->ezsmdeploy) (1.2.1)\n",
      "Requirement already satisfied: requests>=2.9.1 in /home/ec2-user/anaconda3/envs/python3/lib/python3.6/site-packages (from locustio==0.14.5->ezsmdeploy) (2.23.0)\n",
      "Requirement already satisfied: gevent==1.5a3 in /home/ec2-user/anaconda3/envs/python3/lib/python3.6/site-packages (from locustio==0.14.5->ezsmdeploy) (1.5a3)\n",
      "Requirement already satisfied: msgpack>=0.6.2 in /home/ec2-user/anaconda3/envs/python3/lib/python3.6/site-packages (from locustio==0.14.5->ezsmdeploy) (1.0.0)\n",
      "Requirement already satisfied: geventhttpclient-wheels==1.3.1.dev2 in /home/ec2-user/anaconda3/envs/python3/lib/python3.6/site-packages (from locustio==0.14.5->ezsmdeploy) (1.3.1.dev2)\n",
      "Requirement already satisfied: pyzmq>=16.0.2 in /home/ec2-user/anaconda3/envs/python3/lib/python3.6/site-packages (from locustio==0.14.5->ezsmdeploy) (19.0.0)\n",
      "Requirement already satisfied: psutil>=5.6.7 in /home/ec2-user/anaconda3/envs/python3/lib/python3.6/site-packages (from locustio==0.14.5->ezsmdeploy) (5.7.0)\n",
      "Requirement already satisfied: flask>=0.10.1 in /home/ec2-user/anaconda3/envs/python3/lib/python3.6/site-packages (from locustio==0.14.5->ezsmdeploy) (1.0.2)\n",
      "Requirement already satisfied: protobuf>=3.1 in /home/ec2-user/anaconda3/envs/python3/lib/python3.6/site-packages (from sagemaker>=1.55.3->ezsmdeploy) (3.11.3)\n",
      "Requirement already satisfied: packaging>=20.0 in /home/ec2-user/anaconda3/envs/python3/lib/python3.6/site-packages (from sagemaker>=1.55.3->ezsmdeploy) (20.1)\n",
      "Requirement already satisfied: boto3>=1.10.44 in /home/ec2-user/anaconda3/envs/python3/lib/python3.6/site-packages (from sagemaker>=1.55.3->ezsmdeploy) (1.12.42)\n",
      "Requirement already satisfied: smdebug-rulesconfig==0.1.2 in /home/ec2-user/anaconda3/envs/python3/lib/python3.6/site-packages (from sagemaker>=1.55.3->ezsmdeploy) (0.1.2)\n",
      "Requirement already satisfied: numpy>=1.9.0 in /home/ec2-user/anaconda3/envs/python3/lib/python3.6/site-packages (from sagemaker>=1.55.3->ezsmdeploy) (1.18.2)\n",
      "Requirement already satisfied: importlib-metadata>=1.4.0 in /home/ec2-user/anaconda3/envs/python3/lib/python3.6/site-packages (from sagemaker>=1.55.3->ezsmdeploy) (1.5.0)\n",
      "Requirement already satisfied: protobuf3-to-dict>=0.1.5 in /home/ec2-user/anaconda3/envs/python3/lib/python3.6/site-packages (from sagemaker>=1.55.3->ezsmdeploy) (0.1.5)\n",
      "Requirement already satisfied: scipy>=0.19.0 in /home/ec2-user/anaconda3/envs/python3/lib/python3.6/site-packages (from sagemaker>=1.55.3->ezsmdeploy) (1.4.1)\n",
      "Requirement already satisfied: urllib3!=1.25.0,!=1.25.1,<1.26,>=1.21.1 in /home/ec2-user/anaconda3/envs/python3/lib/python3.6/site-packages (from requests>=2.9.1->locustio==0.14.5->ezsmdeploy) (1.23)\n",
      "Requirement already satisfied: chardet<4,>=3.0.2 in /home/ec2-user/anaconda3/envs/python3/lib/python3.6/site-packages (from requests>=2.9.1->locustio==0.14.5->ezsmdeploy) (3.0.4)\n",
      "Requirement already satisfied: idna<3,>=2.5 in /home/ec2-user/anaconda3/envs/python3/lib/python3.6/site-packages (from requests>=2.9.1->locustio==0.14.5->ezsmdeploy) (2.6)\n",
      "Requirement already satisfied: certifi>=2017.4.17 in /home/ec2-user/anaconda3/envs/python3/lib/python3.6/site-packages (from requests>=2.9.1->locustio==0.14.5->ezsmdeploy) (2019.11.28)\n",
      "Requirement already satisfied: greenlet>=0.4.14; platform_python_implementation == \"CPython\" in /home/ec2-user/.local/lib/python3.6/site-packages (from gevent==1.5a3->locustio==0.14.5->ezsmdeploy) (0.4.15)\n",
      "Requirement already satisfied: six in /home/ec2-user/anaconda3/envs/python3/lib/python3.6/site-packages (from geventhttpclient-wheels==1.3.1.dev2->locustio==0.14.5->ezsmdeploy) (1.14.0)\n",
      "Requirement already satisfied: Werkzeug>=0.14 in /home/ec2-user/anaconda3/envs/python3/lib/python3.6/site-packages (from flask>=0.10.1->locustio==0.14.5->ezsmdeploy) (0.14.1)\n",
      "Requirement already satisfied: itsdangerous>=0.24 in /home/ec2-user/anaconda3/envs/python3/lib/python3.6/site-packages (from flask>=0.10.1->locustio==0.14.5->ezsmdeploy) (0.24)\n",
      "Requirement already satisfied: click>=5.1 in /home/ec2-user/anaconda3/envs/python3/lib/python3.6/site-packages (from flask>=0.10.1->locustio==0.14.5->ezsmdeploy) (6.7)\n",
      "Requirement already satisfied: Jinja2>=2.10 in /home/ec2-user/anaconda3/envs/python3/lib/python3.6/site-packages (from flask>=0.10.1->locustio==0.14.5->ezsmdeploy) (2.10)\n",
      "Requirement already satisfied: setuptools in /home/ec2-user/.local/lib/python3.6/site-packages (from protobuf>=3.1->sagemaker>=1.55.3->ezsmdeploy) (46.1.3)\n",
      "Requirement already satisfied: pyparsing>=2.0.2 in /home/ec2-user/anaconda3/envs/python3/lib/python3.6/site-packages (from packaging>=20.0->sagemaker>=1.55.3->ezsmdeploy) (2.2.0)\n",
      "Requirement already satisfied: jmespath<1.0.0,>=0.7.1 in /home/ec2-user/anaconda3/envs/python3/lib/python3.6/site-packages (from boto3>=1.10.44->sagemaker>=1.55.3->ezsmdeploy) (0.9.4)\n",
      "Requirement already satisfied: s3transfer<0.4.0,>=0.3.0 in /home/ec2-user/anaconda3/envs/python3/lib/python3.6/site-packages (from boto3>=1.10.44->sagemaker>=1.55.3->ezsmdeploy) (0.3.3)\n",
      "Requirement already satisfied: botocore<1.16.0,>=1.15.42 in /home/ec2-user/anaconda3/envs/python3/lib/python3.6/site-packages (from boto3>=1.10.44->sagemaker>=1.55.3->ezsmdeploy) (1.15.42)\n",
      "Requirement already satisfied: zipp>=0.5 in /home/ec2-user/anaconda3/envs/python3/lib/python3.6/site-packages (from importlib-metadata>=1.4.0->sagemaker>=1.55.3->ezsmdeploy) (3.0.0)\n",
      "Requirement already satisfied: MarkupSafe>=0.23 in /home/ec2-user/anaconda3/envs/python3/lib/python3.6/site-packages (from Jinja2>=2.10->flask>=0.10.1->locustio==0.14.5->ezsmdeploy) (1.0)\n",
      "Requirement already satisfied: python-dateutil<3.0.0,>=2.1 in /home/ec2-user/anaconda3/envs/python3/lib/python3.6/site-packages (from botocore<1.16.0,>=1.15.42->boto3>=1.10.44->sagemaker>=1.55.3->ezsmdeploy) (2.8.0)\n",
      "Requirement already satisfied: docutils<0.16,>=0.10 in /home/ec2-user/anaconda3/envs/python3/lib/python3.6/site-packages (from botocore<1.16.0,>=1.15.42->boto3>=1.10.44->sagemaker>=1.55.3->ezsmdeploy) (0.14)\n",
      "Installing collected packages: ezsmdeploy\n",
      "Successfully installed ezsmdeploy-0.1.5\n"
     ]
    }
   ],
   "source": [
    "!pip install ezsmdeploy"
   ]
  },
  {
   "cell_type": "code",
   "execution_count": 8,
   "metadata": {},
   "outputs": [],
   "source": [
    "import ezsmdeploy"
   ]
  },
  {
   "cell_type": "markdown",
   "metadata": {},
   "source": [
    "#### If you have been running other inference containers in local mode, stop existing containers to avoid conflict"
   ]
  },
  {
   "cell_type": "code",
   "execution_count": 9,
   "metadata": {},
   "outputs": [],
   "source": [
    "!docker container stop $(docker container ls -aq) >/dev/null"
   ]
  },
  {
   "cell_type": "markdown",
   "metadata": {},
   "source": [
    "## Deploy locally"
   ]
  },
  {
   "cell_type": "code",
   "execution_count": 10,
   "metadata": {},
   "outputs": [
    {
     "name": "stdout",
     "output_type": "stream",
     "text": [
      "\u001b[K0:00:00.173237 | compressed model(s)\n",
      "\u001b[K0:00:00.290870 | uploaded model tarball(s) ; check returned modelpath\n",
      "\u001b[K0:00:00.291546 | added requirements file\n",
      "\u001b[K0:00:00.293983 | added source file\n",
      "\u001b[K0:00:00.295481 | added Dockerfile\n",
      "\u001b[K0:00:00.297214 | added model_handler and docker utils\n",
      "\u001b[K0:00:00.297534 | building docker container\n",
      "\u001b[K0:00:32.129171 | built docker container\n",
      "\u001b[K0:00:32.440199 | created model(s). Now deploying on local\n",
      "\u001b[32m∙∙●\u001b[0m \u001b[KAttaching to tmp5e8azlgi_algo-1-xszgz_1\n",
      "\u001b[36malgo-1-xszgz_1  |\u001b[0m Warning: Calling MMS with mxnet-model-server. Please move to multi-model-server.\n",
      "\u001b[32m●∙∙\u001b[0m \u001b[K\u001b[36malgo-1-xszgz_1  |\u001b[0m 2020-04-23 22:12:12,760 [INFO ] main com.amazonaws.ml.mms.ModelServer - \n",
      "\u001b[36malgo-1-xszgz_1  |\u001b[0m MMS Home: /usr/local/lib/python3.5/dist-packages\n",
      "\u001b[36malgo-1-xszgz_1  |\u001b[0m Current directory: /\n",
      "\u001b[36malgo-1-xszgz_1  |\u001b[0m Temp directory: /tmp\n",
      "\u001b[36malgo-1-xszgz_1  |\u001b[0m Number of GPUs: 0\n",
      "\u001b[36malgo-1-xszgz_1  |\u001b[0m Number of CPUs: 32\n",
      "\u001b[36malgo-1-xszgz_1  |\u001b[0m Max heap size: 27305 M\n",
      "\u001b[36malgo-1-xszgz_1  |\u001b[0m Python executable: /usr/bin/python3\n",
      "\u001b[36malgo-1-xszgz_1  |\u001b[0m Config file: /etc/sagemaker-mms.properties\n",
      "\u001b[36malgo-1-xszgz_1  |\u001b[0m Inference address: http://0.0.0.0:8080\n",
      "\u001b[36malgo-1-xszgz_1  |\u001b[0m Management address: http://0.0.0.0:8080\n",
      "\u001b[36malgo-1-xszgz_1  |\u001b[0m Model Store: /.sagemaker/mms/models\n",
      "\u001b[36malgo-1-xszgz_1  |\u001b[0m Initial Models: ALL\n",
      "\u001b[36malgo-1-xszgz_1  |\u001b[0m Log dir: /logs\n",
      "\u001b[36malgo-1-xszgz_1  |\u001b[0m Metrics dir: /logs\n",
      "\u001b[36malgo-1-xszgz_1  |\u001b[0m Netty threads: 0\n",
      "\u001b[36malgo-1-xszgz_1  |\u001b[0m Netty client threads: 0\n",
      "\u001b[36malgo-1-xszgz_1  |\u001b[0m Default workers per model: 32\n",
      "\u001b[36malgo-1-xszgz_1  |\u001b[0m Blacklist Regex: N/A\n",
      "\u001b[36malgo-1-xszgz_1  |\u001b[0m Maximum Response Size: 6553500\n",
      "\u001b[36malgo-1-xszgz_1  |\u001b[0m Maximum Request Size: 6553500\n",
      "\u001b[36malgo-1-xszgz_1  |\u001b[0m Preload model: false\n",
      "\u001b[36malgo-1-xszgz_1  |\u001b[0m Prefer direct buffer: false\n",
      "\u001b[32m∙●∙\u001b[0m \u001b[K\u001b[36malgo-1-xszgz_1  |\u001b[0m 2020-04-23 22:12:12,835 [WARN ] W-9000-model com.amazonaws.ml.mms.wlm.WorkerLifeCycle - attachIOStreams() threadName=W-9000-model\n",
      "\u001b[32m∙∙●\u001b[0m \u001b[K\u001b[36malgo-1-xszgz_1  |\u001b[0m 2020-04-23 22:12:12,936 [INFO ] W-9000-model-stdout com.amazonaws.ml.mms.wlm.WorkerLifeCycle - model_service_worker started with args: --sock-type unix --sock-name /tmp/.mms.sock.9000 --handler /home/model-server/model_handler.py:handle --model-path /.sagemaker/mms/models/model --model-name model --preload-model false --tmp-dir /tmp\n",
      "\u001b[36malgo-1-xszgz_1  |\u001b[0m 2020-04-23 22:12:12,937 [INFO ] W-9000-model-stdout com.amazonaws.ml.mms.wlm.WorkerLifeCycle - Listening on port: /tmp/.mms.sock.9000\n",
      "\u001b[36malgo-1-xszgz_1  |\u001b[0m 2020-04-23 22:12:12,937 [INFO ] W-9000-model-stdout com.amazonaws.ml.mms.wlm.WorkerLifeCycle - [PID] 87\n",
      "\u001b[36malgo-1-xszgz_1  |\u001b[0m 2020-04-23 22:12:12,937 [INFO ] W-9000-model-stdout com.amazonaws.ml.mms.wlm.WorkerLifeCycle - MXNet worker started.\n",
      "\u001b[36malgo-1-xszgz_1  |\u001b[0m 2020-04-23 22:12:12,937 [INFO ] W-9000-model-stdout com.amazonaws.ml.mms.wlm.WorkerLifeCycle - Python runtime: 3.5.2\n",
      "\u001b[36malgo-1-xszgz_1  |\u001b[0m 2020-04-23 22:12:12,938 [INFO ] main com.amazonaws.ml.mms.wlm.ModelManager - Model model loaded.\n",
      "\u001b[36malgo-1-xszgz_1  |\u001b[0m 2020-04-23 22:12:12,947 [INFO ] main com.amazonaws.ml.mms.ModelServer - Initialize Inference server with: EpollServerSocketChannel.\n",
      "\u001b[36malgo-1-xszgz_1  |\u001b[0m 2020-04-23 22:12:12,948 [INFO ] W-9000-model com.amazonaws.ml.mms.wlm.WorkerThread - Connecting to: /tmp/.mms.sock.9000\n",
      "\u001b[36malgo-1-xszgz_1  |\u001b[0m 2020-04-23 22:12:12,948 [INFO ] W-9000-model com.amazonaws.ml.mms.wlm.WorkerThread - Connecting to: /tmp/.mms.sock.9000\n",
      "\u001b[36malgo-1-xszgz_1  |\u001b[0m 2020-04-23 22:12:12,948 [INFO ] W-9000-model com.amazonaws.ml.mms.wlm.WorkerThread - Connecting to: /tmp/.mms.sock.9000\n",
      "\u001b[36malgo-1-xszgz_1  |\u001b[0m 2020-04-23 22:12:12,948 [INFO ] W-9000-model com.amazonaws.ml.mms.wlm.WorkerThread - Connecting to: /tmp/.mms.sock.9000\n",
      "\u001b[36malgo-1-xszgz_1  |\u001b[0m 2020-04-23 22:12:12,948 [INFO ] W-9000-model com.amazonaws.ml.mms.wlm.WorkerThread - Connecting to: /tmp/.mms.sock.9000\n",
      "\u001b[36malgo-1-xszgz_1  |\u001b[0m 2020-04-23 22:12:12,948 [INFO ] W-9000-model com.amazonaws.ml.mms.wlm.WorkerThread - Connecting to: /tmp/.mms.sock.9000\n",
      "\u001b[36malgo-1-xszgz_1  |\u001b[0m 2020-04-23 22:12:12,948 [INFO ] W-9000-model com.amazonaws.ml.mms.wlm.WorkerThread - Connecting to: /tmp/.mms.sock.9000\n",
      "\u001b[36malgo-1-xszgz_1  |\u001b[0m 2020-04-23 22:12:12,948 [INFO ] W-9000-model com.amazonaws.ml.mms.wlm.WorkerThread - Connecting to: /tmp/.mms.sock.9000\n",
      "\u001b[36malgo-1-xszgz_1  |\u001b[0m 2020-04-23 22:12:12,948 [INFO ] W-9000-model com.amazonaws.ml.mms.wlm.WorkerThread - Connecting to: /tmp/.mms.sock.9000\n",
      "\u001b[36malgo-1-xszgz_1  |\u001b[0m 2020-04-23 22:12:12,948 [INFO ] W-9000-model com.amazonaws.ml.mms.wlm.WorkerThread - Connecting to: /tmp/.mms.sock.9000\n",
      "\u001b[36malgo-1-xszgz_1  |\u001b[0m 2020-04-23 22:12:12,948 [INFO ] W-9000-model com.amazonaws.ml.mms.wlm.WorkerThread - Connecting to: /tmp/.mms.sock.9000\n",
      "\u001b[36malgo-1-xszgz_1  |\u001b[0m 2020-04-23 22:12:12,948 [INFO ] W-9000-model com.amazonaws.ml.mms.wlm.WorkerThread - Connecting to: /tmp/.mms.sock.9000\n",
      "\u001b[36malgo-1-xszgz_1  |\u001b[0m 2020-04-23 22:12:12,948 [INFO ] W-9000-model com.amazonaws.ml.mms.wlm.WorkerThread - Connecting to: /tmp/.mms.sock.9000\n",
      "\u001b[36malgo-1-xszgz_1  |\u001b[0m 2020-04-23 22:12:12,948 [INFO ] W-9000-model com.amazonaws.ml.mms.wlm.WorkerThread - Connecting to: /tmp/.mms.sock.9000\n",
      "\u001b[36malgo-1-xszgz_1  |\u001b[0m 2020-04-23 22:12:12,948 [INFO ] W-9000-model com.amazonaws.ml.mms.wlm.WorkerThread - Connecting to: /tmp/.mms.sock.9000\n",
      "\u001b[36malgo-1-xszgz_1  |\u001b[0m 2020-04-23 22:12:12,948 [INFO ] W-9000-model com.amazonaws.ml.mms.wlm.WorkerThread - Connecting to: /tmp/.mms.sock.9000\n",
      "\u001b[36malgo-1-xszgz_1  |\u001b[0m 2020-04-23 22:12:12,948 [INFO ] W-9000-model com.amazonaws.ml.mms.wlm.WorkerThread - Connecting to: /tmp/.mms.sock.9000\n",
      "\u001b[36malgo-1-xszgz_1  |\u001b[0m 2020-04-23 22:12:12,948 [INFO ] W-9000-model com.amazonaws.ml.mms.wlm.WorkerThread - Connecting to: /tmp/.mms.sock.9000\n",
      "\u001b[36malgo-1-xszgz_1  |\u001b[0m 2020-04-23 22:12:12,948 [INFO ] W-9000-model com.amazonaws.ml.mms.wlm.WorkerThread - Connecting to: /tmp/.mms.sock.9000\n",
      "\u001b[36malgo-1-xszgz_1  |\u001b[0m 2020-04-23 22:12:12,948 [INFO ] W-9000-model com.amazonaws.ml.mms.wlm.WorkerThread - Connecting to: /tmp/.mms.sock.9000\n",
      "\u001b[36malgo-1-xszgz_1  |\u001b[0m 2020-04-23 22:12:12,948 [INFO ] W-9000-model com.amazonaws.ml.mms.wlm.WorkerThread - Connecting to: /tmp/.mms.sock.9000\n",
      "\u001b[36malgo-1-xszgz_1  |\u001b[0m 2020-04-23 22:12:12,948 [INFO ] W-9000-model com.amazonaws.ml.mms.wlm.WorkerThread - Connecting to: /tmp/.mms.sock.9000\n",
      "\u001b[36malgo-1-xszgz_1  |\u001b[0m 2020-04-23 22:12:12,948 [INFO ] W-9000-model com.amazonaws.ml.mms.wlm.WorkerThread - Connecting to: /tmp/.mms.sock.9000\n",
      "\u001b[36malgo-1-xszgz_1  |\u001b[0m 2020-04-23 22:12:12,948 [INFO ] W-9000-model com.amazonaws.ml.mms.wlm.WorkerThread - Connecting to: /tmp/.mms.sock.9000\n",
      "\u001b[36malgo-1-xszgz_1  |\u001b[0m 2020-04-23 22:12:12,948 [INFO ] W-9000-model com.amazonaws.ml.mms.wlm.WorkerThread - Connecting to: /tmp/.mms.sock.9000\n",
      "\u001b[36malgo-1-xszgz_1  |\u001b[0m 2020-04-23 22:12:12,948 [INFO ] W-9000-model com.amazonaws.ml.mms.wlm.WorkerThread - Connecting to: /tmp/.mms.sock.9000\n",
      "\u001b[36malgo-1-xszgz_1  |\u001b[0m 2020-04-23 22:12:12,948 [INFO ] W-9000-model com.amazonaws.ml.mms.wlm.WorkerThread - Connecting to: /tmp/.mms.sock.9000\n",
      "\u001b[36malgo-1-xszgz_1  |\u001b[0m 2020-04-23 22:12:12,948 [INFO ] W-9000-model com.amazonaws.ml.mms.wlm.WorkerThread - Connecting to: /tmp/.mms.sock.9000\n",
      "\u001b[36malgo-1-xszgz_1  |\u001b[0m 2020-04-23 22:12:12,948 [INFO ] W-9000-model com.amazonaws.ml.mms.wlm.WorkerThread - Connecting to: /tmp/.mms.sock.9000\n",
      "\u001b[36malgo-1-xszgz_1  |\u001b[0m 2020-04-23 22:12:12,948 [INFO ] W-9000-model com.amazonaws.ml.mms.wlm.WorkerThread - Connecting to: /tmp/.mms.sock.9000\n",
      "\u001b[36malgo-1-xszgz_1  |\u001b[0m 2020-04-23 22:12:12,948 [INFO ] W-9000-model com.amazonaws.ml.mms.wlm.WorkerThread - Connecting to: /tmp/.mms.sock.9000\n",
      "\u001b[36malgo-1-xszgz_1  |\u001b[0m 2020-04-23 22:12:12,948 [INFO ] W-9000-model com.amazonaws.ml.mms.wlm.WorkerThread - Connecting to: /tmp/.mms.sock.9000\n",
      "\u001b[36malgo-1-xszgz_1  |\u001b[0m 2020-04-23 22:12:13,029 [INFO ] main com.amazonaws.ml.mms.ModelServer - Inference API bind to: http://0.0.0.0:8080\n",
      "\u001b[36malgo-1-xszgz_1  |\u001b[0m 2020-04-23 22:12:13,030 [INFO ] W-9000-model-stdout com.amazonaws.ml.mms.wlm.WorkerLifeCycle - Connection accepted: /tmp/.mms.sock.9000.\n",
      "\u001b[36malgo-1-xszgz_1  |\u001b[0m Model server started.\n",
      "\u001b[36malgo-1-xszgz_1  |\u001b[0m 2020-04-23 22:12:13,033 [INFO ] W-9000-model-stdout com.amazonaws.ml.mms.wlm.WorkerLifeCycle - Connection accepted: /tmp/.mms.sock.9000.\n"
     ]
    },
    {
     "name": "stdout",
     "output_type": "stream",
     "text": [
      "\u001b[32m∙∙∙\u001b[0m \u001b[K\u001b[36malgo-1-xszgz_1  |\u001b[0m 2020-04-23 22:12:13,035 [INFO ] W-9000-model-stdout com.amazonaws.ml.mms.wlm.WorkerLifeCycle - Connection accepted: /tmp/.mms.sock.9000.\n",
      "\u001b[36malgo-1-xszgz_1  |\u001b[0m 2020-04-23 22:12:13,035 [WARN ] pool-2-thread-1 com.amazonaws.ml.mms.metrics.MetricCollector - worker pid is not available yet.\n",
      "\u001b[36malgo-1-xszgz_1  |\u001b[0m 2020-04-23 22:12:13,036 [INFO ] W-9000-model-stdout com.amazonaws.ml.mms.wlm.WorkerLifeCycle - Connection accepted: /tmp/.mms.sock.9000.\n",
      "\u001b[36malgo-1-xszgz_1  |\u001b[0m 2020-04-23 22:12:13,038 [INFO ] W-9000-model-stdout com.amazonaws.ml.mms.wlm.WorkerLifeCycle - Connection accepted: /tmp/.mms.sock.9000.\n",
      "\u001b[36malgo-1-xszgz_1  |\u001b[0m 2020-04-23 22:12:13,039 [INFO ] W-9000-model-stdout com.amazonaws.ml.mms.wlm.WorkerLifeCycle - Connection accepted: /tmp/.mms.sock.9000.\n",
      "\u001b[36malgo-1-xszgz_1  |\u001b[0m 2020-04-23 22:12:13,040 [INFO ] W-9000-model-stdout com.amazonaws.ml.mms.wlm.WorkerLifeCycle - Connection accepted: /tmp/.mms.sock.9000.\n",
      "\u001b[36malgo-1-xszgz_1  |\u001b[0m 2020-04-23 22:12:13,042 [INFO ] W-9000-model-stdout com.amazonaws.ml.mms.wlm.WorkerLifeCycle - Connection accepted: /tmp/.mms.sock.9000.\n",
      "\u001b[36malgo-1-xszgz_1  |\u001b[0m 2020-04-23 22:12:13,043 [INFO ] W-9000-model-stdout com.amazonaws.ml.mms.wlm.WorkerLifeCycle - Connection accepted: /tmp/.mms.sock.9000.\n",
      "\u001b[36malgo-1-xszgz_1  |\u001b[0m 2020-04-23 22:12:13,044 [INFO ] W-9000-model-stdout com.amazonaws.ml.mms.wlm.WorkerLifeCycle - Connection accepted: /tmp/.mms.sock.9000.\n",
      "\u001b[36malgo-1-xszgz_1  |\u001b[0m 2020-04-23 22:12:13,046 [INFO ] W-9000-model-stdout com.amazonaws.ml.mms.wlm.WorkerLifeCycle - Connection accepted: /tmp/.mms.sock.9000.\n",
      "\u001b[36malgo-1-xszgz_1  |\u001b[0m 2020-04-23 22:12:13,047 [INFO ] W-9000-model-stdout com.amazonaws.ml.mms.wlm.WorkerLifeCycle - Connection accepted: /tmp/.mms.sock.9000.\n",
      "\u001b[36malgo-1-xszgz_1  |\u001b[0m 2020-04-23 22:12:13,049 [INFO ] W-9000-model-stdout com.amazonaws.ml.mms.wlm.WorkerLifeCycle - Connection accepted: /tmp/.mms.sock.9000.\n",
      "\u001b[36malgo-1-xszgz_1  |\u001b[0m 2020-04-23 22:12:13,050 [INFO ] W-9000-model-stdout com.amazonaws.ml.mms.wlm.WorkerLifeCycle - Connection accepted: /tmp/.mms.sock.9000.\n",
      "\u001b[36malgo-1-xszgz_1  |\u001b[0m 2020-04-23 22:12:13,051 [INFO ] W-9000-model-stdout com.amazonaws.ml.mms.wlm.WorkerLifeCycle - Connection accepted: /tmp/.mms.sock.9000.\n",
      "\u001b[36malgo-1-xszgz_1  |\u001b[0m 2020-04-23 22:12:13,053 [INFO ] W-9000-model-stdout com.amazonaws.ml.mms.wlm.WorkerLifeCycle - Connection accepted: /tmp/.mms.sock.9000.\n",
      "\u001b[36malgo-1-xszgz_1  |\u001b[0m 2020-04-23 22:12:13,054 [INFO ] W-9000-model-stdout com.amazonaws.ml.mms.wlm.WorkerLifeCycle - Connection accepted: /tmp/.mms.sock.9000.\n",
      "\u001b[36malgo-1-xszgz_1  |\u001b[0m 2020-04-23 22:12:13,055 [INFO ] W-9000-model-stdout com.amazonaws.ml.mms.wlm.WorkerLifeCycle - Connection accepted: /tmp/.mms.sock.9000.\n",
      "\u001b[36malgo-1-xszgz_1  |\u001b[0m 2020-04-23 22:12:13,057 [INFO ] W-9000-model-stdout com.amazonaws.ml.mms.wlm.WorkerLifeCycle - Connection accepted: /tmp/.mms.sock.9000.\n",
      "\u001b[36malgo-1-xszgz_1  |\u001b[0m 2020-04-23 22:12:13,058 [INFO ] W-9000-model-stdout com.amazonaws.ml.mms.wlm.WorkerLifeCycle - Connection accepted: /tmp/.mms.sock.9000.\n",
      "\u001b[36malgo-1-xszgz_1  |\u001b[0m 2020-04-23 22:12:13,059 [INFO ] W-9000-model-stdout com.amazonaws.ml.mms.wlm.WorkerLifeCycle - Connection accepted: /tmp/.mms.sock.9000.\n",
      "\u001b[36malgo-1-xszgz_1  |\u001b[0m 2020-04-23 22:12:13,061 [INFO ] W-9000-model-stdout com.amazonaws.ml.mms.wlm.WorkerLifeCycle - Connection accepted: /tmp/.mms.sock.9000.\n",
      "\u001b[36malgo-1-xszgz_1  |\u001b[0m 2020-04-23 22:12:13,062 [INFO ] W-9000-model-stdout com.amazonaws.ml.mms.wlm.WorkerLifeCycle - Connection accepted: /tmp/.mms.sock.9000.\n",
      "\u001b[36malgo-1-xszgz_1  |\u001b[0m 2020-04-23 22:12:13,063 [INFO ] W-9000-model-stdout com.amazonaws.ml.mms.wlm.WorkerLifeCycle - Connection accepted: /tmp/.mms.sock.9000.\n",
      "\u001b[36malgo-1-xszgz_1  |\u001b[0m 2020-04-23 22:12:13,097 [INFO ] W-9000-model-stdout com.amazonaws.ml.mms.wlm.WorkerLifeCycle - Connection accepted: /tmp/.mms.sock.9000.\n",
      "\u001b[36malgo-1-xszgz_1  |\u001b[0m 2020-04-23 22:12:13,097 [INFO ] W-9000-model-stdout com.amazonaws.ml.mms.wlm.WorkerLifeCycle - Connection accepted: /tmp/.mms.sock.9000.\n",
      "\u001b[36malgo-1-xszgz_1  |\u001b[0m 2020-04-23 22:12:13,097 [INFO ] W-9000-model-stdout com.amazonaws.ml.mms.wlm.WorkerLifeCycle - Connection accepted: /tmp/.mms.sock.9000.\n",
      "\u001b[36malgo-1-xszgz_1  |\u001b[0m 2020-04-23 22:12:13,097 [INFO ] W-9000-model-stdout com.amazonaws.ml.mms.wlm.WorkerLifeCycle - Connection accepted: /tmp/.mms.sock.9000.\n",
      "\u001b[36malgo-1-xszgz_1  |\u001b[0m 2020-04-23 22:12:13,097 [INFO ] W-9000-model-stdout com.amazonaws.ml.mms.wlm.WorkerLifeCycle - Connection accepted: /tmp/.mms.sock.9000.\n",
      "\u001b[36malgo-1-xszgz_1  |\u001b[0m 2020-04-23 22:12:13,098 [INFO ] W-9000-model-stdout com.amazonaws.ml.mms.wlm.WorkerLifeCycle - Connection accepted: /tmp/.mms.sock.9000.\n",
      "\u001b[36malgo-1-xszgz_1  |\u001b[0m 2020-04-23 22:12:13,098 [INFO ] W-9000-model-stdout com.amazonaws.ml.mms.wlm.WorkerLifeCycle - Connection accepted: /tmp/.mms.sock.9000.\n",
      "\u001b[36malgo-1-xszgz_1  |\u001b[0m 2020-04-23 22:12:13,098 [INFO ] W-9000-model-stdout com.amazonaws.ml.mms.wlm.WorkerLifeCycle - Connection accepted: /tmp/.mms.sock.9000.\n",
      "\u001b[32m∙∙∙\u001b[0m \u001b[K\u001b[36malgo-1-xszgz_1  |\u001b[0m 2020-04-23 22:12:13,902 [INFO ] W-9000-model-stdout com.amazonaws.ml.mms.wlm.WorkerLifeCycle - /.sagemaker/mms/models/model\n",
      "\u001b[36malgo-1-xszgz_1  |\u001b[0m 2020-04-23 22:12:13,902 [INFO ] W-9000-model-stdout com.amazonaws.ml.mms.wlm.WorkerLifeCycle - loaded\n",
      "\u001b[36malgo-1-xszgz_1  |\u001b[0m 2020-04-23 22:12:13,903 [INFO ] W-9000-model-stdout com.amazonaws.ml.mms.wlm.WorkerLifeCycle - loaded model!\n",
      "\u001b[36malgo-1-xszgz_1  |\u001b[0m 2020-04-23 22:12:13,903 [INFO ] W-9000-model-stdout com.amazonaws.ml.mms.wlm.WorkerLifeCycle - Model model loaded io_fd=0242acfffe1b0002-00000027-0000000b-213e8b76aa26f221-7bfe883b\n",
      "\u001b[36malgo-1-xszgz_1  |\u001b[0m 2020-04-23 22:12:13,907 [INFO ] W-9000-model-stdout com.amazonaws.ml.mms.wlm.WorkerLifeCycle - /.sagemaker/mms/models/model\n",
      "\u001b[36malgo-1-xszgz_1  |\u001b[0m 2020-04-23 22:12:13,907 [INFO ] W-9000-model-stdout com.amazonaws.ml.mms.wlm.WorkerLifeCycle - loaded\n",
      "\u001b[36malgo-1-xszgz_1  |\u001b[0m 2020-04-23 22:12:13,907 [INFO ] W-9000-model-stdout com.amazonaws.ml.mms.wlm.WorkerLifeCycle - loaded model!\n",
      "\u001b[36malgo-1-xszgz_1  |\u001b[0m 2020-04-23 22:12:13,907 [INFO ] W-9000-model-stdout com.amazonaws.ml.mms.wlm.WorkerLifeCycle - Model model loaded io_fd=0242acfffe1b0002-00000027-0000000c-39838b76aa26f221-4e572378\n",
      "\u001b[36malgo-1-xszgz_1  |\u001b[0m 2020-04-23 22:12:13,913 [INFO ] W-9000-model com.amazonaws.ml.mms.wlm.WorkerThread - Backend response time: 806\n",
      "\u001b[36malgo-1-xszgz_1  |\u001b[0m 2020-04-23 22:12:13,913 [INFO ] W-9000-model com.amazonaws.ml.mms.wlm.WorkerThread - Backend response time: 806\n",
      "\u001b[36malgo-1-xszgz_1  |\u001b[0m 2020-04-23 22:12:13,916 [INFO ] W-9000-model-stdout com.amazonaws.ml.mms.wlm.WorkerLifeCycle - /.sagemaker/mms/models/model\n",
      "\u001b[36malgo-1-xszgz_1  |\u001b[0m 2020-04-23 22:12:13,916 [INFO ] W-9000-model com.amazonaws.ml.mms.wlm.WorkerThread - Backend response time: 748\n",
      "\u001b[36malgo-1-xszgz_1  |\u001b[0m 2020-04-23 22:12:13,916 [INFO ] W-9000-model-stdout com.amazonaws.ml.mms.wlm.WorkerLifeCycle - loaded\n",
      "\u001b[36malgo-1-xszgz_1  |\u001b[0m 2020-04-23 22:12:13,916 [INFO ] W-9000-model-stdout com.amazonaws.ml.mms.wlm.WorkerLifeCycle - loaded model!\n",
      "\u001b[36malgo-1-xszgz_1  |\u001b[0m 2020-04-23 22:12:13,917 [WARN ] W-9000-model com.amazonaws.ml.mms.wlm.WorkerLifeCycle - attachIOStreams() threadName=W-model-4\n",
      "\u001b[36malgo-1-xszgz_1  |\u001b[0m 2020-04-23 22:12:13,917 [INFO ] W-9000-model-stdout com.amazonaws.ml.mms.wlm.WorkerLifeCycle - Model model loaded io_fd=0242acfffe1b0002-00000027-0000001c-bc6f6b76aa26f222-7afc60c1\n",
      "\u001b[36malgo-1-xszgz_1  |\u001b[0m 2020-04-23 22:12:13,919 [WARN ] W-9000-model com.amazonaws.ml.mms.wlm.WorkerLifeCycle - attachIOStreams() threadName=W-model-1\n",
      "\u001b[36malgo-1-xszgz_1  |\u001b[0m 2020-04-23 22:12:13,920 [WARN ] W-9000-model com.amazonaws.ml.mms.wlm.WorkerLifeCycle - attachIOStreams() threadName=W-model-27\n",
      "\u001b[32m●∙∙\u001b[0m \u001b[K\u001b[36malgo-1-xszgz_1  |\u001b[0m 2020-04-23 22:12:13,928 [INFO ] W-9000-model-stdout com.amazonaws.ml.mms.wlm.WorkerLifeCycle - /.sagemaker/mms/models/model\n",
      "\u001b[36malgo-1-xszgz_1  |\u001b[0m 2020-04-23 22:12:13,928 [INFO ] W-9000-model-stdout com.amazonaws.ml.mms.wlm.WorkerLifeCycle - loaded\n",
      "\u001b[36malgo-1-xszgz_1  |\u001b[0m 2020-04-23 22:12:13,928 [INFO ] W-9000-model com.amazonaws.ml.mms.wlm.WorkerThread - Backend response time: 768\n",
      "\u001b[36malgo-1-xszgz_1  |\u001b[0m 2020-04-23 22:12:13,928 [INFO ] W-9000-model-stdout com.amazonaws.ml.mms.wlm.WorkerLifeCycle - loaded model!\n",
      "\u001b[36malgo-1-xszgz_1  |\u001b[0m 2020-04-23 22:12:13,928 [WARN ] W-9000-model com.amazonaws.ml.mms.wlm.WorkerLifeCycle - attachIOStreams() threadName=W-model-5\n",
      "\u001b[36malgo-1-xszgz_1  |\u001b[0m 2020-04-23 22:12:13,928 [INFO ] W-9000-model-stdout com.amazonaws.ml.mms.wlm.WorkerLifeCycle - Model model loaded io_fd=0242acfffe1b0002-00000027-00000010-3b5f4b76aa26f221-06d5957e\n",
      "\u001b[36malgo-1-xszgz_1  |\u001b[0m 2020-04-23 22:12:13,936 [INFO ] W-9000-model-stdout com.amazonaws.ml.mms.wlm.WorkerLifeCycle - /.sagemaker/mms/models/model\n",
      "\u001b[36malgo-1-xszgz_1  |\u001b[0m 2020-04-23 22:12:13,936 [INFO ] W-9000-model-stdout com.amazonaws.ml.mms.wlm.WorkerLifeCycle - loaded\n",
      "\u001b[36malgo-1-xszgz_1  |\u001b[0m 2020-04-23 22:12:13,936 [INFO ] W-9000-model-stdout com.amazonaws.ml.mms.wlm.WorkerLifeCycle - loaded model!\n",
      "\u001b[36malgo-1-xszgz_1  |\u001b[0m 2020-04-23 22:12:13,936 [INFO ] W-9000-model com.amazonaws.ml.mms.wlm.WorkerThread - Backend response time: 776\n",
      "\u001b[36malgo-1-xszgz_1  |\u001b[0m 2020-04-23 22:12:13,936 [INFO ] W-9000-model-stdout com.amazonaws.ml.mms.wlm.WorkerLifeCycle - Model model loaded io_fd=0242acfffe1b0002-00000027-00000013-cc0c2b76aa26f221-34a59318\n",
      "\u001b[36malgo-1-xszgz_1  |\u001b[0m 2020-04-23 22:12:13,936 [WARN ] W-9000-model com.amazonaws.ml.mms.wlm.WorkerLifeCycle - attachIOStreams() threadName=W-model-22\n",
      "\u001b[36malgo-1-xszgz_1  |\u001b[0m 2020-04-23 22:12:13,939 [INFO ] W-9000-model-stdout com.amazonaws.ml.mms.wlm.WorkerLifeCycle - /.sagemaker/mms/models/model\n",
      "\u001b[36malgo-1-xszgz_1  |\u001b[0m 2020-04-23 22:12:13,939 [INFO ] W-9000-model-stdout com.amazonaws.ml.mms.wlm.WorkerLifeCycle - loaded\n",
      "\u001b[36malgo-1-xszgz_1  |\u001b[0m 2020-04-23 22:12:13,939 [INFO ] W-9000-model com.amazonaws.ml.mms.wlm.WorkerThread - Backend response time: 784\n",
      "\u001b[36malgo-1-xszgz_1  |\u001b[0m 2020-04-23 22:12:13,939 [INFO ] W-9000-model-stdout com.amazonaws.ml.mms.wlm.WorkerLifeCycle - loaded model!\n",
      "\u001b[36malgo-1-xszgz_1  |\u001b[0m 2020-04-23 22:12:13,939 [WARN ] W-9000-model com.amazonaws.ml.mms.wlm.WorkerLifeCycle - attachIOStreams() threadName=W-model-26\n",
      "\u001b[36malgo-1-xszgz_1  |\u001b[0m 2020-04-23 22:12:13,939 [INFO ] W-9000-model-stdout com.amazonaws.ml.mms.wlm.WorkerLifeCycle - Model model loaded io_fd=0242acfffe1b0002-00000027-0000000d-8b984b76aa26f221-dc1318b4\n",
      "\u001b[36malgo-1-xszgz_1  |\u001b[0m 2020-04-23 22:12:13,940 [INFO ] W-9000-model-stdout com.amazonaws.ml.mms.wlm.WorkerLifeCycle - /.sagemaker/mms/models/model\n",
      "\u001b[36malgo-1-xszgz_1  |\u001b[0m 2020-04-23 22:12:13,940 [INFO ] W-9000-model-stdout com.amazonaws.ml.mms.wlm.WorkerLifeCycle - loaded\n",
      "\u001b[36malgo-1-xszgz_1  |\u001b[0m 2020-04-23 22:12:13,941 [INFO ] W-9000-model com.amazonaws.ml.mms.wlm.WorkerThread - Backend response time: 786\n",
      "\u001b[36malgo-1-xszgz_1  |\u001b[0m 2020-04-23 22:12:13,941 [INFO ] W-9000-model-stdout com.amazonaws.ml.mms.wlm.WorkerLifeCycle - loaded model!\n",
      "\u001b[36malgo-1-xszgz_1  |\u001b[0m 2020-04-23 22:12:13,941 [WARN ] W-9000-model com.amazonaws.ml.mms.wlm.WorkerLifeCycle - attachIOStreams() threadName=W-model-17\n",
      "\u001b[36malgo-1-xszgz_1  |\u001b[0m 2020-04-23 22:12:13,941 [INFO ] W-9000-model-stdout com.amazonaws.ml.mms.wlm.WorkerLifeCycle - Model model loaded io_fd=0242acfffe1b0002-00000027-0000001e-8995eb76aa26f222-6454ba03\n",
      "\u001b[36malgo-1-xszgz_1  |\u001b[0m 2020-04-23 22:12:13,943 [INFO ] W-9000-model-stdout com.amazonaws.ml.mms.wlm.WorkerLifeCycle - /.sagemaker/mms/models/model\n",
      "\u001b[36malgo-1-xszgz_1  |\u001b[0m 2020-04-23 22:12:13,943 [INFO ] W-9000-model-stdout com.amazonaws.ml.mms.wlm.WorkerLifeCycle - loaded\n",
      "\u001b[36malgo-1-xszgz_1  |\u001b[0m 2020-04-23 22:12:13,943 [INFO ] W-9000-model com.amazonaws.ml.mms.wlm.WorkerThread - Backend response time: 782\n",
      "\u001b[36malgo-1-xszgz_1  |\u001b[0m 2020-04-23 22:12:13,943 [INFO ] W-9000-model-stdout com.amazonaws.ml.mms.wlm.WorkerLifeCycle - loaded model!\n",
      "\u001b[36malgo-1-xszgz_1  |\u001b[0m 2020-04-23 22:12:13,943 [WARN ] W-9000-model com.amazonaws.ml.mms.wlm.WorkerLifeCycle - attachIOStreams() threadName=W-model-3\n",
      "\u001b[36malgo-1-xszgz_1  |\u001b[0m 2020-04-23 22:12:13,943 [INFO ] W-9000-model-stdout com.amazonaws.ml.mms.wlm.WorkerLifeCycle - Model model loaded io_fd=0242acfffe1b0002-00000027-0000000f-e6ad4b76aa26f221-49979a16\n",
      "\u001b[36malgo-1-xszgz_1  |\u001b[0m 2020-04-23 22:12:13,945 [INFO ] W-9000-model-stdout com.amazonaws.ml.mms.wlm.WorkerLifeCycle - /.sagemaker/mms/models/model\n",
      "\u001b[36malgo-1-xszgz_1  |\u001b[0m 2020-04-23 22:12:13,945 [INFO ] W-9000-model com.amazonaws.ml.mms.wlm.WorkerThread - Backend response time: 785\n",
      "\u001b[36malgo-1-xszgz_1  |\u001b[0m 2020-04-23 22:12:13,945 [INFO ] W-9000-model-stdout com.amazonaws.ml.mms.wlm.WorkerLifeCycle - loaded\n",
      "\u001b[36malgo-1-xszgz_1  |\u001b[0m 2020-04-23 22:12:13,945 [INFO ] W-9000-model-stdout com.amazonaws.ml.mms.wlm.WorkerLifeCycle - loaded model!\n",
      "\u001b[36malgo-1-xszgz_1  |\u001b[0m 2020-04-23 22:12:13,945 [WARN ] W-9000-model com.amazonaws.ml.mms.wlm.WorkerLifeCycle - attachIOStreams() threadName=W-model-25\n",
      "\u001b[36malgo-1-xszgz_1  |\u001b[0m 2020-04-23 22:12:13,946 [INFO ] W-9000-model-stdout com.amazonaws.ml.mms.wlm.WorkerLifeCycle - Model model loaded io_fd=0242acfffe1b0002-00000027-00000009-874f0b76aa26f221-6ccf3800\n",
      "\u001b[36malgo-1-xszgz_1  |\u001b[0m 2020-04-23 22:12:13,946 [INFO ] W-9000-model com.amazonaws.ml.mms.wlm.WorkerThread - Backend response time: 785\n",
      "\u001b[36malgo-1-xszgz_1  |\u001b[0m 2020-04-23 22:12:13,947 [INFO ] W-9000-model-stdout com.amazonaws.ml.mms.wlm.WorkerLifeCycle - /.sagemaker/mms/models/model\n",
      "\u001b[36malgo-1-xszgz_1  |\u001b[0m 2020-04-23 22:12:13,947 [INFO ] W-9000-model-stdout com.amazonaws.ml.mms.wlm.WorkerLifeCycle - loaded\n",
      "\u001b[36malgo-1-xszgz_1  |\u001b[0m 2020-04-23 22:12:13,947 [WARN ] W-9000-model com.amazonaws.ml.mms.wlm.WorkerLifeCycle - attachIOStreams() threadName=W-model-23\n",
      "\u001b[36malgo-1-xszgz_1  |\u001b[0m 2020-04-23 22:12:13,947 [INFO ] W-9000-model-stdout com.amazonaws.ml.mms.wlm.WorkerLifeCycle - loaded model!\n",
      "\u001b[36malgo-1-xszgz_1  |\u001b[0m 2020-04-23 22:12:13,947 [INFO ] W-9000-model-stdout com.amazonaws.ml.mms.wlm.WorkerLifeCycle - Model model loaded io_fd=0242acfffe1b0002-00000027-00000006-64100b76aa26f221-321ac62c\n",
      "\u001b[36malgo-1-xszgz_1  |\u001b[0m 2020-04-23 22:12:13,951 [INFO ] W-9000-model-stdout com.amazonaws.ml.mms.wlm.WorkerLifeCycle - /.sagemaker/mms/models/model\n",
      "\u001b[36malgo-1-xszgz_1  |\u001b[0m 2020-04-23 22:12:13,951 [INFO ] W-9000-model com.amazonaws.ml.mms.wlm.WorkerThread - Backend response time: 791\n",
      "\u001b[36malgo-1-xszgz_1  |\u001b[0m 2020-04-23 22:12:13,951 [INFO ] W-9000-model-stdout com.amazonaws.ml.mms.wlm.WorkerLifeCycle - loaded\n",
      "\u001b[36malgo-1-xszgz_1  |\u001b[0m 2020-04-23 22:12:13,951 [WARN ] W-9000-model com.amazonaws.ml.mms.wlm.WorkerLifeCycle - attachIOStreams() threadName=W-model-15\n",
      "\u001b[36malgo-1-xszgz_1  |\u001b[0m 2020-04-23 22:12:13,951 [INFO ] W-9000-model-stdout com.amazonaws.ml.mms.wlm.WorkerLifeCycle - loaded model!\n",
      "\u001b[36malgo-1-xszgz_1  |\u001b[0m 2020-04-23 22:12:13,952 [INFO ] W-9000-model-stdout com.amazonaws.ml.mms.wlm.WorkerLifeCycle - Model model loaded io_fd=0242acfffe1b0002-00000027-00000003-e704f376aa26f221-7e89de7b\n",
      "\u001b[36malgo-1-xszgz_1  |\u001b[0m 2020-04-23 22:12:13,958 [INFO ] W-9000-model-stdout com.amazonaws.ml.mms.wlm.WorkerLifeCycle - /.sagemaker/mms/models/model\n",
      "\u001b[36malgo-1-xszgz_1  |\u001b[0m 2020-04-23 22:12:13,958 [INFO ] W-9000-model-stdout com.amazonaws.ml.mms.wlm.WorkerLifeCycle - loaded\n",
      "\u001b[36malgo-1-xszgz_1  |\u001b[0m 2020-04-23 22:12:13,958 [INFO ] W-9000-model com.amazonaws.ml.mms.wlm.WorkerThread - Backend response time: 803\n",
      "\u001b[36malgo-1-xszgz_1  |\u001b[0m 2020-04-23 22:12:13,958 [INFO ] W-9000-model-stdout com.amazonaws.ml.mms.wlm.WorkerLifeCycle - loaded model!\n",
      "\u001b[36malgo-1-xszgz_1  |\u001b[0m 2020-04-23 22:12:13,958 [WARN ] W-9000-model com.amazonaws.ml.mms.wlm.WorkerLifeCycle - attachIOStreams() threadName=W-model-29\n",
      "\u001b[36malgo-1-xszgz_1  |\u001b[0m 2020-04-23 22:12:13,958 [INFO ] W-9000-model-stdout com.amazonaws.ml.mms.wlm.WorkerLifeCycle - Model model loaded io_fd=0242acfffe1b0002-00000027-00000012-84ddcb76aa26f221-9e63e209\n",
      "\u001b[36malgo-1-xszgz_1  |\u001b[0m 2020-04-23 22:12:13,960 [INFO ] W-9000-model-stdout com.amazonaws.ml.mms.wlm.WorkerLifeCycle - /.sagemaker/mms/models/model\n",
      "\u001b[36malgo-1-xszgz_1  |\u001b[0m 2020-04-23 22:12:13,960 [INFO ] W-9000-model-stdout com.amazonaws.ml.mms.wlm.WorkerLifeCycle - loaded\n",
      "\u001b[36malgo-1-xszgz_1  |\u001b[0m 2020-04-23 22:12:13,961 [INFO ] W-9000-model com.amazonaws.ml.mms.wlm.WorkerThread - Backend response time: 805\n",
      "\u001b[36malgo-1-xszgz_1  |\u001b[0m 2020-04-23 22:12:13,961 [INFO ] W-9000-model-stdout com.amazonaws.ml.mms.wlm.WorkerLifeCycle - loaded model!\n",
      "\u001b[36malgo-1-xszgz_1  |\u001b[0m 2020-04-23 22:12:13,961 [INFO ] W-9000-model com.amazonaws.ml.mms.wlm.WorkerThread - Backend response time: 801\n",
      "\u001b[36malgo-1-xszgz_1  |\u001b[0m 2020-04-23 22:12:13,961 [INFO ] W-9000-model-stdout com.amazonaws.ml.mms.wlm.WorkerLifeCycle - Model model loaded io_fd=0242acfffe1b0002-00000027-00000020-c6881b76aa26f222-0a5e1e58\n",
      "\u001b[36malgo-1-xszgz_1  |\u001b[0m 2020-04-23 22:12:13,961 [WARN ] W-9000-model com.amazonaws.ml.mms.wlm.WorkerLifeCycle - attachIOStreams() threadName=W-model-11\n",
      "\u001b[36malgo-1-xszgz_1  |\u001b[0m 2020-04-23 22:12:13,961 [WARN ] W-9000-model com.amazonaws.ml.mms.wlm.WorkerLifeCycle - attachIOStreams() threadName=W-model-12\n",
      "\u001b[36malgo-1-xszgz_1  |\u001b[0m 2020-04-23 22:12:13,961 [INFO ] W-9000-model-stdout com.amazonaws.ml.mms.wlm.WorkerLifeCycle - /.sagemaker/mms/models/model\n",
      "\u001b[36malgo-1-xszgz_1  |\u001b[0m 2020-04-23 22:12:13,961 [INFO ] W-9000-model-stdout com.amazonaws.ml.mms.wlm.WorkerLifeCycle - loaded\n",
      "\u001b[36malgo-1-xszgz_1  |\u001b[0m 2020-04-23 22:12:13,961 [INFO ] W-9000-model-stdout com.amazonaws.ml.mms.wlm.WorkerLifeCycle - loaded model!\n",
      "\u001b[36malgo-1-xszgz_1  |\u001b[0m 2020-04-23 22:12:13,961 [INFO ] W-9000-model-stdout com.amazonaws.ml.mms.wlm.WorkerLifeCycle - Model model loaded io_fd=0242acfffe1b0002-00000027-00000002-005b7376aa26f221-97864042\n",
      "\u001b[36malgo-1-xszgz_1  |\u001b[0m 2020-04-23 22:12:13,965 [INFO ] W-9000-model-stdout com.amazonaws.ml.mms.wlm.WorkerLifeCycle - /.sagemaker/mms/models/model\n",
      "\u001b[36malgo-1-xszgz_1  |\u001b[0m 2020-04-23 22:12:13,965 [INFO ] W-9000-model-stdout com.amazonaws.ml.mms.wlm.WorkerLifeCycle - loaded\n",
      "\u001b[36malgo-1-xszgz_1  |\u001b[0m 2020-04-23 22:12:13,966 [INFO ] W-9000-model com.amazonaws.ml.mms.wlm.WorkerThread - Backend response time: 858\n",
      "\u001b[36malgo-1-xszgz_1  |\u001b[0m 2020-04-23 22:12:13,966 [INFO ] W-9000-model-stdout com.amazonaws.ml.mms.wlm.WorkerLifeCycle - loaded model!\n",
      "\u001b[36malgo-1-xszgz_1  |\u001b[0m 2020-04-23 22:12:13,966 [WARN ] W-9000-model com.amazonaws.ml.mms.wlm.WorkerLifeCycle - attachIOStreams() threadName=W-model-28\n",
      "\u001b[36malgo-1-xszgz_1  |\u001b[0m 2020-04-23 22:12:13,966 [INFO ] W-9000-model-stdout com.amazonaws.ml.mms.wlm.WorkerLifeCycle - Model model loaded io_fd=0242acfffe1b0002-00000027-00000008-2d8d0b76aa26f221-9c2ba9ce\n",
      "\u001b[36malgo-1-xszgz_1  |\u001b[0m 2020-04-23 22:12:13,968 [INFO ] W-9000-model-stdout com.amazonaws.ml.mms.wlm.WorkerLifeCycle - /.sagemaker/mms/models/model\n",
      "\u001b[36malgo-1-xszgz_1  |\u001b[0m 2020-04-23 22:12:13,968 [INFO ] W-9000-model-stdout com.amazonaws.ml.mms.wlm.WorkerLifeCycle - loaded\n",
      "\u001b[36malgo-1-xszgz_1  |\u001b[0m 2020-04-23 22:12:13,968 [INFO ] W-9000-model com.amazonaws.ml.mms.wlm.WorkerThread - Backend response time: 861\n",
      "\u001b[36malgo-1-xszgz_1  |\u001b[0m 2020-04-23 22:12:13,968 [INFO ] W-9000-model-stdout com.amazonaws.ml.mms.wlm.WorkerLifeCycle - loaded model!\n",
      "\u001b[36malgo-1-xszgz_1  |\u001b[0m 2020-04-23 22:12:13,968 [INFO ] W-9000-model-stdout com.amazonaws.ml.mms.wlm.WorkerLifeCycle - Model model loaded io_fd=0242acfffe1b0002-00000027-00000007-2bfa0b76aa26f221-a06d9a27\n",
      "\u001b[36malgo-1-xszgz_1  |\u001b[0m 2020-04-23 22:12:13,968 [WARN ] W-9000-model com.amazonaws.ml.mms.wlm.WorkerLifeCycle - attachIOStreams() threadName=W-model-9\n",
      "\u001b[36malgo-1-xszgz_1  |\u001b[0m 2020-04-23 22:12:13,976 [INFO ] W-9000-model-stdout com.amazonaws.ml.mms.wlm.WorkerLifeCycle - /.sagemaker/mms/models/model\n",
      "\u001b[36malgo-1-xszgz_1  |\u001b[0m 2020-04-23 22:12:13,977 [INFO ] W-9000-model-stdout com.amazonaws.ml.mms.wlm.WorkerLifeCycle - loaded\n",
      "\u001b[36malgo-1-xszgz_1  |\u001b[0m 2020-04-23 22:12:13,977 [INFO ] W-9000-model-stdout com.amazonaws.ml.mms.wlm.WorkerLifeCycle - loaded model!\n",
      "\u001b[36malgo-1-xszgz_1  |\u001b[0m 2020-04-23 22:12:13,977 [INFO ] W-9000-model com.amazonaws.ml.mms.wlm.WorkerThread - Backend response time: 817\n",
      "\u001b[36malgo-1-xszgz_1  |\u001b[0m 2020-04-23 22:12:13,977 [INFO ] W-9000-model-stdout com.amazonaws.ml.mms.wlm.WorkerLifeCycle - Model model loaded io_fd=0242acfffe1b0002-00000027-00000005-e6cdf376aa26f221-1ecd2d34\n",
      "\u001b[36malgo-1-xszgz_1  |\u001b[0m 2020-04-23 22:12:13,977 [WARN ] W-9000-model com.amazonaws.ml.mms.wlm.WorkerLifeCycle - attachIOStreams() threadName=W-model-20\n",
      "\u001b[36malgo-1-xszgz_1  |\u001b[0m 2020-04-23 22:12:13,978 [INFO ] W-9000-model-stdout com.amazonaws.ml.mms.wlm.WorkerLifeCycle - /.sagemaker/mms/models/model\n",
      "\u001b[36malgo-1-xszgz_1  |\u001b[0m 2020-04-23 22:12:13,978 [INFO ] W-9000-model-stdout com.amazonaws.ml.mms.wlm.WorkerLifeCycle - loaded\n",
      "\u001b[36malgo-1-xszgz_1  |\u001b[0m 2020-04-23 22:12:13,978 [INFO ] W-9000-model com.amazonaws.ml.mms.wlm.WorkerThread - Backend response time: 818\n",
      "\u001b[36malgo-1-xszgz_1  |\u001b[0m 2020-04-23 22:12:13,978 [INFO ] W-9000-model-stdout com.amazonaws.ml.mms.wlm.WorkerLifeCycle - loaded model!\n",
      "\u001b[36malgo-1-xszgz_1  |\u001b[0m 2020-04-23 22:12:13,978 [WARN ] W-9000-model com.amazonaws.ml.mms.wlm.WorkerLifeCycle - attachIOStreams() threadName=W-model-8\n",
      "\u001b[36malgo-1-xszgz_1  |\u001b[0m 2020-04-23 22:12:13,978 [INFO ] W-9000-model-stdout com.amazonaws.ml.mms.wlm.WorkerLifeCycle - Model model loaded io_fd=0242acfffe1b0002-00000027-00000018-ccddab76aa26f221-d8f10b32\n",
      "\u001b[36malgo-1-xszgz_1  |\u001b[0m 2020-04-23 22:12:13,979 [INFO ] W-9000-model-stdout com.amazonaws.ml.mms.wlm.WorkerLifeCycle - /.sagemaker/mms/models/model\n",
      "\u001b[36malgo-1-xszgz_1  |\u001b[0m 2020-04-23 22:12:13,979 [INFO ] W-9000-model-stdout com.amazonaws.ml.mms.wlm.WorkerLifeCycle - loaded\n",
      "\u001b[36malgo-1-xszgz_1  |\u001b[0m 2020-04-23 22:12:13,979 [INFO ] W-9000-model com.amazonaws.ml.mms.wlm.WorkerThread - Backend response time: 819\n",
      "\u001b[36malgo-1-xszgz_1  |\u001b[0m 2020-04-23 22:12:13,979 [INFO ] W-9000-model-stdout com.amazonaws.ml.mms.wlm.WorkerLifeCycle - loaded model!\n",
      "\u001b[36malgo-1-xszgz_1  |\u001b[0m 2020-04-23 22:12:13,979 [WARN ] W-9000-model com.amazonaws.ml.mms.wlm.WorkerLifeCycle - attachIOStreams() threadName=W-model-14\n",
      "\u001b[36malgo-1-xszgz_1  |\u001b[0m 2020-04-23 22:12:13,980 [INFO ] W-9000-model-stdout com.amazonaws.ml.mms.wlm.WorkerLifeCycle - Model model loaded io_fd=0242acfffe1b0002-00000027-0000001a-2a266b76aa26f222-1c639819\n",
      "\u001b[36malgo-1-xszgz_1  |\u001b[0m 2020-04-23 22:12:13,980 [INFO ] W-9000-model-stdout com.amazonaws.ml.mms.wlm.WorkerLifeCycle - /.sagemaker/mms/models/model\n",
      "\u001b[36malgo-1-xszgz_1  |\u001b[0m 2020-04-23 22:12:13,980 [INFO ] W-9000-model-stdout com.amazonaws.ml.mms.wlm.WorkerLifeCycle - loaded\n",
      "\u001b[36malgo-1-xszgz_1  |\u001b[0m 2020-04-23 22:12:13,980 [INFO ] W-9000-model com.amazonaws.ml.mms.wlm.WorkerThread - Backend response time: 824\n",
      "\u001b[36malgo-1-xszgz_1  |\u001b[0m 2020-04-23 22:12:13,980 [INFO ] W-9000-model-stdout com.amazonaws.ml.mms.wlm.WorkerLifeCycle - loaded model!\n",
      "\u001b[36malgo-1-xszgz_1  |\u001b[0m 2020-04-23 22:12:13,980 [INFO ] W-9000-model-stdout com.amazonaws.ml.mms.wlm.WorkerLifeCycle - Model model loaded io_fd=0242acfffe1b0002-00000027-00000015-138b2b76aa26f221-0c56c2ca\n",
      "\u001b[36malgo-1-xszgz_1  |\u001b[0m 2020-04-23 22:12:13,980 [WARN ] W-9000-model com.amazonaws.ml.mms.wlm.WorkerLifeCycle - attachIOStreams() threadName=W-model-21\n"
     ]
    },
    {
     "name": "stdout",
     "output_type": "stream",
     "text": [
      "\u001b[36malgo-1-xszgz_1  |\u001b[0m 2020-04-23 22:12:13,995 [INFO ] W-9000-model-stdout com.amazonaws.ml.mms.wlm.WorkerLifeCycle - /.sagemaker/mms/models/model\r\n",
      "\u001b[36malgo-1-xszgz_1  |\u001b[0m 2020-04-23 22:12:13,995 [INFO ] W-9000-model com.amazonaws.ml.mms.wlm.WorkerThread - Backend response time: 836\r\n",
      "\u001b[36malgo-1-xszgz_1  |\u001b[0m 2020-04-23 22:12:13,995 [INFO ] W-9000-model-stdout com.amazonaws.ml.mms.wlm.WorkerLifeCycle - loaded\r\n",
      "\u001b[36malgo-1-xszgz_1  |\u001b[0m 2020-04-23 22:12:13,995 [WARN ] W-9000-model com.amazonaws.ml.mms.wlm.WorkerLifeCycle - attachIOStreams() threadName=W-model-24\r\n",
      "\u001b[36malgo-1-xszgz_1  |\u001b[0m 2020-04-23 22:12:13,995 [INFO ] W-9000-model-stdout com.amazonaws.ml.mms.wlm.WorkerLifeCycle - loaded model!\r\n",
      "\u001b[36malgo-1-xszgz_1  |\u001b[0m 2020-04-23 22:12:13,996 [INFO ] W-9000-model-stdout com.amazonaws.ml.mms.wlm.WorkerLifeCycle - Model model loaded io_fd=0242acfffe1b0002-00000027-00000016-2eb8ab76aa26f221-9e8d54d9\r\n",
      "\u001b[36malgo-1-xszgz_1  |\u001b[0m 2020-04-23 22:12:13,996 [INFO ] W-9000-model-stdout com.amazonaws.ml.mms.wlm.WorkerLifeCycle - /.sagemaker/mms/models/model\r\n",
      "\u001b[36malgo-1-xszgz_1  |\u001b[0m 2020-04-23 22:12:13,996 [INFO ] W-9000-model-stdout com.amazonaws.ml.mms.wlm.WorkerLifeCycle - loaded\r\n",
      "\u001b[36malgo-1-xszgz_1  |\u001b[0m 2020-04-23 22:12:13,996 [INFO ] W-9000-model com.amazonaws.ml.mms.wlm.WorkerThread - Backend response time: 889\r\n",
      "\u001b[36malgo-1-xszgz_1  |\u001b[0m 2020-04-23 22:12:13,996 [INFO ] W-9000-model-stdout com.amazonaws.ml.mms.wlm.WorkerLifeCycle - loaded model!\r\n",
      "\u001b[36malgo-1-xszgz_1  |\u001b[0m 2020-04-23 22:12:13,997 [INFO ] W-9000-model-stdout com.amazonaws.ml.mms.wlm.WorkerLifeCycle - Model model loaded io_fd=0242acfffe1b0002-00000027-0000001b-698d6b76aa26f222-5037a73d\r\n",
      "\u001b[36malgo-1-xszgz_1  |\u001b[0m 2020-04-23 22:12:13,997 [WARN ] W-9000-model com.amazonaws.ml.mms.wlm.WorkerLifeCycle - attachIOStreams() threadName=W-model-31\r\n",
      "\u001b[36malgo-1-xszgz_1  |\u001b[0m 2020-04-23 22:12:14,001 [INFO ] W-9000-model-stdout com.amazonaws.ml.mms.wlm.WorkerLifeCycle - /.sagemaker/mms/models/model\r\n",
      "\u001b[36malgo-1-xszgz_1  |\u001b[0m 2020-04-23 22:12:14,002 [INFO ] W-9000-model com.amazonaws.ml.mms.wlm.WorkerThread - Backend response time: 846\r\n",
      "\u001b[36malgo-1-xszgz_1  |\u001b[0m 2020-04-23 22:12:14,002 [INFO ] W-9000-model-stdout com.amazonaws.ml.mms.wlm.WorkerLifeCycle - loaded\r\n",
      "\u001b[36malgo-1-xszgz_1  |\u001b[0m 2020-04-23 22:12:14,002 [WARN ] W-9000-model com.amazonaws.ml.mms.wlm.WorkerLifeCycle - attachIOStreams() threadName=W-model-13\r\n",
      "\u001b[36malgo-1-xszgz_1  |\u001b[0m 2020-04-23 22:12:14,002 [INFO ] W-9000-model-stdout com.amazonaws.ml.mms.wlm.WorkerLifeCycle - loaded model!\r\n",
      "\u001b[36malgo-1-xszgz_1  |\u001b[0m 2020-04-23 22:12:14,002 [INFO ] W-9000-model-stdout com.amazonaws.ml.mms.wlm.WorkerLifeCycle - Model model loaded io_fd=0242acfffe1b0002-00000027-00000000-719e7376aa26f221-d5f4143a\r\n",
      "\u001b[36malgo-1-xszgz_1  |\u001b[0m 2020-04-23 22:12:14,002 [INFO ] W-9000-model-stdout com.amazonaws.ml.mms.wlm.WorkerLifeCycle - /.sagemaker/mms/models/model\r\n",
      "\u001b[36malgo-1-xszgz_1  |\u001b[0m 2020-04-23 22:12:14,002 [INFO ] W-9000-model-stdout com.amazonaws.ml.mms.wlm.WorkerLifeCycle - loaded\r\n",
      "\u001b[36malgo-1-xszgz_1  |\u001b[0m 2020-04-23 22:12:14,002 [INFO ] W-9000-model-stdout com.amazonaws.ml.mms.wlm.WorkerLifeCycle - loaded model!\r\n",
      "\u001b[36malgo-1-xszgz_1  |\u001b[0m 2020-04-23 22:12:14,002 [INFO ] W-9000-model com.amazonaws.ml.mms.wlm.WorkerThread - Backend response time: 842\r\n",
      "\u001b[36malgo-1-xszgz_1  |\u001b[0m 2020-04-23 22:12:14,002 [INFO ] W-9000-model-stdout com.amazonaws.ml.mms.wlm.WorkerLifeCycle - Model model loaded io_fd=0242acfffe1b0002-00000027-00000004-7f0ef376aa26f221-ea8018bc\r\n",
      "\u001b[36malgo-1-xszgz_1  |\u001b[0m 2020-04-23 22:12:14,003 [INFO ] W-9000-model-stdout com.amazonaws.ml.mms.wlm.WorkerLifeCycle - /.sagemaker/mms/models/model\r\n",
      "\u001b[36malgo-1-xszgz_1  |\u001b[0m 2020-04-23 22:12:14,003 [INFO ] W-9000-model-stdout com.amazonaws.ml.mms.wlm.WorkerLifeCycle - loaded\r\n",
      "\u001b[36malgo-1-xszgz_1  |\u001b[0m 2020-04-23 22:12:14,003 [WARN ] W-9000-model com.amazonaws.ml.mms.wlm.WorkerLifeCycle - attachIOStreams() threadName=W-model-32\r\n",
      "\u001b[36malgo-1-xszgz_1  |\u001b[0m 2020-04-23 22:12:14,003 [INFO ] W-9000-model-stdout com.amazonaws.ml.mms.wlm.WorkerLifeCycle - loaded model!\r\n",
      "\u001b[36malgo-1-xszgz_1  |\u001b[0m 2020-04-23 22:12:14,003 [INFO ] W-9000-model com.amazonaws.ml.mms.wlm.WorkerThread - Backend response time: 843\r\n",
      "\u001b[36malgo-1-xszgz_1  |\u001b[0m 2020-04-23 22:12:14,003 [INFO ] W-9000-model-stdout com.amazonaws.ml.mms.wlm.WorkerLifeCycle - Model model loaded io_fd=0242acfffe1b0002-00000027-00000014-a0c92b76aa26f221-e6f100d0\r\n",
      "\u001b[36malgo-1-xszgz_1  |\u001b[0m 2020-04-23 22:12:14,003 [WARN ] W-9000-model com.amazonaws.ml.mms.wlm.WorkerLifeCycle - attachIOStreams() threadName=W-model-18\r\n",
      "\u001b[36malgo-1-xszgz_1  |\u001b[0m 2020-04-23 22:12:14,012 [INFO ] W-9000-model-stdout com.amazonaws.ml.mms.wlm.WorkerLifeCycle - /.sagemaker/mms/models/model\r\n",
      "\u001b[36malgo-1-xszgz_1  |\u001b[0m 2020-04-23 22:12:14,012 [INFO ] W-9000-model-stdout com.amazonaws.ml.mms.wlm.WorkerLifeCycle - loaded\r\n",
      "\u001b[36malgo-1-xszgz_1  |\u001b[0m 2020-04-23 22:12:14,012 [INFO ] W-9000-model-stdout com.amazonaws.ml.mms.wlm.WorkerLifeCycle - loaded model!\r\n",
      "\u001b[36malgo-1-xszgz_1  |\u001b[0m 2020-04-23 22:12:14,012 [INFO ] W-9000-model-stdout com.amazonaws.ml.mms.wlm.WorkerLifeCycle - Model model loaded io_fd=0242acfffe1b0002-00000027-0000001d-27bceb76aa26f222-ddaceee9\r\n",
      "\u001b[36malgo-1-xszgz_1  |\u001b[0m 2020-04-23 22:12:14,012 [INFO ] W-9000-model com.amazonaws.ml.mms.wlm.WorkerThread - Backend response time: 844\r\n",
      "\u001b[36malgo-1-xszgz_1  |\u001b[0m 2020-04-23 22:12:14,013 [WARN ] W-9000-model com.amazonaws.ml.mms.wlm.WorkerLifeCycle - attachIOStreams() threadName=W-model-10\r\n",
      "\u001b[36malgo-1-xszgz_1  |\u001b[0m 2020-04-23 22:12:14,016 [INFO ] W-9000-model-stdout com.amazonaws.ml.mms.wlm.WorkerLifeCycle - /.sagemaker/mms/models/model\r\n",
      "\u001b[36malgo-1-xszgz_1  |\u001b[0m 2020-04-23 22:12:14,016 [INFO ] W-9000-model-stdout com.amazonaws.ml.mms.wlm.WorkerLifeCycle - loaded\r\n",
      "\u001b[36malgo-1-xszgz_1  |\u001b[0m 2020-04-23 22:12:14,016 [INFO ] W-9000-model-stdout com.amazonaws.ml.mms.wlm.WorkerLifeCycle - loaded model!\r\n",
      "\u001b[36malgo-1-xszgz_1  |\u001b[0m 2020-04-23 22:12:14,016 [INFO ] W-9000-model-stdout com.amazonaws.ml.mms.wlm.WorkerLifeCycle - Model model loaded io_fd=0242acfffe1b0002-00000027-00000019-98806b76aa26f222-855d94aa\r\n",
      "\u001b[36malgo-1-xszgz_1  |\u001b[0m 2020-04-23 22:12:14,017 [INFO ] W-9000-model com.amazonaws.ml.mms.wlm.WorkerThread - Backend response time: 849\r\n",
      "\u001b[36malgo-1-xszgz_1  |\u001b[0m 2020-04-23 22:12:14,017 [INFO ] W-9000-model-stdout com.amazonaws.ml.mms.wlm.WorkerLifeCycle - /.sagemaker/mms/models/model\r\n",
      "\u001b[36malgo-1-xszgz_1  |\u001b[0m 2020-04-23 22:12:14,017 [INFO ] W-9000-model com.amazonaws.ml.mms.wlm.WorkerThread - Backend response time: 862\r\n",
      "\u001b[36malgo-1-xszgz_1  |\u001b[0m 2020-04-23 22:12:14,017 [INFO ] W-9000-model-stdout com.amazonaws.ml.mms.wlm.WorkerLifeCycle - loaded\r\n",
      "\u001b[36malgo-1-xszgz_1  |\u001b[0m 2020-04-23 22:12:14,017 [WARN ] W-9000-model com.amazonaws.ml.mms.wlm.WorkerLifeCycle - attachIOStreams() threadName=W-model-19\r\n",
      "\u001b[36malgo-1-xszgz_1  |\u001b[0m 2020-04-23 22:12:14,017 [INFO ] W-9000-model-stdout com.amazonaws.ml.mms.wlm.WorkerLifeCycle - loaded model!\r\n",
      "\u001b[36malgo-1-xszgz_1  |\u001b[0m 2020-04-23 22:12:14,017 [INFO ] W-9000-model-stdout com.amazonaws.ml.mms.wlm.WorkerLifeCycle - Model model loaded io_fd=0242acfffe1b0002-00000027-0000000a-1a9c8b76aa26f221-c816689b\r\n",
      "\u001b[36malgo-1-xszgz_1  |\u001b[0m 2020-04-23 22:12:14,017 [WARN ] W-9000-model com.amazonaws.ml.mms.wlm.WorkerLifeCycle - attachIOStreams() threadName=W-model-16\r\n",
      "\u001b[36malgo-1-xszgz_1  |\u001b[0m 2020-04-23 22:12:14,022 [INFO ] W-9000-model-stdout com.amazonaws.ml.mms.wlm.WorkerLifeCycle - /.sagemaker/mms/models/model\r\n",
      "\u001b[36malgo-1-xszgz_1  |\u001b[0m 2020-04-23 22:12:14,022 [INFO ] W-9000-model-stdout com.amazonaws.ml.mms.wlm.WorkerLifeCycle - loaded\r\n",
      "\u001b[36malgo-1-xszgz_1  |\u001b[0m 2020-04-23 22:12:14,022 [INFO ] W-9000-model-stdout com.amazonaws.ml.mms.wlm.WorkerLifeCycle - loaded model!\r\n",
      "\u001b[36malgo-1-xszgz_1  |\u001b[0m 2020-04-23 22:12:14,022 [INFO ] W-9000-model-stdout com.amazonaws.ml.mms.wlm.WorkerLifeCycle - Model model loaded io_fd=0242acfffe1b0002-00000027-0000000e-0d764b76aa26f221-5142df0c\r\n",
      "\u001b[36malgo-1-xszgz_1  |\u001b[0m 2020-04-23 22:12:14,022 [INFO ] W-9000-model com.amazonaws.ml.mms.wlm.WorkerThread - Backend response time: 854\r\n",
      "\u001b[36malgo-1-xszgz_1  |\u001b[0m 2020-04-23 22:12:14,022 [WARN ] W-9000-model com.amazonaws.ml.mms.wlm.WorkerLifeCycle - attachIOStreams() threadName=W-model-6\r\n",
      "\u001b[36malgo-1-xszgz_1  |\u001b[0m 2020-04-23 22:12:14,033 [INFO ] W-9000-model-stdout com.amazonaws.ml.mms.wlm.WorkerLifeCycle - /.sagemaker/mms/models/model\r\n",
      "\u001b[36malgo-1-xszgz_1  |\u001b[0m 2020-04-23 22:12:14,033 [INFO ] W-9000-model-stdout com.amazonaws.ml.mms.wlm.WorkerLifeCycle - loaded\r\n",
      "\u001b[36malgo-1-xszgz_1  |\u001b[0m 2020-04-23 22:12:14,033 [INFO ] W-9000-model-stdout com.amazonaws.ml.mms.wlm.WorkerLifeCycle - loaded model!\r\n",
      "\u001b[36malgo-1-xszgz_1  |\u001b[0m 2020-04-23 22:12:14,033 [INFO ] W-9000-model-stdout com.amazonaws.ml.mms.wlm.WorkerLifeCycle - Model model loaded io_fd=0242acfffe1b0002-00000027-00000001-f6697376aa26f221-62ed9ad0\r\n",
      "\u001b[36malgo-1-xszgz_1  |\u001b[0m 2020-04-23 22:12:14,033 [INFO ] W-9000-model com.amazonaws.ml.mms.wlm.WorkerThread - Backend response time: 853\r\n"
     ]
    },
    {
     "name": "stdout",
     "output_type": "stream",
     "text": [
      "\u001b[32m∙●∙\u001b[0m \u001b[K\u001b[36malgo-1-xszgz_1  |\u001b[0m 2020-04-23 22:12:14,056 [INFO ] W-9000-model-stdout com.amazonaws.ml.mms.wlm.WorkerLifeCycle - /.sagemaker/mms/models/model\n",
      "\u001b[36malgo-1-xszgz_1  |\u001b[0m 2020-04-23 22:12:14,056 [INFO ] W-9000-model-stdout com.amazonaws.ml.mms.wlm.WorkerLifeCycle - loaded\n",
      "\u001b[36malgo-1-xszgz_1  |\u001b[0m 2020-04-23 22:12:14,056 [INFO ] W-9000-model-stdout com.amazonaws.ml.mms.wlm.WorkerLifeCycle - loaded model!\n",
      "\u001b[36malgo-1-xszgz_1  |\u001b[0m 2020-04-23 22:12:14,056 [INFO ] W-9000-model com.amazonaws.ml.mms.wlm.WorkerThread - Backend response time: 887\n",
      "\u001b[36malgo-1-xszgz_1  |\u001b[0m 2020-04-23 22:12:14,056 [INFO ] W-9000-model-stdout com.amazonaws.ml.mms.wlm.WorkerLifeCycle - Model model loaded io_fd=0242acfffe1b0002-00000027-00000017-3fdeab76aa26f221-d6b45676\n",
      "\u001b[36malgo-1-xszgz_1  |\u001b[0m 2020-04-23 22:12:14,068 [WARN ] W-9000-model com.amazonaws.ml.mms.wlm.WorkerLifeCycle - attachIOStreams() threadName=W-model-30\n",
      "\u001b[36malgo-1-xszgz_1  |\u001b[0m 2020-04-23 22:12:14,068 [WARN ] W-9000-model com.amazonaws.ml.mms.wlm.WorkerLifeCycle - attachIOStreams() threadName=W-model-7\n",
      "\u001b[36malgo-1-xszgz_1  |\u001b[0m 2020-04-23 22:12:14,077 [INFO ] W-9000-model-stdout com.amazonaws.ml.mms.wlm.WorkerLifeCycle - /.sagemaker/mms/models/model\n",
      "\u001b[36malgo-1-xszgz_1  |\u001b[0m 2020-04-23 22:12:14,077 [INFO ] W-9000-model-stdout com.amazonaws.ml.mms.wlm.WorkerLifeCycle - loaded\n",
      "\u001b[36malgo-1-xszgz_1  |\u001b[0m 2020-04-23 22:12:14,077 [INFO ] W-9000-model-stdout com.amazonaws.ml.mms.wlm.WorkerLifeCycle - loaded model!\n",
      "\u001b[36malgo-1-xszgz_1  |\u001b[0m 2020-04-23 22:12:14,077 [INFO ] W-9000-model-stdout com.amazonaws.ml.mms.wlm.WorkerLifeCycle - Model model loaded io_fd=0242acfffe1b0002-00000027-0000001f-27d7eb76aa26f222-36522f54\n",
      "\u001b[36malgo-1-xszgz_1  |\u001b[0m 2020-04-23 22:12:14,077 [INFO ] W-9000-model com.amazonaws.ml.mms.wlm.WorkerThread - Backend response time: 922\n",
      "\u001b[36malgo-1-xszgz_1  |\u001b[0m 2020-04-23 22:12:14,077 [WARN ] W-9000-model com.amazonaws.ml.mms.wlm.WorkerLifeCycle - attachIOStreams() threadName=W-model-2\n",
      "\u001b[32m∙∙∙\u001b[0m \u001b[K\u001b[36malgo-1-xszgz_1  |\u001b[0m 2020-04-23 22:12:15,695 [INFO ] pool-1-thread-34 ACCESS_LOG - /172.27.0.1:58230 \"GET /ping HTTP/1.1\" 200 9\n",
      "\u001b[K0:00:37.783699 | deployed model\n",
      "\u001b[K0:00:37.784311 | not setting up autoscaling; deploying locally\n",
      "\u001b[K\u001b[32m0:00:37.784448 | Done! ✔\u001b[0m \n"
     ]
    }
   ],
   "source": [
    "ez = ezsmdeploy.Deploy(model = ['model.joblib'], # if you intend to add models later, pass model as list, otherwise str\n",
    "                  script = 'modelscript_sklearn.py',\n",
    "                  requirements = ['pyarrow','scikit-learn==0.20.3','numpy','joblib'], #or pass in the path to requirements.txt\n",
    "                  instance_type = 'local',\n",
    "                  autoscale = True,\n",
    "                  #framework = 'sklearn', # not required if you provide requirements\n",
    "                  wait = True)"
   ]
  },
  {
   "cell_type": "markdown",
   "metadata": {},
   "source": [
    "## Test containerized version locally"
   ]
  },
  {
   "cell_type": "code",
   "execution_count": 11,
   "metadata": {},
   "outputs": [
    {
     "name": "stdout",
     "output_type": "stream",
     "text": [
      "\u001b[36malgo-1-xszgz_1  |\u001b[0m 2020-04-23 22:12:21,627 [INFO ] W-9000-model com.amazonaws.ml.mms.wlm.WorkerThread - Backend response time: 1\r\n",
      "\u001b[36malgo-1-xszgz_1  |\u001b[0m 2020-04-23 22:12:21,628 [INFO ] W-9000-model ACCESS_LOG - /172.27.0.1:58234 \"POST /invocations HTTP/1.1\" 200 5\r\n"
     ]
    },
    {
     "data": {
      "text/plain": [
       "'[8]'"
      ]
     },
     "execution_count": 11,
     "metadata": {},
     "output_type": "execute_result"
    }
   ],
   "source": [
    "out = ez.predictor.predict(digits.data[-1:].tobytes()).decode()\n",
    "out"
   ]
  },
  {
   "cell_type": "code",
   "execution_count": 12,
   "metadata": {},
   "outputs": [
    {
     "name": "stdout",
     "output_type": "stream",
     "text": [
      "\u001b[36mtmp5e8azlgi_algo-1-xszgz_1 exited with code 137\n",
      "\u001b[0mAborting on container exit...\n"
     ]
    },
    {
     "name": "stderr",
     "output_type": "stream",
     "text": [
      "Exception in thread Thread-5:\n",
      "Traceback (most recent call last):\n",
      "  File \"/home/ec2-user/anaconda3/envs/python3/lib/python3.6/site-packages/sagemaker/local/image.py\", line 618, in run\n",
      "    _stream_output(self.process)\n",
      "  File \"/home/ec2-user/anaconda3/envs/python3/lib/python3.6/site-packages/sagemaker/local/image.py\", line 677, in _stream_output\n",
      "    raise RuntimeError(\"Process exited with code: %s\" % exit_code)\n",
      "RuntimeError: Process exited with code: 137\n",
      "\n",
      "During handling of the above exception, another exception occurred:\n",
      "\n",
      "Traceback (most recent call last):\n",
      "  File \"/home/ec2-user/anaconda3/envs/python3/lib/python3.6/threading.py\", line 916, in _bootstrap_inner\n",
      "    self.run()\n",
      "  File \"/home/ec2-user/anaconda3/envs/python3/lib/python3.6/site-packages/sagemaker/local/image.py\", line 623, in run\n",
      "    raise RuntimeError(msg)\n",
      "RuntimeError: Failed to run: ['docker-compose', '-f', '/tmp/tmp5e8azlgi/docker-compose.yaml', 'up', '--build', '--abort-on-container-exit'], Process exited with code: 137\n",
      "\n"
     ]
    }
   ],
   "source": [
    "!docker container stop $(docker container ls -aq) >/dev/null"
   ]
  },
  {
   "cell_type": "markdown",
   "metadata": {},
   "source": [
    "## Deploy on SageMaker"
   ]
  },
  {
   "cell_type": "code",
   "execution_count": 13,
   "metadata": {},
   "outputs": [
    {
     "name": "stdout",
     "output_type": "stream",
     "text": [
      "\u001b[K0:00:00.339799 | compressed model(s)\n",
      "\u001b[K0:00:00.719906 | uploaded model tarball(s) ; check returned modelpath\n",
      "\u001b[K0:00:00.720923 | added requirements file\n",
      "\u001b[K0:00:00.722962 | added source file\n",
      "\u001b[K0:00:00.724459 | added Dockerfile\n",
      "\u001b[K0:00:00.726155 | added model_handler and docker utils\n",
      "\u001b[K0:00:00.726260 | building docker container\n",
      "\u001b[K0:00:33.823260 | built docker container\n",
      "\u001b[K0:00:34.308905 | created model(s). Now deploying on ml.m5.xlarge\n",
      "\u001b[K0:06:06.557704 | deployed model\n",
      "\u001b[K0:06:06.558241 | estimated cost is $0.3 per hour\n",
      "\u001b[K\u001b[32m0:06:06.558358 | Done! ✔\u001b[0m \n"
     ]
    }
   ],
   "source": [
    "ezonsm = ezsmdeploy.Deploy(model = ['model.joblib','model.joblib'], # example of multimodel endpoint. \n",
    "                  script = 'modelscript_sklearn.py',\n",
    "                  requirements = ['pyarrow','scikit-learn==0.20.3','numpy','joblib'])"
   ]
  },
  {
   "cell_type": "code",
   "execution_count": 14,
   "metadata": {},
   "outputs": [
    {
     "data": {
      "text/plain": [
       "'[8]'"
      ]
     },
     "execution_count": 14,
     "metadata": {},
     "output_type": "execute_result"
    }
   ],
   "source": [
    "out = ezonsm.predictor.predict(digits.data[-1:].tobytes(),target_model='model1.tar.gz').decode() \n",
    "out"
   ]
  },
  {
   "cell_type": "code",
   "execution_count": 15,
   "metadata": {},
   "outputs": [
    {
     "name": "stdout",
     "output_type": "stream",
     "text": [
      "\u001b[K0:00:00.001519 | Starting test with Locust\n",
      "\u001b[K0:00:12.536007 | Done! Please see the src folder for locuststats* files\n",
      "\u001b[K"
     ]
    }
   ],
   "source": [
    "ezonsm.test(input_data=digits.data[-1:].tobytes(), target_model='model1.tar.gz',usercount=20,hatchrate=10,timeoutsecs=10)"
   ]
  },
  {
   "cell_type": "code",
   "execution_count": 16,
   "metadata": {},
   "outputs": [
    {
     "data": {
      "text/html": [
       "<div>\n",
       "<style scoped>\n",
       "    .dataframe tbody tr th:only-of-type {\n",
       "        vertical-align: middle;\n",
       "    }\n",
       "\n",
       "    .dataframe tbody tr th {\n",
       "        vertical-align: top;\n",
       "    }\n",
       "\n",
       "    .dataframe thead th {\n",
       "        text-align: right;\n",
       "    }\n",
       "</style>\n",
       "<table border=\"1\" class=\"dataframe\">\n",
       "  <thead>\n",
       "    <tr style=\"text-align: right;\">\n",
       "      <th></th>\n",
       "      <th>Type</th>\n",
       "      <th>Name</th>\n",
       "      <th># requests</th>\n",
       "      <th># failures</th>\n",
       "      <th>Median response time</th>\n",
       "      <th>Average response time</th>\n",
       "      <th>Min response time</th>\n",
       "      <th>Max response time</th>\n",
       "      <th>Average Content Size</th>\n",
       "      <th>Requests/s</th>\n",
       "      <th>...</th>\n",
       "      <th>75%</th>\n",
       "      <th>80%</th>\n",
       "      <th>90%</th>\n",
       "      <th>95%</th>\n",
       "      <th>98%</th>\n",
       "      <th>99%</th>\n",
       "      <th>99.9%</th>\n",
       "      <th>99.99%</th>\n",
       "      <th>99.999</th>\n",
       "      <th>100%</th>\n",
       "    </tr>\n",
       "  </thead>\n",
       "  <tbody>\n",
       "    <tr>\n",
       "      <th>0</th>\n",
       "      <td>sagemaker</td>\n",
       "      <td>predict</td>\n",
       "      <td>397</td>\n",
       "      <td>0</td>\n",
       "      <td>12</td>\n",
       "      <td>12</td>\n",
       "      <td>9</td>\n",
       "      <td>70</td>\n",
       "      <td>0</td>\n",
       "      <td>36.14</td>\n",
       "      <td>...</td>\n",
       "      <td>13</td>\n",
       "      <td>14</td>\n",
       "      <td>15</td>\n",
       "      <td>17</td>\n",
       "      <td>23</td>\n",
       "      <td>30</td>\n",
       "      <td>70</td>\n",
       "      <td>70</td>\n",
       "      <td>70</td>\n",
       "      <td>70</td>\n",
       "    </tr>\n",
       "    <tr>\n",
       "      <th>1</th>\n",
       "      <td>None</td>\n",
       "      <td>Aggregated</td>\n",
       "      <td>397</td>\n",
       "      <td>0</td>\n",
       "      <td>12</td>\n",
       "      <td>12</td>\n",
       "      <td>9</td>\n",
       "      <td>70</td>\n",
       "      <td>0</td>\n",
       "      <td>36.14</td>\n",
       "      <td>...</td>\n",
       "      <td>13</td>\n",
       "      <td>14</td>\n",
       "      <td>15</td>\n",
       "      <td>17</td>\n",
       "      <td>23</td>\n",
       "      <td>30</td>\n",
       "      <td>70</td>\n",
       "      <td>70</td>\n",
       "      <td>70</td>\n",
       "      <td>70</td>\n",
       "    </tr>\n",
       "  </tbody>\n",
       "</table>\n",
       "<p>2 rows × 23 columns</p>\n",
       "</div>"
      ],
      "text/plain": [
       "        Type        Name  # requests  # failures  Median response time  \\\n",
       "0  sagemaker     predict         397           0                    12   \n",
       "1       None  Aggregated         397           0                    12   \n",
       "\n",
       "   Average response time  Min response time  Max response time  \\\n",
       "0                     12                  9                 70   \n",
       "1                     12                  9                 70   \n",
       "\n",
       "   Average Content Size  Requests/s  ...  75%  80%  90%  95%  98%  99%  99.9%  \\\n",
       "0                     0       36.14  ...   13   14   15   17   23   30     70   \n",
       "1                     0       36.14  ...   13   14   15   17   23   30     70   \n",
       "\n",
       "   99.99%  99.999  100%  \n",
       "0      70      70    70  \n",
       "1      70      70    70  \n",
       "\n",
       "[2 rows x 23 columns]"
      ]
     },
     "execution_count": 16,
     "metadata": {},
     "output_type": "execute_result"
    }
   ],
   "source": [
    "import pandas as pd\n",
    "\n",
    "pd.read_csv('src/locuststats_stats.csv')"
   ]
  },
  {
   "cell_type": "code",
   "execution_count": 17,
   "metadata": {},
   "outputs": [],
   "source": [
    "ezonsm.predictor.delete_endpoint()"
   ]
  }
 ],
 "metadata": {
  "kernelspec": {
   "display_name": "conda_python3",
   "language": "python",
   "name": "conda_python3"
  },
  "language_info": {
   "codemirror_mode": {
    "name": "ipython",
    "version": 3
   },
   "file_extension": ".py",
   "mimetype": "text/x-python",
   "name": "python",
   "nbconvert_exporter": "python",
   "pygments_lexer": "ipython3",
   "version": "3.6.5"
  }
 },
 "nbformat": 4,
 "nbformat_minor": 4
}
