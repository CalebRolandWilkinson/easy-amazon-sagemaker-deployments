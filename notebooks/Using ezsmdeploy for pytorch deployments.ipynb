{
 "cells": [
  {
   "cell_type": "markdown",
   "metadata": {},
   "source": [
    "# Serve a Pytorch model trained on SageMaker"
   ]
  },
  {
   "cell_type": "markdown",
   "metadata": {},
   "source": [
    "The model for this example was trained using this sample notebook on sagemaker - https://github.com/awslabs/amazon-sagemaker-examples/blob/master/sagemaker-python-sdk/pytorch_mnist/pytorch_mnist.ipynb\n",
    "\n",
    "It is certainly easiler to do estimator.deploy() using the standard Sagemaker SDK if you are following that example, but cinsider this one if you have a pytorch model (or two) on S3 and you are looking for an easy way to test and deploy this model."
   ]
  },
  {
   "cell_type": "code",
   "execution_count": 1,
   "metadata": {},
   "outputs": [
    {
     "name": "stdout",
     "output_type": "stream",
     "text": [
      "Requirement already satisfied: torch in /home/ec2-user/anaconda3/envs/python3/lib/python3.6/site-packages (1.4.0)\r\n"
     ]
    }
   ],
   "source": [
    "!pip install torch"
   ]
  },
  {
   "cell_type": "markdown",
   "metadata": {},
   "source": [
    "## Step 1 : Write a model transform script\n",
    "\n",
    "#### Make sure you have a ...\n",
    "\n",
    "- \"load_model\" function\n",
    "    - input args are model path\n",
    "    - returns loaded model object\n",
    "    - model name is the same as what you saved the model file as (see above step)\n",
    "<br><br>\n",
    "- \"predict\" function\n",
    "    - input args are the loaded model object and a payload\n",
    "    - returns the result of model.predict\n",
    "    - make sure you format it as a single (or multiple) string return inside a list for real time (for mini batch)\n",
    "    - from a client, a list  or string or np.array that is sent for prediction is interpreted as bytes. Do what you have to for converting back to list or string or np.array\n",
    "    - return the error for debugging\n"
   ]
  },
  {
   "cell_type": "code",
   "execution_count": 2,
   "metadata": {},
   "outputs": [
    {
     "name": "stdout",
     "output_type": "stream",
     "text": [
      "Writing modelscript_pytorch.py\n"
     ]
    }
   ],
   "source": [
    "%%writefile modelscript_pytorch.py\n",
    "import torch\n",
    "import torch.distributed as dist\n",
    "import torch.nn as nn\n",
    "import torch.nn.functional as F\n",
    "import torch.optim as optim\n",
    "import torch.utils.data\n",
    "import torch.utils.data.distributed\n",
    "from joblib import load\n",
    "import numpy as np\n",
    "import os\n",
    "import json\n",
    "from six import BytesIO\n",
    "\n",
    "class Net(nn.Module):\n",
    "    def __init__(self):\n",
    "        super(Net, self).__init__()\n",
    "        self.conv1 = nn.Conv2d(1, 10, kernel_size=5)\n",
    "        self.conv2 = nn.Conv2d(10, 20, kernel_size=5)\n",
    "        self.conv2_drop = nn.Dropout2d()\n",
    "        self.fc1 = nn.Linear(320, 50)\n",
    "        self.fc2 = nn.Linear(50, 10)\n",
    "\n",
    "    def forward(self, x):\n",
    "        x = F.relu(F.max_pool2d(self.conv1(x), 2))\n",
    "        x = F.relu(F.max_pool2d(self.conv2_drop(self.conv2(x)), 2))\n",
    "        x = x.view(-1, 320)\n",
    "        x = F.relu(self.fc1(x))\n",
    "        x = F.dropout(x, training=self.training)\n",
    "        x = self.fc2(x)\n",
    "        return F.log_softmax(x, dim=1)\n",
    "    \n",
    "device = torch.device(\"cuda\" if torch.cuda.is_available() else \"cpu\")\n",
    "\n",
    "#Return loaded model\n",
    "def load_model(modelpath):\n",
    "    model = torch.nn.DataParallel(Net())\n",
    "    with open(os.path.join(modelpath, 'model.pth'), 'rb') as f:\n",
    "        model.load_state_dict(torch.load(f))\n",
    "    print(\"loaded\")\n",
    "    return model.to(device)\n",
    "\n",
    "# return prediction based on loaded model (from the step above) and an input payload\n",
    "def predict(model, payload):\n",
    "    \n",
    "    if type(payload) == list:\n",
    "        data = np.frombuffer(payload[0]['body'],dtype=np.float32).reshape(1,1,28,28)\n",
    "    elif type(payload) == np.ndarray:\n",
    "        data = payload  \n",
    "    try:\n",
    "        print(type(data))\n",
    "        input_data = torch.Tensor(data)\n",
    "        model.eval()\n",
    "        with torch.no_grad():\n",
    "            out =  model(input_data.to(device)).argmax(axis=1)[0].tolist()\n",
    "    except Exception as e:\n",
    "        out = str(e)\n",
    "    return [out]"
   ]
  },
  {
   "cell_type": "markdown",
   "metadata": {},
   "source": [
    "### Download model locally"
   ]
  },
  {
   "cell_type": "code",
   "execution_count": 3,
   "metadata": {},
   "outputs": [
    {
     "name": "stdout",
     "output_type": "stream",
     "text": [
      "download: s3://ezsmdeploy/pytorchmnist/input.html to ./input.html \n",
      "download: s3://ezsmdeploy/pytorchmnist/model.tar.gz to ./model.tar.gz\n",
      "model.pth\n",
      "model.pth\n"
     ]
    }
   ],
   "source": [
    "!aws s3 cp s3://ezsmdeploy/pytorchmnist/input.html ./\n",
    "!aws s3 cp s3://ezsmdeploy/pytorchmnist/model.tar.gz ./\n",
    "!tar xvf model.tar.gz"
   ]
  },
  {
   "cell_type": "markdown",
   "metadata": {},
   "source": [
    "### Input data for prediction\n",
    "\n",
    "Draw a number from 0 - 9 in the box that appears when you run the next cell"
   ]
  },
  {
   "cell_type": "code",
   "execution_count": 4,
   "metadata": {},
   "outputs": [
    {
     "data": {
      "text/html": [
       "<script type=\"text/Javascript\">\n",
       "    var pixels = [];\n",
       "    for (var i = 0; i < 28*28; i++) pixels[i] = 0;\n",
       "    var click = 0;\n",
       "    var canvas = document.querySelector(\"canvas\");\n",
       "    canvas.addEventListener(\"mousemove\", function(e){\n",
       "        if (e.buttons == 1) {\n",
       "            click = 1;\n",
       "            canvas.getContext(\"2d\").fillStyle = \"rgb(0,0,0)\";\n",
       "            canvas.getContext(\"2d\").fillRect(e.offsetX, e.offsetY, 8, 8);\n",
       "            x = Math.floor(e.offsetY * 0.2);\n",
       "            y = Math.floor(e.offsetX * 0.2) + 1;\n",
       "            for (var dy = 0; dy < 2; dy++){\n",
       "                for (var dx = 0; dx < 2; dx++){\n",
       "                    if ((x + dx < 28) && (y + dy < 28)){\n",
       "                        pixels[(y+dy)+(x+dx)*28] = 1;\n",
       "                    }\n",
       "                }\n",
       "            }\n",
       "        } else {\n",
       "            if (click == 1) set_value();\n",
       "            click = 0;\n",
       "        }\n",
       "    });\n",
       "    function clear_value(){\n",
       "        canvas.getContext(\"2d\").fillStyle = \"rgb(255,255,255)\";\n",
       "        canvas.getContext(\"2d\").fillRect(0, 0, 140, 140);\n",
       "        for (var i = 0; i < 28*28; i++) pixels[i] = 0;\n",
       "    }\n",
       "\n",
       "    function set_value(){\n",
       "        var result = \"[[\"\n",
       "        for (var i = 0; i < 28; i++) {\n",
       "            result += \"[\"\n",
       "            for (var j = 0; j < 28; j++) {\n",
       "                result += pixels [i * 28 + j]\n",
       "                if (j < 27) {\n",
       "                    result += \", \"\n",
       "                }\n",
       "            }\n",
       "            result += \"]\"\n",
       "            if (i < 27) {\n",
       "                result += \", \"\n",
       "            }\n",
       "        }\n",
       "        result += \"]]\"\n",
       "        var kernel = IPython.notebook.kernel;\n",
       "        kernel.execute(\"data = \" + result)\n",
       "    }\n",
       "</script>\n",
       "<table>\n",
       "<td style=\"border-style: none;\">\n",
       "<div style=\"border: solid 2px #666; width: 143px; height: 144px;\">\n",
       "<canvas width=\"140\" height=\"140\"></canvas>\n",
       "</div></td>\n",
       "<td style=\"border-style: none;\">\n",
       "<button onclick=\"clear_value()\">Clear</button>\n",
       "</td>\n",
       "</table>\n",
       "\n",
       "<!-- This work has been modified from the original and is licensed under the Apache 2.0 License. -->\n",
       "\n",
       "<!--\n",
       "                                     Apache License\n",
       "                           Version 2.0, January 2004\n",
       "                        http://www.apache.org/licenses/\n",
       "   TERMS AND CONDITIONS FOR USE, REPRODUCTION, AND DISTRIBUTION\n",
       "   1. Definitions.\n",
       "      \"License\" shall mean the terms and conditions for use, reproduction,\n",
       "      and distribution as defined by Sections 1 through 9 of this document.\n",
       "      \"Licensor\" shall mean the copyright owner or entity authorized by\n",
       "      the copyright owner that is granting the License.\n",
       "      \"Legal Entity\" shall mean the union of the acting entity and all\n",
       "      other entities that control, are controlled by, or are under common\n",
       "      control with that entity. For the purposes of this definition,\n",
       "      \"control\" means (i) the power, direct or indirect, to cause the\n",
       "      direction or management of such entity, whether by contract or\n",
       "      otherwise, or (ii) ownership of fifty percent (50%) or more of the\n",
       "      outstanding shares, or (iii) beneficial ownership of such entity.\n",
       "      \"You\" (or \"Your\") shall mean an individual or Legal Entity\n",
       "      exercising permissions granted by this License.\n",
       "      \"Source\" form shall mean the preferred form for making modifications,\n",
       "      including but not limited to software source code, documentation\n",
       "      source, and configuration files.\n",
       "      \"Object\" form shall mean any form resulting from mechanical\n",
       "      transformation or translation of a Source form, including but\n",
       "      not limited to compiled object code, generated documentation,\n",
       "      and conversions to other media types.\n",
       "      \"Work\" shall mean the work of authorship, whether in Source or\n",
       "      Object form, made available under the License, as indicated by a\n",
       "      copyright notice that is included in or attached to the work\n",
       "      (an example is provided in the Appendix below).\n",
       "      \"Derivative Works\" shall mean any work, whether in Source or Object\n",
       "      form, that is based on (or derived from) the Work and for which the\n",
       "      editorial revisions, annotations, elaborations, or other modifications\n",
       "      represent, as a whole, an original work of authorship. For the purposes\n",
       "      of this License, Derivative Works shall not include works that remain\n",
       "      separable from, or merely link (or bind by name) to the interfaces of,\n",
       "      the Work and Derivative Works thereof.\n",
       "      \"Contribution\" shall mean any work of authorship, including\n",
       "      the original version of the Work and any modifications or additions\n",
       "      to that Work or Derivative Works thereof, that is intentionally\n",
       "      submitted to Licensor for inclusion in the Work by the copyright owner\n",
       "      or by an individual or Legal Entity authorized to submit on behalf of\n",
       "      the copyright owner. For the purposes of this definition, \"submitted\"\n",
       "      means any form of electronic, verbal, or written communication sent\n",
       "      to the Licensor or its representatives, including but not limited to\n",
       "      communication on electronic mailing lists, source code control systems,\n",
       "      and issue tracking systems that are managed by, or on behalf of, the\n",
       "      Licensor for the purpose of discussing and improving the Work, but\n",
       "      excluding communication that is conspicuously marked or otherwise\n",
       "      designated in writing by the copyright owner as \"Not a Contribution.\"\n",
       "      \"Contributor\" shall mean Licensor and any individual or Legal Entity\n",
       "      on behalf of whom a Contribution has been received by Licensor and\n",
       "      subsequently incorporated within the Work.\n",
       "   2. Grant of Copyright License. Subject to the terms and conditions of\n",
       "      this License, each Contributor hereby grants to You a perpetual,\n",
       "      worldwide, non-exclusive, no-charge, royalty-free, irrevocable\n",
       "      copyright license to reproduce, prepare Derivative Works of,\n",
       "      publicly display, publicly perform, sublicense, and distribute the\n",
       "      Work and such Derivative Works in Source or Object form.\n",
       "   3. Grant of Patent License. Subject to the terms and conditions of\n",
       "      this License, each Contributor hereby grants to You a perpetual,\n",
       "      worldwide, non-exclusive, no-charge, royalty-free, irrevocable\n",
       "      (except as stated in this section) patent license to make, have made,\n",
       "      use, offer to sell, sell, import, and otherwise transfer the Work,\n",
       "      where such license applies only to those patent claims licensable\n",
       "      by such Contributor that are necessarily infringed by their\n",
       "      Contribution(s) alone or by combination of their Contribution(s)\n",
       "      with the Work to which such Contribution(s) was submitted. If You\n",
       "      institute patent litigation against any entity (including a\n",
       "      cross-claim or counterclaim in a lawsuit) alleging that the Work\n",
       "      or a Contribution incorporated within the Work constitutes direct\n",
       "      or contributory patent infringement, then any patent licenses\n",
       "      granted to You under this License for that Work shall terminate\n",
       "      as of the date such litigation is filed.\n",
       "   4. Redistribution. You may reproduce and distribute copies of the\n",
       "      Work or Derivative Works thereof in any medium, with or without\n",
       "      modifications, and in Source or Object form, provided that You\n",
       "      meet the following conditions:\n",
       "      (a) You must give any other recipients of the Work or\n",
       "          Derivative Works a copy of this License; and\n",
       "      (b) You must cause any modified files to carry prominent notices\n",
       "          stating that You changed the files; and\n",
       "      (c) You must retain, in the Source form of any Derivative Works\n",
       "          that You distribute, all copyright, patent, trademark, and\n",
       "          attribution notices from the Source form of the Work,\n",
       "          excluding those notices that do not pertain to any part of\n",
       "          the Derivative Works; and\n",
       "      (d) If the Work includes a \"NOTICE\" text file as part of its\n",
       "          distribution, then any Derivative Works that You distribute must\n",
       "          include a readable copy of the attribution notices contained\n",
       "          within such NOTICE file, excluding those notices that do not\n",
       "          pertain to any part of the Derivative Works, in at least one\n",
       "          of the following places: within a NOTICE text file distributed\n",
       "          as part of the Derivative Works; within the Source form or\n",
       "          documentation, if provided along with the Derivative Works; or,\n",
       "          within a display generated by the Derivative Works, if and\n",
       "          wherever such third-party notices normally appear. The contents\n",
       "          of the NOTICE file are for informational purposes only and\n",
       "          do not modify the License. You may add Your own attribution\n",
       "          notices within Derivative Works that You distribute, alongside\n",
       "          or as an addendum to the NOTICE text from the Work, provided\n",
       "          that such additional attribution notices cannot be construed\n",
       "          as modifying the License.\n",
       "      You may add Your own copyright statement to Your modifications and\n",
       "      may provide additional or different license terms and conditions\n",
       "      for use, reproduction, or distribution of Your modifications, or\n",
       "      for any such Derivative Works as a whole, provided Your use,\n",
       "      reproduction, and distribution of the Work otherwise complies with\n",
       "      the conditions stated in this License.\n",
       "   5. Submission of Contributions. Unless You explicitly state otherwise,\n",
       "      any Contribution intentionally submitted for inclusion in the Work\n",
       "      by You to the Licensor shall be under the terms and conditions of\n",
       "      this License, without any additional terms or conditions.\n",
       "      Notwithstanding the above, nothing herein shall supersede or modify\n",
       "      the terms of any separate license agreement you may have executed\n",
       "      with Licensor regarding such Contributions.\n",
       "   6. Trademarks. This License does not grant permission to use the trade\n",
       "      names, trademarks, service marks, or product names of the Licensor,\n",
       "      except as required for reasonable and customary use in describing the\n",
       "      origin of the Work and reproducing the content of the NOTICE file.\n",
       "   7. Disclaimer of Warranty. Unless required by applicable law or\n",
       "      agreed to in writing, Licensor provides the Work (and each\n",
       "      Contributor provides its Contributions) on an \"AS IS\" BASIS,\n",
       "      WITHOUT WARRANTIES OR CONDITIONS OF ANY KIND, either express or\n",
       "      implied, including, without limitation, any warranties or conditions\n",
       "      of TITLE, NON-INFRINGEMENT, MERCHANTABILITY, or FITNESS FOR A\n",
       "      PARTICULAR PURPOSE. You are solely responsible for determining the\n",
       "      appropriateness of using or redistributing the Work and assume any\n",
       "      risks associated with Your exercise of permissions under this License.\n",
       "   8. Limitation of Liability. In no event and under no legal theory,\n",
       "      whether in tort (including negligence), contract, or otherwise,\n",
       "      unless required by applicable law (such as deliberate and grossly\n",
       "      negligent acts) or agreed to in writing, shall any Contributor be\n",
       "      liable to You for damages, including any direct, indirect, special,\n",
       "      incidental, or consequential damages of any character arising as a\n",
       "      result of this License or out of the use or inability to use the\n",
       "      Work (including but not limited to damages for loss of goodwill,\n",
       "      work stoppage, computer failure or malfunction, or any and all\n",
       "      other commercial damages or losses), even if such Contributor\n",
       "      has been advised of the possibility of such damages.\n",
       "   9. Accepting Warranty or Additional Liability. While redistributing\n",
       "      the Work or Derivative Works thereof, You may choose to offer,\n",
       "      and charge a fee for, acceptance of support, warranty, indemnity,\n",
       "      or other liability obligations and/or rights consistent with this\n",
       "      License. However, in accepting such obligations, You may act only\n",
       "      on Your own behalf and on Your sole responsibility, not on behalf\n",
       "      of any other Contributor, and only if You agree to indemnify,\n",
       "      defend, and hold each Contributor harmless for any liability\n",
       "      incurred by, or claims asserted against, such Contributor by reason\n",
       "      of your accepting any such warranty or additional liability.\n",
       "   END OF TERMS AND CONDITIONS\n",
       "   APPENDIX: How to apply the Apache License to your work.\n",
       "      To apply the Apache License to your work, attach the following\n",
       "      boilerplate notice, with the fields enclosed by brackets \"{}\"\n",
       "      replaced with your own identifying information. (Don't include\n",
       "      the brackets!)  The text should be enclosed in the appropriate\n",
       "      comment syntax for the file format. We also recommend that a\n",
       "      file or class name and description of purpose be included on the\n",
       "      same \"printed page\" as the copyright notice for easier\n",
       "      identification within third-party archives.\n",
       "   Copyright {yyyy} {name of copyright owner}\n",
       "   Licensed under the Apache License, Version 2.0 (the \"License\");\n",
       "   you may not use this file except in compliance with the License.\n",
       "   You may obtain a copy of the License at\n",
       "       http://www.apache.org/licenses/LICENSE-2.0\n",
       "   Unless required by applicable law or agreed to in writing, software\n",
       "   distributed under the License is distributed on an \"AS IS\" BASIS,\n",
       "   WITHOUT WARRANTIES OR CONDITIONS OF ANY KIND, either express or implied.\n",
       "   See the License for the specific language governing permissions and\n",
       "   limitations under the License.\n",
       "-->"
      ],
      "text/plain": [
       "<IPython.core.display.HTML object>"
      ]
     },
     "execution_count": 4,
     "metadata": {},
     "output_type": "execute_result"
    }
   ],
   "source": [
    "from IPython.display import HTML\n",
    "import numpy as np\n",
    "HTML(open(\"input.html\").read())"
   ]
  },
  {
   "cell_type": "markdown",
   "metadata": {},
   "source": [
    "## Does this work locally? (not \"_in a container locally_\", but _actually_ in local)"
   ]
  },
  {
   "cell_type": "code",
   "execution_count": 5,
   "metadata": {},
   "outputs": [],
   "source": [
    "image = np.array([data], dtype=np.float32)"
   ]
  },
  {
   "cell_type": "code",
   "execution_count": 6,
   "metadata": {},
   "outputs": [
    {
     "name": "stdout",
     "output_type": "stream",
     "text": [
      "loaded\n"
     ]
    }
   ],
   "source": [
    "from modelscript_pytorch import *\n",
    "model = load_model('./') #path. to model is local here"
   ]
  },
  {
   "cell_type": "code",
   "execution_count": 7,
   "metadata": {},
   "outputs": [
    {
     "name": "stdout",
     "output_type": "stream",
     "text": [
      "<class 'numpy.ndarray'>\n"
     ]
    },
    {
     "data": {
      "text/plain": [
       "[3]"
      ]
     },
     "execution_count": 7,
     "metadata": {},
     "output_type": "execute_result"
    }
   ],
   "source": [
    "predict(model,image)"
   ]
  },
  {
   "cell_type": "markdown",
   "metadata": {},
   "source": [
    "### ok great! Now let's install ezsmdeploy"
   ]
  },
  {
   "cell_type": "markdown",
   "metadata": {},
   "source": [
    "_[To Do]_: currently local; replace with pip version!"
   ]
  },
  {
   "cell_type": "code",
   "execution_count": 8,
   "metadata": {},
   "outputs": [
    {
     "name": "stdout",
     "output_type": "stream",
     "text": [
      "Requirement already satisfied: ezsmdeploy in /home/ec2-user/anaconda3/envs/python3/lib/python3.6/site-packages (0.1.5)\n",
      "Requirement already satisfied: shortuuid==1.0.1 in /home/ec2-user/anaconda3/envs/python3/lib/python3.6/site-packages (from ezsmdeploy) (1.0.1)\n",
      "Requirement already satisfied: sagemaker>=1.55.3 in /home/ec2-user/anaconda3/envs/python3/lib/python3.6/site-packages (from ezsmdeploy) (1.55.4)\n",
      "Requirement already satisfied: yaspin==0.16.0 in /home/ec2-user/anaconda3/envs/python3/lib/python3.6/site-packages (from ezsmdeploy) (0.16.0)\n",
      "Requirement already satisfied: locustio==0.14.5 in /home/ec2-user/anaconda3/envs/python3/lib/python3.6/site-packages (from ezsmdeploy) (0.14.5)\n",
      "Requirement already satisfied: boto3>=1.10.44 in /home/ec2-user/anaconda3/envs/python3/lib/python3.6/site-packages (from sagemaker>=1.55.3->ezsmdeploy) (1.12.42)\n",
      "Requirement already satisfied: protobuf>=3.1 in /home/ec2-user/anaconda3/envs/python3/lib/python3.6/site-packages (from sagemaker>=1.55.3->ezsmdeploy) (3.11.3)\n",
      "Requirement already satisfied: importlib-metadata>=1.4.0 in /home/ec2-user/anaconda3/envs/python3/lib/python3.6/site-packages (from sagemaker>=1.55.3->ezsmdeploy) (1.5.0)\n",
      "Requirement already satisfied: packaging>=20.0 in /home/ec2-user/anaconda3/envs/python3/lib/python3.6/site-packages (from sagemaker>=1.55.3->ezsmdeploy) (20.1)\n",
      "Requirement already satisfied: protobuf3-to-dict>=0.1.5 in /home/ec2-user/anaconda3/envs/python3/lib/python3.6/site-packages (from sagemaker>=1.55.3->ezsmdeploy) (0.1.5)\n",
      "Requirement already satisfied: scipy>=0.19.0 in /home/ec2-user/anaconda3/envs/python3/lib/python3.6/site-packages (from sagemaker>=1.55.3->ezsmdeploy) (1.4.1)\n",
      "Requirement already satisfied: smdebug-rulesconfig==0.1.2 in /home/ec2-user/anaconda3/envs/python3/lib/python3.6/site-packages (from sagemaker>=1.55.3->ezsmdeploy) (0.1.2)\n",
      "Requirement already satisfied: numpy>=1.9.0 in /home/ec2-user/anaconda3/envs/python3/lib/python3.6/site-packages (from sagemaker>=1.55.3->ezsmdeploy) (1.18.2)\n",
      "Requirement already satisfied: geventhttpclient-wheels==1.3.1.dev2 in /home/ec2-user/anaconda3/envs/python3/lib/python3.6/site-packages (from locustio==0.14.5->ezsmdeploy) (1.3.1.dev2)\n",
      "Requirement already satisfied: msgpack>=0.6.2 in /home/ec2-user/anaconda3/envs/python3/lib/python3.6/site-packages (from locustio==0.14.5->ezsmdeploy) (1.0.0)\n",
      "Requirement already satisfied: psutil>=5.6.7 in /home/ec2-user/anaconda3/envs/python3/lib/python3.6/site-packages (from locustio==0.14.5->ezsmdeploy) (5.7.0)\n",
      "Requirement already satisfied: ConfigArgParse>=1.0 in /home/ec2-user/anaconda3/envs/python3/lib/python3.6/site-packages (from locustio==0.14.5->ezsmdeploy) (1.2.1)\n",
      "Requirement already satisfied: gevent==1.5a3 in /home/ec2-user/anaconda3/envs/python3/lib/python3.6/site-packages (from locustio==0.14.5->ezsmdeploy) (1.5a3)\n",
      "Requirement already satisfied: pyzmq>=16.0.2 in /home/ec2-user/anaconda3/envs/python3/lib/python3.6/site-packages (from locustio==0.14.5->ezsmdeploy) (19.0.0)\n",
      "Requirement already satisfied: requests>=2.9.1 in /home/ec2-user/anaconda3/envs/python3/lib/python3.6/site-packages (from locustio==0.14.5->ezsmdeploy) (2.23.0)\n",
      "Requirement already satisfied: flask>=0.10.1 in /home/ec2-user/anaconda3/envs/python3/lib/python3.6/site-packages (from locustio==0.14.5->ezsmdeploy) (1.0.2)\n",
      "Requirement already satisfied: s3transfer<0.4.0,>=0.3.0 in /home/ec2-user/anaconda3/envs/python3/lib/python3.6/site-packages (from boto3>=1.10.44->sagemaker>=1.55.3->ezsmdeploy) (0.3.3)\n",
      "Requirement already satisfied: botocore<1.16.0,>=1.15.42 in /home/ec2-user/anaconda3/envs/python3/lib/python3.6/site-packages (from boto3>=1.10.44->sagemaker>=1.55.3->ezsmdeploy) (1.15.42)\n",
      "Requirement already satisfied: jmespath<1.0.0,>=0.7.1 in /home/ec2-user/anaconda3/envs/python3/lib/python3.6/site-packages (from boto3>=1.10.44->sagemaker>=1.55.3->ezsmdeploy) (0.9.4)\n",
      "Requirement already satisfied: setuptools in /home/ec2-user/.local/lib/python3.6/site-packages (from protobuf>=3.1->sagemaker>=1.55.3->ezsmdeploy) (46.1.3)\n",
      "Requirement already satisfied: six>=1.9 in /home/ec2-user/anaconda3/envs/python3/lib/python3.6/site-packages (from protobuf>=3.1->sagemaker>=1.55.3->ezsmdeploy) (1.14.0)\n",
      "Requirement already satisfied: zipp>=0.5 in /home/ec2-user/anaconda3/envs/python3/lib/python3.6/site-packages (from importlib-metadata>=1.4.0->sagemaker>=1.55.3->ezsmdeploy) (3.0.0)\n",
      "Requirement already satisfied: pyparsing>=2.0.2 in /home/ec2-user/anaconda3/envs/python3/lib/python3.6/site-packages (from packaging>=20.0->sagemaker>=1.55.3->ezsmdeploy) (2.2.0)\n",
      "Requirement already satisfied: certifi in /home/ec2-user/anaconda3/envs/python3/lib/python3.6/site-packages (from geventhttpclient-wheels==1.3.1.dev2->locustio==0.14.5->ezsmdeploy) (2019.11.28)\n",
      "Requirement already satisfied: greenlet>=0.4.14; platform_python_implementation == \"CPython\" in /home/ec2-user/.local/lib/python3.6/site-packages (from gevent==1.5a3->locustio==0.14.5->ezsmdeploy) (0.4.15)\n",
      "Requirement already satisfied: urllib3!=1.25.0,!=1.25.1,<1.26,>=1.21.1 in /home/ec2-user/anaconda3/envs/python3/lib/python3.6/site-packages (from requests>=2.9.1->locustio==0.14.5->ezsmdeploy) (1.23)\n",
      "Requirement already satisfied: chardet<4,>=3.0.2 in /home/ec2-user/anaconda3/envs/python3/lib/python3.6/site-packages (from requests>=2.9.1->locustio==0.14.5->ezsmdeploy) (3.0.4)\n",
      "Requirement already satisfied: idna<3,>=2.5 in /home/ec2-user/anaconda3/envs/python3/lib/python3.6/site-packages (from requests>=2.9.1->locustio==0.14.5->ezsmdeploy) (2.6)\n",
      "Requirement already satisfied: click>=5.1 in /home/ec2-user/anaconda3/envs/python3/lib/python3.6/site-packages (from flask>=0.10.1->locustio==0.14.5->ezsmdeploy) (6.7)\n",
      "Requirement already satisfied: itsdangerous>=0.24 in /home/ec2-user/anaconda3/envs/python3/lib/python3.6/site-packages (from flask>=0.10.1->locustio==0.14.5->ezsmdeploy) (0.24)\n",
      "Requirement already satisfied: Jinja2>=2.10 in /home/ec2-user/anaconda3/envs/python3/lib/python3.6/site-packages (from flask>=0.10.1->locustio==0.14.5->ezsmdeploy) (2.10)\n",
      "Requirement already satisfied: Werkzeug>=0.14 in /home/ec2-user/anaconda3/envs/python3/lib/python3.6/site-packages (from flask>=0.10.1->locustio==0.14.5->ezsmdeploy) (0.14.1)\n",
      "Requirement already satisfied: docutils<0.16,>=0.10 in /home/ec2-user/anaconda3/envs/python3/lib/python3.6/site-packages (from botocore<1.16.0,>=1.15.42->boto3>=1.10.44->sagemaker>=1.55.3->ezsmdeploy) (0.14)\n",
      "Requirement already satisfied: python-dateutil<3.0.0,>=2.1 in /home/ec2-user/anaconda3/envs/python3/lib/python3.6/site-packages (from botocore<1.16.0,>=1.15.42->boto3>=1.10.44->sagemaker>=1.55.3->ezsmdeploy) (2.8.0)\n",
      "Requirement already satisfied: MarkupSafe>=0.23 in /home/ec2-user/anaconda3/envs/python3/lib/python3.6/site-packages (from Jinja2>=2.10->flask>=0.10.1->locustio==0.14.5->ezsmdeploy) (1.0)\n"
     ]
    }
   ],
   "source": [
    "!pip install ezsmdeploy"
   ]
  },
  {
   "cell_type": "code",
   "execution_count": 9,
   "metadata": {},
   "outputs": [],
   "source": [
    "import ezsmdeploy"
   ]
  },
  {
   "cell_type": "markdown",
   "metadata": {},
   "source": [
    "#### If you have been running other inference containers in local mode, stop existing containers to avoid conflict"
   ]
  },
  {
   "cell_type": "code",
   "execution_count": 10,
   "metadata": {},
   "outputs": [],
   "source": [
    "!docker container stop $(docker container ls -aq) >/dev/null"
   ]
  },
  {
   "cell_type": "markdown",
   "metadata": {},
   "source": [
    "## Deploy locally"
   ]
  },
  {
   "cell_type": "code",
   "execution_count": 11,
   "metadata": {},
   "outputs": [
    {
     "name": "stdout",
     "output_type": "stream",
     "text": [
      "\u001b[K0:00:00.163602 | compressed model(s)\n",
      "\u001b[K0:00:00.282287 | uploaded model tarball(s) ; check returned modelpath\n",
      "\u001b[K0:00:00.283273 | added requirements file\n",
      "\u001b[K0:00:00.285273 | added source file\n",
      "\u001b[K0:00:00.286589 | added Dockerfile\n",
      "\u001b[K0:00:00.288763 | added model_handler and docker utils\n",
      "\u001b[K0:00:00.288846 | building docker container\n",
      "\u001b[K0:03:22.586789 | built docker container\n",
      "\u001b[K0:03:22.902898 | created model(s). Now deploying on local\n",
      "\u001b[32m∙∙●\u001b[0m \u001b[KAttaching to tmpm5w6zf5u_algo-1-fbfl5_1\n",
      "\u001b[36malgo-1-fbfl5_1  |\u001b[0m Warning: Calling MMS with mxnet-model-server. Please move to multi-model-server.\n",
      "\u001b[32m●∙∙\u001b[0m \u001b[K\u001b[36malgo-1-fbfl5_1  |\u001b[0m 2020-04-23 23:04:06,640 [INFO ] main com.amazonaws.ml.mms.ModelServer - \n",
      "\u001b[36malgo-1-fbfl5_1  |\u001b[0m MMS Home: /usr/local/lib/python3.5/dist-packages\n",
      "\u001b[36malgo-1-fbfl5_1  |\u001b[0m Current directory: /\n",
      "\u001b[36malgo-1-fbfl5_1  |\u001b[0m Temp directory: /tmp\n",
      "\u001b[36malgo-1-fbfl5_1  |\u001b[0m Number of GPUs: 0\n",
      "\u001b[36malgo-1-fbfl5_1  |\u001b[0m Number of CPUs: 32\n",
      "\u001b[36malgo-1-fbfl5_1  |\u001b[0m Max heap size: 27305 M\n",
      "\u001b[36malgo-1-fbfl5_1  |\u001b[0m Python executable: /usr/bin/python3\n",
      "\u001b[36malgo-1-fbfl5_1  |\u001b[0m Config file: /etc/sagemaker-mms.properties\n",
      "\u001b[36malgo-1-fbfl5_1  |\u001b[0m Inference address: http://0.0.0.0:8080\n",
      "\u001b[36malgo-1-fbfl5_1  |\u001b[0m Management address: http://0.0.0.0:8080\n",
      "\u001b[36malgo-1-fbfl5_1  |\u001b[0m Model Store: /.sagemaker/mms/models\n",
      "\u001b[36malgo-1-fbfl5_1  |\u001b[0m Initial Models: ALL\n",
      "\u001b[36malgo-1-fbfl5_1  |\u001b[0m Log dir: /logs\n",
      "\u001b[36malgo-1-fbfl5_1  |\u001b[0m Metrics dir: /logs\n",
      "\u001b[36malgo-1-fbfl5_1  |\u001b[0m Netty threads: 0\n",
      "\u001b[36malgo-1-fbfl5_1  |\u001b[0m Netty client threads: 0\n",
      "\u001b[36malgo-1-fbfl5_1  |\u001b[0m Default workers per model: 32\n",
      "\u001b[36malgo-1-fbfl5_1  |\u001b[0m Blacklist Regex: N/A\n",
      "\u001b[36malgo-1-fbfl5_1  |\u001b[0m Maximum Response Size: 6553500\n",
      "\u001b[36malgo-1-fbfl5_1  |\u001b[0m Maximum Request Size: 6553500\n",
      "\u001b[36malgo-1-fbfl5_1  |\u001b[0m Preload model: false\n",
      "\u001b[36malgo-1-fbfl5_1  |\u001b[0m Prefer direct buffer: false\n",
      "\u001b[32m∙●∙\u001b[0m \u001b[K\u001b[36malgo-1-fbfl5_1  |\u001b[0m 2020-04-23 23:04:06,716 [WARN ] W-9000-model com.amazonaws.ml.mms.wlm.WorkerLifeCycle - attachIOStreams() threadName=W-9000-model\n",
      "\u001b[32m∙∙●\u001b[0m \u001b[K\u001b[36malgo-1-fbfl5_1  |\u001b[0m 2020-04-23 23:04:06,814 [INFO ] W-9000-model-stdout com.amazonaws.ml.mms.wlm.WorkerLifeCycle - model_service_worker started with args: --sock-type unix --sock-name /tmp/.mms.sock.9000 --handler /home/model-server/model_handler.py:handle --model-path /.sagemaker/mms/models/model --model-name model --preload-model false --tmp-dir /tmp\n",
      "\u001b[36malgo-1-fbfl5_1  |\u001b[0m 2020-04-23 23:04:06,815 [INFO ] W-9000-model-stdout com.amazonaws.ml.mms.wlm.WorkerLifeCycle - Listening on port: /tmp/.mms.sock.9000\n",
      "\u001b[36malgo-1-fbfl5_1  |\u001b[0m 2020-04-23 23:04:06,815 [INFO ] W-9000-model-stdout com.amazonaws.ml.mms.wlm.WorkerLifeCycle - [PID] 87\n",
      "\u001b[36malgo-1-fbfl5_1  |\u001b[0m 2020-04-23 23:04:06,815 [INFO ] W-9000-model-stdout com.amazonaws.ml.mms.wlm.WorkerLifeCycle - MXNet worker started.\n",
      "\u001b[36malgo-1-fbfl5_1  |\u001b[0m 2020-04-23 23:04:06,815 [INFO ] W-9000-model-stdout com.amazonaws.ml.mms.wlm.WorkerLifeCycle - Python runtime: 3.5.2\n",
      "\u001b[36malgo-1-fbfl5_1  |\u001b[0m 2020-04-23 23:04:06,815 [INFO ] main com.amazonaws.ml.mms.wlm.ModelManager - Model model loaded.\n",
      "\u001b[36malgo-1-fbfl5_1  |\u001b[0m 2020-04-23 23:04:06,824 [INFO ] main com.amazonaws.ml.mms.ModelServer - Initialize Inference server with: EpollServerSocketChannel.\n",
      "\u001b[36malgo-1-fbfl5_1  |\u001b[0m 2020-04-23 23:04:06,826 [INFO ] W-9000-model com.amazonaws.ml.mms.wlm.WorkerThread - Connecting to: /tmp/.mms.sock.9000\n",
      "\u001b[36malgo-1-fbfl5_1  |\u001b[0m 2020-04-23 23:04:06,826 [INFO ] W-9000-model com.amazonaws.ml.mms.wlm.WorkerThread - Connecting to: /tmp/.mms.sock.9000\n",
      "\u001b[36malgo-1-fbfl5_1  |\u001b[0m 2020-04-23 23:04:06,826 [INFO ] W-9000-model com.amazonaws.ml.mms.wlm.WorkerThread - Connecting to: /tmp/.mms.sock.9000\n",
      "\u001b[36malgo-1-fbfl5_1  |\u001b[0m 2020-04-23 23:04:06,826 [INFO ] W-9000-model com.amazonaws.ml.mms.wlm.WorkerThread - Connecting to: /tmp/.mms.sock.9000\n",
      "\u001b[36malgo-1-fbfl5_1  |\u001b[0m 2020-04-23 23:04:06,826 [INFO ] W-9000-model com.amazonaws.ml.mms.wlm.WorkerThread - Connecting to: /tmp/.mms.sock.9000\n",
      "\u001b[36malgo-1-fbfl5_1  |\u001b[0m 2020-04-23 23:04:06,826 [INFO ] W-9000-model com.amazonaws.ml.mms.wlm.WorkerThread - Connecting to: /tmp/.mms.sock.9000\n",
      "\u001b[36malgo-1-fbfl5_1  |\u001b[0m 2020-04-23 23:04:06,826 [INFO ] W-9000-model com.amazonaws.ml.mms.wlm.WorkerThread - Connecting to: /tmp/.mms.sock.9000\n",
      "\u001b[36malgo-1-fbfl5_1  |\u001b[0m 2020-04-23 23:04:06,826 [INFO ] W-9000-model com.amazonaws.ml.mms.wlm.WorkerThread - Connecting to: /tmp/.mms.sock.9000\n",
      "\u001b[36malgo-1-fbfl5_1  |\u001b[0m 2020-04-23 23:04:06,826 [INFO ] W-9000-model com.amazonaws.ml.mms.wlm.WorkerThread - Connecting to: /tmp/.mms.sock.9000\n",
      "\u001b[36malgo-1-fbfl5_1  |\u001b[0m 2020-04-23 23:04:06,826 [INFO ] W-9000-model com.amazonaws.ml.mms.wlm.WorkerThread - Connecting to: /tmp/.mms.sock.9000\n",
      "\u001b[36malgo-1-fbfl5_1  |\u001b[0m 2020-04-23 23:04:06,826 [INFO ] W-9000-model com.amazonaws.ml.mms.wlm.WorkerThread - Connecting to: /tmp/.mms.sock.9000\n",
      "\u001b[36malgo-1-fbfl5_1  |\u001b[0m 2020-04-23 23:04:06,826 [INFO ] W-9000-model com.amazonaws.ml.mms.wlm.WorkerThread - Connecting to: /tmp/.mms.sock.9000\n",
      "\u001b[36malgo-1-fbfl5_1  |\u001b[0m 2020-04-23 23:04:06,826 [INFO ] W-9000-model com.amazonaws.ml.mms.wlm.WorkerThread - Connecting to: /tmp/.mms.sock.9000\n",
      "\u001b[36malgo-1-fbfl5_1  |\u001b[0m 2020-04-23 23:04:06,826 [INFO ] W-9000-model com.amazonaws.ml.mms.wlm.WorkerThread - Connecting to: /tmp/.mms.sock.9000\n",
      "\u001b[36malgo-1-fbfl5_1  |\u001b[0m 2020-04-23 23:04:06,826 [INFO ] W-9000-model com.amazonaws.ml.mms.wlm.WorkerThread - Connecting to: /tmp/.mms.sock.9000\n",
      "\u001b[36malgo-1-fbfl5_1  |\u001b[0m 2020-04-23 23:04:06,826 [INFO ] W-9000-model com.amazonaws.ml.mms.wlm.WorkerThread - Connecting to: /tmp/.mms.sock.9000\n",
      "\u001b[36malgo-1-fbfl5_1  |\u001b[0m 2020-04-23 23:04:06,826 [INFO ] W-9000-model com.amazonaws.ml.mms.wlm.WorkerThread - Connecting to: /tmp/.mms.sock.9000\n",
      "\u001b[36malgo-1-fbfl5_1  |\u001b[0m 2020-04-23 23:04:06,826 [INFO ] W-9000-model com.amazonaws.ml.mms.wlm.WorkerThread - Connecting to: /tmp/.mms.sock.9000\n",
      "\u001b[36malgo-1-fbfl5_1  |\u001b[0m 2020-04-23 23:04:06,826 [INFO ] W-9000-model com.amazonaws.ml.mms.wlm.WorkerThread - Connecting to: /tmp/.mms.sock.9000\n",
      "\u001b[36malgo-1-fbfl5_1  |\u001b[0m 2020-04-23 23:04:06,826 [INFO ] W-9000-model com.amazonaws.ml.mms.wlm.WorkerThread - Connecting to: /tmp/.mms.sock.9000\n",
      "\u001b[36malgo-1-fbfl5_1  |\u001b[0m 2020-04-23 23:04:06,826 [INFO ] W-9000-model com.amazonaws.ml.mms.wlm.WorkerThread - Connecting to: /tmp/.mms.sock.9000\n",
      "\u001b[36malgo-1-fbfl5_1  |\u001b[0m 2020-04-23 23:04:06,826 [INFO ] W-9000-model com.amazonaws.ml.mms.wlm.WorkerThread - Connecting to: /tmp/.mms.sock.9000\n",
      "\u001b[36malgo-1-fbfl5_1  |\u001b[0m 2020-04-23 23:04:06,826 [INFO ] W-9000-model com.amazonaws.ml.mms.wlm.WorkerThread - Connecting to: /tmp/.mms.sock.9000\n",
      "\u001b[36malgo-1-fbfl5_1  |\u001b[0m 2020-04-23 23:04:06,826 [INFO ] W-9000-model com.amazonaws.ml.mms.wlm.WorkerThread - Connecting to: /tmp/.mms.sock.9000\n",
      "\u001b[36malgo-1-fbfl5_1  |\u001b[0m 2020-04-23 23:04:06,826 [INFO ] W-9000-model com.amazonaws.ml.mms.wlm.WorkerThread - Connecting to: /tmp/.mms.sock.9000\n",
      "\u001b[36malgo-1-fbfl5_1  |\u001b[0m 2020-04-23 23:04:06,826 [INFO ] W-9000-model com.amazonaws.ml.mms.wlm.WorkerThread - Connecting to: /tmp/.mms.sock.9000\n",
      "\u001b[36malgo-1-fbfl5_1  |\u001b[0m 2020-04-23 23:04:06,826 [INFO ] W-9000-model com.amazonaws.ml.mms.wlm.WorkerThread - Connecting to: /tmp/.mms.sock.9000\n",
      "\u001b[36malgo-1-fbfl5_1  |\u001b[0m 2020-04-23 23:04:06,826 [INFO ] W-9000-model com.amazonaws.ml.mms.wlm.WorkerThread - Connecting to: /tmp/.mms.sock.9000\n",
      "\u001b[36malgo-1-fbfl5_1  |\u001b[0m 2020-04-23 23:04:06,826 [INFO ] W-9000-model com.amazonaws.ml.mms.wlm.WorkerThread - Connecting to: /tmp/.mms.sock.9000\n",
      "\u001b[36malgo-1-fbfl5_1  |\u001b[0m 2020-04-23 23:04:06,826 [INFO ] W-9000-model com.amazonaws.ml.mms.wlm.WorkerThread - Connecting to: /tmp/.mms.sock.9000\n",
      "\u001b[36malgo-1-fbfl5_1  |\u001b[0m 2020-04-23 23:04:06,826 [INFO ] W-9000-model com.amazonaws.ml.mms.wlm.WorkerThread - Connecting to: /tmp/.mms.sock.9000\n",
      "\u001b[36malgo-1-fbfl5_1  |\u001b[0m 2020-04-23 23:04:06,826 [INFO ] W-9000-model com.amazonaws.ml.mms.wlm.WorkerThread - Connecting to: /tmp/.mms.sock.9000\n",
      "\u001b[36malgo-1-fbfl5_1  |\u001b[0m 2020-04-23 23:04:06,908 [INFO ] main com.amazonaws.ml.mms.ModelServer - Inference API bind to: http://0.0.0.0:8080\n",
      "\u001b[36malgo-1-fbfl5_1  |\u001b[0m 2020-04-23 23:04:06,908 [INFO ] W-9000-model-stdout com.amazonaws.ml.mms.wlm.WorkerLifeCycle - Connection accepted: /tmp/.mms.sock.9000.\n",
      "\u001b[36malgo-1-fbfl5_1  |\u001b[0m Model server started.\n",
      "\u001b[36malgo-1-fbfl5_1  |\u001b[0m 2020-04-23 23:04:06,911 [INFO ] W-9000-model-stdout com.amazonaws.ml.mms.wlm.WorkerLifeCycle - Connection accepted: /tmp/.mms.sock.9000.\n",
      "\u001b[36malgo-1-fbfl5_1  |\u001b[0m 2020-04-23 23:04:06,912 [INFO ] W-9000-model-stdout com.amazonaws.ml.mms.wlm.WorkerLifeCycle - Connection accepted: /tmp/.mms.sock.9000.\n",
      "\u001b[36malgo-1-fbfl5_1  |\u001b[0m 2020-04-23 23:04:06,913 [WARN ] pool-2-thread-1 com.amazonaws.ml.mms.metrics.MetricCollector - worker pid is not available yet.\n",
      "\u001b[36malgo-1-fbfl5_1  |\u001b[0m 2020-04-23 23:04:06,914 [INFO ] W-9000-model-stdout com.amazonaws.ml.mms.wlm.WorkerLifeCycle - Connection accepted: /tmp/.mms.sock.9000.\n",
      "\u001b[36malgo-1-fbfl5_1  |\u001b[0m 2020-04-23 23:04:06,915 [INFO ] W-9000-model-stdout com.amazonaws.ml.mms.wlm.WorkerLifeCycle - Connection accepted: /tmp/.mms.sock.9000.\n",
      "\u001b[36malgo-1-fbfl5_1  |\u001b[0m 2020-04-23 23:04:06,916 [INFO ] W-9000-model-stdout com.amazonaws.ml.mms.wlm.WorkerLifeCycle - Connection accepted: /tmp/.mms.sock.9000.\n"
     ]
    },
    {
     "name": "stdout",
     "output_type": "stream",
     "text": [
      "\u001b[36malgo-1-fbfl5_1  |\u001b[0m 2020-04-23 23:04:06,917 [INFO ] W-9000-model-stdout com.amazonaws.ml.mms.wlm.WorkerLifeCycle - Connection accepted: /tmp/.mms.sock.9000.\n",
      "\u001b[36malgo-1-fbfl5_1  |\u001b[0m 2020-04-23 23:04:06,918 [INFO ] W-9000-model-stdout com.amazonaws.ml.mms.wlm.WorkerLifeCycle - Connection accepted: /tmp/.mms.sock.9000.\n",
      "\u001b[36malgo-1-fbfl5_1  |\u001b[0m 2020-04-23 23:04:06,920 [INFO ] W-9000-model-stdout com.amazonaws.ml.mms.wlm.WorkerLifeCycle - Connection accepted: /tmp/.mms.sock.9000.\n",
      "\u001b[36malgo-1-fbfl5_1  |\u001b[0m 2020-04-23 23:04:06,921 [INFO ] W-9000-model-stdout com.amazonaws.ml.mms.wlm.WorkerLifeCycle - Connection accepted: /tmp/.mms.sock.9000.\n",
      "\u001b[32m∙∙∙\u001b[0m \u001b[K\u001b[36malgo-1-fbfl5_1  |\u001b[0m 2020-04-23 23:04:06,922 [INFO ] W-9000-model-stdout com.amazonaws.ml.mms.wlm.WorkerLifeCycle - Connection accepted: /tmp/.mms.sock.9000.\n",
      "\u001b[36malgo-1-fbfl5_1  |\u001b[0m 2020-04-23 23:04:06,924 [INFO ] W-9000-model-stdout com.amazonaws.ml.mms.wlm.WorkerLifeCycle - Connection accepted: /tmp/.mms.sock.9000.\n",
      "\u001b[36malgo-1-fbfl5_1  |\u001b[0m 2020-04-23 23:04:06,925 [INFO ] W-9000-model-stdout com.amazonaws.ml.mms.wlm.WorkerLifeCycle - Connection accepted: /tmp/.mms.sock.9000.\n",
      "\u001b[36malgo-1-fbfl5_1  |\u001b[0m 2020-04-23 23:04:06,926 [INFO ] W-9000-model-stdout com.amazonaws.ml.mms.wlm.WorkerLifeCycle - Connection accepted: /tmp/.mms.sock.9000.\n",
      "\u001b[36malgo-1-fbfl5_1  |\u001b[0m 2020-04-23 23:04:06,927 [INFO ] W-9000-model-stdout com.amazonaws.ml.mms.wlm.WorkerLifeCycle - Connection accepted: /tmp/.mms.sock.9000.\n",
      "\u001b[36malgo-1-fbfl5_1  |\u001b[0m 2020-04-23 23:04:06,929 [INFO ] W-9000-model-stdout com.amazonaws.ml.mms.wlm.WorkerLifeCycle - Connection accepted: /tmp/.mms.sock.9000.\n",
      "\u001b[36malgo-1-fbfl5_1  |\u001b[0m 2020-04-23 23:04:06,930 [INFO ] W-9000-model-stdout com.amazonaws.ml.mms.wlm.WorkerLifeCycle - Connection accepted: /tmp/.mms.sock.9000.\n",
      "\u001b[36malgo-1-fbfl5_1  |\u001b[0m 2020-04-23 23:04:06,931 [INFO ] W-9000-model-stdout com.amazonaws.ml.mms.wlm.WorkerLifeCycle - Connection accepted: /tmp/.mms.sock.9000.\n",
      "\u001b[36malgo-1-fbfl5_1  |\u001b[0m 2020-04-23 23:04:06,933 [INFO ] W-9000-model-stdout com.amazonaws.ml.mms.wlm.WorkerLifeCycle - Connection accepted: /tmp/.mms.sock.9000.\n",
      "\u001b[36malgo-1-fbfl5_1  |\u001b[0m 2020-04-23 23:04:06,934 [INFO ] W-9000-model-stdout com.amazonaws.ml.mms.wlm.WorkerLifeCycle - Connection accepted: /tmp/.mms.sock.9000.\n",
      "\u001b[36malgo-1-fbfl5_1  |\u001b[0m 2020-04-23 23:04:06,935 [INFO ] W-9000-model-stdout com.amazonaws.ml.mms.wlm.WorkerLifeCycle - Connection accepted: /tmp/.mms.sock.9000.\n",
      "\u001b[36malgo-1-fbfl5_1  |\u001b[0m 2020-04-23 23:04:06,936 [INFO ] W-9000-model-stdout com.amazonaws.ml.mms.wlm.WorkerLifeCycle - Connection accepted: /tmp/.mms.sock.9000.\n",
      "\u001b[36malgo-1-fbfl5_1  |\u001b[0m 2020-04-23 23:04:06,938 [INFO ] W-9000-model-stdout com.amazonaws.ml.mms.wlm.WorkerLifeCycle - Connection accepted: /tmp/.mms.sock.9000.\n",
      "\u001b[36malgo-1-fbfl5_1  |\u001b[0m 2020-04-23 23:04:06,939 [INFO ] W-9000-model-stdout com.amazonaws.ml.mms.wlm.WorkerLifeCycle - Connection accepted: /tmp/.mms.sock.9000.\n",
      "\u001b[36malgo-1-fbfl5_1  |\u001b[0m 2020-04-23 23:04:06,940 [INFO ] W-9000-model-stdout com.amazonaws.ml.mms.wlm.WorkerLifeCycle - Connection accepted: /tmp/.mms.sock.9000.\n",
      "\u001b[36malgo-1-fbfl5_1  |\u001b[0m 2020-04-23 23:04:06,941 [INFO ] W-9000-model-stdout com.amazonaws.ml.mms.wlm.WorkerLifeCycle - Connection accepted: /tmp/.mms.sock.9000.\n",
      "\u001b[36malgo-1-fbfl5_1  |\u001b[0m 2020-04-23 23:04:06,943 [INFO ] W-9000-model-stdout com.amazonaws.ml.mms.wlm.WorkerLifeCycle - Connection accepted: /tmp/.mms.sock.9000.\n",
      "\u001b[36malgo-1-fbfl5_1  |\u001b[0m 2020-04-23 23:04:06,981 [INFO ] W-9000-model-stdout com.amazonaws.ml.mms.wlm.WorkerLifeCycle - Connection accepted: /tmp/.mms.sock.9000.\n",
      "\u001b[36malgo-1-fbfl5_1  |\u001b[0m 2020-04-23 23:04:06,981 [INFO ] W-9000-model-stdout com.amazonaws.ml.mms.wlm.WorkerLifeCycle - Connection accepted: /tmp/.mms.sock.9000.\n",
      "\u001b[36malgo-1-fbfl5_1  |\u001b[0m 2020-04-23 23:04:06,981 [INFO ] W-9000-model-stdout com.amazonaws.ml.mms.wlm.WorkerLifeCycle - Connection accepted: /tmp/.mms.sock.9000.\n",
      "\u001b[36malgo-1-fbfl5_1  |\u001b[0m 2020-04-23 23:04:06,981 [INFO ] W-9000-model-stdout com.amazonaws.ml.mms.wlm.WorkerLifeCycle - Connection accepted: /tmp/.mms.sock.9000.\n",
      "\u001b[36malgo-1-fbfl5_1  |\u001b[0m 2020-04-23 23:04:06,981 [INFO ] W-9000-model-stdout com.amazonaws.ml.mms.wlm.WorkerLifeCycle - Connection accepted: /tmp/.mms.sock.9000.\n",
      "\u001b[32m∙∙∙\u001b[0m \u001b[K\u001b[36malgo-1-fbfl5_1  |\u001b[0m 2020-04-23 23:04:07,749 [INFO ] W-9000-model-stdout com.amazonaws.ml.mms.wlm.WorkerLifeCycle - loaded\n",
      "\u001b[36malgo-1-fbfl5_1  |\u001b[0m 2020-04-23 23:04:07,749 [INFO ] W-9000-model-stdout com.amazonaws.ml.mms.wlm.WorkerLifeCycle - loaded model!\n",
      "\u001b[36malgo-1-fbfl5_1  |\u001b[0m 2020-04-23 23:04:07,749 [INFO ] W-9000-model-stdout com.amazonaws.ml.mms.wlm.WorkerLifeCycle - Model model loaded io_fd=0242acfffe1b0002-00000027-0000000e-a7a5b6f600b775b8-f72fad3d\n",
      "\u001b[36malgo-1-fbfl5_1  |\u001b[0m 2020-04-23 23:04:07,749 [INFO ] W-9000-model-stdout com.amazonaws.ml.mms.wlm.WorkerLifeCycle - loaded\n",
      "\u001b[36malgo-1-fbfl5_1  |\u001b[0m 2020-04-23 23:04:07,749 [INFO ] W-9000-model-stdout com.amazonaws.ml.mms.wlm.WorkerLifeCycle - loaded model!\n",
      "\u001b[36malgo-1-fbfl5_1  |\u001b[0m 2020-04-23 23:04:07,749 [INFO ] W-9000-model-stdout com.amazonaws.ml.mms.wlm.WorkerLifeCycle - Model model loaded io_fd=0242acfffe1b0002-00000027-00000003-6e1796f600b775b7-1d8d8bae\n",
      "\u001b[36malgo-1-fbfl5_1  |\u001b[0m 2020-04-23 23:04:07,749 [INFO ] W-9000-model-stdout com.amazonaws.ml.mms.wlm.WorkerLifeCycle - loaded\n",
      "\u001b[36malgo-1-fbfl5_1  |\u001b[0m 2020-04-23 23:04:07,749 [INFO ] W-9000-model-stdout com.amazonaws.ml.mms.wlm.WorkerLifeCycle - loaded model!\n",
      "\u001b[36malgo-1-fbfl5_1  |\u001b[0m 2020-04-23 23:04:07,750 [INFO ] W-9000-model-stdout com.amazonaws.ml.mms.wlm.WorkerLifeCycle - Model model loaded io_fd=0242acfffe1b0002-00000027-00000008-bb86d6f600b775b7-65d579e4\n",
      "\u001b[36malgo-1-fbfl5_1  |\u001b[0m 2020-04-23 23:04:07,750 [INFO ] W-9000-model-stdout com.amazonaws.ml.mms.wlm.WorkerLifeCycle - loaded\n",
      "\u001b[36malgo-1-fbfl5_1  |\u001b[0m 2020-04-23 23:04:07,750 [INFO ] W-9000-model-stdout com.amazonaws.ml.mms.wlm.WorkerLifeCycle - loaded model!\n",
      "\u001b[36malgo-1-fbfl5_1  |\u001b[0m 2020-04-23 23:04:07,750 [INFO ] W-9000-model-stdout com.amazonaws.ml.mms.wlm.WorkerLifeCycle - Model model loaded io_fd=0242acfffe1b0002-00000027-0000001f-34174ef600b775b8-2c0f48a5\n",
      "\u001b[36malgo-1-fbfl5_1  |\u001b[0m 2020-04-23 23:04:07,750 [INFO ] W-9000-model-stdout com.amazonaws.ml.mms.wlm.WorkerLifeCycle - loaded\n",
      "\u001b[36malgo-1-fbfl5_1  |\u001b[0m 2020-04-23 23:04:07,750 [INFO ] W-9000-model-stdout com.amazonaws.ml.mms.wlm.WorkerLifeCycle - loaded model!\n",
      "\u001b[36malgo-1-fbfl5_1  |\u001b[0m 2020-04-23 23:04:07,750 [INFO ] W-9000-model-stdout com.amazonaws.ml.mms.wlm.WorkerLifeCycle - Model model loaded io_fd=0242acfffe1b0002-00000027-0000000b-dcac36f600b775b7-efc9f48f\n",
      "\u001b[36malgo-1-fbfl5_1  |\u001b[0m 2020-04-23 23:04:07,751 [INFO ] W-9000-model-stdout com.amazonaws.ml.mms.wlm.WorkerLifeCycle - loaded\n",
      "\u001b[36malgo-1-fbfl5_1  |\u001b[0m 2020-04-23 23:04:07,751 [INFO ] W-9000-model-stdout com.amazonaws.ml.mms.wlm.WorkerLifeCycle - loaded model!\n",
      "\u001b[36malgo-1-fbfl5_1  |\u001b[0m 2020-04-23 23:04:07,751 [INFO ] W-9000-model-stdout com.amazonaws.ml.mms.wlm.WorkerLifeCycle - Model model loaded io_fd=0242acfffe1b0002-00000027-00000004-190c56f600b775b7-0a23285b\n",
      "\u001b[36malgo-1-fbfl5_1  |\u001b[0m 2020-04-23 23:04:07,754 [INFO ] W-9000-model com.amazonaws.ml.mms.wlm.WorkerThread - Backend response time: 753\n",
      "\u001b[36malgo-1-fbfl5_1  |\u001b[0m 2020-04-23 23:04:07,754 [INFO ] W-9000-model com.amazonaws.ml.mms.wlm.WorkerThread - Backend response time: 764\n",
      "\u001b[36malgo-1-fbfl5_1  |\u001b[0m 2020-04-23 23:04:07,755 [INFO ] W-9000-model com.amazonaws.ml.mms.wlm.WorkerThread - Backend response time: 766\n",
      "\u001b[36malgo-1-fbfl5_1  |\u001b[0m 2020-04-23 23:04:07,754 [INFO ] W-9000-model com.amazonaws.ml.mms.wlm.WorkerThread - Backend response time: 765\n",
      "\u001b[36malgo-1-fbfl5_1  |\u001b[0m 2020-04-23 23:04:07,754 [INFO ] W-9000-model com.amazonaws.ml.mms.wlm.WorkerThread - Backend response time: 750\n",
      "\u001b[36malgo-1-fbfl5_1  |\u001b[0m 2020-04-23 23:04:07,756 [INFO ] W-9000-model com.amazonaws.ml.mms.wlm.WorkerThread - Backend response time: 765\n",
      "\u001b[36malgo-1-fbfl5_1  |\u001b[0m 2020-04-23 23:04:07,756 [INFO ] W-9000-model-stdout com.amazonaws.ml.mms.wlm.WorkerLifeCycle - loaded\n",
      "\u001b[36malgo-1-fbfl5_1  |\u001b[0m 2020-04-23 23:04:07,756 [INFO ] W-9000-model-stdout com.amazonaws.ml.mms.wlm.WorkerLifeCycle - loaded model!\n",
      "\u001b[36malgo-1-fbfl5_1  |\u001b[0m 2020-04-23 23:04:07,756 [INFO ] W-9000-model-stdout com.amazonaws.ml.mms.wlm.WorkerLifeCycle - Model model loaded io_fd=0242acfffe1b0002-00000027-00000001-7ee696f600b775b7-d0d6fbb3\n",
      "\u001b[36malgo-1-fbfl5_1  |\u001b[0m 2020-04-23 23:04:07,757 [INFO ] W-9000-model-stdout com.amazonaws.ml.mms.wlm.WorkerLifeCycle - loaded\n",
      "\u001b[36malgo-1-fbfl5_1  |\u001b[0m 2020-04-23 23:04:07,757 [INFO ] W-9000-model-stdout com.amazonaws.ml.mms.wlm.WorkerLifeCycle - loaded model!\n",
      "\u001b[36malgo-1-fbfl5_1  |\u001b[0m 2020-04-23 23:04:07,757 [INFO ] W-9000-model-stdout com.amazonaws.ml.mms.wlm.WorkerLifeCycle - Model model loaded io_fd=0242acfffe1b0002-00000027-00000020-50a0cef600b775b8-b9779c4c\n",
      "\u001b[36malgo-1-fbfl5_1  |\u001b[0m 2020-04-23 23:04:07,757 [WARN ] W-9000-model com.amazonaws.ml.mms.wlm.WorkerLifeCycle - attachIOStreams() threadName=W-model-23\n",
      "\u001b[36malgo-1-fbfl5_1  |\u001b[0m 2020-04-23 23:04:07,757 [INFO ] W-9000-model com.amazonaws.ml.mms.wlm.WorkerThread - Backend response time: 767\n",
      "\u001b[36malgo-1-fbfl5_1  |\u001b[0m 2020-04-23 23:04:07,757 [INFO ] W-9000-model-stdout com.amazonaws.ml.mms.wlm.WorkerLifeCycle - loaded\n",
      "\u001b[36malgo-1-fbfl5_1  |\u001b[0m 2020-04-23 23:04:07,758 [WARN ] W-9000-model com.amazonaws.ml.mms.wlm.WorkerLifeCycle - attachIOStreams() threadName=W-model-30\n",
      "\u001b[36malgo-1-fbfl5_1  |\u001b[0m 2020-04-23 23:04:07,758 [INFO ] W-9000-model-stdout com.amazonaws.ml.mms.wlm.WorkerLifeCycle - loaded model!\n",
      "\u001b[36malgo-1-fbfl5_1  |\u001b[0m 2020-04-23 23:04:07,758 [INFO ] W-9000-model com.amazonaws.ml.mms.wlm.WorkerThread - Backend response time: 768\n",
      "\u001b[36malgo-1-fbfl5_1  |\u001b[0m 2020-04-23 23:04:07,758 [WARN ] W-9000-model com.amazonaws.ml.mms.wlm.WorkerLifeCycle - attachIOStreams() threadName=W-model-17\n",
      "\u001b[36malgo-1-fbfl5_1  |\u001b[0m 2020-04-23 23:04:07,758 [INFO ] W-9000-model-stdout com.amazonaws.ml.mms.wlm.WorkerLifeCycle - Model model loaded io_fd=0242acfffe1b0002-00000027-00000017-64460ef600b775b8-2add4a14\n",
      "\u001b[36malgo-1-fbfl5_1  |\u001b[0m 2020-04-23 23:04:07,758 [WARN ] W-9000-model com.amazonaws.ml.mms.wlm.WorkerLifeCycle - attachIOStreams() threadName=W-model-15\n",
      "\u001b[36malgo-1-fbfl5_1  |\u001b[0m 2020-04-23 23:04:07,758 [INFO ] W-9000-model-stdout com.amazonaws.ml.mms.wlm.WorkerLifeCycle - loaded\n",
      "\u001b[36malgo-1-fbfl5_1  |\u001b[0m 2020-04-23 23:04:07,758 [WARN ] W-9000-model com.amazonaws.ml.mms.wlm.WorkerLifeCycle - attachIOStreams() threadName=W-model-12\n",
      "\u001b[36malgo-1-fbfl5_1  |\u001b[0m 2020-04-23 23:04:07,758 [INFO ] W-9000-model-stdout com.amazonaws.ml.mms.wlm.WorkerLifeCycle - loaded model!\n",
      "\u001b[36malgo-1-fbfl5_1  |\u001b[0m 2020-04-23 23:04:07,758 [WARN ] W-9000-model com.amazonaws.ml.mms.wlm.WorkerLifeCycle - attachIOStreams() threadName=W-model-3\n",
      "\u001b[36malgo-1-fbfl5_1  |\u001b[0m 2020-04-23 23:04:07,758 [WARN ] W-9000-model com.amazonaws.ml.mms.wlm.WorkerLifeCycle - attachIOStreams() threadName=W-model-18\n",
      "\u001b[36malgo-1-fbfl5_1  |\u001b[0m 2020-04-23 23:04:07,758 [WARN ] W-9000-model com.amazonaws.ml.mms.wlm.WorkerLifeCycle - attachIOStreams() threadName=W-model-4\n",
      "\u001b[36malgo-1-fbfl5_1  |\u001b[0m 2020-04-23 23:04:07,758 [INFO ] W-9000-model com.amazonaws.ml.mms.wlm.WorkerThread - Backend response time: 769\n",
      "\u001b[36malgo-1-fbfl5_1  |\u001b[0m 2020-04-23 23:04:07,759 [INFO ] W-9000-model com.amazonaws.ml.mms.wlm.WorkerThread - Backend response time: 766\n",
      "\u001b[36malgo-1-fbfl5_1  |\u001b[0m 2020-04-23 23:04:07,759 [WARN ] W-9000-model com.amazonaws.ml.mms.wlm.WorkerLifeCycle - attachIOStreams() threadName=W-model-14\n",
      "\u001b[36malgo-1-fbfl5_1  |\u001b[0m 2020-04-23 23:04:07,758 [INFO ] W-9000-model-stdout com.amazonaws.ml.mms.wlm.WorkerLifeCycle - Model model loaded io_fd=0242acfffe1b0002-00000027-0000001a-3da28ef600b775b8-54222787\n",
      "\u001b[36malgo-1-fbfl5_1  |\u001b[0m 2020-04-23 23:04:07,759 [WARN ] W-9000-model com.amazonaws.ml.mms.wlm.WorkerLifeCycle - attachIOStreams() threadName=W-model-32\n",
      "\u001b[36malgo-1-fbfl5_1  |\u001b[0m 2020-04-23 23:04:07,761 [INFO ] W-9000-model-stdout com.amazonaws.ml.mms.wlm.WorkerLifeCycle - loaded\n",
      "\u001b[36malgo-1-fbfl5_1  |\u001b[0m 2020-04-23 23:04:07,761 [INFO ] W-9000-model com.amazonaws.ml.mms.wlm.WorkerThread - Backend response time: 771\n",
      "\u001b[36malgo-1-fbfl5_1  |\u001b[0m 2020-04-23 23:04:07,761 [INFO ] W-9000-model com.amazonaws.ml.mms.wlm.WorkerThread - Backend response time: 761\n",
      "\u001b[36malgo-1-fbfl5_1  |\u001b[0m 2020-04-23 23:04:07,761 [INFO ] W-9000-model-stdout com.amazonaws.ml.mms.wlm.WorkerLifeCycle - loaded model!\n",
      "\u001b[36malgo-1-fbfl5_1  |\u001b[0m 2020-04-23 23:04:07,762 [WARN ] W-9000-model com.amazonaws.ml.mms.wlm.WorkerLifeCycle - attachIOStreams() threadName=W-model-31\n",
      "\u001b[36malgo-1-fbfl5_1  |\u001b[0m 2020-04-23 23:04:07,762 [INFO ] W-9000-model-stdout com.amazonaws.ml.mms.wlm.WorkerLifeCycle - Model model loaded io_fd=0242acfffe1b0002-00000027-0000001e-edc54ef600b775b8-f7a54c01\n",
      "\u001b[36malgo-1-fbfl5_1  |\u001b[0m 2020-04-23 23:04:07,762 [WARN ] W-9000-model com.amazonaws.ml.mms.wlm.WorkerLifeCycle - attachIOStreams() threadName=W-model-22\n",
      "\u001b[36malgo-1-fbfl5_1  |\u001b[0m 2020-04-23 23:04:07,762 [INFO ] W-9000-model-stdout com.amazonaws.ml.mms.wlm.WorkerLifeCycle - loaded\n",
      "\u001b[36malgo-1-fbfl5_1  |\u001b[0m 2020-04-23 23:04:07,762 [INFO ] W-9000-model-stdout com.amazonaws.ml.mms.wlm.WorkerLifeCycle - loaded model!\n",
      "\u001b[36malgo-1-fbfl5_1  |\u001b[0m 2020-04-23 23:04:07,762 [INFO ] W-9000-model-stdout com.amazonaws.ml.mms.wlm.WorkerLifeCycle - Model model loaded io_fd=0242acfffe1b0002-00000027-00000009-a795d6f600b775b7-92b60f4e\n",
      "\u001b[36malgo-1-fbfl5_1  |\u001b[0m 2020-04-23 23:04:07,762 [INFO ] W-9000-model-stdout com.amazonaws.ml.mms.wlm.WorkerLifeCycle - loaded\n",
      "\u001b[36malgo-1-fbfl5_1  |\u001b[0m 2020-04-23 23:04:07,762 [INFO ] W-9000-model-stdout com.amazonaws.ml.mms.wlm.WorkerLifeCycle - loaded model!\n",
      "\u001b[36malgo-1-fbfl5_1  |\u001b[0m 2020-04-23 23:04:07,762 [INFO ] W-9000-model com.amazonaws.ml.mms.wlm.WorkerThread - Backend response time: 773\n",
      "\u001b[36malgo-1-fbfl5_1  |\u001b[0m 2020-04-23 23:04:07,763 [INFO ] W-9000-model-stdout com.amazonaws.ml.mms.wlm.WorkerLifeCycle - Model model loaded io_fd=0242acfffe1b0002-00000027-0000001d-596a4ef600b775b8-9cbfdfc5\n",
      "\u001b[36malgo-1-fbfl5_1  |\u001b[0m 2020-04-23 23:04:07,763 [WARN ] W-9000-model com.amazonaws.ml.mms.wlm.WorkerLifeCycle - attachIOStreams() threadName=W-model-2\n",
      "\u001b[36malgo-1-fbfl5_1  |\u001b[0m 2020-04-23 23:04:07,766 [INFO ] W-9000-model-stdout com.amazonaws.ml.mms.wlm.WorkerLifeCycle - loaded\n",
      "\u001b[36malgo-1-fbfl5_1  |\u001b[0m 2020-04-23 23:04:07,767 [INFO ] W-9000-model com.amazonaws.ml.mms.wlm.WorkerThread - Backend response time: 776\n",
      "\u001b[36malgo-1-fbfl5_1  |\u001b[0m 2020-04-23 23:04:07,767 [INFO ] W-9000-model-stdout com.amazonaws.ml.mms.wlm.WorkerLifeCycle - loaded model!\n",
      "\u001b[36malgo-1-fbfl5_1  |\u001b[0m 2020-04-23 23:04:07,767 [INFO ] W-9000-model-stdout com.amazonaws.ml.mms.wlm.WorkerLifeCycle - Model model loaded io_fd=0242acfffe1b0002-00000027-00000012-afe0f6f600b775b8-283a39bb\n",
      "\u001b[36malgo-1-fbfl5_1  |\u001b[0m 2020-04-23 23:04:07,767 [WARN ] W-9000-model com.amazonaws.ml.mms.wlm.WorkerLifeCycle - attachIOStreams() threadName=W-model-7\n",
      "\u001b[36malgo-1-fbfl5_1  |\u001b[0m 2020-04-23 23:04:07,767 [INFO ] W-9000-model-stdout com.amazonaws.ml.mms.wlm.WorkerLifeCycle - loaded\n",
      "\u001b[36malgo-1-fbfl5_1  |\u001b[0m 2020-04-23 23:04:07,767 [INFO ] W-9000-model-stdout com.amazonaws.ml.mms.wlm.WorkerLifeCycle - loaded model!\n",
      "\u001b[36malgo-1-fbfl5_1  |\u001b[0m 2020-04-23 23:04:07,767 [INFO ] W-9000-model com.amazonaws.ml.mms.wlm.WorkerThread - Backend response time: 778\n",
      "\u001b[36malgo-1-fbfl5_1  |\u001b[0m 2020-04-23 23:04:07,768 [WARN ] W-9000-model com.amazonaws.ml.mms.wlm.WorkerLifeCycle - attachIOStreams() threadName=W-model-9\n",
      "\u001b[36malgo-1-fbfl5_1  |\u001b[0m 2020-04-23 23:04:07,767 [INFO ] W-9000-model-stdout com.amazonaws.ml.mms.wlm.WorkerLifeCycle - Model model loaded io_fd=0242acfffe1b0002-00000027-00000019-f9a08ef600b775b8-d550863a\n",
      "\u001b[36malgo-1-fbfl5_1  |\u001b[0m 2020-04-23 23:04:07,769 [INFO ] W-9000-model-stdout com.amazonaws.ml.mms.wlm.WorkerLifeCycle - loaded\n",
      "\u001b[36malgo-1-fbfl5_1  |\u001b[0m 2020-04-23 23:04:07,769 [INFO ] W-9000-model-stdout com.amazonaws.ml.mms.wlm.WorkerLifeCycle - loaded model!\n",
      "\u001b[36malgo-1-fbfl5_1  |\u001b[0m 2020-04-23 23:04:07,769 [INFO ] W-9000-model com.amazonaws.ml.mms.wlm.WorkerThread - Backend response time: 780\n",
      "\u001b[36malgo-1-fbfl5_1  |\u001b[0m 2020-04-23 23:04:07,770 [INFO ] W-9000-model-stdout com.amazonaws.ml.mms.wlm.WorkerLifeCycle - Model model loaded io_fd=0242acfffe1b0002-00000027-00000016-0d640ef600b775b8-d6bec36f\n",
      "\u001b[36malgo-1-fbfl5_1  |\u001b[0m 2020-04-23 23:04:07,770 [WARN ] W-9000-model com.amazonaws.ml.mms.wlm.WorkerLifeCycle - attachIOStreams() threadName=W-model-10\n",
      "\u001b[36malgo-1-fbfl5_1  |\u001b[0m 2020-04-23 23:04:07,771 [INFO ] W-9000-model-stdout com.amazonaws.ml.mms.wlm.WorkerLifeCycle - loaded\n",
      "\u001b[36malgo-1-fbfl5_1  |\u001b[0m 2020-04-23 23:04:07,771 [INFO ] W-9000-model-stdout com.amazonaws.ml.mms.wlm.WorkerLifeCycle - loaded model!\n",
      "\u001b[36malgo-1-fbfl5_1  |\u001b[0m 2020-04-23 23:04:07,771 [INFO ] W-9000-model com.amazonaws.ml.mms.wlm.WorkerThread - Backend response time: 770\n",
      "\u001b[36malgo-1-fbfl5_1  |\u001b[0m 2020-04-23 23:04:07,771 [INFO ] W-9000-model-stdout com.amazonaws.ml.mms.wlm.WorkerLifeCycle - Model model loaded io_fd=0242acfffe1b0002-00000027-00000010-c18876f600b775b8-0e42cb88\n",
      "\u001b[36malgo-1-fbfl5_1  |\u001b[0m 2020-04-23 23:04:07,771 [WARN ] W-9000-model com.amazonaws.ml.mms.wlm.WorkerLifeCycle - attachIOStreams() threadName=W-model-29\n",
      "\u001b[36malgo-1-fbfl5_1  |\u001b[0m 2020-04-23 23:04:07,772 [INFO ] W-9000-model-stdout com.amazonaws.ml.mms.wlm.WorkerLifeCycle - loaded\n",
      "\u001b[36malgo-1-fbfl5_1  |\u001b[0m 2020-04-23 23:04:07,772 [INFO ] W-9000-model-stdout com.amazonaws.ml.mms.wlm.WorkerLifeCycle - loaded model!\n",
      "\u001b[36malgo-1-fbfl5_1  |\u001b[0m 2020-04-23 23:04:07,772 [INFO ] W-9000-model com.amazonaws.ml.mms.wlm.WorkerThread - Backend response time: 782\n",
      "\u001b[36malgo-1-fbfl5_1  |\u001b[0m 2020-04-23 23:04:07,772 [INFO ] W-9000-model-stdout com.amazonaws.ml.mms.wlm.WorkerLifeCycle - Model model loaded io_fd=0242acfffe1b0002-00000027-00000013-0be2f6f600b775b8-d971458b\n",
      "\u001b[36malgo-1-fbfl5_1  |\u001b[0m 2020-04-23 23:04:07,773 [WARN ] W-9000-model com.amazonaws.ml.mms.wlm.WorkerLifeCycle - attachIOStreams() threadName=W-model-27\n",
      "\u001b[36malgo-1-fbfl5_1  |\u001b[0m 2020-04-23 23:04:07,776 [INFO ] W-9000-model-stdout com.amazonaws.ml.mms.wlm.WorkerLifeCycle - loaded\n",
      "\u001b[36malgo-1-fbfl5_1  |\u001b[0m 2020-04-23 23:04:07,777 [INFO ] W-9000-model-stdout com.amazonaws.ml.mms.wlm.WorkerLifeCycle - loaded model!\n",
      "\u001b[36malgo-1-fbfl5_1  |\u001b[0m 2020-04-23 23:04:07,777 [INFO ] W-9000-model com.amazonaws.ml.mms.wlm.WorkerThread - Backend response time: 776\n",
      "\u001b[36malgo-1-fbfl5_1  |\u001b[0m 2020-04-23 23:04:07,777 [INFO ] W-9000-model-stdout com.amazonaws.ml.mms.wlm.WorkerLifeCycle - Model model loaded io_fd=0242acfffe1b0002-00000027-00000007-c668d6f600b775b7-87daceed\n",
      "\u001b[36malgo-1-fbfl5_1  |\u001b[0m 2020-04-23 23:04:07,777 [INFO ] W-9000-model com.amazonaws.ml.mms.wlm.WorkerThread - Backend response time: 775\n",
      "\u001b[36malgo-1-fbfl5_1  |\u001b[0m 2020-04-23 23:04:07,777 [WARN ] W-9000-model com.amazonaws.ml.mms.wlm.WorkerLifeCycle - attachIOStreams() threadName=W-model-1\n",
      "\u001b[36malgo-1-fbfl5_1  |\u001b[0m 2020-04-23 23:04:07,777 [INFO ] W-9000-model-stdout com.amazonaws.ml.mms.wlm.WorkerLifeCycle - loaded\n",
      "\u001b[36malgo-1-fbfl5_1  |\u001b[0m 2020-04-23 23:04:07,777 [WARN ] W-9000-model com.amazonaws.ml.mms.wlm.WorkerLifeCycle - attachIOStreams() threadName=W-model-25\n",
      "\u001b[36malgo-1-fbfl5_1  |\u001b[0m 2020-04-23 23:04:07,777 [INFO ] W-9000-model-stdout com.amazonaws.ml.mms.wlm.WorkerLifeCycle - loaded model!\n",
      "\u001b[36malgo-1-fbfl5_1  |\u001b[0m 2020-04-23 23:04:07,777 [INFO ] W-9000-model-stdout com.amazonaws.ml.mms.wlm.WorkerLifeCycle - Model model loaded io_fd=0242acfffe1b0002-00000027-00000015-7f2bf6f600b775b8-081cfaee\n",
      "\u001b[36malgo-1-fbfl5_1  |\u001b[0m 2020-04-23 23:04:07,782 [INFO ] W-9000-model-stdout com.amazonaws.ml.mms.wlm.WorkerLifeCycle - loaded\n",
      "\u001b[36malgo-1-fbfl5_1  |\u001b[0m 2020-04-23 23:04:07,782 [INFO ] W-9000-model-stdout com.amazonaws.ml.mms.wlm.WorkerLifeCycle - loaded model!\n",
      "\u001b[36malgo-1-fbfl5_1  |\u001b[0m 2020-04-23 23:04:07,782 [INFO ] W-9000-model-stdout com.amazonaws.ml.mms.wlm.WorkerLifeCycle - Model model loaded io_fd=0242acfffe1b0002-00000027-00000000-585296f600b775b7-84138b43\n",
      "\u001b[36malgo-1-fbfl5_1  |\u001b[0m 2020-04-23 23:04:07,782 [INFO ] W-9000-model com.amazonaws.ml.mms.wlm.WorkerThread - Backend response time: 781\n",
      "\u001b[36malgo-1-fbfl5_1  |\u001b[0m 2020-04-23 23:04:07,782 [WARN ] W-9000-model com.amazonaws.ml.mms.wlm.WorkerLifeCycle - attachIOStreams() threadName=W-model-5\n",
      "\u001b[36malgo-1-fbfl5_1  |\u001b[0m 2020-04-23 23:04:07,784 [INFO ] W-9000-model-stdout com.amazonaws.ml.mms.wlm.WorkerLifeCycle - loaded\n",
      "\u001b[36malgo-1-fbfl5_1  |\u001b[0m 2020-04-23 23:04:07,784 [INFO ] W-9000-model-stdout com.amazonaws.ml.mms.wlm.WorkerLifeCycle - loaded model!\n",
      "\u001b[36malgo-1-fbfl5_1  |\u001b[0m 2020-04-23 23:04:07,784 [INFO ] W-9000-model com.amazonaws.ml.mms.wlm.WorkerThread - Backend response time: 780\n",
      "\u001b[36malgo-1-fbfl5_1  |\u001b[0m 2020-04-23 23:04:07,784 [INFO ] W-9000-model-stdout com.amazonaws.ml.mms.wlm.WorkerLifeCycle - Model model loaded io_fd=0242acfffe1b0002-00000027-0000001c-d9e78ef600b775b8-a453a119\n",
      "\u001b[36malgo-1-fbfl5_1  |\u001b[0m 2020-04-23 23:04:07,784 [WARN ] W-9000-model com.amazonaws.ml.mms.wlm.WorkerLifeCycle - attachIOStreams() threadName=W-model-24\n",
      "\u001b[36malgo-1-fbfl5_1  |\u001b[0m 2020-04-23 23:04:07,785 [INFO ] W-9000-model-stdout com.amazonaws.ml.mms.wlm.WorkerLifeCycle - loaded\n",
      "\u001b[36malgo-1-fbfl5_1  |\u001b[0m 2020-04-23 23:04:07,785 [INFO ] W-9000-model-stdout com.amazonaws.ml.mms.wlm.WorkerLifeCycle - loaded model!\n",
      "\u001b[36malgo-1-fbfl5_1  |\u001b[0m 2020-04-23 23:04:07,785 [INFO ] W-9000-model com.amazonaws.ml.mms.wlm.WorkerThread - Backend response time: 786\n",
      "\u001b[36malgo-1-fbfl5_1  |\u001b[0m 2020-04-23 23:04:07,785 [INFO ] W-9000-model com.amazonaws.ml.mms.wlm.WorkerThread - Backend response time: 784\n",
      "\u001b[36malgo-1-fbfl5_1  |\u001b[0m 2020-04-23 23:04:07,785 [INFO ] W-9000-model-stdout com.amazonaws.ml.mms.wlm.WorkerLifeCycle - Model model loaded io_fd=0242acfffe1b0002-00000027-00000006-685356f600b775b7-e9551067\n",
      "\u001b[36malgo-1-fbfl5_1  |\u001b[0m 2020-04-23 23:04:07,785 [WARN ] W-9000-model com.amazonaws.ml.mms.wlm.WorkerLifeCycle - attachIOStreams() threadName=W-model-16\n",
      "\u001b[36malgo-1-fbfl5_1  |\u001b[0m 2020-04-23 23:04:07,786 [WARN ] W-9000-model com.amazonaws.ml.mms.wlm.WorkerLifeCycle - attachIOStreams() threadName=W-model-8\n",
      "\u001b[36malgo-1-fbfl5_1  |\u001b[0m 2020-04-23 23:04:07,786 [INFO ] W-9000-model-stdout com.amazonaws.ml.mms.wlm.WorkerLifeCycle - loaded\n",
      "\u001b[36malgo-1-fbfl5_1  |\u001b[0m 2020-04-23 23:04:07,786 [INFO ] W-9000-model-stdout com.amazonaws.ml.mms.wlm.WorkerLifeCycle - loaded model!\n",
      "\u001b[36malgo-1-fbfl5_1  |\u001b[0m 2020-04-23 23:04:07,786 [INFO ] W-9000-model com.amazonaws.ml.mms.wlm.WorkerThread - Backend response time: 781\n",
      "\u001b[36malgo-1-fbfl5_1  |\u001b[0m 2020-04-23 23:04:07,786 [INFO ] W-9000-model-stdout com.amazonaws.ml.mms.wlm.WorkerLifeCycle - Model model loaded io_fd=0242acfffe1b0002-00000027-00000018-375d0ef600b775b8-d57d2b09\n",
      "\u001b[36malgo-1-fbfl5_1  |\u001b[0m 2020-04-23 23:04:07,786 [INFO ] W-9000-model-stdout com.amazonaws.ml.mms.wlm.WorkerLifeCycle - loaded\n",
      "\u001b[36malgo-1-fbfl5_1  |\u001b[0m 2020-04-23 23:04:07,786 [WARN ] W-9000-model com.amazonaws.ml.mms.wlm.WorkerLifeCycle - attachIOStreams() threadName=W-model-20\n",
      "\u001b[36malgo-1-fbfl5_1  |\u001b[0m 2020-04-23 23:04:07,786 [INFO ] W-9000-model-stdout com.amazonaws.ml.mms.wlm.WorkerLifeCycle - loaded model!\n",
      "\u001b[36malgo-1-fbfl5_1  |\u001b[0m 2020-04-23 23:04:07,787 [INFO ] W-9000-model-stdout com.amazonaws.ml.mms.wlm.WorkerLifeCycle - Model model loaded io_fd=0242acfffe1b0002-00000027-00000002-cf1596f600b775b7-b372da7b\n",
      "\u001b[36malgo-1-fbfl5_1  |\u001b[0m 2020-04-23 23:04:07,787 [INFO ] W-9000-model-stdout com.amazonaws.ml.mms.wlm.WorkerLifeCycle - loaded\n",
      "\u001b[36malgo-1-fbfl5_1  |\u001b[0m 2020-04-23 23:04:07,788 [INFO ] W-9000-model-stdout com.amazonaws.ml.mms.wlm.WorkerLifeCycle - loaded model!\n",
      "\u001b[36malgo-1-fbfl5_1  |\u001b[0m 2020-04-23 23:04:07,788 [INFO ] W-9000-model-stdout com.amazonaws.ml.mms.wlm.WorkerLifeCycle - Model model loaded io_fd=0242acfffe1b0002-00000027-0000000c-666136f600b775b7-99ed8d50\n",
      "\u001b[36malgo-1-fbfl5_1  |\u001b[0m 2020-04-23 23:04:07,791 [INFO ] W-9000-model-stdout com.amazonaws.ml.mms.wlm.WorkerLifeCycle - loaded\n",
      "\u001b[36malgo-1-fbfl5_1  |\u001b[0m 2020-04-23 23:04:07,791 [INFO ] W-9000-model com.amazonaws.ml.mms.wlm.WorkerThread - Backend response time: 802\n",
      "\u001b[36malgo-1-fbfl5_1  |\u001b[0m 2020-04-23 23:04:07,791 [INFO ] W-9000-model-stdout com.amazonaws.ml.mms.wlm.WorkerLifeCycle - loaded model!\n",
      "\u001b[36malgo-1-fbfl5_1  |\u001b[0m 2020-04-23 23:04:07,791 [WARN ] W-9000-model com.amazonaws.ml.mms.wlm.WorkerLifeCycle - attachIOStreams() threadName=W-model-6\n",
      "\u001b[36malgo-1-fbfl5_1  |\u001b[0m 2020-04-23 23:04:07,791 [INFO ] W-9000-model-stdout com.amazonaws.ml.mms.wlm.WorkerLifeCycle - Model model loaded io_fd=0242acfffe1b0002-00000027-0000000f-439bb6f600b775b8-e48409ad\n"
     ]
    },
    {
     "name": "stdout",
     "output_type": "stream",
     "text": [
      "\u001b[32m●∙∙\u001b[0m \u001b[K\u001b[36malgo-1-fbfl5_1  |\u001b[0m 2020-04-23 23:04:07,825 [INFO ] W-9000-model com.amazonaws.ml.mms.wlm.WorkerThread - Backend response time: 782\n",
      "\u001b[36malgo-1-fbfl5_1  |\u001b[0m 2020-04-23 23:04:07,825 [WARN ] W-9000-model com.amazonaws.ml.mms.wlm.WorkerLifeCycle - attachIOStreams() threadName=W-model-13\n",
      "\u001b[36malgo-1-fbfl5_1  |\u001b[0m 2020-04-23 23:04:07,826 [INFO ] W-9000-model-stdout com.amazonaws.ml.mms.wlm.WorkerLifeCycle - loaded\n",
      "\u001b[36malgo-1-fbfl5_1  |\u001b[0m 2020-04-23 23:04:07,826 [INFO ] W-9000-model com.amazonaws.ml.mms.wlm.WorkerThread - Backend response time: 837\n",
      "\u001b[36malgo-1-fbfl5_1  |\u001b[0m 2020-04-23 23:04:07,826 [INFO ] W-9000-model com.amazonaws.ml.mms.wlm.WorkerThread - Backend response time: 837\n",
      "\u001b[36malgo-1-fbfl5_1  |\u001b[0m 2020-04-23 23:04:07,826 [INFO ] W-9000-model com.amazonaws.ml.mms.wlm.WorkerThread - Backend response time: 827\n",
      "\u001b[36malgo-1-fbfl5_1  |\u001b[0m 2020-04-23 23:04:07,826 [INFO ] W-9000-model-stdout com.amazonaws.ml.mms.wlm.WorkerLifeCycle - loaded model!\n",
      "\u001b[36malgo-1-fbfl5_1  |\u001b[0m 2020-04-23 23:04:07,826 [INFO ] W-9000-model com.amazonaws.ml.mms.wlm.WorkerThread - Backend response time: 834\n",
      "\u001b[36malgo-1-fbfl5_1  |\u001b[0m 2020-04-23 23:04:07,826 [INFO ] W-9000-model-stdout com.amazonaws.ml.mms.wlm.WorkerLifeCycle - Model model loaded io_fd=0242acfffe1b0002-00000027-0000001b-2dc58ef600b775b8-c654d6da\n",
      "\u001b[36malgo-1-fbfl5_1  |\u001b[0m 2020-04-23 23:04:07,826 [WARN ] W-9000-model com.amazonaws.ml.mms.wlm.WorkerLifeCycle - attachIOStreams() threadName=W-model-19\n",
      "\u001b[36malgo-1-fbfl5_1  |\u001b[0m 2020-04-23 23:04:07,826 [WARN ] W-9000-model com.amazonaws.ml.mms.wlm.WorkerLifeCycle - attachIOStreams() threadName=W-model-11\n",
      "\u001b[36malgo-1-fbfl5_1  |\u001b[0m 2020-04-23 23:04:07,826 [INFO ] W-9000-model com.amazonaws.ml.mms.wlm.WorkerThread - Backend response time: 825\n",
      "\u001b[36malgo-1-fbfl5_1  |\u001b[0m 2020-04-23 23:04:07,826 [INFO ] W-9000-model-stdout com.amazonaws.ml.mms.wlm.WorkerLifeCycle - loaded\n",
      "\u001b[36malgo-1-fbfl5_1  |\u001b[0m 2020-04-23 23:04:07,827 [INFO ] W-9000-model-stdout com.amazonaws.ml.mms.wlm.WorkerLifeCycle - loaded model!\n",
      "\u001b[36malgo-1-fbfl5_1  |\u001b[0m 2020-04-23 23:04:07,827 [INFO ] W-9000-model-stdout com.amazonaws.ml.mms.wlm.WorkerLifeCycle - Model model loaded io_fd=0242acfffe1b0002-00000027-0000000a-02b7d6f600b775b7-095f87f5\n",
      "\u001b[36malgo-1-fbfl5_1  |\u001b[0m 2020-04-23 23:04:07,827 [INFO ] W-9000-model-stdout com.amazonaws.ml.mms.wlm.WorkerLifeCycle - loaded\n",
      "\u001b[36malgo-1-fbfl5_1  |\u001b[0m 2020-04-23 23:04:07,827 [INFO ] W-9000-model-stdout com.amazonaws.ml.mms.wlm.WorkerLifeCycle - loaded model!\n",
      "\u001b[36malgo-1-fbfl5_1  |\u001b[0m 2020-04-23 23:04:07,827 [INFO ] W-9000-model-stdout com.amazonaws.ml.mms.wlm.WorkerLifeCycle - Model model loaded io_fd=0242acfffe1b0002-00000027-00000014-e689f6f600b775b8-da751a71\n",
      "\u001b[36malgo-1-fbfl5_1  |\u001b[0m 2020-04-23 23:04:07,827 [INFO ] W-9000-model-stdout com.amazonaws.ml.mms.wlm.WorkerLifeCycle - loaded\n",
      "\u001b[36malgo-1-fbfl5_1  |\u001b[0m 2020-04-23 23:04:07,827 [INFO ] W-9000-model-stdout com.amazonaws.ml.mms.wlm.WorkerLifeCycle - loaded model!\n",
      "\u001b[36malgo-1-fbfl5_1  |\u001b[0m 2020-04-23 23:04:07,827 [INFO ] W-9000-model-stdout com.amazonaws.ml.mms.wlm.WorkerLifeCycle - Model model loaded io_fd=0242acfffe1b0002-00000027-00000005-1fae56f600b775b7-33db255e\n",
      "\u001b[36malgo-1-fbfl5_1  |\u001b[0m 2020-04-23 23:04:07,827 [INFO ] W-9000-model-stdout com.amazonaws.ml.mms.wlm.WorkerLifeCycle - loaded\n",
      "\u001b[36malgo-1-fbfl5_1  |\u001b[0m 2020-04-23 23:04:07,827 [INFO ] W-9000-model-stdout com.amazonaws.ml.mms.wlm.WorkerLifeCycle - loaded model!\n",
      "\u001b[36malgo-1-fbfl5_1  |\u001b[0m 2020-04-23 23:04:07,827 [INFO ] W-9000-model-stdout com.amazonaws.ml.mms.wlm.WorkerLifeCycle - Model model loaded io_fd=0242acfffe1b0002-00000027-0000000d-7204b6f600b775b7-fe4a2a5c\n",
      "\u001b[36malgo-1-fbfl5_1  |\u001b[0m 2020-04-23 23:04:07,864 [WARN ] W-9000-model com.amazonaws.ml.mms.wlm.WorkerLifeCycle - attachIOStreams() threadName=W-model-26\n",
      "\u001b[36malgo-1-fbfl5_1  |\u001b[0m 2020-04-23 23:04:07,864 [WARN ] W-9000-model com.amazonaws.ml.mms.wlm.WorkerLifeCycle - attachIOStreams() threadName=W-model-21\n",
      "\u001b[36malgo-1-fbfl5_1  |\u001b[0m 2020-04-23 23:04:07,864 [WARN ] W-9000-model com.amazonaws.ml.mms.wlm.WorkerLifeCycle - attachIOStreams() threadName=W-model-28\n",
      "\u001b[32m∙∙∙\u001b[0m \u001b[K\u001b[36malgo-1-fbfl5_1  |\u001b[0m 2020-04-23 23:04:09,500 [INFO ] pool-1-thread-34 ACCESS_LOG - /172.27.0.1:59860 \"GET /ping HTTP/1.1\" 200 9\n",
      "\u001b[K0:03:28.254619 | deployed model\n",
      "\u001b[K\u001b[32m0:03:28.254797 | Done! ✔\u001b[0m \n"
     ]
    }
   ],
   "source": [
    "ez = ezsmdeploy.Deploy(model = ['s3://ezsmdeploy/pytorchmnist/model.tar.gz'], #loading pretrained MNIST model from S3\n",
    "                  script = 'modelscript_pytorch.py',\n",
    "                  requirements = ['numpy','torch','joblib'], #or pass in the path to requirements.txt\n",
    "                  instance_type = 'local',\n",
    "                  wait = True)"
   ]
  },
  {
   "cell_type": "markdown",
   "metadata": {},
   "source": [
    "## Test containerized version locally"
   ]
  },
  {
   "cell_type": "markdown",
   "metadata": {},
   "source": [
    "Since you are downloading this model from a hub, the first time you invoke it will be slow, so invoke again to get an inference without all of the container logs"
   ]
  },
  {
   "cell_type": "code",
   "execution_count": 12,
   "metadata": {},
   "outputs": [
    {
     "name": "stdout",
     "output_type": "stream",
     "text": [
      "\u001b[36malgo-1-fbfl5_1  |\u001b[0m 2020-04-23 23:08:30,383 [INFO ] W-9000-model com.amazonaws.ml.mms.wlm.WorkerThread - Backend response time: 4\r\n",
      "\u001b[36malgo-1-fbfl5_1  |\u001b[0m 2020-04-23 23:08:30,383 [INFO ] W-model-23-stdout com.amazonaws.ml.mms.wlm.WorkerLifeCycle - <class 'numpy.ndarray'>\r\n",
      "\u001b[36malgo-1-fbfl5_1  |\u001b[0m 2020-04-23 23:08:30,383 [INFO ] W-9000-model ACCESS_LOG - /172.27.0.1:59874 \"POST /invocations HTTP/1.1\" 200 6\r\n"
     ]
    },
    {
     "data": {
      "text/plain": [
       "'3'"
      ]
     },
     "execution_count": 12,
     "metadata": {},
     "output_type": "execute_result"
    }
   ],
   "source": [
    "out = ez.predictor.predict(image.tobytes()).decode()\n",
    "out"
   ]
  },
  {
   "cell_type": "code",
   "execution_count": 13,
   "metadata": {},
   "outputs": [
    {
     "name": "stdout",
     "output_type": "stream",
     "text": [
      "\u001b[36mtmpm5w6zf5u_algo-1-fbfl5_1 exited with code 137\n",
      "\u001b[0mAborting on container exit...\n"
     ]
    },
    {
     "name": "stderr",
     "output_type": "stream",
     "text": [
      "Exception in thread Thread-5:\n",
      "Traceback (most recent call last):\n",
      "  File \"/home/ec2-user/anaconda3/envs/python3/lib/python3.6/site-packages/sagemaker/local/image.py\", line 618, in run\n",
      "    _stream_output(self.process)\n",
      "  File \"/home/ec2-user/anaconda3/envs/python3/lib/python3.6/site-packages/sagemaker/local/image.py\", line 677, in _stream_output\n",
      "    raise RuntimeError(\"Process exited with code: %s\" % exit_code)\n",
      "RuntimeError: Process exited with code: 137\n",
      "\n",
      "During handling of the above exception, another exception occurred:\n",
      "\n",
      "Traceback (most recent call last):\n",
      "  File \"/home/ec2-user/anaconda3/envs/python3/lib/python3.6/threading.py\", line 916, in _bootstrap_inner\n",
      "    self.run()\n",
      "  File \"/home/ec2-user/anaconda3/envs/python3/lib/python3.6/site-packages/sagemaker/local/image.py\", line 623, in run\n",
      "    raise RuntimeError(msg)\n",
      "RuntimeError: Failed to run: ['docker-compose', '-f', '/tmp/tmpm5w6zf5u/docker-compose.yaml', 'up', '--build', '--abort-on-container-exit'], Process exited with code: 137\n",
      "\n"
     ]
    }
   ],
   "source": [
    "!docker container stop $(docker container ls -aq) >/dev/null"
   ]
  },
  {
   "cell_type": "markdown",
   "metadata": {},
   "source": [
    "## Deploy on SageMaker"
   ]
  },
  {
   "cell_type": "code",
   "execution_count": 14,
   "metadata": {},
   "outputs": [
    {
     "name": "stdout",
     "output_type": "stream",
     "text": [
      "\u001b[K0:00:00.139573 | compressed model(s)\n",
      "\u001b[K0:00:00.828580 | uploaded model tarball(s) ; check returned modelpath\n",
      "\u001b[K0:00:00.829678 | added requirements file\n",
      "\u001b[K0:00:00.831645 | added source file\n",
      "\u001b[K0:00:00.833516 | added Dockerfile\n",
      "\u001b[K0:00:00.835412 | added model_handler and docker utils\n",
      "\u001b[K0:00:00.835522 | building docker container\n",
      "\u001b[K0:01:50.226540 | built docker container\n",
      "\u001b[K0:01:50.531845 | created model(s). Now deploying on ml.m5.xlarge\n",
      "\u001b[K0:08:23.809887 | deployed model\n",
      "\u001b[K0:08:23.810489 | estimated cost is $0.3 per hour\n",
      "\u001b[K\u001b[32m0:08:23.810616 | Done! ✔\u001b[0m \n"
     ]
    }
   ],
   "source": [
    "ezonsm = ezsmdeploy.Deploy(model = ['s3://ezsmdeploy/pytorchmnist/model.tar.gz'],\n",
    "                  script = 'modelscript_pytorch.py',\n",
    "                  requirements = ['numpy','torch','joblib'], #or pass in the path to requirements.txt\n",
    "                  wait = True,\n",
    "                  ei = 'ml.eia2.medium') # Add a GPU accelerator"
   ]
  },
  {
   "cell_type": "code",
   "execution_count": 15,
   "metadata": {},
   "outputs": [
    {
     "data": {
      "text/plain": [
       "'3'"
      ]
     },
     "execution_count": 15,
     "metadata": {},
     "output_type": "execute_result"
    }
   ],
   "source": [
    "out = ezonsm.predictor.predict(image.tobytes(), target_model='model1.tar.gz').decode() \n",
    "out"
   ]
  },
  {
   "cell_type": "code",
   "execution_count": 16,
   "metadata": {},
   "outputs": [],
   "source": [
    "ezonsm.predictor.delete_endpoint()"
   ]
  }
 ],
 "metadata": {
  "kernelspec": {
   "display_name": "conda_python3",
   "language": "python",
   "name": "conda_python3"
  },
  "language_info": {
   "codemirror_mode": {
    "name": "ipython",
    "version": 3
   },
   "file_extension": ".py",
   "mimetype": "text/x-python",
   "name": "python",
   "nbconvert_exporter": "python",
   "pygments_lexer": "ipython3",
   "version": "3.6.5"
  }
 },
 "nbformat": 4,
 "nbformat_minor": 4
}
